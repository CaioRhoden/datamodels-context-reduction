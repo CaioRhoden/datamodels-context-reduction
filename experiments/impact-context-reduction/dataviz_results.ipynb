{
 "cells": [
  {
   "cell_type": "markdown",
   "metadata": {},
   "source": [
    "# Experiment Dataviz\n",
    "\n",
    "This notebook has the goal to explore the achieved results through different views </br>\n",
    "The data source is the aggregated resoults \"data/aggregated_results.csv\", which compiles the Rouge-L metric for differents groups </br>\n",
    "The first section are the results reported in the project, the another ones are additional analysis"
   ]
  },
  {
   "cell_type": "code",
   "execution_count": 1,
   "metadata": {},
   "outputs": [],
   "source": [
    "import matplotlib.pyplot as plt\n",
    "import seaborn as sns\n",
    "import pandas as pd\n",
    "import plotly.express as px\n",
    "import plotly.graph_objects as go\n",
    "import plotly.io as pio\n",
    "\n",
    "\n",
    "df = pd.read_csv(\"data/aggregated_results.csv\")"
   ]
  },
  {
   "cell_type": "markdown",
   "metadata": {},
   "source": [
    "## 1. Report Results (Overview)"
   ]
  },
  {
   "cell_type": "code",
   "execution_count": 2,
   "metadata": {},
   "outputs": [
    {
     "data": {
      "application/vnd.plotly.v1+json": {
       "config": {
        "plotlyServerURL": "https://plot.ly"
       },
       "data": [
        {
         "cells": {
          "align": "left",
          "fill": {
           "color": "lavender"
          },
          "values": [
           [
            0,
            1,
            2,
            3,
            4,
            5,
            6,
            7,
            8,
            9,
            10,
            11,
            12,
            13,
            14,
            15,
            16,
            17,
            18,
            19,
            20,
            21,
            22,
            23,
            24,
            25,
            26,
            27,
            28,
            29,
            30,
            31,
            32,
            33,
            34,
            35,
            36,
            37,
            38,
            39,
            40,
            41,
            42,
            43,
            44,
            45,
            46,
            47,
            48,
            49,
            50,
            51,
            52,
            53,
            54,
            55,
            56,
            57,
            58,
            59,
            60,
            61,
            62,
            63,
            64,
            65,
            66,
            67,
            68,
            69,
            70,
            71,
            72,
            73,
            74,
            75,
            76,
            77,
            78,
            79,
            80,
            81,
            82,
            83,
            84,
            85,
            86,
            87,
            88,
            89,
            90,
            91,
            92,
            93,
            94,
            95,
            96,
            97,
            98,
            99,
            100,
            101,
            102,
            103,
            104,
            105,
            106,
            107,
            108,
            109,
            110,
            111,
            112,
            113,
            114,
            115,
            116,
            117,
            118,
            119,
            120,
            121,
            122,
            123,
            124,
            125,
            126,
            127,
            128,
            129,
            130,
            131,
            132,
            133,
            134,
            135,
            136,
            137,
            138,
            139,
            140,
            141,
            142,
            143,
            144,
            145,
            146,
            147,
            148,
            149,
            150,
            151,
            152,
            153,
            154,
            155,
            156,
            157,
            158,
            159,
            160,
            161,
            162,
            163,
            164,
            165,
            166,
            167,
            168,
            169,
            170,
            171,
            172,
            173,
            174,
            175,
            176,
            177,
            178,
            179,
            180,
            181,
            182,
            183,
            184,
            185,
            186,
            187,
            188,
            189,
            190,
            191,
            192,
            193,
            194,
            195,
            196,
            197,
            198,
            199,
            200,
            201,
            202,
            203,
            204,
            205,
            206,
            207,
            208,
            209,
            210,
            211,
            212,
            213,
            214,
            215,
            216,
            217,
            218,
            219,
            220,
            221,
            222,
            223,
            224,
            225,
            226,
            227,
            228,
            229,
            230,
            231,
            232,
            233,
            234,
            235,
            236,
            237,
            238,
            239,
            240,
            241,
            242,
            243,
            244,
            245,
            246,
            247,
            248,
            249,
            250,
            251,
            252,
            253,
            254,
            255,
            256,
            257,
            258,
            259,
            260,
            261,
            262,
            263,
            264,
            265,
            266,
            267,
            268,
            269,
            270,
            271,
            272,
            273,
            274,
            275,
            276,
            277,
            278,
            279,
            280,
            281,
            282,
            283,
            284,
            285,
            286,
            287,
            288,
            289,
            290,
            291,
            292,
            293,
            294,
            295,
            296,
            297,
            298,
            299,
            300,
            301,
            302,
            303,
            304,
            305,
            306,
            307,
            308,
            309,
            310,
            311,
            312,
            313,
            314,
            315,
            316,
            317,
            318,
            319,
            320,
            321,
            322,
            323,
            324,
            325,
            326,
            327,
            328,
            329,
            330,
            331,
            332,
            333,
            334,
            335,
            336,
            337,
            338,
            339,
            340,
            341,
            342,
            343,
            344,
            345,
            346,
            347,
            348,
            349,
            350,
            351,
            352,
            353,
            354,
            355,
            356,
            357,
            358,
            359,
            360,
            361,
            362,
            363,
            364,
            365,
            366,
            367,
            368,
            369,
            370,
            371,
            372,
            373,
            374,
            375,
            376,
            377,
            378,
            379,
            380,
            381,
            382,
            383,
            384,
            385,
            386,
            387,
            388,
            389,
            390,
            391,
            392,
            393,
            394,
            395,
            396,
            397,
            398,
            399,
            400,
            401,
            402,
            403,
            404,
            405,
            406,
            407,
            408,
            409,
            410,
            411,
            412,
            413,
            414,
            415,
            416,
            417,
            418,
            419,
            420,
            421,
            422,
            423,
            424,
            425,
            426,
            427,
            428,
            429,
            430,
            431,
            432,
            433,
            434,
            435,
            436,
            437,
            438,
            439,
            440,
            441,
            442,
            443,
            444,
            445,
            446,
            447,
            448,
            449,
            450,
            451,
            452,
            453,
            454,
            455,
            456,
            457,
            458,
            459,
            460,
            461,
            462,
            463,
            464,
            465,
            466,
            467,
            468,
            469,
            470,
            471,
            472,
            473,
            474,
            475,
            476,
            477,
            478,
            479,
            480,
            481,
            482,
            483,
            484,
            485,
            486,
            487,
            488,
            489,
            490,
            491,
            492,
            493,
            494,
            495,
            496,
            497,
            498,
            499,
            500,
            501,
            502,
            503,
            504,
            505,
            506,
            507,
            508,
            509,
            510,
            511,
            512,
            513,
            514,
            515,
            516,
            517,
            518,
            519,
            520,
            521,
            522,
            523,
            524,
            525,
            526,
            527
           ],
           [
            "gemma2-27",
            "gemma2-27",
            "gemma2-27",
            "gemma2-27",
            "gemma2-27",
            "gemma2-27",
            "gemma2-27",
            "gemma2-27",
            "gemma2-9",
            "gemma2-9",
            "gemma2-9",
            "gemma2-9",
            "gemma2-9",
            "gemma2-9",
            "gemma2-9",
            "gemma2-9",
            "llama3",
            "llama3",
            "llama3",
            "llama3",
            "llama3",
            "llama3",
            "llama3",
            "llama3",
            "gemma2-27",
            "gemma2-27",
            "gemma2-27",
            "gemma2-27",
            "gemma2-27",
            "gemma2-27",
            "gemma2-27",
            "gemma2-27",
            "gemma2-27",
            "gemma2-27",
            "gemma2-27",
            "gemma2-27",
            "gemma2-27",
            "gemma2-27",
            "gemma2-27",
            "gemma2-27",
            "gemma2-27",
            "gemma2-27",
            "gemma2-27",
            "gemma2-27",
            "gemma2-27",
            "gemma2-27",
            "gemma2-27",
            "gemma2-27",
            "gemma2-27",
            "gemma2-27",
            "gemma2-27",
            "gemma2-27",
            "gemma2-27",
            "gemma2-27",
            "gemma2-27",
            "gemma2-27",
            "gemma2-27",
            "gemma2-27",
            "gemma2-27",
            "gemma2-27",
            "gemma2-27",
            "gemma2-27",
            "gemma2-27",
            "gemma2-27",
            "gemma2-27",
            "gemma2-27",
            "gemma2-27",
            "gemma2-27",
            "gemma2-27",
            "gemma2-27",
            "gemma2-27",
            "gemma2-27",
            "gemma2-27",
            "gemma2-27",
            "gemma2-27",
            "gemma2-27",
            "gemma2-27",
            "gemma2-27",
            "gemma2-27",
            "gemma2-27",
            "gemma2-27",
            "gemma2-27",
            "gemma2-27",
            "gemma2-27",
            "gemma2-27",
            "gemma2-27",
            "gemma2-27",
            "gemma2-27",
            "gemma2-27",
            "gemma2-27",
            "gemma2-27",
            "gemma2-27",
            "gemma2-27",
            "gemma2-27",
            "gemma2-27",
            "gemma2-27",
            "gemma2-27",
            "gemma2-27",
            "gemma2-27",
            "gemma2-27",
            "gemma2-27",
            "gemma2-27",
            "gemma2-27",
            "gemma2-27",
            "gemma2-27",
            "gemma2-27",
            "gemma2-27",
            "gemma2-27",
            "gemma2-27",
            "gemma2-27",
            "gemma2-27",
            "gemma2-27",
            "gemma2-27",
            "gemma2-27",
            "gemma2-27",
            "gemma2-27",
            "gemma2-27",
            "gemma2-27",
            "gemma2-27",
            "gemma2-27",
            "gemma2-27",
            "gemma2-27",
            "gemma2-27",
            "gemma2-27",
            "gemma2-27",
            "gemma2-27",
            "gemma2-27",
            "gemma2-27",
            "gemma2-27",
            "gemma2-27",
            "gemma2-27",
            "gemma2-27",
            "gemma2-27",
            "gemma2-27",
            "gemma2-27",
            "gemma2-27",
            "gemma2-27",
            "gemma2-27",
            "gemma2-27",
            "gemma2-27",
            "gemma2-27",
            "gemma2-27",
            "gemma2-27",
            "gemma2-27",
            "gemma2-27",
            "gemma2-27",
            "gemma2-27",
            "gemma2-27",
            "gemma2-27",
            "gemma2-27",
            "gemma2-27",
            "gemma2-27",
            "gemma2-27",
            "gemma2-27",
            "gemma2-27",
            "gemma2-27",
            "gemma2-27",
            "gemma2-27",
            "gemma2-27",
            "gemma2-27",
            "gemma2-27",
            "gemma2-27",
            "gemma2-27",
            "gemma2-27",
            "gemma2-27",
            "gemma2-27",
            "gemma2-27",
            "gemma2-27",
            "gemma2-27",
            "gemma2-27",
            "gemma2-27",
            "gemma2-27",
            "gemma2-27",
            "gemma2-27",
            "gemma2-27",
            "gemma2-27",
            "gemma2-27",
            "gemma2-27",
            "gemma2-27",
            "gemma2-27",
            "gemma2-27",
            "gemma2-27",
            "gemma2-27",
            "gemma2-27",
            "gemma2-27",
            "gemma2-27",
            "gemma2-27",
            "gemma2-27",
            "gemma2-27",
            "gemma2-27",
            "gemma2-27",
            "gemma2-27",
            "gemma2-9",
            "gemma2-9",
            "gemma2-9",
            "gemma2-9",
            "gemma2-9",
            "gemma2-9",
            "gemma2-9",
            "gemma2-9",
            "gemma2-9",
            "gemma2-9",
            "gemma2-9",
            "gemma2-9",
            "gemma2-9",
            "gemma2-9",
            "gemma2-9",
            "gemma2-9",
            "gemma2-9",
            "gemma2-9",
            "gemma2-9",
            "gemma2-9",
            "gemma2-9",
            "gemma2-9",
            "gemma2-9",
            "gemma2-9",
            "gemma2-9",
            "gemma2-9",
            "gemma2-9",
            "gemma2-9",
            "gemma2-9",
            "gemma2-9",
            "gemma2-9",
            "gemma2-9",
            "gemma2-9",
            "gemma2-9",
            "gemma2-9",
            "gemma2-9",
            "gemma2-9",
            "gemma2-9",
            "gemma2-9",
            "gemma2-9",
            "gemma2-9",
            "gemma2-9",
            "gemma2-9",
            "gemma2-9",
            "gemma2-9",
            "gemma2-9",
            "gemma2-9",
            "gemma2-9",
            "gemma2-9",
            "gemma2-9",
            "gemma2-9",
            "gemma2-9",
            "gemma2-9",
            "gemma2-9",
            "gemma2-9",
            "gemma2-9",
            "gemma2-9",
            "gemma2-9",
            "gemma2-9",
            "gemma2-9",
            "gemma2-9",
            "gemma2-9",
            "gemma2-9",
            "gemma2-9",
            "gemma2-9",
            "gemma2-9",
            "gemma2-9",
            "gemma2-9",
            "gemma2-9",
            "gemma2-9",
            "gemma2-9",
            "gemma2-9",
            "gemma2-9",
            "gemma2-9",
            "gemma2-9",
            "gemma2-9",
            "gemma2-9",
            "gemma2-9",
            "gemma2-9",
            "gemma2-9",
            "gemma2-9",
            "gemma2-9",
            "gemma2-9",
            "gemma2-9",
            "gemma2-9",
            "gemma2-9",
            "gemma2-9",
            "gemma2-9",
            "gemma2-9",
            "gemma2-9",
            "gemma2-9",
            "gemma2-9",
            "gemma2-9",
            "gemma2-9",
            "gemma2-9",
            "gemma2-9",
            "gemma2-9",
            "gemma2-9",
            "gemma2-9",
            "gemma2-9",
            "gemma2-9",
            "gemma2-9",
            "gemma2-9",
            "gemma2-9",
            "gemma2-9",
            "gemma2-9",
            "gemma2-9",
            "gemma2-9",
            "gemma2-9",
            "gemma2-9",
            "gemma2-9",
            "gemma2-9",
            "gemma2-9",
            "gemma2-9",
            "gemma2-9",
            "gemma2-9",
            "gemma2-9",
            "gemma2-9",
            "gemma2-9",
            "gemma2-9",
            "gemma2-9",
            "gemma2-9",
            "gemma2-9",
            "gemma2-9",
            "gemma2-9",
            "gemma2-9",
            "gemma2-9",
            "gemma2-9",
            "gemma2-9",
            "gemma2-9",
            "gemma2-9",
            "gemma2-9",
            "gemma2-9",
            "gemma2-9",
            "gemma2-9",
            "gemma2-9",
            "gemma2-9",
            "gemma2-9",
            "gemma2-9",
            "gemma2-9",
            "gemma2-9",
            "gemma2-9",
            "gemma2-9",
            "gemma2-9",
            "gemma2-9",
            "gemma2-9",
            "gemma2-9",
            "gemma2-9",
            "gemma2-9",
            "gemma2-9",
            "gemma2-9",
            "gemma2-9",
            "gemma2-9",
            "gemma2-9",
            "gemma2-9",
            "gemma2-9",
            "gemma2-9",
            "gemma2-9",
            "gemma2-9",
            "gemma2-9",
            "gemma2-9",
            "gemma2-9",
            "gemma2-9",
            "gemma2-9",
            "gemma2-9",
            "gemma2-9",
            "gemma2-9",
            "gemma2-9",
            "llama3",
            "llama3",
            "llama3",
            "llama3",
            "llama3",
            "llama3",
            "llama3",
            "llama3",
            "llama3",
            "llama3",
            "llama3",
            "llama3",
            "llama3",
            "llama3",
            "llama3",
            "llama3",
            "llama3",
            "llama3",
            "llama3",
            "llama3",
            "llama3",
            "llama3",
            "llama3",
            "llama3",
            "llama3",
            "llama3",
            "llama3",
            "llama3",
            "llama3",
            "llama3",
            "llama3",
            "llama3",
            "llama3",
            "llama3",
            "llama3",
            "llama3",
            "llama3",
            "llama3",
            "llama3",
            "llama3",
            "llama3",
            "llama3",
            "llama3",
            "llama3",
            "llama3",
            "llama3",
            "llama3",
            "llama3",
            "llama3",
            "llama3",
            "llama3",
            "llama3",
            "llama3",
            "llama3",
            "llama3",
            "llama3",
            "llama3",
            "llama3",
            "llama3",
            "llama3",
            "llama3",
            "llama3",
            "llama3",
            "llama3",
            "llama3",
            "llama3",
            "llama3",
            "llama3",
            "llama3",
            "llama3",
            "llama3",
            "llama3",
            "llama3",
            "llama3",
            "llama3",
            "llama3",
            "llama3",
            "llama3",
            "llama3",
            "llama3",
            "llama3",
            "llama3",
            "llama3",
            "llama3",
            "llama3",
            "llama3",
            "llama3",
            "llama3",
            "llama3",
            "llama3",
            "llama3",
            "llama3",
            "llama3",
            "llama3",
            "llama3",
            "llama3",
            "llama3",
            "llama3",
            "llama3",
            "llama3",
            "llama3",
            "llama3",
            "llama3",
            "llama3",
            "llama3",
            "llama3",
            "llama3",
            "llama3",
            "llama3",
            "llama3",
            "llama3",
            "llama3",
            "llama3",
            "llama3",
            "llama3",
            "llama3",
            "llama3",
            "llama3",
            "llama3",
            "llama3",
            "llama3",
            "llama3",
            "llama3",
            "llama3",
            "llama3",
            "llama3",
            "llama3",
            "llama3",
            "llama3",
            "llama3",
            "llama3",
            "llama3",
            "llama3",
            "llama3",
            "llama3",
            "llama3",
            "llama3",
            "llama3",
            "llama3",
            "llama3",
            "llama3",
            "llama3",
            "llama3",
            "llama3",
            "llama3",
            "llama3",
            "llama3",
            "llama3",
            "llama3",
            "llama3",
            "llama3",
            "llama3",
            "llama3",
            "llama3",
            "llama3",
            "llama3",
            "llama3",
            "llama3",
            "llama3",
            "llama3",
            "llama3",
            "llama3",
            "llama3",
            "llama3",
            "llama3",
            "llama3",
            "llama3",
            "llama3"
           ],
           [
            8,
            8,
            16,
            16,
            32,
            32,
            64,
            64,
            8,
            8,
            16,
            16,
            32,
            32,
            64,
            64,
            8,
            8,
            16,
            16,
            32,
            32,
            64,
            64,
            8,
            8,
            8,
            8,
            8,
            8,
            8,
            8,
            8,
            8,
            8,
            8,
            8,
            8,
            8,
            8,
            8,
            8,
            8,
            8,
            8,
            8,
            8,
            8,
            8,
            8,
            8,
            8,
            8,
            8,
            8,
            8,
            8,
            8,
            8,
            8,
            8,
            8,
            8,
            8,
            8,
            8,
            16,
            16,
            16,
            16,
            16,
            16,
            16,
            16,
            16,
            16,
            16,
            16,
            16,
            16,
            16,
            16,
            16,
            16,
            16,
            16,
            16,
            16,
            16,
            16,
            16,
            16,
            16,
            16,
            16,
            16,
            16,
            16,
            16,
            16,
            16,
            16,
            16,
            16,
            16,
            16,
            16,
            16,
            32,
            32,
            32,
            32,
            32,
            32,
            32,
            32,
            32,
            32,
            32,
            32,
            32,
            32,
            32,
            32,
            32,
            32,
            32,
            32,
            32,
            32,
            32,
            32,
            32,
            32,
            32,
            32,
            32,
            32,
            32,
            32,
            32,
            32,
            32,
            32,
            32,
            32,
            32,
            32,
            32,
            32,
            64,
            64,
            64,
            64,
            64,
            64,
            64,
            64,
            64,
            64,
            64,
            64,
            64,
            64,
            64,
            64,
            64,
            64,
            64,
            64,
            64,
            64,
            64,
            64,
            64,
            64,
            64,
            64,
            64,
            64,
            64,
            64,
            64,
            64,
            64,
            64,
            64,
            64,
            64,
            64,
            64,
            64,
            8,
            8,
            8,
            8,
            8,
            8,
            8,
            8,
            8,
            8,
            8,
            8,
            8,
            8,
            8,
            8,
            8,
            8,
            8,
            8,
            8,
            8,
            8,
            8,
            8,
            8,
            8,
            8,
            8,
            8,
            8,
            8,
            8,
            8,
            8,
            8,
            8,
            8,
            8,
            8,
            8,
            8,
            16,
            16,
            16,
            16,
            16,
            16,
            16,
            16,
            16,
            16,
            16,
            16,
            16,
            16,
            16,
            16,
            16,
            16,
            16,
            16,
            16,
            16,
            16,
            16,
            16,
            16,
            16,
            16,
            16,
            16,
            16,
            16,
            16,
            16,
            16,
            16,
            16,
            16,
            16,
            16,
            16,
            16,
            32,
            32,
            32,
            32,
            32,
            32,
            32,
            32,
            32,
            32,
            32,
            32,
            32,
            32,
            32,
            32,
            32,
            32,
            32,
            32,
            32,
            32,
            32,
            32,
            32,
            32,
            32,
            32,
            32,
            32,
            32,
            32,
            32,
            32,
            32,
            32,
            32,
            32,
            32,
            32,
            32,
            32,
            64,
            64,
            64,
            64,
            64,
            64,
            64,
            64,
            64,
            64,
            64,
            64,
            64,
            64,
            64,
            64,
            64,
            64,
            64,
            64,
            64,
            64,
            64,
            64,
            64,
            64,
            64,
            64,
            64,
            64,
            64,
            64,
            64,
            64,
            64,
            64,
            64,
            64,
            64,
            64,
            64,
            64,
            8,
            8,
            8,
            8,
            8,
            8,
            8,
            8,
            8,
            8,
            8,
            8,
            8,
            8,
            8,
            8,
            8,
            8,
            8,
            8,
            8,
            8,
            8,
            8,
            8,
            8,
            8,
            8,
            8,
            8,
            8,
            8,
            8,
            8,
            8,
            8,
            8,
            8,
            8,
            8,
            8,
            8,
            16,
            16,
            16,
            16,
            16,
            16,
            16,
            16,
            16,
            16,
            16,
            16,
            16,
            16,
            16,
            16,
            16,
            16,
            16,
            16,
            16,
            16,
            16,
            16,
            16,
            16,
            16,
            16,
            16,
            16,
            16,
            16,
            16,
            16,
            16,
            16,
            16,
            16,
            16,
            16,
            16,
            16,
            32,
            32,
            32,
            32,
            32,
            32,
            32,
            32,
            32,
            32,
            32,
            32,
            32,
            32,
            32,
            32,
            32,
            32,
            32,
            32,
            32,
            32,
            32,
            32,
            32,
            32,
            32,
            32,
            32,
            32,
            32,
            32,
            32,
            32,
            32,
            32,
            32,
            32,
            32,
            32,
            32,
            32,
            64,
            64,
            64,
            64,
            64,
            64,
            64,
            64,
            64,
            64,
            64,
            64,
            64,
            64,
            64,
            64,
            64,
            64,
            64,
            64,
            64,
            64,
            64,
            64,
            64,
            64,
            64,
            64,
            64,
            64,
            64,
            64,
            64,
            64,
            64,
            64,
            64,
            64,
            64,
            64,
            64,
            64
           ],
           [
            "general",
            "inclass",
            "general",
            "inclass",
            "general",
            "inclass",
            "general",
            "inclass",
            "general",
            "inclass",
            "general",
            "inclass",
            "general",
            "inclass",
            "general",
            "inclass",
            "general",
            "inclass",
            "general",
            "inclass",
            "general",
            "inclass",
            "general",
            "inclass",
            "general",
            "general",
            "general",
            "general",
            "general",
            "general",
            "general",
            "general",
            "general",
            "general",
            "general",
            "general",
            "general",
            "general",
            "general",
            "general",
            "general",
            "general",
            "general",
            "general",
            "general",
            "inclass",
            "inclass",
            "inclass",
            "inclass",
            "inclass",
            "inclass",
            "inclass",
            "inclass",
            "inclass",
            "inclass",
            "inclass",
            "inclass",
            "inclass",
            "inclass",
            "inclass",
            "inclass",
            "inclass",
            "inclass",
            "inclass",
            "inclass",
            "inclass",
            "general",
            "general",
            "general",
            "general",
            "general",
            "general",
            "general",
            "general",
            "general",
            "general",
            "general",
            "general",
            "general",
            "general",
            "general",
            "general",
            "general",
            "general",
            "general",
            "general",
            "general",
            "inclass",
            "inclass",
            "inclass",
            "inclass",
            "inclass",
            "inclass",
            "inclass",
            "inclass",
            "inclass",
            "inclass",
            "inclass",
            "inclass",
            "inclass",
            "inclass",
            "inclass",
            "inclass",
            "inclass",
            "inclass",
            "inclass",
            "inclass",
            "inclass",
            "general",
            "general",
            "general",
            "general",
            "general",
            "general",
            "general",
            "general",
            "general",
            "general",
            "general",
            "general",
            "general",
            "general",
            "general",
            "general",
            "general",
            "general",
            "general",
            "general",
            "general",
            "inclass",
            "inclass",
            "inclass",
            "inclass",
            "inclass",
            "inclass",
            "inclass",
            "inclass",
            "inclass",
            "inclass",
            "inclass",
            "inclass",
            "inclass",
            "inclass",
            "inclass",
            "inclass",
            "inclass",
            "inclass",
            "inclass",
            "inclass",
            "inclass",
            "general",
            "general",
            "general",
            "general",
            "general",
            "general",
            "general",
            "general",
            "general",
            "general",
            "general",
            "general",
            "general",
            "general",
            "general",
            "general",
            "general",
            "general",
            "general",
            "general",
            "general",
            "inclass",
            "inclass",
            "inclass",
            "inclass",
            "inclass",
            "inclass",
            "inclass",
            "inclass",
            "inclass",
            "inclass",
            "inclass",
            "inclass",
            "inclass",
            "inclass",
            "inclass",
            "inclass",
            "inclass",
            "inclass",
            "inclass",
            "inclass",
            "inclass",
            "general",
            "general",
            "general",
            "general",
            "general",
            "general",
            "general",
            "general",
            "general",
            "general",
            "general",
            "general",
            "general",
            "general",
            "general",
            "general",
            "general",
            "general",
            "general",
            "general",
            "general",
            "inclass",
            "inclass",
            "inclass",
            "inclass",
            "inclass",
            "inclass",
            "inclass",
            "inclass",
            "inclass",
            "inclass",
            "inclass",
            "inclass",
            "inclass",
            "inclass",
            "inclass",
            "inclass",
            "inclass",
            "inclass",
            "inclass",
            "inclass",
            "inclass",
            "general",
            "general",
            "general",
            "general",
            "general",
            "general",
            "general",
            "general",
            "general",
            "general",
            "general",
            "general",
            "general",
            "general",
            "general",
            "general",
            "general",
            "general",
            "general",
            "general",
            "general",
            "inclass",
            "inclass",
            "inclass",
            "inclass",
            "inclass",
            "inclass",
            "inclass",
            "inclass",
            "inclass",
            "inclass",
            "inclass",
            "inclass",
            "inclass",
            "inclass",
            "inclass",
            "inclass",
            "inclass",
            "inclass",
            "inclass",
            "inclass",
            "inclass",
            "general",
            "general",
            "general",
            "general",
            "general",
            "general",
            "general",
            "general",
            "general",
            "general",
            "general",
            "general",
            "general",
            "general",
            "general",
            "general",
            "general",
            "general",
            "general",
            "general",
            "general",
            "inclass",
            "inclass",
            "inclass",
            "inclass",
            "inclass",
            "inclass",
            "inclass",
            "inclass",
            "inclass",
            "inclass",
            "inclass",
            "inclass",
            "inclass",
            "inclass",
            "inclass",
            "inclass",
            "inclass",
            "inclass",
            "inclass",
            "inclass",
            "inclass",
            "general",
            "general",
            "general",
            "general",
            "general",
            "general",
            "general",
            "general",
            "general",
            "general",
            "general",
            "general",
            "general",
            "general",
            "general",
            "general",
            "general",
            "general",
            "general",
            "general",
            "general",
            "inclass",
            "inclass",
            "inclass",
            "inclass",
            "inclass",
            "inclass",
            "inclass",
            "inclass",
            "inclass",
            "inclass",
            "inclass",
            "inclass",
            "inclass",
            "inclass",
            "inclass",
            "inclass",
            "inclass",
            "inclass",
            "inclass",
            "inclass",
            "inclass",
            "general",
            "general",
            "general",
            "general",
            "general",
            "general",
            "general",
            "general",
            "general",
            "general",
            "general",
            "general",
            "general",
            "general",
            "general",
            "general",
            "general",
            "general",
            "general",
            "general",
            "general",
            "inclass",
            "inclass",
            "inclass",
            "inclass",
            "inclass",
            "inclass",
            "inclass",
            "inclass",
            "inclass",
            "inclass",
            "inclass",
            "inclass",
            "inclass",
            "inclass",
            "inclass",
            "inclass",
            "inclass",
            "inclass",
            "inclass",
            "inclass",
            "inclass",
            "general",
            "general",
            "general",
            "general",
            "general",
            "general",
            "general",
            "general",
            "general",
            "general",
            "general",
            "general",
            "general",
            "general",
            "general",
            "general",
            "general",
            "general",
            "general",
            "general",
            "general",
            "inclass",
            "inclass",
            "inclass",
            "inclass",
            "inclass",
            "inclass",
            "inclass",
            "inclass",
            "inclass",
            "inclass",
            "inclass",
            "inclass",
            "inclass",
            "inclass",
            "inclass",
            "inclass",
            "inclass",
            "inclass",
            "inclass",
            "inclass",
            "inclass",
            "general",
            "general",
            "general",
            "general",
            "general",
            "general",
            "general",
            "general",
            "general",
            "general",
            "general",
            "general",
            "general",
            "general",
            "general",
            "general",
            "general",
            "general",
            "general",
            "general",
            "general",
            "inclass",
            "inclass",
            "inclass",
            "inclass",
            "inclass",
            "inclass",
            "inclass",
            "inclass",
            "inclass",
            "inclass",
            "inclass",
            "inclass",
            "inclass",
            "inclass",
            "inclass",
            "inclass",
            "inclass",
            "inclass",
            "inclass",
            "inclass",
            "inclass",
            "general",
            "general",
            "general",
            "general",
            "general",
            "general",
            "general",
            "general",
            "general",
            "general",
            "general",
            "general",
            "general",
            "general",
            "general",
            "general",
            "general",
            "general",
            "general",
            "general",
            "general",
            "inclass",
            "inclass",
            "inclass",
            "inclass",
            "inclass",
            "inclass",
            "inclass",
            "inclass",
            "inclass",
            "inclass",
            "inclass",
            "inclass",
            "inclass",
            "inclass",
            "inclass",
            "inclass",
            "inclass",
            "inclass",
            "inclass",
            "inclass",
            "inclass"
           ],
           [
            0.1959695667870549,
            0.3196516841687861,
            0.2085146919962631,
            0.3717109210605758,
            0.2149872949394085,
            0.4089884898593591,
            0.2316825228420381,
            0.4303477597351094,
            0.2043879289456387,
            0.2965933810951267,
            0.2167547666826378,
            0.3088909833127675,
            0.2267729139432031,
            0.3151014113109058,
            0.2283894531039078,
            0.059855284426753,
            0.347238779523286,
            0.6850709994477633,
            0.3618936363431178,
            0.6901172502972354,
            0.3676253409122355,
            0.709659722041267,
            0.3716062948856787,
            0.7045108303258585,
            0.9092813870717096,
            0.19,
            0.12,
            0.1862973137973138,
            0.3267197802197802,
            0.1110785006758964,
            0.3771761807910082,
            0.0666666666666666,
            0.1279534391534391,
            0.01,
            0.0307588522588522,
            0.2065142857142857,
            0.3395238095238095,
            0.01,
            0.32,
            0.03,
            0.2100880100291864,
            0.0007407407407407,
            0.0073737373737373,
            0.0650589225589225,
            0.4701292759528053,
            0.8982143760379054,
            0.28,
            0.2,
            0.76,
            0.3392698412698412,
            0.6638279869348354,
            0.5773069188047358,
            0.2080880198233139,
            0.2073888888888888,
            0.01,
            0.18,
            0.2128888888888888,
            0.4539999999999999,
            0.31,
            0.35,
            0,
            0.1886734376734376,
            0.04,
            0.045,
            0.1,
            0.6880270092226614,
            0.917636476426799,
            0.19,
            0.2366666666666667,
            0.1817284382284382,
            0.3381197691197691,
            0.1616192355086878,
            0.3562554239123271,
            0.0504545454545454,
            0.1452747704365351,
            0.02,
            0.0543639693639693,
            0.1865281385281385,
            0.4226666666666666,
            0,
            0.4,
            0.02,
            0.1814086109968462,
            0.0118181818181818,
            0.0122222222222222,
            0.0702777777777777,
            0.4217676387939545,
            0.9107381507381508,
            0.44,
            0.38,
            0.81,
            0.437,
            0.761394092122771,
            0.5214837460978167,
            0.1953847263847263,
            0.2823333333333333,
            0,
            0.17,
            0.2168571428571428,
            0.5265,
            0.4,
            0.54,
            0.04,
            0.1862954267954267,
            0.1,
            0.105,
            0.115,
            0.667942723942724,
            0.7980738019290651,
            0.2,
            0.2366666666666667,
            0.1436559171822329,
            0.393437375490007,
            0.1706854062962384,
            0.3878745719299516,
            0.0584615384615384,
            0.1607217227217227,
            0.02,
            0.0578543298806456,
            0.1963333333333333,
            0.3307692307692308,
            0,
            0.56,
            0.03,
            0.239342294959942,
            0.02,
            0.0266666666666666,
            0.0812222222222222,
            0.4029681152181152,
            0.8006315640786229,
            0.54,
            0.53,
            0.8,
            0.5257962213225371,
            0.7909252254365904,
            0.565838770818755,
            0.1366565656565656,
            0.3003333333333333,
            0.02,
            0.21,
            0.3160384615384615,
            0.3888888888888888,
            0.58,
            0.61,
            0.04,
            0.2047725052725052,
            0.15,
            0.13,
            0.2166666666666666,
            0.7322100840336134,
            0.8021616720875033,
            0.25,
            0.19,
            0.1635226995226995,
            0.3542546897546897,
            0.1911732723884962,
            0.4760360592742368,
            0.0949848484848484,
            0.1663459595959596,
            0.01,
            0.0688627483627483,
            0.2916666666666667,
            0.3575,
            0,
            0.58,
            0.01,
            0.2645517113605348,
            0.0233333333333333,
            0.0015384615384615,
            0.0391919191919191,
            0.5302089381207028,
            0.8018529098352627,
            0.62,
            0.48,
            0.92,
            0.5579999999999999,
            0.846640463841359,
            0.6152957612468564,
            0.109025974025974,
            0.233,
            0.01,
            0.22,
            0.3086666666666666,
            0.4842222222222222,
            0.68,
            0.7,
            0.02,
            0.2442656232656232,
            0.2633333333333333,
            0.18,
            0.22,
            0.523,
            0.8988095238095238,
            0.01,
            0.01,
            0.0955947385947386,
            0.2854126984126984,
            0.1059564814270696,
            0.4708020092197976,
            0.4532513597513597,
            0.0617460317460317,
            0.02,
            0.0973083028083028,
            0.2416666666666666,
            0.64,
            0,
            0.02,
            0,
            0.2455431398666692,
            0.01,
            0.0047222222222222,
            0.015,
            0.6063333333333333,
            0.8964285714285714,
            0.03,
            0.0366666666666666,
            0.36,
            0.2789999999999999,
            0.4026302671132729,
            0.6744589410125933,
            0.8370283605283605,
            0.0680952380952381,
            0,
            0.25,
            0.204,
            0.84,
            0.2,
            0.06,
            0,
            0.2134862914862914,
            0,
            0.085,
            0.0466666666666666,
            0.745,
            0.9728571428571428,
            0.01,
            0.02,
            0.089,
            0.3453809523809524,
            0.0828122228648544,
            0.4534637799993837,
            0.4796692474192474,
            0.0581025641025641,
            0.01,
            0.0564999999999999,
            0.1943333333333333,
            0.69,
            0,
            0.06,
            0.01,
            0.3178015644486232,
            0.002,
            0.009040404040404,
            0.0058888888888888,
            0.685,
            0.958846153846154,
            0.0366666666666666,
            0.06,
            0.41,
            0.32,
            0.4399399026849221,
            0.7191666287790777,
            0.8651050061050062,
            0.0933333333333333,
            0,
            0.21,
            0.2116666666666666,
            0.85,
            0.17,
            0.04,
            0.01,
            0.3053196248196248,
            0,
            0.035,
            0.0266666666666666,
            0.725,
            0.9785714285714286,
            0.01,
            0.03,
            0.1076919191919191,
            0.3916666666666666,
            0.1034742817382136,
            0.4345846225732355,
            0.503089466089466,
            0.0906666666666666,
            0,
            0.0667474747474747,
            0.1636666666666666,
            0.77,
            0,
            0.05,
            0,
            0.3356831110066404,
            0,
            0.0075,
            0.0088888888888888,
            0.71,
            0.9642857142857144,
            0.02,
            0.05,
            0.43,
            0.3916666666666666,
            0.4188929013546391,
            0.7352680382056848,
            0.8162782217782218,
            0.1696666666666666,
            0,
            0.26,
            0.336,
            0.81,
            0.08,
            0.03,
            0,
            0.3360714285714286,
            0.01,
            0.035,
            0.019,
            0.705,
            0.96,
            0,
            0.03,
            0.1502070707070707,
            0.4479999999999999,
            0.1248985201245263,
            0.3657132284907725,
            0.4762348762348762,
            0.1206666666666666,
            0,
            0.0381111111111111,
            0.2339999999999999,
            0.75,
            0,
            0.06,
            0,
            0.3406955266955267,
            0,
            0.0018181818181818,
            0.0058333333333333,
            0.69,
            0.98,
            0,
            0,
            0,
            0.0088888888888888,
            0,
            0.1350156030308465,
            0,
            0.0531226366226366,
            0,
            0,
            0.0013333333333333,
            0,
            0,
            0,
            0,
            0.0018181818181818,
            0,
            0,
            0.0013333333333333,
            0.0754489959345929,
            0.9971428571428572,
            0.41,
            0.21,
            0.0304365079365079,
            0.5133333333333333,
            0.038540404040404,
            0.8240011663024286,
            0.9333333333333332,
            0.3200266955266955,
            0.03,
            0.0168253968253968,
            0.264719298245614,
            0.7666666666666667,
            0.024,
            0.74,
            0.01,
            0.4582741702741703,
            0.03,
            0.0348571428571428,
            0.0615240641711229,
            0.5783333333333334,
            1,
            0.81,
            0.59,
            0.98,
            0.58,
            0.9989769820971868,
            0.9637879545797904,
            0.9985714285714288,
            0.4896986346986346,
            0.04,
            0.47,
            0.3936666666666666,
            0.87,
            0.99,
            0.85,
            0.16,
            0.5027893217893218,
            0.6,
            0.7133333333333333,
            0.6506666666666666,
            0.735,
            1,
            0.4,
            0.22,
            0.0302380952380952,
            0.5746666666666667,
            0.0567561327561327,
            0.8063178231834032,
            0.961904761904762,
            0.3908799974535268,
            0.02,
            0.0224126984126984,
            0.276,
            0.8433333333333333,
            0.02,
            0.77,
            0.01,
            0.4778593073593073,
            0.0533333333333333,
            0.0228571428571428,
            0.0282070707070707,
            0.615,
            1,
            0.83,
            0.63,
            0.99,
            0.61,
            0.9864769820971868,
            0.9678164429759256,
            0.9966666666666668,
            0.4950238095238095,
            0.07,
            0.37,
            0.4386666666666666,
            0.9,
            0.99,
            0.86,
            0.13,
            0.4871450216450216,
            0.61,
            0.69,
            0.6706666666666666,
            0.77,
            1,
            0.4,
            0.16,
            0.0529365079365079,
            0.568,
            0.0497308802308802,
            0.8247947971725261,
            0.9823593073593072,
            0.3765504495504496,
            0.02,
            0.0176495726495726,
            0.3116666666666667,
            0.86,
            0.01,
            0.74,
            0,
            0.477515873015873,
            0.03,
            0.0286666666666666,
            0.0852614379084967,
            0.725,
            1,
            0.85,
            0.61,
            0.99,
            0.59,
            0.9964769820971868,
            0.9737671519093932,
            0.9971428571428572,
            0.5502990620490621,
            0.08,
            0.57,
            0.4426666666666666,
            0.89,
            0.99,
            0.85,
            0.21,
            0.5221681096681097,
            0.6,
            0.7546666666666667,
            0.6906666666666667,
            0.745,
            1,
            0.42,
            0.16,
            0.0359920634920634,
            0.516,
            0.0714292929292929,
            0.8520717974388581,
            0.971904761904762,
            0.4546767676767676,
            0.02,
            0.0233638583638583,
            0.3556666666666667,
            0.89,
            0.05,
            0.67,
            0,
            0.4732294372294373,
            0.0366666666666666,
            0.0228571428571428,
            0.0548737373737373,
            0.725,
            0.9971428571428572,
            0.85,
            0.61,
            0.99,
            0.69,
            0.9920935322137368,
            0.979499281082902,
            0.9942857142857144,
            0.4897341906459553,
            0.05,
            0.52,
            0.4266666666666666,
            0.93,
            1,
            0.82,
            0.16,
            0.5169718614718615,
            0.61,
            0.7066666666666667,
            0.7066666666666667,
            0.755
           ],
           [
            0,
            0,
            0,
            0,
            0,
            0,
            0,
            0.1428571428571428,
            0,
            0,
            0,
            0,
            0,
            0,
            0,
            0,
            0,
            1,
            0,
            1,
            0,
            1,
            0,
            1,
            1,
            0,
            0,
            0,
            0,
            0,
            0.2666666666666666,
            0,
            0,
            0,
            0,
            0,
            0,
            0,
            0,
            0,
            0.1818181818181818,
            0,
            0,
            0,
            0.5,
            1,
            0,
            0,
            1,
            0,
            0.7083333333333333,
            0.6666666666666666,
            0,
            0,
            0,
            0,
            0,
            0,
            0,
            0,
            0,
            0.1678321678321678,
            0,
            0,
            0,
            0.6666666666666666,
            1,
            0,
            0,
            0,
            0,
            0,
            0.2222222222222222,
            0,
            0,
            0,
            0,
            0,
            0,
            0,
            0,
            0,
            0.125,
            0,
            0,
            0,
            0.5,
            1,
            0,
            0,
            1,
            0,
            0.9372549019607842,
            0.4731934731934732,
            0,
            0,
            0,
            0,
            0,
            1,
            0,
            1,
            0,
            0.1818181818181818,
            0,
            0,
            0,
            0.6190476190476191,
            1,
            0,
            0,
            0,
            0.2666666666666667,
            0,
            0.2857142857142857,
            0,
            0,
            0,
            0,
            0,
            0,
            0,
            1,
            0,
            0.2222222222222222,
            0,
            0,
            0,
            0.5,
            1,
            1,
            1,
            1,
            0.6666666666666666,
            0.9372549019607842,
            0.6666666666666667,
            0,
            0,
            0,
            0,
            0,
            0,
            1,
            1,
            0,
            0.2,
            0,
            0,
            0,
            0.8,
            1,
            0,
            0,
            0,
            0.2361111111111111,
            0,
            0.4232736572890025,
            0,
            0,
            0,
            0,
            0,
            0,
            0,
            1,
            0,
            0.2222222222222222,
            0,
            0,
            0,
            0.5,
            1,
            1,
            0,
            1,
            0.6666666666666666,
            1,
            0.7453703703703705,
            0,
            0,
            0,
            0,
            0,
            0.3611111111111111,
            1,
            1,
            0,
            0.25,
            0,
            0,
            0,
            0.5,
            1,
            0,
            0,
            0,
            0,
            0,
            0.4,
            0.5357142857142857,
            0,
            0,
            0,
            0,
            1,
            0,
            0,
            0,
            0.25,
            0,
            0,
            0,
            0.5,
            1,
            0,
            0,
            0,
            0,
            0.3582887700534759,
            0.8000000000000002,
            0.8571428571428571,
            0,
            0,
            0,
            0,
            1,
            0,
            0,
            0,
            0.25,
            0,
            0,
            0,
            0.5833333333333333,
            1,
            0,
            0,
            0,
            0,
            0,
            0.3484848484848484,
            0.5454545454545454,
            0,
            0,
            0,
            0,
            1,
            0,
            0,
            0,
            0.2857142857142857,
            0,
            0,
            0,
            0.5,
            1,
            0,
            0,
            0,
            0,
            0.375,
            0.9128787878787878,
            1,
            0,
            0,
            0,
            0,
            1,
            0,
            0,
            0,
            0.2857142857142857,
            0,
            0,
            0,
            0.5,
            1,
            0,
            0,
            0,
            0,
            0,
            0.2807881773399014,
            0.5714285714285714,
            0,
            0,
            0,
            0,
            1,
            0,
            0,
            0,
            0.3333333333333333,
            0,
            0,
            0,
            0.5,
            1,
            0,
            0,
            0,
            0,
            0.3636363636363636,
            0.9403508771929824,
            1,
            0,
            0,
            0,
            0,
            1,
            0,
            0,
            0,
            0.2857142857142857,
            0,
            0,
            0,
            0.5,
            1,
            0,
            0,
            0,
            0.4,
            0,
            0.1702898550724637,
            0.5,
            0,
            0,
            0,
            0,
            1,
            0,
            0,
            0,
            0.3333333333333333,
            0,
            0,
            0,
            0.5,
            1,
            0,
            0,
            0,
            0,
            0,
            0.0909090909090909,
            0,
            0,
            0,
            0,
            0,
            0,
            0,
            0,
            0,
            0,
            0,
            0,
            0,
            0,
            1,
            0,
            0,
            0,
            0.6666666666666666,
            0,
            1,
            1,
            0.1818181818181818,
            0,
            0,
            0,
            1,
            0,
            1,
            0,
            0.5,
            0,
            0,
            0,
            0.5,
            1,
            1,
            1,
            1,
            1,
            1,
            1,
            1,
            0.5833333333333333,
            0,
            0,
            0.3333333333333333,
            1,
            1,
            1,
            0,
            0.5,
            1,
            1,
            1,
            0.5,
            1,
            0,
            0,
            0,
            1,
            0,
            1,
            1,
            0.2613636363636363,
            0,
            0,
            0,
            1,
            0,
            1,
            0,
            0.5,
            0,
            0,
            0,
            0.5,
            1,
            1,
            1,
            1,
            1,
            1,
            1,
            1,
            0.5,
            0,
            0,
            0.3666666666666667,
            1,
            1,
            1,
            0,
            0.5,
            1,
            1,
            1,
            1,
            1,
            0,
            0,
            0,
            1,
            0,
            1,
            1,
            0.1999999999999999,
            0,
            0,
            0,
            1,
            0,
            1,
            0,
            0.5,
            0,
            0,
            0,
            0.5,
            1,
            1,
            1,
            1,
            1,
            1,
            1,
            1,
            0.6666666666666666,
            0,
            1,
            0.3333333333333333,
            1,
            1,
            1,
            0,
            0.5357142857142858,
            1,
            1,
            1,
            0.5,
            1,
            0,
            0,
            0,
            0.7333333333333334,
            0,
            1,
            1,
            0.4222222222222223,
            0,
            0,
            0,
            1,
            0,
            1,
            0,
            0.4722222222222222,
            0,
            0,
            0,
            0.5,
            1,
            1,
            1,
            1,
            1,
            1,
            1,
            1,
            0.4,
            0,
            1,
            0.3333333333333333,
            1,
            1,
            1,
            0,
            0.5454545454545454,
            1,
            1,
            1,
            1
           ],
           [
            0.3562715700812324,
            0.429769195254077,
            0.3651858605872675,
            0.450550185760611,
            0.3665563952642326,
            0.4581999519010297,
            0.3798608253805962,
            0.4660730544417298,
            0.3596002531246284,
            0.4124054189325545,
            0.3715576861839643,
            0.4208427224254182,
            0.3780304817058594,
            0.4232477979867484,
            0.3784813231278101,
            0.216197610725489,
            0.4469953236954046,
            0.4380725414307577,
            0.4498938216682509,
            0.4373675440440833,
            0.4545684042462871,
            0.4281937423908813,
            0.4566075253103332,
            0.431360558894008,
            0.2266491023503318,
            0.3942772444036624,
            0.3265986323710904,
            0.3745328673697715,
            0.402795717015168,
            0.2159797663406307,
            0.357087053117015,
            0.2461829819586654,
            0.2725022051478732,
            0.1,
            0.1210824870911104,
            0.3381687004310317,
            0.4666016289063215,
            0.0999999999999999,
            0.4688261722621507,
            0.1714466079977653,
            0.1802986651050449,
            0.0074074074074074,
            0.0368975026913753,
            0.2249828683168167,
            0.3699700786540343,
            0.2437325328007389,
            0.4512608598542129,
            0.4020151261036847,
            0.4292346959909278,
            0.4310475810720307,
            0.3199402395513194,
            0.3714032079017397,
            0.3776939517715338,
            0.3499379915272669,
            0.0999999999999999,
            0.386122919665369,
            0.3322455877282772,
            0.4979594726116135,
            0.4648231987117316,
            0.4793724854411021,
            0,
            0.1876095039593544,
            0.1969463855669324,
            0.2021975231891785,
            0.3015113445777636,
            0.2748926249881245,
            0.2309226089321349,
            0.3942772444036624,
            0.4245417414526988,
            0.3557892079183735,
            0.3871787968546671,
            0.2744291168942429,
            0.3461975989690573,
            0.2082382703222767,
            0.287340914159226,
            0.1407052941362896,
            0.1657939052968265,
            0.3012120589958985,
            0.4901013431927385,
            0,
            0.4923659639173309,
            0.1407052941362897,
            0.1915247268692563,
            0.1014586002592922,
            0.1022200263268754,
            0.2294168871687942,
            0.3775750602181005,
            0.2389244729384254,
            0.498887651569859,
            0.4878317312145633,
            0.3942772444036625,
            0.4701146074179617,
            0.3135696201797355,
            0.3688024183010829,
            0.357264729229685,
            0.4170188410668202,
            0,
            0.3775251680686369,
            0.3379982924372026,
            0.4974914343712134,
            0.4923659639173308,
            0.5009082659620331,
            0.1969463855669323,
            0.1694306835320023,
            0.3015113445777636,
            0.2955477708399859,
            0.3166666666666666,
            0.2930079940457203,
            0.3315105469216166,
            0.4020151261036849,
            0.4245417414526989,
            0.304649986511792,
            0.3984521187473853,
            0.2861812559633892,
            0.3448971679500042,
            0.2082713732499655,
            0.32719638605393,
            0.1407052941362896,
            0.1454252174627296,
            0.3348415374753484,
            0.4721013497313325,
            0,
            0.4988876515698588,
            0.1714466079977653,
            0.1874022026147063,
            0.1407052941362896,
            0.1548323737887653,
            0.2555711457695173,
            0.3835134879620354,
            0.3279901400679968,
            0.5009082659620331,
            0.5016135580465919,
            0.4020151261036848,
            0.4585957856175131,
            0.2753966160314966,
            0.3767214000168024,
            0.3316800911927388,
            0.4113566015607224,
            0.1407052941362896,
            0.4093601807403323,
            0.4003130642127429,
            0.4812224115238058,
            0.4960449637488581,
            0.4902071300001972,
            0.1969463855669323,
            0.1674190824105887,
            0.3588702812826367,
            0.3304420057921195,
            0.4113294533484311,
            0.2778071041676597,
            0.3308466591866785,
            0.4351941398892447,
            0.3942772444036624,
            0.3075717436004727,
            0.3838486643400793,
            0.3220495227990077,
            0.367090896121598,
            0.2715671594084539,
            0.310773904743123,
            0.0999999999999999,
            0.1469710273997607,
            0.4280662807799054,
            0.4770688597778071,
            0,
            0.4960449637488581,
            0.0999999999999999,
            0.225274544361501,
            0.1441333090385798,
            0.0153846153846153,
            0.1716498184407163,
            0.4127610084631231,
            0.3165683217069777,
            0.4878317312145632,
            0.5021167315686782,
            0.2726599243442907,
            0.4680024173295076,
            0.2467665139041155,
            0.36510429257011,
            0.3030742856145599,
            0.3874720220883497,
            0.0999999999999999,
            0.4163331998932266,
            0.4349650707753587,
            0.4886826929724178,
            0.4688261722621507,
            0.4605661864718383,
            0.1407052941362896,
            0.164533934428501,
            0.4401178293408525,
            0.386122919665369,
            0.4163331998932265,
            0.4024809425189087,
            0.1441092713082884,
            0.1,
            0.0999999999999999,
            0.2494290556462704,
            0.3932864931710389,
            0.1942616918125315,
            0.4418613794009435,
            0.4023309892755888,
            0.2016982420372348,
            0.1407052941362896,
            0.2526196487716922,
            0.3717998508182358,
            0.4824181513244217,
            0,
            0.1407052941362896,
            0,
            0.198971515226255,
            0.0999999999999999,
            0.0332806823237918,
            0.0950367641072997,
            0.3612142820761072,
            0.1456506964651802,
            0.1714466079977653,
            0.1828506041399465,
            0.4824181513244217,
            0.3984722508282536,
            0.2309421414909556,
            0.3607576439409261,
            0.1904724211791326,
            0.2105798956195261,
            0,
            0.4351941398892445,
            0.3563526418973282,
            0.3684529491774707,
            0.4020151261036848,
            0.238683256575942,
            0,
            0.2168793637299316,
            0,
            0.2664298190609461,
            0.2066243032501324,
            0.2523236569049649,
            0.0694383629577892,
            0.1,
            0.1407052941362897,
            0.2508111047195772,
            0.4369059997911671,
            0.1840275201035481,
            0.4275775870183614,
            0.3908927030418534,
            0.2077481674955585,
            0.0999999999999999,
            0.203070726079604,
            0.3475117580712275,
            0.4648231987117317,
            0,
            0.238683256575942,
            0.1,
            0.2144415663332868,
            0.02,
            0.0572313819373722,
            0.0338881989221587,
            0.2811861599824155,
            0.0917198157098196,
            0.1828506041399465,
            0.238683256575942,
            0.4943110704237103,
            0.4372395809832992,
            0.237409925533117,
            0.3571655564357856,
            0.1790719569028716,
            0.263064901757106,
            0,
            0.4093601807403323,
            0.3636507432622631,
            0.3588702812826367,
            0.3775251680686369,
            0.1969463855669323,
            0.0999999999999999,
            0.2436455760457881,
            0,
            0.1629122587173968,
            0.1548323737887654,
            0.2499999999999999,
            0.0684817836344432,
            0.0999999999999999,
            0.1714466079977653,
            0.278693825407674,
            0.4376340583450618,
            0.1756291232976111,
            0.4274225223337338,
            0.4034253243454499,
            0.2680971731967614,
            0,
            0.2094143063399366,
            0.3082514678834486,
            0.4229525846816507,
            0,
            0.2190429135575903,
            0,
            0.2054105945199682,
            0,
            0.0556753758384034,
            0.0700595652721344,
            0.2945635360455818,
            0.076984498890817,
            0.1407052941362897,
            0.2190429135575903,
            0.497569851956243,
            0.4804686965351314,
            0.2376275586815874,
            0.3542138870401065,
            0.2305218970985915,
            0.3594201278209504,
            0,
            0.4408440022768082,
            0.4301405298514375,
            0.3942772444036626,
            0.2726599243442907,
            0.1714466079977653,
            0,
            0.2412437691867704,
            0.0999999999999999,
            0.1629122587173969,
            0.1178039803138152,
            0.2471555352118552,
            0.1479329158721389,
            0,
            0.1714466079977653,
            0.3380948097263672,
            0.4651085098403661,
            0.2066757273875601,
            0.4088214931160204,
            0.392629621433348,
            0.3012052109851008,
            0,
            0.1550919418047555,
            0.3720896794018831,
            0.4351941398892447,
            0,
            0.238683256575942,
            0,
            0.1803376875692559,
            0,
            0.0181818181818181,
            0.0414641543296869,
            0.291114195372666,
            0.064273688148805,
            0,
            0,
            0,
            0.0437658634593183,
            0,
            0.2094475909245237,
            0,
            0.0996964118691377,
            0,
            0,
            0.0133333333333333,
            0,
            0,
            0,
            0,
            0.0181818181818181,
            0,
            0,
            0.0133333333333333,
            0.0962597424089372,
            0.0285714285714285,
            0.4943110704237103,
            0.4093601807403323,
            0.1324998752120806,
            0.4910420903096472,
            0.1751306667423761,
            0.3132893982877034,
            0.2269392179511196,
            0.3804851818633125,
            0.1714466079977653,
            0.0827656900095204,
            0.3883561239745194,
            0.4224348215419491,
            0.1457270175237373,
            0.440844002276808,
            0.1,
            0.2021547428408607,
            0.1714466079977653,
            0.1740814453600249,
            0.2200242584855689,
            0.3541124438587593,
            0,
            0.3942772444036626,
            0.4943110704237103,
            0.1407052941362897,
            0.4960449637488582,
            0.0072793538242412,
            0.0824190569126003,
            0.0142857142857142,
            0.435140592123757,
            0.1969463855669324,
            0.5016135580465918,
            0.4367951593405593,
            0.3379976689896311,
            0.1,
            0.3588702812826367,
            0.3684529491774705,
            0.1922647054055644,
            0.4923659639173309,
            0.4495165129318706,
            0.4689094734339393,
            0.2508067790232959,
            0,
            0.4923659639173309,
            0.4163331998932266,
            0.1324515177988311,
            0.4808830261596731,
            0.2039371506060912,
            0.3495557185079101,
            0.1521733795460024,
            0.4082718019788706,
            0.1407052941362896,
            0.0957400273448577,
            0.3865029259714754,
            0.3622321371884626,
            0.1407052941362896,
            0.4229525846816506,
            0.1,
            0.1675019226847326,
            0.215660705375071,
            0.1431742512225991,
            0.1454062390558197,
            0.3166666666666666,
            0,
            0.3775251680686368,
            0.4852365870939096,
            0.0999999999999999,
            0.4902071300001972,
            0.1029643149647918,
            0.0879867625788218,
            0.0333333333333333,
            0.4369616027655001,
            0.2564323999762428,
            0.4852365870939097,
            0.4538578862599109,
            0.3015113445777636,
            0.1,
            0.348735088019777,
            0.3379976689896311,
            0.1754885578895847,
            0.4902071300001973,
            0.4648231987117317,
            0.4619356143279189,
            0.2504541329810165,
            0,
            0.4923659639173308,
            0.3684529491774707,
            0.1910358840498533,
            0.4893918441334889,
            0.1813353466523584,
            0.3269074425744307,
            0.1111772680241783,
            0.4200428699927725,
            0.1407052941362896,
            0.0816946627415565,
            0.4227369271069691,
            0.348735088019777,
            0.1,
            0.4408440022768081,
            0,
            0.167080159507224,
            0.1714466079977653,
            0.1557732963807335,
            0.2573715942021421,
            0.2875795893348833,
            0,
            0.3588702812826368,
            0.4902071300001973,
            0.0999999999999999,
            0.4943110704237102,
            0.0259388171475412,
            0.0790559655468189,
            0.0201007563051842,
            0.4335204340576685,
            0.2726599243442907,
            0.497569851956243,
            0.4649337715167023,
            0.3144660377352202,
            0.1,
            0.3588702812826367,
            0.4093601807403323,
            0.1764967185906804,
            0.4923659639173309,
            0.4279651957276534,
            0.4539656908675461,
            0.2512091968978456,
            0,
            0.4960449637488583,
            0.3684529491774706,
            0.1371298338354549,
            0.492240120977899,
            0.2383624613529474,
            0.3104390437949874,
            0.1294573365912385,
            0.4433906740138111,
            0.1407052941362896,
            0.0907012925661107,
            0.4507645332343681,
            0.3144660377352201,
            0.2190429135575903,
            0.4725815626252607,
            0,
            0.1894277617214572,
            0.1828506041399465,
            0.143174251222599,
            0.2087976664063035,
            0.2694457461178597,
            0.0285714285714285,
            0.3588702812826366,
            0.4902071300001971,
            0.0999999999999999,
            0.4648231987117317,
            0.0395763791172708,
            0.0691842747300587,
            0.0346969089342231,
            0.4489829924870699,
            0.2190429135575903,
            0.5021167315686782,
            0.4600297652986362,
            0.2564323999762428,
            0,
            0.3861229196653691,
            0.3684529491774707,
            0.1718178429880674,
            0.4902071300001971,
            0.4551242106700621,
            0.4495414798297727,
            0.2512091968978456
           ],
           [
            "all",
            "all",
            "all",
            "all",
            "all",
            "all",
            "all",
            "all",
            "all",
            "all",
            "all",
            "all",
            "all",
            "all",
            "all",
            "all",
            "all",
            "all",
            "all",
            "all",
            "all",
            "all",
            "all",
            "all",
            "active_to_passive",
            "antonyms",
            "diff",
            "first_word_letter",
            "larger_animal",
            "letters_list",
            "negation",
            "num_to_verbal",
            "orthography_starts_with",
            "rhymes",
            "second_word_letter",
            "sentence_similarity",
            "sentiment",
            "singular_to_plural",
            "sum",
            "synonyms",
            "taxonomy_animal",
            "translation_en-de",
            "translation_en-es",
            "translation_en-fr",
            "word_in_context",
            "active_to_passive",
            "antonyms",
            "diff",
            "first_word_letter",
            "larger_animal",
            "letters_list",
            "negation",
            "num_to_verbal",
            "orthography_starts_with",
            "rhymes",
            "second_word_letter",
            "sentence_similarity",
            "sentiment",
            "singular_to_plural",
            "sum",
            "synonyms",
            "taxonomy_animal",
            "translation_en-de",
            "translation_en-es",
            "translation_en-fr",
            "word_in_context",
            "active_to_passive",
            "antonyms",
            "diff",
            "first_word_letter",
            "larger_animal",
            "letters_list",
            "negation",
            "num_to_verbal",
            "orthography_starts_with",
            "rhymes",
            "second_word_letter",
            "sentence_similarity",
            "sentiment",
            "singular_to_plural",
            "sum",
            "synonyms",
            "taxonomy_animal",
            "translation_en-de",
            "translation_en-es",
            "translation_en-fr",
            "word_in_context",
            "active_to_passive",
            "antonyms",
            "diff",
            "first_word_letter",
            "larger_animal",
            "letters_list",
            "negation",
            "num_to_verbal",
            "orthography_starts_with",
            "rhymes",
            "second_word_letter",
            "sentence_similarity",
            "sentiment",
            "singular_to_plural",
            "sum",
            "synonyms",
            "taxonomy_animal",
            "translation_en-de",
            "translation_en-es",
            "translation_en-fr",
            "word_in_context",
            "active_to_passive",
            "antonyms",
            "diff",
            "first_word_letter",
            "larger_animal",
            "letters_list",
            "negation",
            "num_to_verbal",
            "orthography_starts_with",
            "rhymes",
            "second_word_letter",
            "sentence_similarity",
            "sentiment",
            "singular_to_plural",
            "sum",
            "synonyms",
            "taxonomy_animal",
            "translation_en-de",
            "translation_en-es",
            "translation_en-fr",
            "word_in_context",
            "active_to_passive",
            "antonyms",
            "diff",
            "first_word_letter",
            "larger_animal",
            "letters_list",
            "negation",
            "num_to_verbal",
            "orthography_starts_with",
            "rhymes",
            "second_word_letter",
            "sentence_similarity",
            "sentiment",
            "singular_to_plural",
            "sum",
            "synonyms",
            "taxonomy_animal",
            "translation_en-de",
            "translation_en-es",
            "translation_en-fr",
            "word_in_context",
            "active_to_passive",
            "antonyms",
            "diff",
            "first_word_letter",
            "larger_animal",
            "letters_list",
            "negation",
            "num_to_verbal",
            "orthography_starts_with",
            "rhymes",
            "second_word_letter",
            "sentence_similarity",
            "sentiment",
            "singular_to_plural",
            "sum",
            "synonyms",
            "taxonomy_animal",
            "translation_en-de",
            "translation_en-es",
            "translation_en-fr",
            "word_in_context",
            "active_to_passive",
            "antonyms",
            "diff",
            "first_word_letter",
            "larger_animal",
            "letters_list",
            "negation",
            "num_to_verbal",
            "orthography_starts_with",
            "rhymes",
            "second_word_letter",
            "sentence_similarity",
            "sentiment",
            "singular_to_plural",
            "sum",
            "synonyms",
            "taxonomy_animal",
            "translation_en-de",
            "translation_en-es",
            "translation_en-fr",
            "word_in_context",
            "active_to_passive",
            "antonyms",
            "diff",
            "first_word_letter",
            "larger_animal",
            "letters_list",
            "negation",
            "num_to_verbal",
            "orthography_starts_with",
            "rhymes",
            "second_word_letter",
            "sentence_similarity",
            "sentiment",
            "singular_to_plural",
            "sum",
            "synonyms",
            "taxonomy_animal",
            "translation_en-de",
            "translation_en-es",
            "translation_en-fr",
            "word_in_context",
            "active_to_passive",
            "antonyms",
            "diff",
            "first_word_letter",
            "larger_animal",
            "letters_list",
            "negation",
            "num_to_verbal",
            "orthography_starts_with",
            "rhymes",
            "second_word_letter",
            "sentence_similarity",
            "sentiment",
            "singular_to_plural",
            "sum",
            "synonyms",
            "taxonomy_animal",
            "translation_en-de",
            "translation_en-es",
            "translation_en-fr",
            "word_in_context",
            "active_to_passive",
            "antonyms",
            "diff",
            "first_word_letter",
            "larger_animal",
            "letters_list",
            "negation",
            "num_to_verbal",
            "orthography_starts_with",
            "rhymes",
            "second_word_letter",
            "sentence_similarity",
            "sentiment",
            "singular_to_plural",
            "sum",
            "synonyms",
            "taxonomy_animal",
            "translation_en-de",
            "translation_en-es",
            "translation_en-fr",
            "word_in_context",
            "active_to_passive",
            "antonyms",
            "diff",
            "first_word_letter",
            "larger_animal",
            "letters_list",
            "negation",
            "num_to_verbal",
            "orthography_starts_with",
            "rhymes",
            "second_word_letter",
            "sentence_similarity",
            "sentiment",
            "singular_to_plural",
            "sum",
            "synonyms",
            "taxonomy_animal",
            "translation_en-de",
            "translation_en-es",
            "translation_en-fr",
            "word_in_context",
            "active_to_passive",
            "antonyms",
            "diff",
            "first_word_letter",
            "larger_animal",
            "letters_list",
            "negation",
            "num_to_verbal",
            "orthography_starts_with",
            "rhymes",
            "second_word_letter",
            "sentence_similarity",
            "sentiment",
            "singular_to_plural",
            "sum",
            "synonyms",
            "taxonomy_animal",
            "translation_en-de",
            "translation_en-es",
            "translation_en-fr",
            "word_in_context",
            "active_to_passive",
            "antonyms",
            "diff",
            "first_word_letter",
            "larger_animal",
            "letters_list",
            "negation",
            "num_to_verbal",
            "orthography_starts_with",
            "rhymes",
            "second_word_letter",
            "sentence_similarity",
            "sentiment",
            "singular_to_plural",
            "sum",
            "synonyms",
            "taxonomy_animal",
            "translation_en-de",
            "translation_en-es",
            "translation_en-fr",
            "word_in_context",
            "active_to_passive",
            "antonyms",
            "diff",
            "first_word_letter",
            "larger_animal",
            "letters_list",
            "negation",
            "num_to_verbal",
            "orthography_starts_with",
            "rhymes",
            "second_word_letter",
            "sentence_similarity",
            "sentiment",
            "singular_to_plural",
            "sum",
            "synonyms",
            "taxonomy_animal",
            "translation_en-de",
            "translation_en-es",
            "translation_en-fr",
            "word_in_context",
            "active_to_passive",
            "antonyms",
            "diff",
            "first_word_letter",
            "larger_animal",
            "letters_list",
            "negation",
            "num_to_verbal",
            "orthography_starts_with",
            "rhymes",
            "second_word_letter",
            "sentence_similarity",
            "sentiment",
            "singular_to_plural",
            "sum",
            "synonyms",
            "taxonomy_animal",
            "translation_en-de",
            "translation_en-es",
            "translation_en-fr",
            "word_in_context",
            "active_to_passive",
            "antonyms",
            "diff",
            "first_word_letter",
            "larger_animal",
            "letters_list",
            "negation",
            "num_to_verbal",
            "orthography_starts_with",
            "rhymes",
            "second_word_letter",
            "sentence_similarity",
            "sentiment",
            "singular_to_plural",
            "sum",
            "synonyms",
            "taxonomy_animal",
            "translation_en-de",
            "translation_en-es",
            "translation_en-fr",
            "word_in_context",
            "active_to_passive",
            "antonyms",
            "diff",
            "first_word_letter",
            "larger_animal",
            "letters_list",
            "negation",
            "num_to_verbal",
            "orthography_starts_with",
            "rhymes",
            "second_word_letter",
            "sentence_similarity",
            "sentiment",
            "singular_to_plural",
            "sum",
            "synonyms",
            "taxonomy_animal",
            "translation_en-de",
            "translation_en-es",
            "translation_en-fr",
            "word_in_context",
            "active_to_passive",
            "antonyms",
            "diff",
            "first_word_letter",
            "larger_animal",
            "letters_list",
            "negation",
            "num_to_verbal",
            "orthography_starts_with",
            "rhymes",
            "second_word_letter",
            "sentence_similarity",
            "sentiment",
            "singular_to_plural",
            "sum",
            "synonyms",
            "taxonomy_animal",
            "translation_en-de",
            "translation_en-es",
            "translation_en-fr",
            "word_in_context",
            "active_to_passive",
            "antonyms",
            "diff",
            "first_word_letter",
            "larger_animal",
            "letters_list",
            "negation",
            "num_to_verbal",
            "orthography_starts_with",
            "rhymes",
            "second_word_letter",
            "sentence_similarity",
            "sentiment",
            "singular_to_plural",
            "sum",
            "synonyms",
            "taxonomy_animal",
            "translation_en-de",
            "translation_en-es",
            "translation_en-fr",
            "word_in_context",
            "active_to_passive",
            "antonyms",
            "diff",
            "first_word_letter",
            "larger_animal",
            "letters_list",
            "negation",
            "num_to_verbal",
            "orthography_starts_with",
            "rhymes",
            "second_word_letter",
            "sentence_similarity",
            "sentiment",
            "singular_to_plural",
            "sum",
            "synonyms",
            "taxonomy_animal",
            "translation_en-de",
            "translation_en-es",
            "translation_en-fr",
            "word_in_context",
            "active_to_passive",
            "antonyms",
            "diff",
            "first_word_letter",
            "larger_animal",
            "letters_list",
            "negation",
            "num_to_verbal",
            "orthography_starts_with",
            "rhymes",
            "second_word_letter",
            "sentence_similarity",
            "sentiment",
            "singular_to_plural",
            "sum",
            "synonyms",
            "taxonomy_animal",
            "translation_en-de",
            "translation_en-es",
            "translation_en-fr",
            "word_in_context",
            "active_to_passive",
            "antonyms",
            "diff",
            "first_word_letter",
            "larger_animal",
            "letters_list",
            "negation",
            "num_to_verbal",
            "orthography_starts_with",
            "rhymes",
            "second_word_letter",
            "sentence_similarity",
            "sentiment",
            "singular_to_plural",
            "sum",
            "synonyms",
            "taxonomy_animal",
            "translation_en-de",
            "translation_en-es",
            "translation_en-fr",
            "word_in_context",
            "active_to_passive",
            "antonyms",
            "diff",
            "first_word_letter",
            "larger_animal",
            "letters_list",
            "negation",
            "num_to_verbal",
            "orthography_starts_with",
            "rhymes",
            "second_word_letter",
            "sentence_similarity",
            "sentiment",
            "singular_to_plural",
            "sum",
            "synonyms",
            "taxonomy_animal",
            "translation_en-de",
            "translation_en-es",
            "translation_en-fr",
            "word_in_context"
           ]
          ]
         },
         "header": {
          "align": "left",
          "fill": {
           "color": "paleturquoise"
          },
          "values": [
           "Unnamed: 0",
           "model",
           "k",
           "experiment_type",
           "mean_rougeL",
           "median_rougeL",
           "stdev_rougeL",
           "task"
          ]
         },
         "type": "table"
        }
       ],
       "layout": {
        "template": {
         "data": {
          "bar": [
           {
            "error_x": {
             "color": "#2a3f5f"
            },
            "error_y": {
             "color": "#2a3f5f"
            },
            "marker": {
             "line": {
              "color": "#E5ECF6",
              "width": 0.5
             },
             "pattern": {
              "fillmode": "overlay",
              "size": 10,
              "solidity": 0.2
             }
            },
            "type": "bar"
           }
          ],
          "barpolar": [
           {
            "marker": {
             "line": {
              "color": "#E5ECF6",
              "width": 0.5
             },
             "pattern": {
              "fillmode": "overlay",
              "size": 10,
              "solidity": 0.2
             }
            },
            "type": "barpolar"
           }
          ],
          "carpet": [
           {
            "aaxis": {
             "endlinecolor": "#2a3f5f",
             "gridcolor": "white",
             "linecolor": "white",
             "minorgridcolor": "white",
             "startlinecolor": "#2a3f5f"
            },
            "baxis": {
             "endlinecolor": "#2a3f5f",
             "gridcolor": "white",
             "linecolor": "white",
             "minorgridcolor": "white",
             "startlinecolor": "#2a3f5f"
            },
            "type": "carpet"
           }
          ],
          "choropleth": [
           {
            "colorbar": {
             "outlinewidth": 0,
             "ticks": ""
            },
            "type": "choropleth"
           }
          ],
          "contour": [
           {
            "colorbar": {
             "outlinewidth": 0,
             "ticks": ""
            },
            "colorscale": [
             [
              0,
              "#0d0887"
             ],
             [
              0.1111111111111111,
              "#46039f"
             ],
             [
              0.2222222222222222,
              "#7201a8"
             ],
             [
              0.3333333333333333,
              "#9c179e"
             ],
             [
              0.4444444444444444,
              "#bd3786"
             ],
             [
              0.5555555555555556,
              "#d8576b"
             ],
             [
              0.6666666666666666,
              "#ed7953"
             ],
             [
              0.7777777777777778,
              "#fb9f3a"
             ],
             [
              0.8888888888888888,
              "#fdca26"
             ],
             [
              1,
              "#f0f921"
             ]
            ],
            "type": "contour"
           }
          ],
          "contourcarpet": [
           {
            "colorbar": {
             "outlinewidth": 0,
             "ticks": ""
            },
            "type": "contourcarpet"
           }
          ],
          "heatmap": [
           {
            "colorbar": {
             "outlinewidth": 0,
             "ticks": ""
            },
            "colorscale": [
             [
              0,
              "#0d0887"
             ],
             [
              0.1111111111111111,
              "#46039f"
             ],
             [
              0.2222222222222222,
              "#7201a8"
             ],
             [
              0.3333333333333333,
              "#9c179e"
             ],
             [
              0.4444444444444444,
              "#bd3786"
             ],
             [
              0.5555555555555556,
              "#d8576b"
             ],
             [
              0.6666666666666666,
              "#ed7953"
             ],
             [
              0.7777777777777778,
              "#fb9f3a"
             ],
             [
              0.8888888888888888,
              "#fdca26"
             ],
             [
              1,
              "#f0f921"
             ]
            ],
            "type": "heatmap"
           }
          ],
          "heatmapgl": [
           {
            "colorbar": {
             "outlinewidth": 0,
             "ticks": ""
            },
            "colorscale": [
             [
              0,
              "#0d0887"
             ],
             [
              0.1111111111111111,
              "#46039f"
             ],
             [
              0.2222222222222222,
              "#7201a8"
             ],
             [
              0.3333333333333333,
              "#9c179e"
             ],
             [
              0.4444444444444444,
              "#bd3786"
             ],
             [
              0.5555555555555556,
              "#d8576b"
             ],
             [
              0.6666666666666666,
              "#ed7953"
             ],
             [
              0.7777777777777778,
              "#fb9f3a"
             ],
             [
              0.8888888888888888,
              "#fdca26"
             ],
             [
              1,
              "#f0f921"
             ]
            ],
            "type": "heatmapgl"
           }
          ],
          "histogram": [
           {
            "marker": {
             "pattern": {
              "fillmode": "overlay",
              "size": 10,
              "solidity": 0.2
             }
            },
            "type": "histogram"
           }
          ],
          "histogram2d": [
           {
            "colorbar": {
             "outlinewidth": 0,
             "ticks": ""
            },
            "colorscale": [
             [
              0,
              "#0d0887"
             ],
             [
              0.1111111111111111,
              "#46039f"
             ],
             [
              0.2222222222222222,
              "#7201a8"
             ],
             [
              0.3333333333333333,
              "#9c179e"
             ],
             [
              0.4444444444444444,
              "#bd3786"
             ],
             [
              0.5555555555555556,
              "#d8576b"
             ],
             [
              0.6666666666666666,
              "#ed7953"
             ],
             [
              0.7777777777777778,
              "#fb9f3a"
             ],
             [
              0.8888888888888888,
              "#fdca26"
             ],
             [
              1,
              "#f0f921"
             ]
            ],
            "type": "histogram2d"
           }
          ],
          "histogram2dcontour": [
           {
            "colorbar": {
             "outlinewidth": 0,
             "ticks": ""
            },
            "colorscale": [
             [
              0,
              "#0d0887"
             ],
             [
              0.1111111111111111,
              "#46039f"
             ],
             [
              0.2222222222222222,
              "#7201a8"
             ],
             [
              0.3333333333333333,
              "#9c179e"
             ],
             [
              0.4444444444444444,
              "#bd3786"
             ],
             [
              0.5555555555555556,
              "#d8576b"
             ],
             [
              0.6666666666666666,
              "#ed7953"
             ],
             [
              0.7777777777777778,
              "#fb9f3a"
             ],
             [
              0.8888888888888888,
              "#fdca26"
             ],
             [
              1,
              "#f0f921"
             ]
            ],
            "type": "histogram2dcontour"
           }
          ],
          "mesh3d": [
           {
            "colorbar": {
             "outlinewidth": 0,
             "ticks": ""
            },
            "type": "mesh3d"
           }
          ],
          "parcoords": [
           {
            "line": {
             "colorbar": {
              "outlinewidth": 0,
              "ticks": ""
             }
            },
            "type": "parcoords"
           }
          ],
          "pie": [
           {
            "automargin": true,
            "type": "pie"
           }
          ],
          "scatter": [
           {
            "fillpattern": {
             "fillmode": "overlay",
             "size": 10,
             "solidity": 0.2
            },
            "type": "scatter"
           }
          ],
          "scatter3d": [
           {
            "line": {
             "colorbar": {
              "outlinewidth": 0,
              "ticks": ""
             }
            },
            "marker": {
             "colorbar": {
              "outlinewidth": 0,
              "ticks": ""
             }
            },
            "type": "scatter3d"
           }
          ],
          "scattercarpet": [
           {
            "marker": {
             "colorbar": {
              "outlinewidth": 0,
              "ticks": ""
             }
            },
            "type": "scattercarpet"
           }
          ],
          "scattergeo": [
           {
            "marker": {
             "colorbar": {
              "outlinewidth": 0,
              "ticks": ""
             }
            },
            "type": "scattergeo"
           }
          ],
          "scattergl": [
           {
            "marker": {
             "colorbar": {
              "outlinewidth": 0,
              "ticks": ""
             }
            },
            "type": "scattergl"
           }
          ],
          "scattermapbox": [
           {
            "marker": {
             "colorbar": {
              "outlinewidth": 0,
              "ticks": ""
             }
            },
            "type": "scattermapbox"
           }
          ],
          "scatterpolar": [
           {
            "marker": {
             "colorbar": {
              "outlinewidth": 0,
              "ticks": ""
             }
            },
            "type": "scatterpolar"
           }
          ],
          "scatterpolargl": [
           {
            "marker": {
             "colorbar": {
              "outlinewidth": 0,
              "ticks": ""
             }
            },
            "type": "scatterpolargl"
           }
          ],
          "scatterternary": [
           {
            "marker": {
             "colorbar": {
              "outlinewidth": 0,
              "ticks": ""
             }
            },
            "type": "scatterternary"
           }
          ],
          "surface": [
           {
            "colorbar": {
             "outlinewidth": 0,
             "ticks": ""
            },
            "colorscale": [
             [
              0,
              "#0d0887"
             ],
             [
              0.1111111111111111,
              "#46039f"
             ],
             [
              0.2222222222222222,
              "#7201a8"
             ],
             [
              0.3333333333333333,
              "#9c179e"
             ],
             [
              0.4444444444444444,
              "#bd3786"
             ],
             [
              0.5555555555555556,
              "#d8576b"
             ],
             [
              0.6666666666666666,
              "#ed7953"
             ],
             [
              0.7777777777777778,
              "#fb9f3a"
             ],
             [
              0.8888888888888888,
              "#fdca26"
             ],
             [
              1,
              "#f0f921"
             ]
            ],
            "type": "surface"
           }
          ],
          "table": [
           {
            "cells": {
             "fill": {
              "color": "#EBF0F8"
             },
             "line": {
              "color": "white"
             }
            },
            "header": {
             "fill": {
              "color": "#C8D4E3"
             },
             "line": {
              "color": "white"
             }
            },
            "type": "table"
           }
          ]
         },
         "layout": {
          "annotationdefaults": {
           "arrowcolor": "#2a3f5f",
           "arrowhead": 0,
           "arrowwidth": 1
          },
          "autotypenumbers": "strict",
          "coloraxis": {
           "colorbar": {
            "outlinewidth": 0,
            "ticks": ""
           }
          },
          "colorscale": {
           "diverging": [
            [
             0,
             "#8e0152"
            ],
            [
             0.1,
             "#c51b7d"
            ],
            [
             0.2,
             "#de77ae"
            ],
            [
             0.3,
             "#f1b6da"
            ],
            [
             0.4,
             "#fde0ef"
            ],
            [
             0.5,
             "#f7f7f7"
            ],
            [
             0.6,
             "#e6f5d0"
            ],
            [
             0.7,
             "#b8e186"
            ],
            [
             0.8,
             "#7fbc41"
            ],
            [
             0.9,
             "#4d9221"
            ],
            [
             1,
             "#276419"
            ]
           ],
           "sequential": [
            [
             0,
             "#0d0887"
            ],
            [
             0.1111111111111111,
             "#46039f"
            ],
            [
             0.2222222222222222,
             "#7201a8"
            ],
            [
             0.3333333333333333,
             "#9c179e"
            ],
            [
             0.4444444444444444,
             "#bd3786"
            ],
            [
             0.5555555555555556,
             "#d8576b"
            ],
            [
             0.6666666666666666,
             "#ed7953"
            ],
            [
             0.7777777777777778,
             "#fb9f3a"
            ],
            [
             0.8888888888888888,
             "#fdca26"
            ],
            [
             1,
             "#f0f921"
            ]
           ],
           "sequentialminus": [
            [
             0,
             "#0d0887"
            ],
            [
             0.1111111111111111,
             "#46039f"
            ],
            [
             0.2222222222222222,
             "#7201a8"
            ],
            [
             0.3333333333333333,
             "#9c179e"
            ],
            [
             0.4444444444444444,
             "#bd3786"
            ],
            [
             0.5555555555555556,
             "#d8576b"
            ],
            [
             0.6666666666666666,
             "#ed7953"
            ],
            [
             0.7777777777777778,
             "#fb9f3a"
            ],
            [
             0.8888888888888888,
             "#fdca26"
            ],
            [
             1,
             "#f0f921"
            ]
           ]
          },
          "colorway": [
           "#636efa",
           "#EF553B",
           "#00cc96",
           "#ab63fa",
           "#FFA15A",
           "#19d3f3",
           "#FF6692",
           "#B6E880",
           "#FF97FF",
           "#FECB52"
          ],
          "font": {
           "color": "#2a3f5f"
          },
          "geo": {
           "bgcolor": "white",
           "lakecolor": "white",
           "landcolor": "#E5ECF6",
           "showlakes": true,
           "showland": true,
           "subunitcolor": "white"
          },
          "hoverlabel": {
           "align": "left"
          },
          "hovermode": "closest",
          "mapbox": {
           "style": "light"
          },
          "paper_bgcolor": "white",
          "plot_bgcolor": "#E5ECF6",
          "polar": {
           "angularaxis": {
            "gridcolor": "white",
            "linecolor": "white",
            "ticks": ""
           },
           "bgcolor": "#E5ECF6",
           "radialaxis": {
            "gridcolor": "white",
            "linecolor": "white",
            "ticks": ""
           }
          },
          "scene": {
           "xaxis": {
            "backgroundcolor": "#E5ECF6",
            "gridcolor": "white",
            "gridwidth": 2,
            "linecolor": "white",
            "showbackground": true,
            "ticks": "",
            "zerolinecolor": "white"
           },
           "yaxis": {
            "backgroundcolor": "#E5ECF6",
            "gridcolor": "white",
            "gridwidth": 2,
            "linecolor": "white",
            "showbackground": true,
            "ticks": "",
            "zerolinecolor": "white"
           },
           "zaxis": {
            "backgroundcolor": "#E5ECF6",
            "gridcolor": "white",
            "gridwidth": 2,
            "linecolor": "white",
            "showbackground": true,
            "ticks": "",
            "zerolinecolor": "white"
           }
          },
          "shapedefaults": {
           "line": {
            "color": "#2a3f5f"
           }
          },
          "ternary": {
           "aaxis": {
            "gridcolor": "white",
            "linecolor": "white",
            "ticks": ""
           },
           "baxis": {
            "gridcolor": "white",
            "linecolor": "white",
            "ticks": ""
           },
           "bgcolor": "#E5ECF6",
           "caxis": {
            "gridcolor": "white",
            "linecolor": "white",
            "ticks": ""
           }
          },
          "title": {
           "x": 0.05
          },
          "xaxis": {
           "automargin": true,
           "gridcolor": "white",
           "linecolor": "white",
           "ticks": "",
           "title": {
            "standoff": 15
           },
           "zerolinecolor": "white",
           "zerolinewidth": 2
          },
          "yaxis": {
           "automargin": true,
           "gridcolor": "white",
           "linecolor": "white",
           "ticks": "",
           "title": {
            "standoff": 15
           },
           "zerolinecolor": "white",
           "zerolinewidth": 2
          }
         }
        }
       }
      }
     },
     "metadata": {},
     "output_type": "display_data"
    }
   ],
   "source": [
    "## Table plot\n",
    "\n",
    "fig = go.Figure(data=[go.Table(\n",
    "    header=dict(values=list(df.columns),\n",
    "                fill_color='paleturquoise',\n",
    "                align='left'),\n",
    "    cells=dict(values=[df[col] for col in df.columns],\n",
    "               fill_color='lavender',\n",
    "               align='left'))\n",
    "])\n",
    "\n",
    "# Show the figure\n",
    "fig.show()"
   ]
  },
  {
   "cell_type": "code",
   "execution_count": 3,
   "metadata": {},
   "outputs": [
    {
     "data": {
      "application/vnd.plotly.v1+json": {
       "config": {
        "plotlyServerURL": "https://plot.ly"
       },
       "data": [
        {
         "alignmentgroup": "True",
         "hovertemplate": "color=gemma2-27_general<br>k=%{x}<br>mean_rougeL=%{text}<extra></extra>",
         "legendgroup": "gemma2-27_general",
         "marker": {
          "color": "#F57F4F",
          "pattern": {
           "shape": ""
          }
         },
         "name": "gemma2-27_general",
         "offsetgroup": "gemma2-27_general",
         "orientation": "v",
         "showlegend": true,
         "text": [
          0.1959695667870549,
          0.2085146919962631,
          0.2149872949394085,
          0.2316825228420381
         ],
         "textposition": "outside",
         "texttemplate": "%{text:.2f}",
         "type": "bar",
         "x": [
          "8",
          "16",
          "32",
          "64"
         ],
         "xaxis": "x",
         "y": [
          0.1959695667870549,
          0.2085146919962631,
          0.2149872949394085,
          0.2316825228420381
         ],
         "yaxis": "y"
        },
        {
         "alignmentgroup": "True",
         "hovertemplate": "color=gemma2-27_inclass<br>k=%{x}<br>mean_rougeL=%{text}<extra></extra>",
         "legendgroup": "gemma2-27_inclass",
         "marker": {
          "color": "#F8B195",
          "pattern": {
           "shape": ""
          }
         },
         "name": "gemma2-27_inclass",
         "offsetgroup": "gemma2-27_inclass",
         "orientation": "v",
         "showlegend": true,
         "text": [
          0.3196516841687861,
          0.3717109210605758,
          0.4089884898593591,
          0.4303477597351094
         ],
         "textposition": "outside",
         "texttemplate": "%{text:.2f}",
         "type": "bar",
         "x": [
          "8",
          "16",
          "32",
          "64"
         ],
         "xaxis": "x",
         "y": [
          0.3196516841687861,
          0.3717109210605758,
          0.4089884898593591,
          0.4303477597351094
         ],
         "yaxis": "y"
        },
        {
         "alignmentgroup": "True",
         "hovertemplate": "color=gemma2-9_general<br>k=%{x}<br>mean_rougeL=%{text}<extra></extra>",
         "legendgroup": "gemma2-9_general",
         "marker": {
          "color": "#F6C667",
          "pattern": {
           "shape": ""
          }
         },
         "name": "gemma2-9_general",
         "offsetgroup": "gemma2-9_general",
         "orientation": "v",
         "showlegend": true,
         "text": [
          0.2043879289456387,
          0.2167547666826378,
          0.2267729139432031,
          0.2283894531039078
         ],
         "textposition": "outside",
         "texttemplate": "%{text:.2f}",
         "type": "bar",
         "x": [
          "8",
          "16",
          "32",
          "64"
         ],
         "xaxis": "x",
         "y": [
          0.2043879289456387,
          0.2167547666826378,
          0.2267729139432031,
          0.2283894531039078
         ],
         "yaxis": "y"
        },
        {
         "alignmentgroup": "True",
         "hovertemplate": "color=gemma2-9_inclass<br>k=%{x}<br>mean_rougeL=%{text}<extra></extra>",
         "legendgroup": "gemma2-9_inclass",
         "marker": {
          "color": "#F8E4A6",
          "pattern": {
           "shape": ""
          }
         },
         "name": "gemma2-9_inclass",
         "offsetgroup": "gemma2-9_inclass",
         "orientation": "v",
         "showlegend": true,
         "text": [
          0.2965933810951267,
          0.3088909833127675,
          0.3151014113109058,
          0.059855284426753
         ],
         "textposition": "outside",
         "texttemplate": "%{text:.2f}",
         "type": "bar",
         "x": [
          "8",
          "16",
          "32",
          "64"
         ],
         "xaxis": "x",
         "y": [
          0.2965933810951267,
          0.3088909833127675,
          0.3151014113109058,
          0.059855284426753
         ],
         "yaxis": "y"
        },
        {
         "alignmentgroup": "True",
         "hovertemplate": "color=llama3_general<br>k=%{x}<br>mean_rougeL=%{text}<extra></extra>",
         "legendgroup": "llama3_general",
         "marker": {
          "color": "#6A8EAE",
          "pattern": {
           "shape": ""
          }
         },
         "name": "llama3_general",
         "offsetgroup": "llama3_general",
         "orientation": "v",
         "showlegend": true,
         "text": [
          0.347238779523286,
          0.3618936363431178,
          0.3676253409122355,
          0.3716062948856787
         ],
         "textposition": "outside",
         "texttemplate": "%{text:.2f}",
         "type": "bar",
         "x": [
          "8",
          "16",
          "32",
          "64"
         ],
         "xaxis": "x",
         "y": [
          0.347238779523286,
          0.3618936363431178,
          0.3676253409122355,
          0.3716062948856787
         ],
         "yaxis": "y"
        },
        {
         "alignmentgroup": "True",
         "hovertemplate": "color=llama3_inclass<br>k=%{x}<br>mean_rougeL=%{text}<extra></extra>",
         "legendgroup": "llama3_inclass",
         "marker": {
          "color": "#A9D0F5",
          "pattern": {
           "shape": ""
          }
         },
         "name": "llama3_inclass",
         "offsetgroup": "llama3_inclass",
         "orientation": "v",
         "showlegend": true,
         "text": [
          0.6850709994477633,
          0.6901172502972354,
          0.709659722041267,
          0.7045108303258585
         ],
         "textposition": "outside",
         "texttemplate": "%{text:.2f}",
         "type": "bar",
         "x": [
          "8",
          "16",
          "32",
          "64"
         ],
         "xaxis": "x",
         "y": [
          0.6850709994477633,
          0.6901172502972354,
          0.709659722041267,
          0.7045108303258585
         ],
         "yaxis": "y"
        }
       ],
       "layout": {
        "barmode": "group",
        "height": 600,
        "legend": {
         "title": {
          "text": "color"
         },
         "tracegroupgap": 0
        },
        "template": {
         "data": {
          "bar": [
           {
            "error_x": {
             "color": "#2a3f5f"
            },
            "error_y": {
             "color": "#2a3f5f"
            },
            "marker": {
             "line": {
              "color": "#E5ECF6",
              "width": 0.5
             },
             "pattern": {
              "fillmode": "overlay",
              "size": 10,
              "solidity": 0.2
             }
            },
            "type": "bar"
           }
          ],
          "barpolar": [
           {
            "marker": {
             "line": {
              "color": "#E5ECF6",
              "width": 0.5
             },
             "pattern": {
              "fillmode": "overlay",
              "size": 10,
              "solidity": 0.2
             }
            },
            "type": "barpolar"
           }
          ],
          "carpet": [
           {
            "aaxis": {
             "endlinecolor": "#2a3f5f",
             "gridcolor": "white",
             "linecolor": "white",
             "minorgridcolor": "white",
             "startlinecolor": "#2a3f5f"
            },
            "baxis": {
             "endlinecolor": "#2a3f5f",
             "gridcolor": "white",
             "linecolor": "white",
             "minorgridcolor": "white",
             "startlinecolor": "#2a3f5f"
            },
            "type": "carpet"
           }
          ],
          "choropleth": [
           {
            "colorbar": {
             "outlinewidth": 0,
             "ticks": ""
            },
            "type": "choropleth"
           }
          ],
          "contour": [
           {
            "colorbar": {
             "outlinewidth": 0,
             "ticks": ""
            },
            "colorscale": [
             [
              0,
              "#0d0887"
             ],
             [
              0.1111111111111111,
              "#46039f"
             ],
             [
              0.2222222222222222,
              "#7201a8"
             ],
             [
              0.3333333333333333,
              "#9c179e"
             ],
             [
              0.4444444444444444,
              "#bd3786"
             ],
             [
              0.5555555555555556,
              "#d8576b"
             ],
             [
              0.6666666666666666,
              "#ed7953"
             ],
             [
              0.7777777777777778,
              "#fb9f3a"
             ],
             [
              0.8888888888888888,
              "#fdca26"
             ],
             [
              1,
              "#f0f921"
             ]
            ],
            "type": "contour"
           }
          ],
          "contourcarpet": [
           {
            "colorbar": {
             "outlinewidth": 0,
             "ticks": ""
            },
            "type": "contourcarpet"
           }
          ],
          "heatmap": [
           {
            "colorbar": {
             "outlinewidth": 0,
             "ticks": ""
            },
            "colorscale": [
             [
              0,
              "#0d0887"
             ],
             [
              0.1111111111111111,
              "#46039f"
             ],
             [
              0.2222222222222222,
              "#7201a8"
             ],
             [
              0.3333333333333333,
              "#9c179e"
             ],
             [
              0.4444444444444444,
              "#bd3786"
             ],
             [
              0.5555555555555556,
              "#d8576b"
             ],
             [
              0.6666666666666666,
              "#ed7953"
             ],
             [
              0.7777777777777778,
              "#fb9f3a"
             ],
             [
              0.8888888888888888,
              "#fdca26"
             ],
             [
              1,
              "#f0f921"
             ]
            ],
            "type": "heatmap"
           }
          ],
          "heatmapgl": [
           {
            "colorbar": {
             "outlinewidth": 0,
             "ticks": ""
            },
            "colorscale": [
             [
              0,
              "#0d0887"
             ],
             [
              0.1111111111111111,
              "#46039f"
             ],
             [
              0.2222222222222222,
              "#7201a8"
             ],
             [
              0.3333333333333333,
              "#9c179e"
             ],
             [
              0.4444444444444444,
              "#bd3786"
             ],
             [
              0.5555555555555556,
              "#d8576b"
             ],
             [
              0.6666666666666666,
              "#ed7953"
             ],
             [
              0.7777777777777778,
              "#fb9f3a"
             ],
             [
              0.8888888888888888,
              "#fdca26"
             ],
             [
              1,
              "#f0f921"
             ]
            ],
            "type": "heatmapgl"
           }
          ],
          "histogram": [
           {
            "marker": {
             "pattern": {
              "fillmode": "overlay",
              "size": 10,
              "solidity": 0.2
             }
            },
            "type": "histogram"
           }
          ],
          "histogram2d": [
           {
            "colorbar": {
             "outlinewidth": 0,
             "ticks": ""
            },
            "colorscale": [
             [
              0,
              "#0d0887"
             ],
             [
              0.1111111111111111,
              "#46039f"
             ],
             [
              0.2222222222222222,
              "#7201a8"
             ],
             [
              0.3333333333333333,
              "#9c179e"
             ],
             [
              0.4444444444444444,
              "#bd3786"
             ],
             [
              0.5555555555555556,
              "#d8576b"
             ],
             [
              0.6666666666666666,
              "#ed7953"
             ],
             [
              0.7777777777777778,
              "#fb9f3a"
             ],
             [
              0.8888888888888888,
              "#fdca26"
             ],
             [
              1,
              "#f0f921"
             ]
            ],
            "type": "histogram2d"
           }
          ],
          "histogram2dcontour": [
           {
            "colorbar": {
             "outlinewidth": 0,
             "ticks": ""
            },
            "colorscale": [
             [
              0,
              "#0d0887"
             ],
             [
              0.1111111111111111,
              "#46039f"
             ],
             [
              0.2222222222222222,
              "#7201a8"
             ],
             [
              0.3333333333333333,
              "#9c179e"
             ],
             [
              0.4444444444444444,
              "#bd3786"
             ],
             [
              0.5555555555555556,
              "#d8576b"
             ],
             [
              0.6666666666666666,
              "#ed7953"
             ],
             [
              0.7777777777777778,
              "#fb9f3a"
             ],
             [
              0.8888888888888888,
              "#fdca26"
             ],
             [
              1,
              "#f0f921"
             ]
            ],
            "type": "histogram2dcontour"
           }
          ],
          "mesh3d": [
           {
            "colorbar": {
             "outlinewidth": 0,
             "ticks": ""
            },
            "type": "mesh3d"
           }
          ],
          "parcoords": [
           {
            "line": {
             "colorbar": {
              "outlinewidth": 0,
              "ticks": ""
             }
            },
            "type": "parcoords"
           }
          ],
          "pie": [
           {
            "automargin": true,
            "type": "pie"
           }
          ],
          "scatter": [
           {
            "fillpattern": {
             "fillmode": "overlay",
             "size": 10,
             "solidity": 0.2
            },
            "type": "scatter"
           }
          ],
          "scatter3d": [
           {
            "line": {
             "colorbar": {
              "outlinewidth": 0,
              "ticks": ""
             }
            },
            "marker": {
             "colorbar": {
              "outlinewidth": 0,
              "ticks": ""
             }
            },
            "type": "scatter3d"
           }
          ],
          "scattercarpet": [
           {
            "marker": {
             "colorbar": {
              "outlinewidth": 0,
              "ticks": ""
             }
            },
            "type": "scattercarpet"
           }
          ],
          "scattergeo": [
           {
            "marker": {
             "colorbar": {
              "outlinewidth": 0,
              "ticks": ""
             }
            },
            "type": "scattergeo"
           }
          ],
          "scattergl": [
           {
            "marker": {
             "colorbar": {
              "outlinewidth": 0,
              "ticks": ""
             }
            },
            "type": "scattergl"
           }
          ],
          "scattermapbox": [
           {
            "marker": {
             "colorbar": {
              "outlinewidth": 0,
              "ticks": ""
             }
            },
            "type": "scattermapbox"
           }
          ],
          "scatterpolar": [
           {
            "marker": {
             "colorbar": {
              "outlinewidth": 0,
              "ticks": ""
             }
            },
            "type": "scatterpolar"
           }
          ],
          "scatterpolargl": [
           {
            "marker": {
             "colorbar": {
              "outlinewidth": 0,
              "ticks": ""
             }
            },
            "type": "scatterpolargl"
           }
          ],
          "scatterternary": [
           {
            "marker": {
             "colorbar": {
              "outlinewidth": 0,
              "ticks": ""
             }
            },
            "type": "scatterternary"
           }
          ],
          "surface": [
           {
            "colorbar": {
             "outlinewidth": 0,
             "ticks": ""
            },
            "colorscale": [
             [
              0,
              "#0d0887"
             ],
             [
              0.1111111111111111,
              "#46039f"
             ],
             [
              0.2222222222222222,
              "#7201a8"
             ],
             [
              0.3333333333333333,
              "#9c179e"
             ],
             [
              0.4444444444444444,
              "#bd3786"
             ],
             [
              0.5555555555555556,
              "#d8576b"
             ],
             [
              0.6666666666666666,
              "#ed7953"
             ],
             [
              0.7777777777777778,
              "#fb9f3a"
             ],
             [
              0.8888888888888888,
              "#fdca26"
             ],
             [
              1,
              "#f0f921"
             ]
            ],
            "type": "surface"
           }
          ],
          "table": [
           {
            "cells": {
             "fill": {
              "color": "#EBF0F8"
             },
             "line": {
              "color": "white"
             }
            },
            "header": {
             "fill": {
              "color": "#C8D4E3"
             },
             "line": {
              "color": "white"
             }
            },
            "type": "table"
           }
          ]
         },
         "layout": {
          "annotationdefaults": {
           "arrowcolor": "#2a3f5f",
           "arrowhead": 0,
           "arrowwidth": 1
          },
          "autotypenumbers": "strict",
          "coloraxis": {
           "colorbar": {
            "outlinewidth": 0,
            "ticks": ""
           }
          },
          "colorscale": {
           "diverging": [
            [
             0,
             "#8e0152"
            ],
            [
             0.1,
             "#c51b7d"
            ],
            [
             0.2,
             "#de77ae"
            ],
            [
             0.3,
             "#f1b6da"
            ],
            [
             0.4,
             "#fde0ef"
            ],
            [
             0.5,
             "#f7f7f7"
            ],
            [
             0.6,
             "#e6f5d0"
            ],
            [
             0.7,
             "#b8e186"
            ],
            [
             0.8,
             "#7fbc41"
            ],
            [
             0.9,
             "#4d9221"
            ],
            [
             1,
             "#276419"
            ]
           ],
           "sequential": [
            [
             0,
             "#0d0887"
            ],
            [
             0.1111111111111111,
             "#46039f"
            ],
            [
             0.2222222222222222,
             "#7201a8"
            ],
            [
             0.3333333333333333,
             "#9c179e"
            ],
            [
             0.4444444444444444,
             "#bd3786"
            ],
            [
             0.5555555555555556,
             "#d8576b"
            ],
            [
             0.6666666666666666,
             "#ed7953"
            ],
            [
             0.7777777777777778,
             "#fb9f3a"
            ],
            [
             0.8888888888888888,
             "#fdca26"
            ],
            [
             1,
             "#f0f921"
            ]
           ],
           "sequentialminus": [
            [
             0,
             "#0d0887"
            ],
            [
             0.1111111111111111,
             "#46039f"
            ],
            [
             0.2222222222222222,
             "#7201a8"
            ],
            [
             0.3333333333333333,
             "#9c179e"
            ],
            [
             0.4444444444444444,
             "#bd3786"
            ],
            [
             0.5555555555555556,
             "#d8576b"
            ],
            [
             0.6666666666666666,
             "#ed7953"
            ],
            [
             0.7777777777777778,
             "#fb9f3a"
            ],
            [
             0.8888888888888888,
             "#fdca26"
            ],
            [
             1,
             "#f0f921"
            ]
           ]
          },
          "colorway": [
           "#636efa",
           "#EF553B",
           "#00cc96",
           "#ab63fa",
           "#FFA15A",
           "#19d3f3",
           "#FF6692",
           "#B6E880",
           "#FF97FF",
           "#FECB52"
          ],
          "font": {
           "color": "#2a3f5f"
          },
          "geo": {
           "bgcolor": "white",
           "lakecolor": "white",
           "landcolor": "#E5ECF6",
           "showlakes": true,
           "showland": true,
           "subunitcolor": "white"
          },
          "hoverlabel": {
           "align": "left"
          },
          "hovermode": "closest",
          "mapbox": {
           "style": "light"
          },
          "paper_bgcolor": "white",
          "plot_bgcolor": "#E5ECF6",
          "polar": {
           "angularaxis": {
            "gridcolor": "white",
            "linecolor": "white",
            "ticks": ""
           },
           "bgcolor": "#E5ECF6",
           "radialaxis": {
            "gridcolor": "white",
            "linecolor": "white",
            "ticks": ""
           }
          },
          "scene": {
           "xaxis": {
            "backgroundcolor": "#E5ECF6",
            "gridcolor": "white",
            "gridwidth": 2,
            "linecolor": "white",
            "showbackground": true,
            "ticks": "",
            "zerolinecolor": "white"
           },
           "yaxis": {
            "backgroundcolor": "#E5ECF6",
            "gridcolor": "white",
            "gridwidth": 2,
            "linecolor": "white",
            "showbackground": true,
            "ticks": "",
            "zerolinecolor": "white"
           },
           "zaxis": {
            "backgroundcolor": "#E5ECF6",
            "gridcolor": "white",
            "gridwidth": 2,
            "linecolor": "white",
            "showbackground": true,
            "ticks": "",
            "zerolinecolor": "white"
           }
          },
          "shapedefaults": {
           "line": {
            "color": "#2a3f5f"
           }
          },
          "ternary": {
           "aaxis": {
            "gridcolor": "white",
            "linecolor": "white",
            "ticks": ""
           },
           "baxis": {
            "gridcolor": "white",
            "linecolor": "white",
            "ticks": ""
           },
           "bgcolor": "#E5ECF6",
           "caxis": {
            "gridcolor": "white",
            "linecolor": "white",
            "ticks": ""
           }
          },
          "title": {
           "x": 0.05
          },
          "xaxis": {
           "automargin": true,
           "gridcolor": "white",
           "linecolor": "white",
           "ticks": "",
           "title": {
            "standoff": 15
           },
           "zerolinecolor": "white",
           "zerolinewidth": 2
          },
          "yaxis": {
           "automargin": true,
           "gridcolor": "white",
           "linecolor": "white",
           "ticks": "",
           "title": {
            "standoff": 15
           },
           "zerolinecolor": "white",
           "zerolinewidth": 2
          }
         }
        },
        "title": {
         "text": "Mean Rouge-L by Model"
        },
        "xaxis": {
         "anchor": "y",
         "domain": [
          0,
          1
         ],
         "title": {
          "text": "k"
         }
        },
        "yaxis": {
         "anchor": "x",
         "domain": [
          0,
          1
         ],
         "title": {
          "text": "mean_rougeL"
         }
        }
       }
      }
     },
     "metadata": {},
     "output_type": "display_data"
    }
   ],
   "source": [
    "\n",
    "\n",
    "df[\"k\"] = df[\"k\"].astype(\"str\")\n",
    "df['color'] = df['model'] + '_' + df['experiment_type']\n",
    "custom_color_sequence = colors = [\n",
    "    \"#F57F4F\",  # Dark Orange\n",
    "    \"#F8B195\",  # Light Orange\n",
    "    \"#F6C667\",  # Dark Yellow\n",
    "    \"#F8E4A6\",  # Light Yellow\n",
    "    \"#6A8EAE\",  # Dark Blue\n",
    "    \"#A9D0F5\"   # Light Blue\n",
    "]\n",
    "\n",
    "\n",
    "\n",
    "fig = px.bar(df[df[\"task\"] == \"all\"], \n",
    "             x='k', \n",
    "             y='mean_rougeL', \n",
    "             color='color',\n",
    "             text='mean_rougeL',\n",
    "             barmode='group',\n",
    "             title='Mean Rouge-L by Model',\n",
    "             color_discrete_sequence=custom_color_sequence)\n",
    "\n",
    "# Customize the layout\n",
    "fig.update_traces(texttemplate='%{text:.2f}', textposition='outside')\n",
    "fig.update_layout(height=600) \n",
    "# Show the figure\n",
    "fig.show()"
   ]
  },
  {
   "cell_type": "code",
   "execution_count": 4,
   "metadata": {},
   "outputs": [
    {
     "data": {
      "text/html": [
       "<div>\n",
       "<style scoped>\n",
       "    .dataframe tbody tr th:only-of-type {\n",
       "        vertical-align: middle;\n",
       "    }\n",
       "\n",
       "    .dataframe tbody tr th {\n",
       "        vertical-align: top;\n",
       "    }\n",
       "\n",
       "    .dataframe thead th {\n",
       "        text-align: right;\n",
       "    }\n",
       "</style>\n",
       "<table border=\"1\" class=\"dataframe\">\n",
       "  <thead>\n",
       "    <tr style=\"text-align: right;\">\n",
       "      <th></th>\n",
       "      <th>Unnamed: 0</th>\n",
       "      <th>model</th>\n",
       "      <th>k</th>\n",
       "      <th>experiment_type</th>\n",
       "      <th>mean_rougeL</th>\n",
       "      <th>median_rougeL</th>\n",
       "      <th>stdev_rougeL</th>\n",
       "      <th>task</th>\n",
       "      <th>color</th>\n",
       "    </tr>\n",
       "  </thead>\n",
       "  <tbody>\n",
       "    <tr>\n",
       "      <th>16</th>\n",
       "      <td>16</td>\n",
       "      <td>llama3</td>\n",
       "      <td>8</td>\n",
       "      <td>general</td>\n",
       "      <td>0.347239</td>\n",
       "      <td>0.000000</td>\n",
       "      <td>0.446995</td>\n",
       "      <td>all</td>\n",
       "      <td>llama3_general</td>\n",
       "    </tr>\n",
       "    <tr>\n",
       "      <th>17</th>\n",
       "      <td>17</td>\n",
       "      <td>llama3</td>\n",
       "      <td>8</td>\n",
       "      <td>inclass</td>\n",
       "      <td>0.685071</td>\n",
       "      <td>1.000000</td>\n",
       "      <td>0.438073</td>\n",
       "      <td>all</td>\n",
       "      <td>llama3_inclass</td>\n",
       "    </tr>\n",
       "    <tr>\n",
       "      <th>18</th>\n",
       "      <td>18</td>\n",
       "      <td>llama3</td>\n",
       "      <td>16</td>\n",
       "      <td>general</td>\n",
       "      <td>0.361894</td>\n",
       "      <td>0.000000</td>\n",
       "      <td>0.449894</td>\n",
       "      <td>all</td>\n",
       "      <td>llama3_general</td>\n",
       "    </tr>\n",
       "    <tr>\n",
       "      <th>19</th>\n",
       "      <td>19</td>\n",
       "      <td>llama3</td>\n",
       "      <td>16</td>\n",
       "      <td>inclass</td>\n",
       "      <td>0.690117</td>\n",
       "      <td>1.000000</td>\n",
       "      <td>0.437368</td>\n",
       "      <td>all</td>\n",
       "      <td>llama3_inclass</td>\n",
       "    </tr>\n",
       "    <tr>\n",
       "      <th>20</th>\n",
       "      <td>20</td>\n",
       "      <td>llama3</td>\n",
       "      <td>32</td>\n",
       "      <td>general</td>\n",
       "      <td>0.367625</td>\n",
       "      <td>0.000000</td>\n",
       "      <td>0.454568</td>\n",
       "      <td>all</td>\n",
       "      <td>llama3_general</td>\n",
       "    </tr>\n",
       "    <tr>\n",
       "      <th>...</th>\n",
       "      <td>...</td>\n",
       "      <td>...</td>\n",
       "      <td>...</td>\n",
       "      <td>...</td>\n",
       "      <td>...</td>\n",
       "      <td>...</td>\n",
       "      <td>...</td>\n",
       "      <td>...</td>\n",
       "      <td>...</td>\n",
       "    </tr>\n",
       "    <tr>\n",
       "      <th>523</th>\n",
       "      <td>523</td>\n",
       "      <td>llama3</td>\n",
       "      <td>64</td>\n",
       "      <td>inclass</td>\n",
       "      <td>0.516972</td>\n",
       "      <td>0.545455</td>\n",
       "      <td>0.171818</td>\n",
       "      <td>taxonomy_animal</td>\n",
       "      <td>llama3_inclass</td>\n",
       "    </tr>\n",
       "    <tr>\n",
       "      <th>524</th>\n",
       "      <td>524</td>\n",
       "      <td>llama3</td>\n",
       "      <td>64</td>\n",
       "      <td>inclass</td>\n",
       "      <td>0.610000</td>\n",
       "      <td>1.000000</td>\n",
       "      <td>0.490207</td>\n",
       "      <td>translation_en-de</td>\n",
       "      <td>llama3_inclass</td>\n",
       "    </tr>\n",
       "    <tr>\n",
       "      <th>525</th>\n",
       "      <td>525</td>\n",
       "      <td>llama3</td>\n",
       "      <td>64</td>\n",
       "      <td>inclass</td>\n",
       "      <td>0.706667</td>\n",
       "      <td>1.000000</td>\n",
       "      <td>0.455124</td>\n",
       "      <td>translation_en-es</td>\n",
       "      <td>llama3_inclass</td>\n",
       "    </tr>\n",
       "    <tr>\n",
       "      <th>526</th>\n",
       "      <td>526</td>\n",
       "      <td>llama3</td>\n",
       "      <td>64</td>\n",
       "      <td>inclass</td>\n",
       "      <td>0.706667</td>\n",
       "      <td>1.000000</td>\n",
       "      <td>0.449541</td>\n",
       "      <td>translation_en-fr</td>\n",
       "      <td>llama3_inclass</td>\n",
       "    </tr>\n",
       "    <tr>\n",
       "      <th>527</th>\n",
       "      <td>527</td>\n",
       "      <td>llama3</td>\n",
       "      <td>64</td>\n",
       "      <td>inclass</td>\n",
       "      <td>0.755000</td>\n",
       "      <td>1.000000</td>\n",
       "      <td>0.251209</td>\n",
       "      <td>word_in_context</td>\n",
       "      <td>llama3_inclass</td>\n",
       "    </tr>\n",
       "  </tbody>\n",
       "</table>\n",
       "<p>176 rows × 9 columns</p>\n",
       "</div>"
      ],
      "text/plain": [
       "     Unnamed: 0   model   k experiment_type  mean_rougeL  median_rougeL  \\\n",
       "16           16  llama3   8         general     0.347239       0.000000   \n",
       "17           17  llama3   8         inclass     0.685071       1.000000   \n",
       "18           18  llama3  16         general     0.361894       0.000000   \n",
       "19           19  llama3  16         inclass     0.690117       1.000000   \n",
       "20           20  llama3  32         general     0.367625       0.000000   \n",
       "..          ...     ...  ..             ...          ...            ...   \n",
       "523         523  llama3  64         inclass     0.516972       0.545455   \n",
       "524         524  llama3  64         inclass     0.610000       1.000000   \n",
       "525         525  llama3  64         inclass     0.706667       1.000000   \n",
       "526         526  llama3  64         inclass     0.706667       1.000000   \n",
       "527         527  llama3  64         inclass     0.755000       1.000000   \n",
       "\n",
       "     stdev_rougeL               task           color  \n",
       "16       0.446995                all  llama3_general  \n",
       "17       0.438073                all  llama3_inclass  \n",
       "18       0.449894                all  llama3_general  \n",
       "19       0.437368                all  llama3_inclass  \n",
       "20       0.454568                all  llama3_general  \n",
       "..            ...                ...             ...  \n",
       "523      0.171818    taxonomy_animal  llama3_inclass  \n",
       "524      0.490207  translation_en-de  llama3_inclass  \n",
       "525      0.455124  translation_en-es  llama3_inclass  \n",
       "526      0.449541  translation_en-fr  llama3_inclass  \n",
       "527      0.251209    word_in_context  llama3_inclass  \n",
       "\n",
       "[176 rows x 9 columns]"
      ]
     },
     "execution_count": 4,
     "metadata": {},
     "output_type": "execute_result"
    }
   ],
   "source": [
    "df[df[\"model\"] == \"llama3\"]"
   ]
  },
  {
   "cell_type": "code",
   "execution_count": 5,
   "metadata": {},
   "outputs": [],
   "source": [
    "## Comparsion By Task to Llama3 - 64\n",
    "\n",
    "task_df = df.copy()[(df[\"task\"] != \"all\") & (df[\"model\"] == \"llama3\") & (df[\"k\"] == \"8\")][[\"task\", \"experiment_type\", \"mean_rougeL\"]]\n",
    "pivot_df = task_df.pivot_table(index=['task'], columns='experiment_type', values='mean_rougeL')\n",
    "diff_df = (pivot_df['inclass']- pivot_df['general']).sort_values(ascending=True)"
   ]
  },
  {
   "cell_type": "code",
   "execution_count": 6,
   "metadata": {},
   "outputs": [
    {
     "data": {
      "text/plain": [
       "task\n",
       "active_to_passive          0.002857\n",
       "rhymes                     0.010000\n",
       "taxonomy_animal            0.044515\n",
       "num_to_verbal              0.065238\n",
       "larger_animal              0.066667\n",
       "sentiment                  0.103333\n",
       "sum                        0.110000\n",
       "sentence_similarity        0.128947\n",
       "negation                   0.139787\n",
       "synonyms                   0.150000\n",
       "word_in_context            0.156667\n",
       "orthography_starts_with    0.169672\n",
       "diff                       0.380000\n",
       "antonyms                   0.400000\n",
       "second_word_letter         0.453175\n",
       "translation_en-de          0.570000\n",
       "translation_en-fr          0.589143\n",
       "translation_en-es          0.678476\n",
       "first_word_letter          0.949563\n",
       "letters_list               0.960437\n",
       "singular_to_plural         0.966000\n",
       "dtype: float64"
      ]
     },
     "execution_count": 6,
     "metadata": {},
     "output_type": "execute_result"
    }
   ],
   "source": [
    "diff_df"
   ]
  },
  {
   "cell_type": "code",
   "execution_count": 7,
   "metadata": {},
   "outputs": [
    {
     "data": {
      "application/vnd.plotly.v1+json": {
       "config": {
        "plotlyServerURL": "https://plot.ly"
       },
       "data": [
        {
         "marker": {
          "color": [
           "green",
           "green",
           "green",
           "green",
           "green",
           "green",
           "green",
           "green",
           "green",
           "green",
           "green",
           "green",
           "green",
           "green",
           "green",
           "green",
           "green",
           "green",
           "green",
           "green",
           "green"
          ]
         },
         "text": [
          0.0028571428571427804,
          0.010000000000000002,
          0.04451515151515151,
          0.06523809523809554,
          0.06666666666666665,
          0.10333333333333328,
          0.10999999999999999,
          0.1289473684210526,
          0.1397867882773618,
          0.15,
          0.15666666666666662,
          0.16967193917193912,
          0.38,
          0.4000000000000001,
          0.4531746031746032,
          0.57,
          0.5891426024955437,
          0.6784761904761905,
          0.9495634920634921,
          0.9604365780567827,
          0.966
         ],
         "textposition": "outside",
         "texttemplate": "%{text:.2f}",
         "type": "bar",
         "x": [
          "active_to_passive",
          "rhymes",
          "taxonomy_animal",
          "num_to_verbal",
          "larger_animal",
          "sentiment",
          "sum",
          "sentence_similarity",
          "negation",
          "synonyms",
          "word_in_context",
          "orthography_starts_with",
          "diff",
          "antonyms",
          "second_word_letter",
          "translation_en-de",
          "translation_en-fr",
          "translation_en-es",
          "first_word_letter",
          "letters_list",
          "singular_to_plural"
         ],
         "y": [
          0.0028571428571427804,
          0.010000000000000002,
          0.04451515151515151,
          0.06523809523809554,
          0.06666666666666665,
          0.10333333333333328,
          0.10999999999999999,
          0.1289473684210526,
          0.1397867882773618,
          0.15,
          0.15666666666666662,
          0.16967193917193912,
          0.38,
          0.4000000000000001,
          0.4531746031746032,
          0.57,
          0.5891426024955437,
          0.6784761904761905,
          0.9495634920634921,
          0.9604365780567827,
          0.966
         ]
        }
       ],
       "layout": {
        "height": 550,
        "template": {
         "data": {
          "bar": [
           {
            "error_x": {
             "color": "#2a3f5f"
            },
            "error_y": {
             "color": "#2a3f5f"
            },
            "marker": {
             "line": {
              "color": "white",
              "width": 0.5
             },
             "pattern": {
              "fillmode": "overlay",
              "size": 10,
              "solidity": 0.2
             }
            },
            "type": "bar"
           }
          ],
          "barpolar": [
           {
            "marker": {
             "line": {
              "color": "white",
              "width": 0.5
             },
             "pattern": {
              "fillmode": "overlay",
              "size": 10,
              "solidity": 0.2
             }
            },
            "type": "barpolar"
           }
          ],
          "carpet": [
           {
            "aaxis": {
             "endlinecolor": "#2a3f5f",
             "gridcolor": "#C8D4E3",
             "linecolor": "#C8D4E3",
             "minorgridcolor": "#C8D4E3",
             "startlinecolor": "#2a3f5f"
            },
            "baxis": {
             "endlinecolor": "#2a3f5f",
             "gridcolor": "#C8D4E3",
             "linecolor": "#C8D4E3",
             "minorgridcolor": "#C8D4E3",
             "startlinecolor": "#2a3f5f"
            },
            "type": "carpet"
           }
          ],
          "choropleth": [
           {
            "colorbar": {
             "outlinewidth": 0,
             "ticks": ""
            },
            "type": "choropleth"
           }
          ],
          "contour": [
           {
            "colorbar": {
             "outlinewidth": 0,
             "ticks": ""
            },
            "colorscale": [
             [
              0,
              "#0d0887"
             ],
             [
              0.1111111111111111,
              "#46039f"
             ],
             [
              0.2222222222222222,
              "#7201a8"
             ],
             [
              0.3333333333333333,
              "#9c179e"
             ],
             [
              0.4444444444444444,
              "#bd3786"
             ],
             [
              0.5555555555555556,
              "#d8576b"
             ],
             [
              0.6666666666666666,
              "#ed7953"
             ],
             [
              0.7777777777777778,
              "#fb9f3a"
             ],
             [
              0.8888888888888888,
              "#fdca26"
             ],
             [
              1,
              "#f0f921"
             ]
            ],
            "type": "contour"
           }
          ],
          "contourcarpet": [
           {
            "colorbar": {
             "outlinewidth": 0,
             "ticks": ""
            },
            "type": "contourcarpet"
           }
          ],
          "heatmap": [
           {
            "colorbar": {
             "outlinewidth": 0,
             "ticks": ""
            },
            "colorscale": [
             [
              0,
              "#0d0887"
             ],
             [
              0.1111111111111111,
              "#46039f"
             ],
             [
              0.2222222222222222,
              "#7201a8"
             ],
             [
              0.3333333333333333,
              "#9c179e"
             ],
             [
              0.4444444444444444,
              "#bd3786"
             ],
             [
              0.5555555555555556,
              "#d8576b"
             ],
             [
              0.6666666666666666,
              "#ed7953"
             ],
             [
              0.7777777777777778,
              "#fb9f3a"
             ],
             [
              0.8888888888888888,
              "#fdca26"
             ],
             [
              1,
              "#f0f921"
             ]
            ],
            "type": "heatmap"
           }
          ],
          "heatmapgl": [
           {
            "colorbar": {
             "outlinewidth": 0,
             "ticks": ""
            },
            "colorscale": [
             [
              0,
              "#0d0887"
             ],
             [
              0.1111111111111111,
              "#46039f"
             ],
             [
              0.2222222222222222,
              "#7201a8"
             ],
             [
              0.3333333333333333,
              "#9c179e"
             ],
             [
              0.4444444444444444,
              "#bd3786"
             ],
             [
              0.5555555555555556,
              "#d8576b"
             ],
             [
              0.6666666666666666,
              "#ed7953"
             ],
             [
              0.7777777777777778,
              "#fb9f3a"
             ],
             [
              0.8888888888888888,
              "#fdca26"
             ],
             [
              1,
              "#f0f921"
             ]
            ],
            "type": "heatmapgl"
           }
          ],
          "histogram": [
           {
            "marker": {
             "pattern": {
              "fillmode": "overlay",
              "size": 10,
              "solidity": 0.2
             }
            },
            "type": "histogram"
           }
          ],
          "histogram2d": [
           {
            "colorbar": {
             "outlinewidth": 0,
             "ticks": ""
            },
            "colorscale": [
             [
              0,
              "#0d0887"
             ],
             [
              0.1111111111111111,
              "#46039f"
             ],
             [
              0.2222222222222222,
              "#7201a8"
             ],
             [
              0.3333333333333333,
              "#9c179e"
             ],
             [
              0.4444444444444444,
              "#bd3786"
             ],
             [
              0.5555555555555556,
              "#d8576b"
             ],
             [
              0.6666666666666666,
              "#ed7953"
             ],
             [
              0.7777777777777778,
              "#fb9f3a"
             ],
             [
              0.8888888888888888,
              "#fdca26"
             ],
             [
              1,
              "#f0f921"
             ]
            ],
            "type": "histogram2d"
           }
          ],
          "histogram2dcontour": [
           {
            "colorbar": {
             "outlinewidth": 0,
             "ticks": ""
            },
            "colorscale": [
             [
              0,
              "#0d0887"
             ],
             [
              0.1111111111111111,
              "#46039f"
             ],
             [
              0.2222222222222222,
              "#7201a8"
             ],
             [
              0.3333333333333333,
              "#9c179e"
             ],
             [
              0.4444444444444444,
              "#bd3786"
             ],
             [
              0.5555555555555556,
              "#d8576b"
             ],
             [
              0.6666666666666666,
              "#ed7953"
             ],
             [
              0.7777777777777778,
              "#fb9f3a"
             ],
             [
              0.8888888888888888,
              "#fdca26"
             ],
             [
              1,
              "#f0f921"
             ]
            ],
            "type": "histogram2dcontour"
           }
          ],
          "mesh3d": [
           {
            "colorbar": {
             "outlinewidth": 0,
             "ticks": ""
            },
            "type": "mesh3d"
           }
          ],
          "parcoords": [
           {
            "line": {
             "colorbar": {
              "outlinewidth": 0,
              "ticks": ""
             }
            },
            "type": "parcoords"
           }
          ],
          "pie": [
           {
            "automargin": true,
            "type": "pie"
           }
          ],
          "scatter": [
           {
            "fillpattern": {
             "fillmode": "overlay",
             "size": 10,
             "solidity": 0.2
            },
            "type": "scatter"
           }
          ],
          "scatter3d": [
           {
            "line": {
             "colorbar": {
              "outlinewidth": 0,
              "ticks": ""
             }
            },
            "marker": {
             "colorbar": {
              "outlinewidth": 0,
              "ticks": ""
             }
            },
            "type": "scatter3d"
           }
          ],
          "scattercarpet": [
           {
            "marker": {
             "colorbar": {
              "outlinewidth": 0,
              "ticks": ""
             }
            },
            "type": "scattercarpet"
           }
          ],
          "scattergeo": [
           {
            "marker": {
             "colorbar": {
              "outlinewidth": 0,
              "ticks": ""
             }
            },
            "type": "scattergeo"
           }
          ],
          "scattergl": [
           {
            "marker": {
             "colorbar": {
              "outlinewidth": 0,
              "ticks": ""
             }
            },
            "type": "scattergl"
           }
          ],
          "scattermapbox": [
           {
            "marker": {
             "colorbar": {
              "outlinewidth": 0,
              "ticks": ""
             }
            },
            "type": "scattermapbox"
           }
          ],
          "scatterpolar": [
           {
            "marker": {
             "colorbar": {
              "outlinewidth": 0,
              "ticks": ""
             }
            },
            "type": "scatterpolar"
           }
          ],
          "scatterpolargl": [
           {
            "marker": {
             "colorbar": {
              "outlinewidth": 0,
              "ticks": ""
             }
            },
            "type": "scatterpolargl"
           }
          ],
          "scatterternary": [
           {
            "marker": {
             "colorbar": {
              "outlinewidth": 0,
              "ticks": ""
             }
            },
            "type": "scatterternary"
           }
          ],
          "surface": [
           {
            "colorbar": {
             "outlinewidth": 0,
             "ticks": ""
            },
            "colorscale": [
             [
              0,
              "#0d0887"
             ],
             [
              0.1111111111111111,
              "#46039f"
             ],
             [
              0.2222222222222222,
              "#7201a8"
             ],
             [
              0.3333333333333333,
              "#9c179e"
             ],
             [
              0.4444444444444444,
              "#bd3786"
             ],
             [
              0.5555555555555556,
              "#d8576b"
             ],
             [
              0.6666666666666666,
              "#ed7953"
             ],
             [
              0.7777777777777778,
              "#fb9f3a"
             ],
             [
              0.8888888888888888,
              "#fdca26"
             ],
             [
              1,
              "#f0f921"
             ]
            ],
            "type": "surface"
           }
          ],
          "table": [
           {
            "cells": {
             "fill": {
              "color": "#EBF0F8"
             },
             "line": {
              "color": "white"
             }
            },
            "header": {
             "fill": {
              "color": "#C8D4E3"
             },
             "line": {
              "color": "white"
             }
            },
            "type": "table"
           }
          ]
         },
         "layout": {
          "annotationdefaults": {
           "arrowcolor": "#2a3f5f",
           "arrowhead": 0,
           "arrowwidth": 1
          },
          "autotypenumbers": "strict",
          "coloraxis": {
           "colorbar": {
            "outlinewidth": 0,
            "ticks": ""
           }
          },
          "colorscale": {
           "diverging": [
            [
             0,
             "#8e0152"
            ],
            [
             0.1,
             "#c51b7d"
            ],
            [
             0.2,
             "#de77ae"
            ],
            [
             0.3,
             "#f1b6da"
            ],
            [
             0.4,
             "#fde0ef"
            ],
            [
             0.5,
             "#f7f7f7"
            ],
            [
             0.6,
             "#e6f5d0"
            ],
            [
             0.7,
             "#b8e186"
            ],
            [
             0.8,
             "#7fbc41"
            ],
            [
             0.9,
             "#4d9221"
            ],
            [
             1,
             "#276419"
            ]
           ],
           "sequential": [
            [
             0,
             "#0d0887"
            ],
            [
             0.1111111111111111,
             "#46039f"
            ],
            [
             0.2222222222222222,
             "#7201a8"
            ],
            [
             0.3333333333333333,
             "#9c179e"
            ],
            [
             0.4444444444444444,
             "#bd3786"
            ],
            [
             0.5555555555555556,
             "#d8576b"
            ],
            [
             0.6666666666666666,
             "#ed7953"
            ],
            [
             0.7777777777777778,
             "#fb9f3a"
            ],
            [
             0.8888888888888888,
             "#fdca26"
            ],
            [
             1,
             "#f0f921"
            ]
           ],
           "sequentialminus": [
            [
             0,
             "#0d0887"
            ],
            [
             0.1111111111111111,
             "#46039f"
            ],
            [
             0.2222222222222222,
             "#7201a8"
            ],
            [
             0.3333333333333333,
             "#9c179e"
            ],
            [
             0.4444444444444444,
             "#bd3786"
            ],
            [
             0.5555555555555556,
             "#d8576b"
            ],
            [
             0.6666666666666666,
             "#ed7953"
            ],
            [
             0.7777777777777778,
             "#fb9f3a"
            ],
            [
             0.8888888888888888,
             "#fdca26"
            ],
            [
             1,
             "#f0f921"
            ]
           ]
          },
          "colorway": [
           "#636efa",
           "#EF553B",
           "#00cc96",
           "#ab63fa",
           "#FFA15A",
           "#19d3f3",
           "#FF6692",
           "#B6E880",
           "#FF97FF",
           "#FECB52"
          ],
          "font": {
           "color": "#2a3f5f"
          },
          "geo": {
           "bgcolor": "white",
           "lakecolor": "white",
           "landcolor": "white",
           "showlakes": true,
           "showland": true,
           "subunitcolor": "#C8D4E3"
          },
          "hoverlabel": {
           "align": "left"
          },
          "hovermode": "closest",
          "mapbox": {
           "style": "light"
          },
          "paper_bgcolor": "white",
          "plot_bgcolor": "white",
          "polar": {
           "angularaxis": {
            "gridcolor": "#EBF0F8",
            "linecolor": "#EBF0F8",
            "ticks": ""
           },
           "bgcolor": "white",
           "radialaxis": {
            "gridcolor": "#EBF0F8",
            "linecolor": "#EBF0F8",
            "ticks": ""
           }
          },
          "scene": {
           "xaxis": {
            "backgroundcolor": "white",
            "gridcolor": "#DFE8F3",
            "gridwidth": 2,
            "linecolor": "#EBF0F8",
            "showbackground": true,
            "ticks": "",
            "zerolinecolor": "#EBF0F8"
           },
           "yaxis": {
            "backgroundcolor": "white",
            "gridcolor": "#DFE8F3",
            "gridwidth": 2,
            "linecolor": "#EBF0F8",
            "showbackground": true,
            "ticks": "",
            "zerolinecolor": "#EBF0F8"
           },
           "zaxis": {
            "backgroundcolor": "white",
            "gridcolor": "#DFE8F3",
            "gridwidth": 2,
            "linecolor": "#EBF0F8",
            "showbackground": true,
            "ticks": "",
            "zerolinecolor": "#EBF0F8"
           }
          },
          "shapedefaults": {
           "line": {
            "color": "#2a3f5f"
           }
          },
          "ternary": {
           "aaxis": {
            "gridcolor": "#DFE8F3",
            "linecolor": "#A2B1C6",
            "ticks": ""
           },
           "baxis": {
            "gridcolor": "#DFE8F3",
            "linecolor": "#A2B1C6",
            "ticks": ""
           },
           "bgcolor": "white",
           "caxis": {
            "gridcolor": "#DFE8F3",
            "linecolor": "#A2B1C6",
            "ticks": ""
           }
          },
          "title": {
           "x": 0.05
          },
          "xaxis": {
           "automargin": true,
           "gridcolor": "#EBF0F8",
           "linecolor": "#EBF0F8",
           "ticks": "",
           "title": {
            "standoff": 15
           },
           "zerolinecolor": "#EBF0F8",
           "zerolinewidth": 2
          },
          "yaxis": {
           "automargin": true,
           "gridcolor": "#EBF0F8",
           "linecolor": "#EBF0F8",
           "ticks": "",
           "title": {
            "standoff": 15
           },
           "zerolinecolor": "#EBF0F8",
           "zerolinewidth": 2
          }
         }
        },
        "title": {
         "text": "Difference in Mean Rouge-L by Task (Inclass - General)"
        },
        "xaxis": {
         "title": {
          "text": "Tasks"
         }
        },
        "yaxis": {
         "title": {
          "text": "Mean Rouge-L Diff"
         }
        }
       }
      }
     },
     "metadata": {},
     "output_type": "display_data"
    }
   ],
   "source": [
    "fig = go.Figure()\n",
    "colors = ['green' if val > 0 else 'red' for val in diff_df]\n",
    "\n",
    "fig.add_trace(go.Bar(\n",
    "    x=diff_df.index,\n",
    "    y=diff_df,\n",
    "    text=diff_df,\n",
    "    marker_color=colors  # Set the colors\n",
    "))\n",
    "\n",
    "# Update layout for better visualization\n",
    "fig.update_layout(\n",
    "    title='Difference in Mean Rouge-L by Task (Inclass - General)',\n",
    "    xaxis_title='Tasks',\n",
    "    yaxis_title='Mean Rouge-L Diff',\n",
    "    template='plotly_white'\n",
    ")\n",
    "\n",
    "# Show the plot\n",
    "fig.update_traces(texttemplate='%{text:.2f}', textposition='outside')\n",
    "fig.update_layout(height=550) \n",
    "\n",
    "fig.show()"
   ]
  },
  {
   "cell_type": "code",
   "execution_count": null,
   "metadata": {},
   "outputs": [],
   "source": []
  }
 ],
 "metadata": {
  "kernelspec": {
   "display_name": "venv",
   "language": "python",
   "name": "python3"
  },
  "language_info": {
   "codemirror_mode": {
    "name": "ipython",
    "version": 3
   },
   "file_extension": ".py",
   "mimetype": "text/x-python",
   "name": "python",
   "nbconvert_exporter": "python",
   "pygments_lexer": "ipython3",
   "version": "3.12.0"
  }
 },
 "nbformat": 4,
 "nbformat_minor": 2
}
