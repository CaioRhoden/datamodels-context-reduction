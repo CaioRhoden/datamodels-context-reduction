{
 "cells": [
  {
   "cell_type": "markdown",
   "metadata": {},
   "source": [
    "# TACO Experiment: Cherry-picked context 2\n",
    "\n",
    "The goal here is to evaluate how the model will behave when passing the Solutions from an analog problem that were manually analyzed and selected  \n",
    "In this specific scenario we want to test it with a very specific group of tasks from the TACO benchmark  \n",
    "The difference here is try to evaluate the idea in a different task, with more tests and other metrics to explore"
   ]
  },
  {
   "cell_type": "code",
   "execution_count": 2,
   "metadata": {},
   "outputs": [
    {
     "name": "stderr",
     "output_type": "stream",
     "text": [
      "/home/caio.rhoden/miniconda3/envs/datamodels/lib/python3.11/site-packages/tqdm/auto.py:21: TqdmWarning: IProgress not found. Please update jupyter and ipywidgets. See https://ipywidgets.readthedocs.io/en/stable/user_install.html\n",
      "  from .autonotebook import tqdm as notebook_tqdm\n"
     ]
    },
    {
     "name": "stdout",
     "output_type": "stream",
     "text": [
      "Number of GPUs available: 1\n",
      "GPU 0: NVIDIA RTX A5000\n"
     ]
    }
   ],
   "source": [
    "import os\n",
    "os.environ[\"CUDA_VISIBLE_DEVICES\"] = \"3\"\n",
    "os.environ[\"TOKENIZERS_PARALLELISM\"] = \"false\"\n",
    "\n",
    "import polars as pl\n",
    "import torch\n",
    "import numpy as np\n",
    "import json\n",
    "import re\n",
    "## LLM\n",
    "from src.llms import Llama3_1_Instruct\n",
    "from src.taco_evaluator import compute\n",
    "from datasets import load_from_disk\n",
    "import datetime\n",
    "from typing import List, Dict, Any, Tuple, Mapping\n",
    "seed = 42\n",
    "# NumPy\n",
    "np.random.seed(seed)\n",
    "\n",
    "# PyTorch\n",
    "torch.manual_seed(seed)\n",
    "if torch.cuda.is_available():\n",
    "    torch.cuda.manual_seed(seed)\n",
    "    torch.cuda.manual_seed_all(seed)\n",
    "    torch.backends.cudnn.deterministic = True\n",
    "    torch.backends.cudnn.benchmark = False\n",
    "\n",
    "\n",
    "if torch.cuda.is_available():\n",
    "    print(f\"Number of GPUs available: {torch.cuda.device_count()}\")\n",
    "    for i in range(torch.cuda.device_count()):\n",
    "        print(f\"GPU {i}: {torch.cuda.get_device_name(i)}\")\n",
    "\n",
    "device = torch.device(\"cuda:0\" if torch.cuda.is_available() else \"cpu\")"
   ]
  },
  {
   "cell_type": "markdown",
   "metadata": {},
   "source": [
    "## Load Datasets"
   ]
  },
  {
   "cell_type": "code",
   "execution_count": 3,
   "metadata": {},
   "outputs": [],
   "source": [
    "PATH  = \"../../../data/TACO/processed\"\n",
    "train = pl.read_ipc(f\"{PATH}/train.feather\")\n",
    "train_solutions = pl.read_ipc(f\"{PATH}/train_solutions.feather\")\n",
    "train_tests = pl.read_ipc(f\"{PATH}/train_evaluation_tests.feather\")\n",
    "train_dict = load_from_disk(\"../../../data/TACO/train.hf\")"
   ]
  },
  {
   "cell_type": "code",
   "execution_count": 4,
   "metadata": {},
   "outputs": [],
   "source": [
    "def run_inference(prompt: str, path: str, num_returns = 200, max_length=2048):\n",
    "    outputs = []\n",
    "    llm = Llama3_1_Instruct()\n",
    "    for i in range(num_returns//10):\n",
    "        print(f\"Lopp {i}, {datetime.datetime.now()}\")\n",
    "        config = {\n",
    "                    \"temperature\": 0.7,\n",
    "                    \"max_length\": max_length,\n",
    "                    \"top_p\": 0.95,\n",
    "                    \"num_return_sequences\": 10\n",
    "        }\n",
    "        \n",
    "\n",
    "        output = llm.run(prompt=prompt, input=\"\", config_params=config)\n",
    "\n",
    "        for res in output:\n",
    "            outputs.append(res)\n",
    "        \n",
    "    json.dump(outputs, open(path, \"w\"))"
   ]
  },
  {
   "cell_type": "code",
   "execution_count": 5,
   "metadata": {},
   "outputs": [],
   "source": [
    "def parse_generation(generations: list, id: int, path: str):\n",
    "    \n",
    "    gens = []\n",
    "    for i in range(len(generations)):\n",
    "\n",
    "        code_blocks = re.findall(r'```python(.*?)```', generations[i][\"generated_text\"], re.DOTALL)\n",
    "        extracted_code = \"\\n\".join([block.strip() for block in code_blocks])\n",
    "        gens.append(extracted_code)\n",
    "    \n",
    "    results = [{\n",
    "        \"task_id\": int(id),\n",
    "        \"output\": gens\n",
    "    }]\n",
    "\n",
    "    json.dump(results, open(path, \"w\"))\n",
    "        "
   ]
  },
  {
   "cell_type": "code",
   "execution_count": 14,
   "metadata": {},
   "outputs": [],
   "source": [
    "def filter_test(tests: pl.DataFrame, task_id: int) -> list[str]:\n",
    "\n",
    "    temp = tests.filter(pl.col(\"id\") == task_id).select([\"input\", \"output\"]).to_dict()\n",
    "    splited_tests = []\n",
    "    for t in zip(temp[\"input\"], temp[\"output\"]):\n",
    "        temp_dict = {\n",
    "            \"inputs\": [t[0]],\n",
    "            \"outputs\": [t[1]]\n",
    "        }\n",
    "\n",
    "        splited_tests.append(json.dumps(temp_dict))\n",
    "    \n",
    "    return splited_tests\n",
    "    \n",
    "\n",
    "\n",
    "\n",
    "def compute_pass_1_by_test(generations_file: str, taco_dataset, tests: pl.DataFrame) -> dict[str, list[float]]:\n",
    "\n",
    "    \n",
    "    generations = json.load(open(generations_file))\n",
    "    metric_results = {}\n",
    "\n",
    "    for idx in range(len(generations)):\n",
    "\n",
    "        \n",
    "\n",
    "        id =  generations[idx][\"task_id\"]\n",
    "        metric_results[f\"task_{id}\"] = []\n",
    "\n",
    "        splited_tests = filter_test(tests,id)\n",
    "        for idx_text in range(len(splited_tests)):\n",
    "            print(f\"Test {idx_text}\")\n",
    "            print(datetime.datetime.now())\n",
    "            temp_taco = taco_dataset[id].copy()\n",
    "            temp_taco[\"input_output\"] = splited_tests[idx_text]\n",
    "            result = compute(\"no_context_parsed.json\", [temp_taco], [1], return_dict=True)\n",
    "            metric_results[f\"task_{id}\"].append(result[\"pass@1\"])\n",
    "        \n",
    "        return metric_results\n",
    "\n",
    "        \n",
    "\n"
   ]
  },
  {
   "cell_type": "markdown",
   "metadata": {},
   "source": [
    "## Problem Selection\n",
    "\n",
    "The category choosen it was \"Probability\" in EASY difficulty  \n",
    "The criteria behind the choice is because there isn't a lot of examples of geometry, which facilitates to find samples specific from that scope.  \n",
    "The EASY difficulty is for validation purposes"
   ]
  },
  {
   "cell_type": "code",
   "execution_count": 7,
   "metadata": {},
   "outputs": [
    {
     "data": {
      "text/html": [
       "<div><style>\n",
       ".dataframe > thead > tr,\n",
       ".dataframe > tbody > tr {\n",
       "  text-align: right;\n",
       "  white-space: pre-wrap;\n",
       "}\n",
       "</style>\n",
       "<small>shape: (6, 2)</small><table border=\"1\" class=\"dataframe\"><thead><tr><th>difficulty</th><th>id</th></tr><tr><td>str</td><td>u32</td></tr></thead><tbody><tr><td>&quot;HARD&quot;</td><td>69</td></tr><tr><td>&quot;UNKNOWN_DIFFICULTY&quot;</td><td>2</td></tr><tr><td>&quot;EASY&quot;</td><td>6</td></tr><tr><td>&quot;MEDIUM&quot;</td><td>5</td></tr><tr><td>&quot;VERY_HARD&quot;</td><td>90</td></tr><tr><td>&quot;MEDIUM_HARD&quot;</td><td>23</td></tr></tbody></table></div>"
      ],
      "text/plain": [
       "shape: (6, 2)\n",
       "┌────────────────────┬─────┐\n",
       "│ difficulty         ┆ id  │\n",
       "│ ---                ┆ --- │\n",
       "│ str                ┆ u32 │\n",
       "╞════════════════════╪═════╡\n",
       "│ HARD               ┆ 69  │\n",
       "│ UNKNOWN_DIFFICULTY ┆ 2   │\n",
       "│ EASY               ┆ 6   │\n",
       "│ MEDIUM             ┆ 5   │\n",
       "│ VERY_HARD          ┆ 90  │\n",
       "│ MEDIUM_HARD        ┆ 23  │\n",
       "└────────────────────┴─────┘"
      ]
     },
     "execution_count": 7,
     "metadata": {},
     "output_type": "execute_result"
    }
   ],
   "source": [
    "_tests = train_tests.group_by(\"id\").agg(pl.count(\"test_id\").alias(\"num_tests\"))\n",
    "(\n",
    "    train\n",
    "    .join(_tests, on=\"id\", how=\"left\")\n",
    "    .filter(pl.col(\"num_tests\") > 5)\n",
    "    .filter(pl.col(\"tags\") == \"Probability\")\n",
    "    .group_by(pl.col(\"difficulty\"))\n",
    "    .agg(pl.count(\"id\"))\n",
    ")"
   ]
  },
  {
   "cell_type": "code",
   "execution_count": 8,
   "metadata": {},
   "outputs": [
    {
     "name": "stdout",
     "output_type": "stream",
     "text": [
      "It's the rainy season again, and the city experiences frequent showers throughout the day.\n",
      "\n",
      "The weather report says that there is a P probability of rainfalls today. Raj has to step out for a meeting at the office, and would like to know the probability that it rains during the time he is on the way.\n",
      "\n",
      "Input:\n",
      "\n",
      "The first line of input contains the number of test cases, T. Each of the following T lines contain two numbers, P and time. P denotes the probability that it will rain today and time is the time (in minutes), it will take for Raj to reach his office.\n",
      "\n",
      "Output:\n",
      "\n",
      "Output should have T lines each containing answer to corresponding test case. Please round the answer to 4 decimal places.\n",
      "\n",
      "Constraints:\n",
      "\n",
      "1 ≤ T ≤ 100\n",
      "0 ≤ P ≤ 0.5\n",
      "10 ≤ time ≤ 720\n",
      "time is a perfect divisor of 1440.\n",
      "\n",
      "SAMPLE INPUT\n",
      "2\n",
      "0 10\n",
      ".5 720\n",
      "\n",
      "SAMPLE OUTPUT\n",
      "0.0000\n",
      "0.2929\n",
      "\n"
     ]
    }
   ],
   "source": [
    "# (\n",
    "#     train\n",
    "#     .join(_tests, on=\"id\", how=\"left\")\n",
    "#     .filter(pl.col(\"num_tests\") > 5)\n",
    "#     .filter(pl.col(\"tags\") == \"Probability\")\n",
    "#     .filter(pl.col(\"difficulty\") == \"MEDIUM\")\n",
    "#     .sample(1)\n",
    "# )\n",
    "## ID = 2545\n",
    "\n",
    "selected_problem = train.filter(pl.col(\"id\") == 2545)\n",
    "print(selected_problem.select([\"input\"]).unique().to_dict()[\"input\"][0])"
   ]
  },
  {
   "cell_type": "code",
   "execution_count": 9,
   "metadata": {},
   "outputs": [
    {
     "data": {
      "text/html": [
       "<div><style>\n",
       ".dataframe > thead > tr,\n",
       ".dataframe > tbody > tr {\n",
       "  text-align: right;\n",
       "  white-space: pre-wrap;\n",
       "}\n",
       "</style>\n",
       "<small>shape: (1, 1)</small><table border=\"1\" class=\"dataframe\"><thead><tr><th>input</th></tr><tr><td>u32</td></tr></thead><tbody><tr><td>10</td></tr></tbody></table></div>"
      ],
      "text/plain": [
       "shape: (1, 1)\n",
       "┌───────┐\n",
       "│ input │\n",
       "│ ---   │\n",
       "│ u32   │\n",
       "╞═══════╡\n",
       "│ 10    │\n",
       "└───────┘"
      ]
     },
     "execution_count": 9,
     "metadata": {},
     "output_type": "execute_result"
    }
   ],
   "source": [
    "train_tests.filter(pl.col(\"id\") == 2545).select(\"input\").count()"
   ]
  },
  {
   "cell_type": "markdown",
   "metadata": {},
   "source": [
    "## Run Baseline - No Context"
   ]
  },
  {
   "cell_type": "code",
   "execution_count": 10,
   "metadata": {},
   "outputs": [],
   "source": [
    "prompt_input = selected_problem.select(\"input\").to_struct().to_pandas().iloc[0][\"input\"]\n",
    "prompt = f\"Please write a Python program \\nQUESTION: \\n{prompt_input} \\n ANSWER: \\n.\"\n",
    "# run_inference(prompt_input, \"no_context.json\")"
   ]
  },
  {
   "cell_type": "code",
   "execution_count": 11,
   "metadata": {},
   "outputs": [],
   "source": [
    "# parse_generation(json.load(open(\"no_context.json\")), 2545 , \"no_context_parsed.json\")"
   ]
  },
  {
   "cell_type": "code",
   "execution_count": 12,
   "metadata": {},
   "outputs": [
    {
     "data": {
      "text/plain": [
       "{'question': \"It's the rainy season again, and the city experiences frequent showers throughout the day.\\n\\nThe weather report says that there is a P probability of rainfalls today. Raj has to step out for a meeting at the office, and would like to know the probability that it rains during the time he is on the way.\\n\\nInput:\\n\\nThe first line of input contains the number of test cases, T. Each of the following T lines contain two numbers, P and time. P denotes the probability that it will rain today and time is the time (in minutes), it will take for Raj to reach his office.\\n\\nOutput:\\n\\nOutput should have T lines each containing answer to corresponding test case. Please round the answer to 4 decimal places.\\n\\nConstraints:\\n\\n1 ≤ T ≤ 100\\n0 ≤ P ≤ 0.5\\n10 ≤ time ≤ 720\\ntime is a perfect divisor of 1440.\\n\\nSAMPLE INPUT\\n2\\n0 10\\n.5 720\\n\\nSAMPLE OUTPUT\\n0.0000\\n0.2929\",\n",
       " 'solutions': '[\"test_case = int(input())\\\\n\\\\nwhile test_case:\\\\n\\\\tin_1 = input()\\\\n\\\\tin_1 = in_1.split()\\\\n\\\\t\\\\n\\\\tp = float(in_1[0])\\\\n\\\\tt = int(in_1[1])\\\\n\\\\t\\\\n\\\\tprint((\\\\\"%.4f\\\\\" % (1-pow(1-p,t/1440.0))))\\\\n\\\\t\\\\t\\\\n\\\\ttest_case = test_case -1\\\\n\", \"T = int(input())\\\\nfor t in range(T):\\\\n\\\\tP,time = [float(x) for x in input().split()]\\\\n\\\\tprint(\\\\\"%.4f\\\\\" % (1-(1-P)**(time/1440.0)))\\\\n\", \"T = int(input())\\\\nfor t in range(T):\\\\n\\\\tP,time = [float(x) for x in input().split()]\\\\n\\\\tprint(\\\\\"%.4f\\\\\" % (1-(1-P)**(time/1440.0)))\\\\n\", \"T = int(input())\\\\nfor t in range(T):\\\\n\\\\tP,time = [float(x) for x in input().split()]\\\\n\\\\tprint(\\\\\"%.4f\\\\\" % (1-(1-P)**(time/1440.0)))\\\\n\"]',\n",
       " 'starter_code': '',\n",
       " 'input_output': '{\"inputs\": [\"10\\\\n0.04225316147702651 360\\\\n0.4705782523385532 360\\\\n0.08382464024053793 360\\\\n0.13255059454364293 360\\\\n0.21300375998356036 360\\\\n0.3502440976119032 360\\\\n0.010784341396946395 360\\\\n0.23707130989642777 360\\\\n0.49311228702508814 360\\\\n0.36037754459547156 360\\\\n\", \"10\\\\n0.39778418406102245 360\\\\n0.03678475905087364 360\\\\n0.45098594972954786 360\\\\n0.46414911004713866 360\\\\n0.1911047898260626 360\\\\n0.25150130998484777 360\\\\n0.28817524782217097 360\\\\n0.382550166174656 360\\\\n0.41416484028859224 360\\\\n0.027349350611655554 360\\\\n\", \"10\\\\n0.11467582006829746 360\\\\n0.28892244872065864 360\\\\n0.34042805781637586 360\\\\n0.14515462403418378 360\\\\n0.27869234034458656 360\\\\n0.19597557089011852 360\\\\n0.3788502368296178 360\\\\n0.022797909592525367 360\\\\n0.17810767977623654 360\\\\n0.3278154177017245 360\\\\n\", \"10\\\\n0.394859152259871 360\\\\n0.2906965103420224 360\\\\n0.10687523221434492 360\\\\n0.46674469298933063 360\\\\n0.35299008843376645 360\\\\n0.30878262927197664 360\\\\n0.21356966716028147 360\\\\n0.30560559964675515 360\\\\n0.3017355223471274 360\\\\n0.38784305951821174 360\\\\n\", \"10\\\\n0.23057322142972614 360\\\\n0.17250953948368541 360\\\\n0.4064599400511799 360\\\\n0.07847887873690329 360\\\\n0.49156112030734056 360\\\\n0.41208181269545874 360\\\\n0.07808425663860508 360\\\\n0.1211095435085412 60\\\\n0.2757797180143483 360\\\\n0.15138514664598268 144\\\\n\", \"10\\\\n0.07754807350042381 360\\\\n0.1699271350117204 360\\\\n0.11012448515172757 360\\\\n0.4373350776519923 360\\\\n0.08977046555393031 360\\\\n0.011426844730894614 360\\\\n0.037337077019781284 360\\\\n0.29309705805225483 360\\\\n0.15373180044523727 360\\\\n0.10294787733980815 360\\\\n\", \"10\\\\n0.23638159159934402 360\\\\n0.3462970467595584 360\\\\n0.2818152000382953 360\\\\n0.1908522406582429 360\\\\n0.13814366467827865 360\\\\n0.08328685634537347 360\\\\n0.0541062251578166 360\\\\n0.022438531122368044 360\\\\n0.16854517001674985 360\\\\n0.38983062036387695 360\\\\n\", \"10\\\\n0.4775511206846237 360\\\\n0.4264865525944467 360\\\\n0.3720138182672015 360\\\\n0.16748274070808689 360\\\\n0.29712741500154116 360\\\\n0.2316433407060845 360\\\\n0.39165662564444903 360\\\\n0.48625502694035894 360\\\\n0.30036188128623165 360\\\\n0.4391154862334754 24\\\\n\", \"10\\\\n0.18645496223766345 360\\\\n0.17989902622977394 360\\\\n0.45262248490623425 360\\\\n0.04663296744034651 360\\\\n0.12725823257381275 360\\\\n0.2895663014860297 48\\\\n0.05625277914818627 360\\\\n0.11455689444280615 360\\\\n0.46003084917418513 360\\\\n0.17986394802612649 360\\\\n\", \"10\\\\n0.26855286354198316 360\\\\n0.4845078440769134 360\\\\n0.41277817875080214 360\\\\n0.22279173466341384 360\\\\n0.04484753602630531 360\\\\n0.4832395613538977 360\\\\n0.345797814722544 360\\\\n0.14518834077354936 360\\\\n0.25582830206284146 360\\\\n0.4516072418699678 360\\\\n\"], \"outputs\": [\"0.0200\\\\n0.0455\\\\n0.0287\\\\n0.1339\\\\n0.0232\\\\n0.0029\\\\n0.0095\\\\n0.0831\\\\n0.0409\\\\n0.0268\\\\n\", \"0.0300\\\\n0.0817\\\\n0.0988\\\\n0.0384\\\\n0.0784\\\\n0.0531\\\\n0.1122\\\\n0.0057\\\\n0.0479\\\\n0.0945\\\\n\", \"0.0634\\\\n0.0462\\\\n0.1223\\\\n0.0202\\\\n0.1556\\\\n0.1244\\\\n0.0201\\\\n0.0054\\\\n0.0775\\\\n0.0163\\\\n\", \"0.1191\\\\n0.0093\\\\n0.1392\\\\n0.1444\\\\n0.0516\\\\n0.0699\\\\n0.0815\\\\n0.1136\\\\n0.1251\\\\n0.0069\\\\n\", \"0.0652\\\\n0.1008\\\\n0.0794\\\\n0.0516\\\\n0.0365\\\\n0.0215\\\\n0.0138\\\\n0.0057\\\\n0.0451\\\\n0.1162\\\\n\", \"0.1498\\\\n0.1298\\\\n0.1098\\\\n0.0448\\\\n0.0844\\\\n0.0638\\\\n0.1168\\\\n0.1534\\\\n0.0854\\\\n0.0096\\\\n\", \"0.0752\\\\n0.1527\\\\n0.1246\\\\n0.0611\\\\n0.0114\\\\n0.1521\\\\n0.1007\\\\n0.0385\\\\n0.0712\\\\n0.1395\\\\n\", \"0.0107\\\\n0.1470\\\\n0.0216\\\\n0.0349\\\\n0.0581\\\\n0.1022\\\\n0.0027\\\\n0.0654\\\\n0.1562\\\\n0.1057\\\\n\", \"0.0503\\\\n0.0484\\\\n0.1399\\\\n0.0119\\\\n0.0335\\\\n0.0113\\\\n0.0144\\\\n0.0300\\\\n0.1428\\\\n0.0484\\\\n\", \"0.1180\\\\n0.0823\\\\n0.0279\\\\n0.1455\\\\n0.1031\\\\n0.0882\\\\n0.0583\\\\n0.0871\\\\n0.0859\\\\n0.1155\\\\n\"]}',\n",
       " 'difficulty': 'MEDIUM',\n",
       " 'raw_tags': \"['Probability', 'Math']\",\n",
       " 'name': 'so-random',\n",
       " 'source': 'hackerearth',\n",
       " 'tags': \"['Mathematics', 'Probability']\",\n",
       " 'skill_types': '[]',\n",
       " 'url': None,\n",
       " 'Expected Auxiliary Space': None,\n",
       " 'time_limit': None,\n",
       " 'date': None,\n",
       " 'picture_num': None,\n",
       " 'memory_limit': None,\n",
       " 'Expected Time Complexity': None}"
      ]
     },
     "execution_count": 12,
     "metadata": {},
     "output_type": "execute_result"
    }
   ],
   "source": [
    "train_dict[2545]"
   ]
  },
  {
   "cell_type": "code",
   "execution_count": null,
   "metadata": {},
   "outputs": [
    {
     "name": "stdout",
     "output_type": "stream",
     "text": [
      "Test 0\n",
      "2025-02-28 16:01:31.899467\n"
     ]
    }
   ],
   "source": [
    "compute_pass_1_by_test(\"no_context_parsed.json\", train_dict, train_tests)"
   ]
  },
  {
   "cell_type": "code",
   "execution_count": null,
   "metadata": {},
   "outputs": [
    {
     "data": {
      "text/plain": [
       "\"{'inputs': ['0'], 'outputs': ['1']}\""
      ]
     },
     "execution_count": 28,
     "metadata": {},
     "output_type": "execute_result"
    }
   ],
   "source": [
    "a = {\n",
    "    \"inputs\": [\"0\"],\n",
    "    \"outputs\": [\"1\"]\n",
    "}\n",
    "\n",
    "str(a, )"
   ]
  },
  {
   "cell_type": "code",
   "execution_count": 17,
   "metadata": {},
   "outputs": [],
   "source": [
    "compute(\"no_context_parsed.json\", [train_dict[2545]], [1, 10, 100])"
   ]
  },
  {
   "cell_type": "code",
   "execution_count": 14,
   "metadata": {},
   "outputs": [
    {
     "data": {
      "text/plain": [
       "{'pass@1': 0.0,\n",
       " 'pass@10': 0.0,\n",
       " 'pass@100': 0.0,\n",
       " 'detail': {'pass@1': {'2545': 0.0},\n",
       "  'pass@10': {'2545': 0.0},\n",
       "  'pass@100': {'2545': 0.0}}}"
      ]
     },
     "execution_count": 14,
     "metadata": {},
     "output_type": "execute_result"
    }
   ],
   "source": [
    "json.load(open(\"taco_metrics.json\"))"
   ]
  },
  {
   "cell_type": "markdown",
   "metadata": {},
   "source": [
    "## Select Context\n",
    "\n",
    "Here we will try to get 4 solutions that are related to the problem above\n"
   ]
  },
  {
   "cell_type": "code",
   "execution_count": 8,
   "metadata": {},
   "outputs": [
    {
     "name": "stdout",
     "output_type": "stream",
     "text": [
      "shape: (1, 2)\n",
      "┌─────┬───────┐\n",
      "│ id  ┆ input │\n",
      "│ --- ┆ ---   │\n",
      "│ u32 ┆ u32   │\n",
      "╞═════╪═══════╡\n",
      "│ 14  ┆ 14    │\n",
      "└─────┴───────┘\n"
     ]
    }
   ],
   "source": [
    "df = train.filter(pl.col(\"tags\") == \"Geometry\").filter(pl.col(\"difficulty\") == \"EASY\").filter(pl.col(\"input\").str.contains(\"class Solution\")).select([\"id\", \"input\"])\n",
    "print(df.count())\n",
    "df.write_csv(\"pool.csv\")"
   ]
  },
  {
   "cell_type": "code",
   "execution_count": 9,
   "metadata": {},
   "outputs": [
    {
     "data": {
      "text/html": [
       "<div><style>\n",
       ".dataframe > thead > tr,\n",
       ".dataframe > tbody > tr {\n",
       "  text-align: right;\n",
       "  white-space: pre-wrap;\n",
       "}\n",
       "</style>\n",
       "<small>shape: (2, 4)</small><table border=\"1\" class=\"dataframe\"><thead><tr><th>id</th><th>difficulty</th><th>tags</th><th>input</th></tr><tr><td>u32</td><td>str</td><td>str</td><td>str</td></tr></thead><tbody><tr><td>1643</td><td>&quot;EASY&quot;</td><td>&quot;Geometry&quot;</td><td>&quot;Given two rectangles, find if …</td></tr><tr><td>1643</td><td>&quot;EASY&quot;</td><td>&quot;Mathematics&quot;</td><td>&quot;Given two rectangles, find if …</td></tr></tbody></table></div>"
      ],
      "text/plain": [
       "shape: (2, 4)\n",
       "┌──────┬────────────┬─────────────┬─────────────────────────────────┐\n",
       "│ id   ┆ difficulty ┆ tags        ┆ input                           │\n",
       "│ ---  ┆ ---        ┆ ---         ┆ ---                             │\n",
       "│ u32  ┆ str        ┆ str         ┆ str                             │\n",
       "╞══════╪════════════╪═════════════╪═════════════════════════════════╡\n",
       "│ 1643 ┆ EASY       ┆ Geometry    ┆ Given two rectangles, find if … │\n",
       "│ 1643 ┆ EASY       ┆ Mathematics ┆ Given two rectangles, find if … │\n",
       "└──────┴────────────┴─────────────┴─────────────────────────────────┘"
      ]
     },
     "execution_count": 9,
     "metadata": {},
     "output_type": "execute_result"
    }
   ],
   "source": [
    "selected_ids = [21825, 10745, 1643, 4661]\n",
    "train.filter(pl.col(\"id\") == 1643)"
   ]
  },
  {
   "cell_type": "code",
   "execution_count": 10,
   "metadata": {},
   "outputs": [
    {
     "data": {
      "text/html": [
       "<div><style>\n",
       ".dataframe > thead > tr,\n",
       ".dataframe > tbody > tr {\n",
       "  text-align: right;\n",
       "  white-space: pre-wrap;\n",
       "}\n",
       "</style>\n",
       "<small>shape: (4,)</small><table border=\"1\" class=\"dataframe\"><thead><tr><th>input</th></tr><tr><td>str</td></tr></thead><tbody><tr><td>&quot;Given the coordinates of the e…</td></tr><tr><td>&quot;Given a circular sheet of radi…</td></tr><tr><td>&quot;Given two rectangles, find if …</td></tr><tr><td>&quot;An axis-aligned rectangle is r…</td></tr></tbody></table></div>"
      ],
      "text/plain": [
       "shape: (4,)\n",
       "Series: 'input' [str]\n",
       "[\n",
       "\t\"Given the coordinates of the e…\n",
       "\t\"Given a circular sheet of radi…\n",
       "\t\"Given two rectangles, find if …\n",
       "\t\"An axis-aligned rectangle is r…\n",
       "]"
      ]
     },
     "execution_count": 10,
     "metadata": {},
     "output_type": "execute_result"
    }
   ],
   "source": [
    "all_inputs  = train.filter(pl.col(\"id\").is_in(selected_ids)).select(\"input\").unique().to_dict()[\"input\"]\n",
    "all_solutions = train_solutions.filter(pl.col(\"id\").is_in(selected_ids)).group_by(pl.col(\"id\")).head(1).select(\"solution\").unique().to_dict()[\"solution\"]\n",
    "question_input = selected_problem.select(\"input\").to_dict()[\"input\"][0]\n",
    "\n",
    "all_inputs"
   ]
  },
  {
   "cell_type": "code",
   "execution_count": 11,
   "metadata": {},
   "outputs": [
    {
     "data": {
      "text/html": [
       "<div><style>\n",
       ".dataframe > thead > tr,\n",
       ".dataframe > tbody > tr {\n",
       "  text-align: right;\n",
       "  white-space: pre-wrap;\n",
       "}\n",
       "</style>\n",
       "<small>shape: (4,)</small><table border=\"1\" class=\"dataframe\"><thead><tr><th>solution</th></tr><tr><td>str</td></tr></thead><tbody><tr><td>&quot;class Solution:\n",
       "\n",
       "\tdef isRectan…</td></tr><tr><td>&quot;class Solution:\n",
       "\n",
       "\tdef rectangl…</td></tr><tr><td>&quot;class Solution:\n",
       "\n",
       "\tdef doInters…</td></tr><tr><td>&quot;class Solution:\n",
       "\n",
       "\tdef doOverla…</td></tr></tbody></table></div>"
      ],
      "text/plain": [
       "shape: (4,)\n",
       "Series: 'solution' [str]\n",
       "[\n",
       "\t\"class Solution:\n",
       "\n",
       "\tdef isRectan…\n",
       "\t\"class Solution:\n",
       "\n",
       "\tdef rectangl…\n",
       "\t\"class Solution:\n",
       "\n",
       "\tdef doInters…\n",
       "\t\"class Solution:\n",
       "\n",
       "\tdef doOverla…\n",
       "]"
      ]
     },
     "execution_count": 11,
     "metadata": {},
     "output_type": "execute_result"
    }
   ],
   "source": [
    "all_solutions"
   ]
  },
  {
   "cell_type": "markdown",
   "metadata": {},
   "source": [
    "## Full Prompt Run"
   ]
  },
  {
   "cell_type": "code",
   "execution_count": 12,
   "metadata": {},
   "outputs": [],
   "source": [
    "context_prompt = \"You will have to answer a programming quesiton in geometry, we will pass before some examples of questions and solutions\\n\"\n",
    "for i in range(4):\n",
    "    context_prompt += f\"EXAMPLE QUESTION {i}:\\n {all_inputs[i]}\\n EXAMPLE SOLUTION {i}:\\n {all_solutions[i]}\\n\"\n",
    "\n",
    "full_prompt = f\"Please write a Python program {context_prompt} \\nQUESTION: \\n{question_input} \\n ANSWER: \\n.\""
   ]
  },
  {
   "cell_type": "code",
   "execution_count": null,
   "metadata": {},
   "outputs": [
    {
     "name": "stderr",
     "output_type": "stream",
     "text": [
      "The `load_in_4bit` and `load_in_8bit` arguments are deprecated and will be removed in the future versions. Please, pass a `BitsAndBytesConfig` object in `quantization_config` argument instead.\n",
      "Loading checkpoint shards: 100%|██████████| 4/4 [00:05<00:00,  1.49s/it]\n"
     ]
    },
    {
     "name": "stdout",
     "output_type": "stream",
     "text": [
      "Lopp 0, 2025-02-27 08:19:55.087679\n"
     ]
    },
    {
     "name": "stderr",
     "output_type": "stream",
     "text": [
      "/home/caio.rhoden/miniconda3/envs/datamodels/lib/python3.11/site-packages/bitsandbytes/autograd/_functions.py:316: UserWarning: MatMul8bitLt: inputs will be cast from torch.bfloat16 to float16 during quantization\n",
      "  warnings.warn(f\"MatMul8bitLt: inputs will be cast from {A.dtype} to float16 during quantization\")\n"
     ]
    },
    {
     "name": "stdout",
     "output_type": "stream",
     "text": [
      "Lopp 1, 2025-02-27 08:43:58.668251\n"
     ]
    }
   ],
   "source": [
    "# run_inference(\n",
    "#     prompt=full_prompt,\n",
    "#     path = \"full_prompt.json\",\n",
    "#     num_returns=20,\n",
    "#     max_length=4096\n",
    "# )"
   ]
  },
  {
   "cell_type": "code",
   "execution_count": 8,
   "metadata": {},
   "outputs": [],
   "source": [
    "parse_generation(json.load(open(\"full_prompt.json\")), 10237 , \"full_prompt_parsed.json\")"
   ]
  },
  {
   "cell_type": "code",
   "execution_count": 9,
   "metadata": {},
   "outputs": [],
   "source": [
    "compute(\"full_prompt_parsed.json\", [train_dict[10237]], [1, 10, 100])"
   ]
  },
  {
   "cell_type": "code",
   "execution_count": 10,
   "metadata": {},
   "outputs": [
    {
     "data": {
      "text/plain": [
       "{'pass@1': 0.0,\n",
       " 'pass@10': 0.0,\n",
       " 'detail': {'pass@1': {'10237': 0.0}, 'pass@10': {'10237': 0.0}}}"
      ]
     },
     "execution_count": 10,
     "metadata": {},
     "output_type": "execute_result"
    }
   ],
   "source": [
    "json.load(open(\"full_prompt_metrics.json\"))"
   ]
  },
  {
   "cell_type": "markdown",
   "metadata": {},
   "source": [
    "## Only Solutions Run"
   ]
  },
  {
   "cell_type": "code",
   "execution_count": null,
   "metadata": {},
   "outputs": [],
   "source": [
    "context_prompt = \"You will have to answer a programming quesiton in geometry, we will pass before some examples of solutions for similar problems\\n\"\n",
    "for i in range(4):\n",
    "    context_prompt += f\" EXAMPLE SOLUTION {i}:\\n {all_solutions[i]}\\n\"\n",
    "\n",
    "solutions_prompt = f\"Please write a Python program {context_prompt} \\nQUESTION: \\n{question_input} \\n ANSWER: \\n.\""
   ]
  },
  {
   "cell_type": "code",
   "execution_count": null,
   "metadata": {},
   "outputs": [],
   "source": [
    "# run_inference(\n",
    "#     prompt=solutions_prompt,\n",
    "#     path = \"solutions_prompt.json\",\n",
    "#     num_returns=20,\n",
    "#     max_length=4096\n",
    "# )"
   ]
  },
  {
   "cell_type": "code",
   "execution_count": 11,
   "metadata": {},
   "outputs": [],
   "source": [
    "parse_generation(json.load(open(\"solutions_prompt.json\")), 10237 , \"solutions_parsed.json\")"
   ]
  },
  {
   "cell_type": "code",
   "execution_count": 12,
   "metadata": {},
   "outputs": [],
   "source": [
    "compute(\"solutions_parsed.json\", [train_dict[10237]], [1, 10])"
   ]
  },
  {
   "cell_type": "code",
   "execution_count": 13,
   "metadata": {},
   "outputs": [
    {
     "data": {
      "text/plain": [
       "{'pass@1': 0.0,\n",
       " 'pass@10': 0.0,\n",
       " 'detail': {'pass@1': {'10237': 0.0}, 'pass@10': {'10237': 0.0}}}"
      ]
     },
     "execution_count": 13,
     "metadata": {},
     "output_type": "execute_result"
    }
   ],
   "source": [
    "json.load(open(\"solutions_prompt_metrics.json\"))"
   ]
  }
 ],
 "metadata": {
  "kernelspec": {
   "display_name": "datamodels",
   "language": "python",
   "name": "python3"
  },
  "language_info": {
   "codemirror_mode": {
    "name": "ipython",
    "version": 3
   },
   "file_extension": ".py",
   "mimetype": "text/x-python",
   "name": "python",
   "nbconvert_exporter": "python",
   "pygments_lexer": "ipython3",
   "version": "3.11.10"
  }
 },
 "nbformat": 4,
 "nbformat_minor": 2
}
