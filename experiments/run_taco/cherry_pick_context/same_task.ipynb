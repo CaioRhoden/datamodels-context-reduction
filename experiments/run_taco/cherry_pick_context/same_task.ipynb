{
 "cells": [
  {
   "cell_type": "markdown",
   "metadata": {},
   "source": [
    "# TACO Experiment: Cherry-picked context to one specific task\n",
    "\n",
    "The goal here is to evaluate how the model will behave when passing the Solutions from an analog problem that were manually analyzed and selected  \n",
    "In this specific scenario we want to test it with a very specific group of tasks from the TACO benchmark"
   ]
  },
  {
   "cell_type": "code",
   "execution_count": 2,
   "metadata": {},
   "outputs": [
    {
     "name": "stderr",
     "output_type": "stream",
     "text": [
      "/home/caio.rhoden/miniconda3/envs/datamodels/lib/python3.11/site-packages/tqdm/auto.py:21: TqdmWarning: IProgress not found. Please update jupyter and ipywidgets. See https://ipywidgets.readthedocs.io/en/stable/user_install.html\n",
      "  from .autonotebook import tqdm as notebook_tqdm\n"
     ]
    },
    {
     "name": "stdout",
     "output_type": "stream",
     "text": [
      "Number of GPUs available: 1\n",
      "GPU 0: NVIDIA RTX A5000\n"
     ]
    }
   ],
   "source": [
    "import os\n",
    "os.environ[\"CUDA_VISIBLE_DEVICES\"] = \"0\"\n",
    "\n",
    "import polars as pl\n",
    "import torch\n",
    "import numpy as np\n",
    "import json\n",
    "import re\n",
    "## LLM\n",
    "from src.llms import Llama3_1_Instruct\n",
    "from src.taco_evaluator import compute, compute_1_pass_by_test\n",
    "from datasets import load_from_disk\n",
    "import datetime\n",
    "\n",
    "seed = 42\n",
    "# NumPy\n",
    "np.random.seed(seed)\n",
    "\n",
    "# PyTorch\n",
    "torch.manual_seed(seed)\n",
    "if torch.cuda.is_available():\n",
    "    torch.cuda.manual_seed(seed)\n",
    "    torch.cuda.manual_seed_all(seed)\n",
    "    torch.backends.cudnn.deterministic = True\n",
    "    torch.backends.cudnn.benchmark = False\n",
    "\n",
    "\n",
    "if torch.cuda.is_available():\n",
    "    print(f\"Number of GPUs available: {torch.cuda.device_count()}\")\n",
    "    for i in range(torch.cuda.device_count()):\n",
    "        print(f\"GPU {i}: {torch.cuda.get_device_name(i)}\")\n",
    "\n",
    "device = torch.device(\"cuda:0\" if torch.cuda.is_available() else \"cpu\")"
   ]
  },
  {
   "cell_type": "markdown",
   "metadata": {},
   "source": [
    "## Load Datasets"
   ]
  },
  {
   "cell_type": "code",
   "execution_count": 3,
   "metadata": {},
   "outputs": [],
   "source": [
    "PATH  = \"../../../data/TACO/processed\"\n",
    "train = pl.read_ipc(f\"{PATH}/train.feather\")\n",
    "train_solutions = pl.read_ipc(f\"{PATH}/train_solutions.feather\")\n",
    "train_dict = load_from_disk(\"../../../data/TACO/train.hf\")"
   ]
  },
  {
   "cell_type": "code",
   "execution_count": 4,
   "metadata": {},
   "outputs": [],
   "source": [
    "def run_inference(prompt_input: str, path: str):\n",
    "    outputs = []\n",
    "    llm = Llama3_1_Instruct()\n",
    "    config = {\n",
    "                \"temperature\": 0.7,\n",
    "                \"max_length\": 2048,\n",
    "                \"top_p\": 0.95,\n",
    "                \"num_return_sequences\": 20\n",
    "    }\n",
    "\n",
    "        output = llm.run(prompt=prompt, input=\"\", config_params=config)\n",
    "\n",
    "        for res in output:\n",
    "            outputs.append(res)\n",
    "        \n",
    "    json.dump(outputs, open(path, \"w\"))"
   ]
  },
  {
   "cell_type": "code",
   "execution_count": 5,
   "metadata": {},
   "outputs": [],
   "source": [
    "def parse_generation(generations: list, id: int, path: str):\n",
    "    \n",
    "    gens = []\n",
    "    for i in range(len(generations)):\n",
    "\n",
    "        code_blocks = re.findall(r'```python(.*?)```', generations[i][\"generated_text\"], re.DOTALL)\n",
    "        extracted_code = \"\\n\".join([block.strip() for block in code_blocks])\n",
    "        gens.append(extracted_code)\n",
    "    \n",
    "    results = [{\n",
    "        \"task_id\": int(id),\n",
    "        \"output\": gens\n",
    "    }]\n",
    "\n",
    "    json.dump(results, open(path, \"w\"))\n",
    "        "
   ]
  },
  {
   "cell_type": "markdown",
   "metadata": {},
   "source": [
    "## Problem Selection\n",
    "\n",
    "The category choosen it was \"Geometry\" in EASY difficulty  \n",
    "The criteria behind the choice is because there isn't a lot of examples of geometry, which facilitates to find samples specific from that scope.  \n",
    "The EASY difficulty is for validation purposes"
   ]
  },
  {
   "cell_type": "code",
   "execution_count": 6,
   "metadata": {},
   "outputs": [],
   "source": [
    "# train.filter(pl.col(\"tags\") == \"Geometry\").filter(pl.col(\"difficulty\") == \"EASY\").count()"
   ]
  },
  {
   "cell_type": "code",
   "execution_count": 7,
   "metadata": {},
   "outputs": [],
   "source": [
    "# selected_problem = train.filter(pl.col(\"tags\") == \"Geometry\").filter(pl.col(\"difficulty\") == \"EASY\").sample(1)\n",
    "# print(selected_problem)\n",
    "## ID = 14186 \n",
    "\n",
    "selected_problem = train.filter(pl.col(\"tags\") == \"Geometry\").filter(pl.col(\"difficulty\") == \"EASY\").filter(pl.col(\"id\") == 10237)\n",
    "# print(selected_problem)"
   ]
  },
  {
   "cell_type": "code",
   "execution_count": 8,
   "metadata": {},
   "outputs": [],
   "source": [
    "# train_solutions.filter(pl.col(\"id\") == 10237).to_struct()"
   ]
  },
  {
   "cell_type": "code",
   "execution_count": 9,
   "metadata": {},
   "outputs": [],
   "source": [
    "# print(selected_problem.select(\"input\").to_dict()[\"input\"][0])"
   ]
  },
  {
   "cell_type": "markdown",
   "metadata": {},
   "source": [
    "## Run Baseline - No Context"
   ]
  },
  {
   "cell_type": "code",
   "execution_count": 22,
   "metadata": {},
   "outputs": [],
   "source": [
    "# prompt_input = selected_problem.select(\"input\").to_struct().to_pandas().iloc[0][\"input\"]\n",
    "# prompt = f\"Please write a Python program \\nQUESTION: \\n{prompt_input} \\n ANSWER: \\n.\"\n",
    "# run_inference(prompt_input, \"no_context.json\", num_returns=200)"
   ]
  },
  {
   "cell_type": "code",
   "execution_count": 23,
   "metadata": {},
   "outputs": [],
   "source": [
    "parse_generation(json.load(open(\"no_context.json\")), 10237 , \"no_context_parsed.json\")"
   ]
  },
  {
   "cell_type": "code",
   "execution_count": 24,
   "metadata": {},
   "outputs": [
    {
     "name": "stderr",
     "output_type": "stream",
     "text": [
      "Traceback (most recent call last):\n",
      "  File \"/tmp/tmpmkya6ewr\", line 19, in <module>\n",
      "    (x1 + x2) / 2, (y1 + y2) / 2\n",
      "     ^^\n",
      "NameError: name 'x1' is not defined\n",
      "Traceback (most recent call last):\n",
      "  File \"/tmp/tmpmkya6ewr\", line 19, in <module>\n",
      "    (x1 + x2) / 2, (y1 + y2) / 2\n",
      "     ^^\n",
      "NameError: name 'x1' is not defined\n",
      "Traceback (most recent call last):\n",
      "  File \"/tmp/tmp7mhpzgoc\", line 41, in <module>\n",
      "    code()\n",
      "  File \"/tmp/tmp7mhpzgoc\", line 20, in code\n",
      "    (x1 + x2) / 2, (y1 + y2) / 2\n",
      "     ^^\n",
      "NameError: name 'x1' is not defined\n",
      "Traceback (most recent call last):\n",
      "  File \"/tmp/tmp7mhpzgoc\", line 41, in <module>\n",
      "    code()\n",
      "  File \"/tmp/tmp7mhpzgoc\", line 20, in code\n",
      "    (x1 + x2) / 2, (y1 + y2) / 2\n",
      "     ^^\n",
      "NameError: name 'x1' is not defined\n",
      "Traceback (most recent call last):\n",
      "  File \"/tmp/tmp9eyc4hft\", line 33, in <module>\n",
      "    print(solution.findCornerPoints(2, [[1,0],[1,2]]))  # Output: [(0, 0), (0, 2), (2, 0), (2, 2)]\n",
      "          ^^^^^^^^^^^^^^^^^^^^^^^^^^^^^^^^^^^^^^^^^^^\n",
      "  File \"/tmp/tmp9eyc4hft\", line 31, in findCornerPoints\n",
      "    return [tuple(int(round(i))) for i in sorted([A, B, C, D])]\n",
      "           ^^^^^^^^^^^^^^^^^^^^^^^^^^^^^^^^^^^^^^^^^^^^^^^^^^^^\n",
      "  File \"/tmp/tmp9eyc4hft\", line 31, in <listcomp>\n",
      "    return [tuple(int(round(i))) for i in sorted([A, B, C, D])]\n",
      "                      ^^^^^^^^\n",
      "TypeError: type tuple doesn't define __round__ method\n",
      "Traceback (most recent call last):\n",
      "  File \"/tmp/tmp9eyc4hft\", line 33, in <module>\n",
      "    print(solution.findCornerPoints(2, [[1,0],[1,2]]))  # Output: [(0, 0), (0, 2), (2, 0), (2, 2)]\n",
      "          ^^^^^^^^^^^^^^^^^^^^^^^^^^^^^^^^^^^^^^^^^^^\n",
      "  File \"/tmp/tmp9eyc4hft\", line 31, in findCornerPoints\n",
      "    return [tuple(int(round(i))) for i in sorted([A, B, C, D])]\n",
      "           ^^^^^^^^^^^^^^^^^^^^^^^^^^^^^^^^^^^^^^^^^^^^^^^^^^^^\n",
      "  File \"/tmp/tmp9eyc4hft\", line 31, in <listcomp>\n",
      "    return [tuple(int(round(i))) for i in sorted([A, B, C, D])]\n",
      "                      ^^^^^^^^\n",
      "TypeError: type tuple doesn't define __round__ method\n",
      "Traceback (most recent call last):\n",
      "  File \"/tmp/tmpwvzqvwxj\", line 37, in <module>\n",
      "    code()\n",
      "  File \"/tmp/tmpwvzqvwxj\", line 34, in code\n",
      "    print(solution.findCornerPoints(2, [[1,0],[1,2]]))  # Output: [(0, 0), (0, 2), (2, 0), (2, 2)]\n",
      "          ^^^^^^^^^^^^^^^^^^^^^^^^^^^^^^^^^^^^^^^^^^^\n",
      "  File \"/tmp/tmpwvzqvwxj\", line 32, in findCornerPoints\n",
      "    return [tuple(int(round(i))) for i in sorted([A, B, C, D])]\n",
      "           ^^^^^^^^^^^^^^^^^^^^^^^^^^^^^^^^^^^^^^^^^^^^^^^^^^^^\n",
      "  File \"/tmp/tmpwvzqvwxj\", line 32, in <listcomp>\n",
      "    return [tuple(int(round(i))) for i in sorted([A, B, C, D])]\n",
      "                      ^^^^^^^^\n",
      "TypeError: type tuple doesn't define __round__ method\n",
      "Traceback (most recent call last):\n",
      "  File \"/tmp/tmpwvzqvwxj\", line 37, in <module>\n",
      "    code()\n",
      "  File \"/tmp/tmpwvzqvwxj\", line 34, in code\n",
      "    print(solution.findCornerPoints(2, [[1,0],[1,2]]))  # Output: [(0, 0), (0, 2), (2, 0), (2, 2)]\n",
      "          ^^^^^^^^^^^^^^^^^^^^^^^^^^^^^^^^^^^^^^^^^^^\n",
      "  File \"/tmp/tmpwvzqvwxj\", line 32, in findCornerPoints\n",
      "    return [tuple(int(round(i))) for i in sorted([A, B, C, D])]\n",
      "           ^^^^^^^^^^^^^^^^^^^^^^^^^^^^^^^^^^^^^^^^^^^^^^^^^^^^\n",
      "  File \"/tmp/tmpwvzqvwxj\", line 32, in <listcomp>\n",
      "    return [tuple(int(round(i))) for i in sorted([A, B, C, D])]\n",
      "                      ^^^^^^^^\n",
      "TypeError: type tuple doesn't define __round__ method\n",
      "Traceback (most recent call last):\n",
      "  File \"/tmp/tmpawdu_3d6\", line 19, in <module>\n",
      "    (x1 + x2) / 2, (y1 + y2) / 2\n",
      "     ^^\n",
      "NameError: name 'x1' is not defined\n",
      "Traceback (most recent call last):\n",
      "  File \"/tmp/tmpawdu_3d6\", line 19, in <module>\n",
      "    (x1 + x2) / 2, (y1 + y2) / 2\n",
      "     ^^\n",
      "NameError: name 'x1' is not defined\n",
      "Traceback (most recent call last):\n",
      "  File \"/tmp/tmp602f_3ii\", line 42, in <module>\n",
      "    code()\n",
      "  File \"/tmp/tmp602f_3ii\", line 20, in code\n",
      "    (x1 + x2) / 2, (y1 + y2) / 2\n",
      "     ^^\n",
      "NameError: name 'x1' is not defined\n",
      "Traceback (most recent call last):\n",
      "  File \"/tmp/tmp602f_3ii\", line 42, in <module>\n",
      "    code()\n",
      "  File \"/tmp/tmp602f_3ii\", line 20, in code\n",
      "    (x1 + x2) / 2, (y1 + y2) / 2\n",
      "     ^^\n",
      "NameError: name 'x1' is not defined\n"
     ]
    }
   ],
   "source": [
    "compute(\"no_context_parsed.json\", [train_dict[10237]], [1, 10, 100])"
   ]
  },
  {
   "cell_type": "code",
   "execution_count": 25,
   "metadata": {},
   "outputs": [
    {
     "data": {
      "text/plain": [
       "{'pass@1': 0.0,\n",
       " 'pass@10': 0.0,\n",
       " 'pass@100': 0.0,\n",
       " 'detail': {'pass@1': {'10237': 0.0},\n",
       "  'pass@10': {'10237': 0.0},\n",
       "  'pass@100': {'10237': 0.0}}}"
      ]
     },
     "execution_count": 4,
     "metadata": {},
     "output_type": "execute_result"
    }
   ],
   "source": [
    "json.load(open(\"taco_metrics.json\"))"
   ]
  },
  {
   "cell_type": "code",
   "execution_count": 5,
   "metadata": {},
   "outputs": [
    {
     "name": "stderr",
     "output_type": "stream",
     "text": [
      "Traceback (most recent call last):\n",
      "  File \"/tmp/tmpnah91e21\", line 19, in <module>\n",
      "    (x1 + x2) / 2, (y1 + y2) / 2\n",
      "     ^^\n",
      "NameError: name 'x1' is not defined\n",
      "Traceback (most recent call last):\n",
      "  File \"/tmp/tmpnah91e21\", line 19, in <module>\n",
      "    (x1 + x2) / 2, (y1 + y2) / 2\n",
      "     ^^\n",
      "NameError: name 'x1' is not defined\n",
      "Traceback (most recent call last):\n",
      "  File \"/tmp/tmps9tq4tol\", line 41, in <module>\n",
      "    code()\n",
      "  File \"/tmp/tmps9tq4tol\", line 20, in code\n",
      "    (x1 + x2) / 2, (y1 + y2) / 2\n",
      "     ^^\n",
      "NameError: name 'x1' is not defined\n",
      "Traceback (most recent call last):\n",
      "  File \"/tmp/tmps9tq4tol\", line 41, in <module>\n",
      "    code()\n",
      "  File \"/tmp/tmps9tq4tol\", line 20, in code\n",
      "    (x1 + x2) / 2, (y1 + y2) / 2\n",
      "     ^^\n",
      "NameError: name 'x1' is not defined\n",
      "Traceback (most recent call last):\n",
      "  File \"/tmp/tmptv9m6xo5\", line 33, in <module>\n",
      "    print(solution.findCornerPoints(2, [[1,0],[1,2]]))  # Output: [(0, 0), (0, 2), (2, 0), (2, 2)]\n",
      "          ^^^^^^^^^^^^^^^^^^^^^^^^^^^^^^^^^^^^^^^^^^^\n",
      "  File \"/tmp/tmptv9m6xo5\", line 31, in findCornerPoints\n",
      "    return [tuple(int(round(i))) for i in sorted([A, B, C, D])]\n",
      "           ^^^^^^^^^^^^^^^^^^^^^^^^^^^^^^^^^^^^^^^^^^^^^^^^^^^^\n",
      "  File \"/tmp/tmptv9m6xo5\", line 31, in <listcomp>\n",
      "    return [tuple(int(round(i))) for i in sorted([A, B, C, D])]\n",
      "                      ^^^^^^^^\n",
      "TypeError: type tuple doesn't define __round__ method\n",
      "Traceback (most recent call last):\n",
      "  File \"/tmp/tmptv9m6xo5\", line 33, in <module>\n",
      "    print(solution.findCornerPoints(2, [[1,0],[1,2]]))  # Output: [(0, 0), (0, 2), (2, 0), (2, 2)]\n",
      "          ^^^^^^^^^^^^^^^^^^^^^^^^^^^^^^^^^^^^^^^^^^^\n",
      "  File \"/tmp/tmptv9m6xo5\", line 31, in findCornerPoints\n",
      "    return [tuple(int(round(i))) for i in sorted([A, B, C, D])]\n",
      "           ^^^^^^^^^^^^^^^^^^^^^^^^^^^^^^^^^^^^^^^^^^^^^^^^^^^^\n",
      "  File \"/tmp/tmptv9m6xo5\", line 31, in <listcomp>\n",
      "    return [tuple(int(round(i))) for i in sorted([A, B, C, D])]\n",
      "                      ^^^^^^^^\n",
      "TypeError: type tuple doesn't define __round__ method\n",
      "Traceback (most recent call last):\n",
      "  File \"/tmp/tmp9kvv2y1q\", line 37, in <module>\n",
      "    code()\n",
      "  File \"/tmp/tmp9kvv2y1q\", line 34, in code\n",
      "    print(solution.findCornerPoints(2, [[1,0],[1,2]]))  # Output: [(0, 0), (0, 2), (2, 0), (2, 2)]\n",
      "          ^^^^^^^^^^^^^^^^^^^^^^^^^^^^^^^^^^^^^^^^^^^\n",
      "  File \"/tmp/tmp9kvv2y1q\", line 32, in findCornerPoints\n",
      "    return [tuple(int(round(i))) for i in sorted([A, B, C, D])]\n",
      "           ^^^^^^^^^^^^^^^^^^^^^^^^^^^^^^^^^^^^^^^^^^^^^^^^^^^^\n",
      "  File \"/tmp/tmp9kvv2y1q\", line 32, in <listcomp>\n",
      "    return [tuple(int(round(i))) for i in sorted([A, B, C, D])]\n",
      "                      ^^^^^^^^\n",
      "TypeError: type tuple doesn't define __round__ method\n",
      "Traceback (most recent call last):\n",
      "  File \"/tmp/tmp9kvv2y1q\", line 37, in <module>\n",
      "    code()\n",
      "  File \"/tmp/tmp9kvv2y1q\", line 34, in code\n",
      "    print(solution.findCornerPoints(2, [[1,0],[1,2]]))  # Output: [(0, 0), (0, 2), (2, 0), (2, 2)]\n",
      "          ^^^^^^^^^^^^^^^^^^^^^^^^^^^^^^^^^^^^^^^^^^^\n",
      "  File \"/tmp/tmp9kvv2y1q\", line 32, in findCornerPoints\n",
      "    return [tuple(int(round(i))) for i in sorted([A, B, C, D])]\n",
      "           ^^^^^^^^^^^^^^^^^^^^^^^^^^^^^^^^^^^^^^^^^^^^^^^^^^^^\n",
      "  File \"/tmp/tmp9kvv2y1q\", line 32, in <listcomp>\n",
      "    return [tuple(int(round(i))) for i in sorted([A, B, C, D])]\n",
      "                      ^^^^^^^^\n",
      "TypeError: type tuple doesn't define __round__ method\n",
      "Traceback (most recent call last):\n",
      "  File \"/tmp/tmpcezia7we\", line 19, in <module>\n",
      "    (x1 + x2) / 2, (y1 + y2) / 2\n",
      "     ^^\n",
      "NameError: name 'x1' is not defined\n",
      "Traceback (most recent call last):\n",
      "  File \"/tmp/tmpcezia7we\", line 19, in <module>\n",
      "    (x1 + x2) / 2, (y1 + y2) / 2\n",
      "     ^^\n",
      "NameError: name 'x1' is not defined\n",
      "Traceback (most recent call last):\n",
      "  File \"/tmp/tmpqbek32hb\", line 42, in <module>\n",
      "    code()\n",
      "  File \"/tmp/tmpqbek32hb\", line 20, in code\n",
      "    (x1 + x2) / 2, (y1 + y2) / 2\n",
      "     ^^\n",
      "NameError: name 'x1' is not defined\n",
      "Traceback (most recent call last):\n",
      "  File \"/tmp/tmpqbek32hb\", line 42, in <module>\n",
      "    code()\n",
      "  File \"/tmp/tmpqbek32hb\", line 20, in code\n",
      "    (x1 + x2) / 2, (y1 + y2) / 2\n",
      "     ^^\n",
      "NameError: name 'x1' is not defined\n"
     ]
    },
    {
     "name": "stdout",
     "output_type": "stream",
     "text": [
      "tensor([[False, False],\n",
      "        [False, False],\n",
      "        [False, False],\n",
      "        [False, False],\n",
      "        [False, False],\n",
      "        [False, False],\n",
      "        [False, False],\n",
      "        [False, False],\n",
      "        [False, False],\n",
      "        [False, False],\n",
      "        [False, False],\n",
      "        [False, False],\n",
      "        [False, False],\n",
      "        [False, False],\n",
      "        [ True, False],\n",
      "        [False, False],\n",
      "        [False, False],\n",
      "        [False, False],\n",
      "        [False, False],\n",
      "        [False, False],\n",
      "        [False, False],\n",
      "        [False, False],\n",
      "        [False, False],\n",
      "        [False, False],\n",
      "        [False, False],\n",
      "        [False, False],\n",
      "        [False, False],\n",
      "        [False, False],\n",
      "        [False, False],\n",
      "        [False, False],\n",
      "        [False, False],\n",
      "        [False, False],\n",
      "        [False, False],\n",
      "        [False, False],\n",
      "        [False, False],\n",
      "        [False, False],\n",
      "        [False, False],\n",
      "        [ True, False],\n",
      "        [False, False],\n",
      "        [False, False],\n",
      "        [False, False],\n",
      "        [False, False],\n",
      "        [False, False],\n",
      "        [ True, False],\n",
      "        [False, False],\n",
      "        [False, False],\n",
      "        [False, False],\n",
      "        [False, False],\n",
      "        [False, False],\n",
      "        [False, False],\n",
      "        [False, False],\n",
      "        [False, False],\n",
      "        [False, False],\n",
      "        [False, False],\n",
      "        [False, False],\n",
      "        [False, False],\n",
      "        [False, False],\n",
      "        [False, False],\n",
      "        [False, False],\n",
      "        [False, False],\n",
      "        [False, False],\n",
      "        [False, False],\n",
      "        [False, False],\n",
      "        [False, False],\n",
      "        [False, False],\n",
      "        [False, False],\n",
      "        [False, False],\n",
      "        [False, False],\n",
      "        [False, False],\n",
      "        [False, False],\n",
      "        [False, False],\n",
      "        [False, False],\n",
      "        [False, False],\n",
      "        [ True, False],\n",
      "        [False, False],\n",
      "        [False, False],\n",
      "        [False, False],\n",
      "        [False, False],\n",
      "        [False, False],\n",
      "        [False, False],\n",
      "        [False, False],\n",
      "        [False, False],\n",
      "        [False, False],\n",
      "        [False, False],\n",
      "        [False, False],\n",
      "        [False, False],\n",
      "        [False, False],\n",
      "        [False, False],\n",
      "        [False, False],\n",
      "        [False, False],\n",
      "        [False, False],\n",
      "        [False, False],\n",
      "        [False, False],\n",
      "        [False, False],\n",
      "        [False, False],\n",
      "        [False, False],\n",
      "        [False, False],\n",
      "        [False, False],\n",
      "        [False, False],\n",
      "        [False, False],\n",
      "        [False, False],\n",
      "        [False, False],\n",
      "        [False, False],\n",
      "        [False, False],\n",
      "        [False, False],\n",
      "        [False, False],\n",
      "        [ True, False],\n",
      "        [False, False],\n",
      "        [False, False],\n",
      "        [False, False],\n",
      "        [False, False],\n",
      "        [False, False],\n",
      "        [False, False],\n",
      "        [False, False],\n",
      "        [False, False],\n",
      "        [False, False],\n",
      "        [False, False],\n",
      "        [False, False],\n",
      "        [False, False],\n",
      "        [False, False],\n",
      "        [False, False],\n",
      "        [False, False],\n",
      "        [False, False],\n",
      "        [ True, False],\n",
      "        [False, False],\n",
      "        [False, False],\n",
      "        [ True, False],\n",
      "        [False, False],\n",
      "        [False, False],\n",
      "        [False, False],\n",
      "        [False, False],\n",
      "        [False, False],\n",
      "        [False, False],\n",
      "        [False, False],\n",
      "        [False, False],\n",
      "        [False, False],\n",
      "        [False, False],\n",
      "        [False, False],\n",
      "        [False, False],\n",
      "        [False, False],\n",
      "        [False, False],\n",
      "        [False, False],\n",
      "        [False, False],\n",
      "        [False, False],\n",
      "        [False, False],\n",
      "        [False, False],\n",
      "        [False, False],\n",
      "        [False, False],\n",
      "        [False, False],\n",
      "        [False, False],\n",
      "        [False, False],\n",
      "        [False, False],\n",
      "        [False, False],\n",
      "        [False, False],\n",
      "        [False, False],\n",
      "        [False, False],\n",
      "        [False, False],\n",
      "        [False, False],\n",
      "        [False, False],\n",
      "        [False, False],\n",
      "        [False, False],\n",
      "        [False, False],\n",
      "        [False, False],\n",
      "        [ True,  True],\n",
      "        [False, False],\n",
      "        [False, False],\n",
      "        [False, False],\n",
      "        [False, False],\n",
      "        [False, False],\n",
      "        [False, False],\n",
      "        [False, False],\n",
      "        [False, False],\n",
      "        [ True,  True],\n",
      "        [False, False],\n",
      "        [False, False],\n",
      "        [False, False],\n",
      "        [False, False],\n",
      "        [False, False],\n",
      "        [False, False],\n",
      "        [False, False],\n",
      "        [False, False],\n",
      "        [False, False],\n",
      "        [False, False],\n",
      "        [False, False],\n",
      "        [False, False],\n",
      "        [False, False],\n",
      "        [False, False],\n",
      "        [False, False],\n",
      "        [False, False],\n",
      "        [False, False],\n",
      "        [False, False],\n",
      "        [False, False],\n",
      "        [False, False],\n",
      "        [False, False],\n",
      "        [False, False],\n",
      "        [False, False],\n",
      "        [False, False],\n",
      "        [False, False],\n",
      "        [ True,  True],\n",
      "        [False, False]], device='cuda:0')\n"
     ]
    },
    {
     "data": {
      "text/plain": [
       "{10237: [10, 3]}"
      ]
     },
     "execution_count": 26,
     "metadata": {},
     "output_type": "execute_result"
    }
   ],
   "source": [
    "selected_problem = train.filter(pl.col(\"tags\") == \"Geometry\").filter(pl.col(\"difficulty\") == \"EASY\").sample(1)\n",
    "print(selected_problem)\n",
    "## ID = 14186 "
   ]
  },
  {
   "cell_type": "code",
   "execution_count": 6,
   "metadata": {},
   "outputs": [
    {
     "name": "stdout",
     "output_type": "stream",
     "text": [
      "shape: (1,)\n",
      "Series: '' [struct[1]]\n",
      "[\n",
      "\t{\"Consider a rectangle ABCD. Given the co-ordinates of the mid points of side AD and BC (p and q respectively) along with their length L (AD = BC = L). Find the co-ordinates of the 4 points A, B, C and D.\n",
      "Example 1:\n",
      "Input: L = 2, points = {{1,0},{1,2}}\n",
      "Output: {{0,0},{0,2},{2,0},{2,2}}\n",
      "Explanation: \n",
      "Example 2:\n",
      "Input: L = 2.8284, points: {{1,1}, {-1,-1}}\n",
      "Output: {{-2,0},{0,-2},{0,2},{2,0}}\n",
      "Explanation: \n",
      "Your Task:\n",
      "You don't need to read or print anything. Your task is to compelete the function findCornerPoints() which takes a vector of two points (p and q), and length l as input parameters and returns a vector containing the floor value of the corner points of the rectangle in sorted order.\n",
      " \n",
      "Expected Time Complexity: O(1)\n",
      "Expected Space Complexity: O(1)\n",
      " \n",
      "Constraints:\n",
      "1 <= L <= 10^{5}\n",
      "1 <= p, q <= L\n",
      "#User function Template for python3\n",
      "\n",
      "\n",
      "\n",
      "class Solution:\n",
      "\n",
      "\tdef findCornerPoints(self, L, points):\n",
      "\n",
      "\t\t#Code here\"}\n",
      "]\n"
     ]
    }
   ],
   "source": [
    "print(selected_problem.select(\"input\").to_struct())"
   ]
  },
  {
   "cell_type": "code",
   "execution_count": 32,
   "metadata": {},
   "outputs": [],
   "source": [
    "parse_generation(json.load(open(\"full_prompt.json\")), 10237 , \"full_prompt_parsed.json\")"
   ]
  },
  {
   "cell_type": "code",
   "execution_count": 25,
   "metadata": {},
   "outputs": [
    {
     "name": "stderr",
     "output_type": "stream",
     "text": [
      "Loading checkpoint shards: 100%|██████████| 4/4 [00:04<00:00,  1.07s/it]\n"
     ]
    }
   ],
   "source": [
    "run_inference(selected_problem.select(\"input\").to_struct().to_pandas().iloc[0][\"input\"], \"no_context.json\")"
   ]
  },
  {
   "cell_type": "code",
   "execution_count": 27,
   "metadata": {},
   "outputs": [],
   "source": [
    "parse_generation(json.load(open(\"no_context.json\")), 10237 , \"no_context_parsed.json\")"
   ]
  },
  {
   "cell_type": "code",
   "execution_count": 36,
   "metadata": {},
   "outputs": [
    {
     "data": {
      "text/plain": [
       "{'question': \"Consider a rectangle ABCD. Given the co-ordinates of the mid points of side AD and BC (p and q respectively) along with their length L (AD = BC = L). Find the co-ordinates of the 4 points A, B, C and D.\\nExample 1:\\nInput: L = 2, points = {{1,0},{1,2}}\\nOutput: {{0,0},{0,2},{2,0},{2,2}}\\nExplanation: \\nExample 2:\\nInput: L = 2.8284, points: {{1,1}, {-1,-1}}\\nOutput: {{-2,0},{0,-2},{0,2},{2,0}}\\nExplanation: \\nYour Task:\\nYou don't need to read or print anything. Your task is to compelete the function findCornerPoints() which takes a vector of two points (p and q), and length l as input parameters and returns a vector containing the floor value of the corner points of the rectangle in sorted order.\\n \\nExpected Time Complexity: O(1)\\nExpected Space Complexity: O(1)\\n \\nConstraints:\\n1 <= L <= 10^{5}\\n1 <= p, q <= L\",\n",
       " 'solutions': '[\"class Solution:\\\\n\\\\n\\\\tdef findCornerPoints(self, L, points):\\\\n\\\\t\\\\timport math\\\\n\\\\t\\\\ty = points[1][0] - points[0][0]\\\\n\\\\t\\\\tx = -(points[1][1] - points[0][1])\\\\n\\\\t\\\\tk = math.sqrt(x ** 2 + y ** 2)\\\\n\\\\t\\\\tx = L / 2.0 * x / k\\\\n\\\\t\\\\ty = L / 2.0 * y / k\\\\n\\\\t\\\\tresult = []\\\\n\\\\t\\\\tresult.append([math.floor(points[0][0] - x), math.floor(points[0][1] - y)])\\\\n\\\\t\\\\tresult.append([math.floor(points[1][0] - x), math.floor(points[1][1] - y)])\\\\n\\\\t\\\\tresult.append([math.floor(points[0][0] + x), math.floor(points[0][1] + y)])\\\\n\\\\t\\\\tresult.append([math.floor(points[1][0] + x), math.floor(points[1][1] + y)])\\\\n\\\\t\\\\tresult = sorted(result)\\\\n\\\\t\\\\treturn result\\\\n\"]',\n",
       " 'starter_code': '#User function Template for python3\\n\\n\\n\\nclass Solution:\\n\\n\\tdef findCornerPoints(self, L, points):\\n\\n\\t\\t#Code here',\n",
       " 'input_output': '{\"inputs\": [\"L = 2, points = {{1,0},{1,2}}\", \"L = 2.8284, points:{{1,1}, {-1,-1}}\"], \"outputs\": [\"{{0,0},{0,2},{2,0},{2,2}}\", \"{{-2,0},{0,-2},{0,2},{2,0}}\"]}',\n",
       " 'difficulty': 'EASY',\n",
       " 'raw_tags': \"['Geometric']\",\n",
       " 'name': None,\n",
       " 'source': 'geeksforgeeks',\n",
       " 'tags': \"['Geometry']\",\n",
       " 'skill_types': '[]',\n",
       " 'url': 'https://practice.geeksforgeeks.org/problems/corners-of-a-rectangle1848/1',\n",
       " 'Expected Auxiliary Space': 'O(1)',\n",
       " 'time_limit': None,\n",
       " 'date': None,\n",
       " 'picture_num': '0',\n",
       " 'memory_limit': None,\n",
       " 'Expected Time Complexity': 'O(1)'}"
      ]
     },
     "execution_count": 36,
     "metadata": {},
     "output_type": "execute_result"
    }
   ],
   "source": [
    "train_dict[10237]"
   ]
  },
  {
   "cell_type": "code",
   "execution_count": 35,
   "metadata": {},
   "outputs": [
    {
     "ename": "TypeError",
     "evalue": "string indices must be integers, not 'str'",
     "output_type": "error",
     "traceback": [
      "\u001b[0;31m---------------------------------------------------------------------------\u001b[0m",
      "\u001b[0;31mTypeError\u001b[0m                                 Traceback (most recent call last)",
      "Cell \u001b[0;32mIn[35], line 1\u001b[0m\n\u001b[0;32m----> 1\u001b[0m \u001b[43mcompute\u001b[49m\u001b[43m(\u001b[49m\u001b[38;5;124;43m\"\u001b[39;49m\u001b[38;5;124;43mno_context_parsed.json\u001b[39;49m\u001b[38;5;124;43m\"\u001b[39;49m\u001b[43m,\u001b[49m\u001b[43m \u001b[49m\u001b[43m[\u001b[49m\u001b[43mtrain_dict\u001b[49m\u001b[43m[\u001b[49m\u001b[38;5;241;43m10237\u001b[39;49m\u001b[43m]\u001b[49m\u001b[43m]\u001b[49m\u001b[43m,\u001b[49m\u001b[43m \u001b[49m\u001b[43m[\u001b[49m\u001b[38;5;241;43m1\u001b[39;49m\u001b[43m,\u001b[49m\u001b[43m \u001b[49m\u001b[38;5;241;43m10\u001b[39;49m\u001b[43m]\u001b[49m\u001b[43m)\u001b[49m\n",
      "File \u001b[0;32m/work/caio.rhoden/datamodels-context-reduction/src/taco_evaluator/compute_metrics.py:170\u001b[0m, in \u001b[0;36mcompute\u001b[0;34m(generation_file, taco, k_pass, debug)\u001b[0m\n\u001b[1;32m    159\u001b[0m \u001b[38;5;28;01mdef\u001b[39;00m \u001b[38;5;21mcompute\u001b[39m(generation_file: \u001b[38;5;28mstr\u001b[39m, taco, k_pass:\u001b[38;5;28mlist\u001b[39m\u001b[38;5;241m=\u001b[39m[\u001b[38;5;241m1\u001b[39m, \u001b[38;5;241m10\u001b[39m, \u001b[38;5;241m100\u001b[39m], debug\u001b[38;5;241m=\u001b[39m\u001b[38;5;28;01mFalse\u001b[39;00m):\n\u001b[1;32m    160\u001b[0m     \u001b[38;5;66;03m# Initialize evaluation dataset with the same setup with generation\u001b[39;00m\n\u001b[1;32m    161\u001b[0m     \u001b[38;5;66;03m# difficulties = ['ALL']\u001b[39;00m\n\u001b[0;32m   (...)\u001b[0m\n\u001b[1;32m    167\u001b[0m     \u001b[38;5;66;03m# taco = load_dataset('BAAI/TACO', split='test', difficulties=difficulties)\u001b[39;00m\n\u001b[1;32m    168\u001b[0m     \u001b[38;5;66;03m# taco = load_dataset('BAAI/TACO', split='test', skills=skills)\u001b[39;00m\n\u001b[0;32m--> 170\u001b[0m     generations \u001b[38;5;241m=\u001b[39m \u001b[43mload_generation\u001b[49m\u001b[43m(\u001b[49m\u001b[43mgeneration_file\u001b[49m\u001b[43m)\u001b[49m\n\u001b[1;32m    172\u001b[0m     results \u001b[38;5;241m=\u001b[39m evaluate_generations(generations, taco)\n\u001b[1;32m    173\u001b[0m     \u001b[38;5;66;03m# You can use evaluate_generations_parallel to parallel executing multiple outputs for each problem\u001b[39;00m\n\u001b[1;32m    174\u001b[0m     \u001b[38;5;66;03m# results = evaluate_generations_parallel(generations, taco)\u001b[39;00m\n",
      "File \u001b[0;32m/work/caio.rhoden/datamodels-context-reduction/src/taco_evaluator/compute_metrics.py:38\u001b[0m, in \u001b[0;36mload_generation\u001b[0;34m(input_file)\u001b[0m\n\u001b[1;32m     36\u001b[0m results \u001b[38;5;241m=\u001b[39m json\u001b[38;5;241m.\u001b[39mload(f)\n\u001b[1;32m     37\u001b[0m \u001b[38;5;28;01mfor\u001b[39;00m _, res \u001b[38;5;129;01min\u001b[39;00m \u001b[38;5;28menumerate\u001b[39m(results):\n\u001b[0;32m---> 38\u001b[0m     task_id \u001b[38;5;241m=\u001b[39m \u001b[43mres\u001b[49m\u001b[43m[\u001b[49m\u001b[38;5;124;43m'\u001b[39;49m\u001b[38;5;124;43mtask_id\u001b[39;49m\u001b[38;5;124;43m'\u001b[39;49m\u001b[43m]\u001b[49m\n\u001b[1;32m     39\u001b[0m     output \u001b[38;5;241m=\u001b[39m res[\u001b[38;5;124m'\u001b[39m\u001b[38;5;124moutput\u001b[39m\u001b[38;5;124m'\u001b[39m]\n\u001b[1;32m     40\u001b[0m     generations[task_id] \u001b[38;5;241m=\u001b[39m output\n",
      "\u001b[0;31mTypeError\u001b[0m: string indices must be integers, not 'str'"
     ]
    }
   ],
   "source": [
    "compute(\"no_context_parsed.json\", [train_dict[10237]], [1, 10])"
   ]
  },
  {
   "cell_type": "markdown",
   "metadata": {},
   "source": [
    "## Only Solutions Run"
   ]
  },
  {
   "cell_type": "code",
   "execution_count": 36,
   "metadata": {},
   "outputs": [],
   "source": [
    "context_prompt = \"You will have to answer a programming quesiton in geometry, we will pass before some examples of solutions for similar problems\\n\"\n",
    "for i in range(4):\n",
    "    context_prompt += f\" EXAMPLE SOLUTION {i}:\\n {all_solutions[i]}\\n\"\n",
    "\n",
    "solutions_prompt = f\"Please write a Python program {context_prompt} \\nQUESTION: \\n{question_input} \\n ANSWER: \\n.\""
   ]
  },
  {
   "cell_type": "code",
   "execution_count": null,
   "metadata": {},
   "outputs": [],
   "source": [
    "train.filter(pl.col(\"tags\") == \"Geometry\").filter(pl.col(\"difficulty\") == \"EASY\").sample(1)"
   ]
  },
  {
   "cell_type": "code",
   "execution_count": 38,
   "metadata": {},
   "outputs": [],
   "source": [
    "parse_generation(json.load(open(\"solutions_prompt.json\")), 10237 , \"solutions_parsed.json\")"
   ]
  },
  {
   "cell_type": "code",
   "execution_count": 39,
   "metadata": {},
   "outputs": [
    {
     "name": "stderr",
     "output_type": "stream",
     "text": [
      "  File \"/tmp/tmpzjuc1mv2\", line 36\n",
      "    return sorted([round(A[0]), round(A[1])], [round(B[0]), round(B[1])], [round(C[0]), round(C[1])], [round(D[0]), round(D[1])])\n",
      "    ^^^^^^^^^^^^^^^^^^^^^^^^^^^^^^^^^^^^^^^^^^^^^^^^^^^^^^^^^^^^^^^^^^^^^^^^^^^^^^^^^^^^^^^^^^^^^^^^^^^^^^^^^^^^^^^^^^^^^^^^^^^^^\n",
      "SyntaxError: 'return' outside function\n",
      "  File \"/tmp/tmpzjuc1mv2\", line 36\n",
      "    return sorted([round(A[0]), round(A[1])], [round(B[0]), round(B[1])], [round(C[0]), round(C[1])], [round(D[0]), round(D[1])])\n",
      "    ^^^^^^^^^^^^^^^^^^^^^^^^^^^^^^^^^^^^^^^^^^^^^^^^^^^^^^^^^^^^^^^^^^^^^^^^^^^^^^^^^^^^^^^^^^^^^^^^^^^^^^^^^^^^^^^^^^^^^^^^^^^^^\n",
      "SyntaxError: 'return' outside function\n",
      "Traceback (most recent call last):\n",
      "  File \"/tmp/tmphvt__yhn\", line 40, in <module>\n",
      "    code()\n",
      "  File \"/tmp/tmphvt__yhn\", line 37, in code\n",
      "    return sorted([round(A[0]), round(A[1])], [round(B[0]), round(B[1])], [round(C[0]), round(C[1])], [round(D[0]), round(D[1])])\n",
      "                         ^\n",
      "NameError: name 'A' is not defined\n",
      "Traceback (most recent call last):\n",
      "  File \"/tmp/tmphvt__yhn\", line 40, in <module>\n",
      "    code()\n",
      "  File \"/tmp/tmphvt__yhn\", line 37, in code\n",
      "    return sorted([round(A[0]), round(A[1])], [round(B[0]), round(B[1])], [round(C[0]), round(C[1])], [round(D[0]), round(D[1])])\n",
      "                         ^\n",
      "NameError: name 'A' is not defined\n"
     ]
    }
   ],
   "source": [
    "compute(\"solutions_parsed.json\", [train_dict[10237]], [1, 10])"
   ]
  },
  {
   "cell_type": "code",
   "execution_count": 11,
   "metadata": {},
   "outputs": [
    {
     "name": "stderr",
     "output_type": "stream",
     "text": [
      "  File \"/tmp/tmpncl61m6h\", line 36\n",
      "    return sorted([round(A[0]), round(A[1])], [round(B[0]), round(B[1])], [round(C[0]), round(C[1])], [round(D[0]), round(D[1])])\n",
      "    ^^^^^^^^^^^^^^^^^^^^^^^^^^^^^^^^^^^^^^^^^^^^^^^^^^^^^^^^^^^^^^^^^^^^^^^^^^^^^^^^^^^^^^^^^^^^^^^^^^^^^^^^^^^^^^^^^^^^^^^^^^^^^\n",
      "SyntaxError: 'return' outside function\n",
      "  File \"/tmp/tmpncl61m6h\", line 36\n",
      "    return sorted([round(A[0]), round(A[1])], [round(B[0]), round(B[1])], [round(C[0]), round(C[1])], [round(D[0]), round(D[1])])\n",
      "    ^^^^^^^^^^^^^^^^^^^^^^^^^^^^^^^^^^^^^^^^^^^^^^^^^^^^^^^^^^^^^^^^^^^^^^^^^^^^^^^^^^^^^^^^^^^^^^^^^^^^^^^^^^^^^^^^^^^^^^^^^^^^^\n",
      "SyntaxError: 'return' outside function\n",
      "Traceback (most recent call last):\n",
      "  File \"/tmp/tmp0dhioviu\", line 40, in <module>\n",
      "    code()\n",
      "  File \"/tmp/tmp0dhioviu\", line 37, in code\n",
      "    return sorted([round(A[0]), round(A[1])], [round(B[0]), round(B[1])], [round(C[0]), round(C[1])], [round(D[0]), round(D[1])])\n",
      "                         ^\n",
      "NameError: name 'A' is not defined\n",
      "Traceback (most recent call last):\n",
      "  File \"/tmp/tmp0dhioviu\", line 40, in <module>\n",
      "    code()\n",
      "  File \"/tmp/tmp0dhioviu\", line 37, in code\n",
      "    return sorted([round(A[0]), round(A[1])], [round(B[0]), round(B[1])], [round(C[0]), round(C[1])], [round(D[0]), round(D[1])])\n",
      "                         ^\n",
      "NameError: name 'A' is not defined\n"
     ]
    },
    {
     "data": {
      "text/plain": [
       "{10237: [3, 1]}"
      ]
     },
     "execution_count": 11,
     "metadata": {},
     "output_type": "execute_result"
    }
   ],
   "source": [
    "compute_1_pass_by_test(\"solutions_parsed.json\", [train_dict[10237]])"
   ]
  },
  {
   "cell_type": "code",
   "execution_count": 10,
   "metadata": {},
   "outputs": [
    {
     "data": {
      "text/plain": [
       "{'pass@1': 0.0,\n",
       " 'pass@10': 0.0,\n",
       " 'detail': {'pass@1': {'10237': 0.0}, 'pass@10': {'10237': 0.0}}}"
      ]
     },
     "execution_count": 10,
     "metadata": {},
     "output_type": "execute_result"
    }
   ],
   "source": [
    "json.load(open(\"solutions_prompt_metrics.json\"))"
   ]
  }
 ],
 "metadata": {
  "kernelspec": {
   "display_name": "datamodels",
   "language": "python",
   "name": "python3"
  },
  "language_info": {
   "codemirror_mode": {
    "name": "ipython",
    "version": 3
   },
   "file_extension": ".py",
   "mimetype": "text/x-python",
   "name": "python",
   "nbconvert_exporter": "python",
   "pygments_lexer": "ipython3",
   "version": "3.11.10"
  }
 },
 "nbformat": 4,
 "nbformat_minor": 2
}
