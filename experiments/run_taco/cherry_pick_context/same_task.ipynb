{
 "cells": [
  {
   "cell_type": "markdown",
   "metadata": {},
   "source": [
    "# TACO Experiment: Cherry-picked context to one specific task\n",
    "\n",
    "The goal here is to evaluate how the model will behave when passing the Solutions from an analog problem that were manually analyzed and selected  \n",
    "In this specific scenario we want to test it with a very specific group of tasks from the TACO benchmark"
   ]
  },
  {
   "cell_type": "code",
   "execution_count": 2,
   "metadata": {},
   "outputs": [
    {
     "name": "stderr",
     "output_type": "stream",
     "text": [
      "/home/caio.rhoden/miniconda3/envs/datamodels/lib/python3.11/site-packages/tqdm/auto.py:21: TqdmWarning: IProgress not found. Please update jupyter and ipywidgets. See https://ipywidgets.readthedocs.io/en/stable/user_install.html\n",
      "  from .autonotebook import tqdm as notebook_tqdm\n"
     ]
    },
    {
     "name": "stdout",
     "output_type": "stream",
     "text": [
      "Number of GPUs available: 1\n",
      "GPU 0: NVIDIA RTX A5000\n"
     ]
    }
   ],
   "source": [
    "import os\n",
    "os.environ[\"CUDA_VISIBLE_DEVICES\"] = \"3\"\n",
    "\n",
    "import polars as pl\n",
    "import torch\n",
    "import numpy as np\n",
    "import json\n",
    "\n",
    "## LLM\n",
    "from src.llms import Llama3_1_Instruct\n",
    "\n",
    "seed = 42\n",
    "# NumPy\n",
    "np.random.seed(seed)\n",
    "\n",
    "# PyTorch\n",
    "torch.manual_seed(seed)\n",
    "if torch.cuda.is_available():\n",
    "    torch.cuda.manual_seed(seed)\n",
    "    torch.cuda.manual_seed_all(seed)\n",
    "    torch.backends.cudnn.deterministic = True\n",
    "    torch.backends.cudnn.benchmark = False\n",
    "\n",
    "\n",
    "if torch.cuda.is_available():\n",
    "    print(f\"Number of GPUs available: {torch.cuda.device_count()}\")\n",
    "    for i in range(torch.cuda.device_count()):\n",
    "        print(f\"GPU {i}: {torch.cuda.get_device_name(i)}\")\n",
    "\n",
    "device = torch.device(\"cuda:0\" if torch.cuda.is_available() else \"cpu\")"
   ]
  },
  {
   "cell_type": "markdown",
   "metadata": {},
   "source": [
    "## Load Datasets"
   ]
  },
  {
   "cell_type": "code",
   "execution_count": 3,
   "metadata": {},
   "outputs": [],
   "source": [
    "PATH  = \"../../../data/TACO/processed\"\n",
    "train = pl.read_ipc(f\"{PATH}/train.feather\")\n",
    "train_solutions = pl.read_ipc(f\"{PATH}/train_solutions.feather\")"
   ]
  },
  {
   "cell_type": "code",
   "execution_count": null,
   "metadata": {},
   "outputs": [],
   "source": [
    "def run_inference(prompt_input: str, path: str):\n",
    "    outputs = []\n",
    "    llm = Llama3_1_Instruct()\n",
    "    config = {\n",
    "                \"temperature\": 0.7,\n",
    "                \"max_length\": 2048,\n",
    "                \"top_p\": 0.95,\n",
    "                \"num_return_sequences\": 20\n",
    "    }\n",
    "\n",
    "    prompt = f\"Please write a Python program \\nQUESTION: \\n{prompt_input} \\n ANSWER: \\n.\"\n",
    "    output = llm.run(prompt=prompt, input=\"\", config_params=config)\n",
    "\n",
    "    for res in output:\n",
    "        outputs.append(res)[]\n",
    "    \n",
    "    json.dump(outputs, open(path, \"w\"))"
   ]
  },
  {
   "cell_type": "markdown",
   "metadata": {},
   "source": [
    "## Problem Selection\n",
    "\n",
    "The category choosen it was \"Geometry\" in EASY difficulty  \n",
    "The criteria behind the choice is because there isn't a lot of examples of geometry, which facilitates to find samples specific from that scope.  \n",
    "The EASY difficulty is for validation purposes"
   ]
  },
  {
   "cell_type": "code",
   "execution_count": 8,
   "metadata": {},
   "outputs": [
    {
     "data": {
      "text/html": [
       "<div><style>\n",
       ".dataframe > thead > tr,\n",
       ".dataframe > tbody > tr {\n",
       "  text-align: right;\n",
       "  white-space: pre-wrap;\n",
       "}\n",
       "</style>\n",
       "<small>shape: (1, 4)</small><table border=\"1\" class=\"dataframe\"><thead><tr><th>id</th><th>difficulty</th><th>tags</th><th>input</th></tr><tr><td>u32</td><td>u32</td><td>u32</td><td>u32</td></tr></thead><tbody><tr><td>127</td><td>127</td><td>127</td><td>127</td></tr></tbody></table></div>"
      ],
      "text/plain": [
       "shape: (1, 4)\n",
       "┌─────┬────────────┬──────┬───────┐\n",
       "│ id  ┆ difficulty ┆ tags ┆ input │\n",
       "│ --- ┆ ---        ┆ ---  ┆ ---   │\n",
       "│ u32 ┆ u32        ┆ u32  ┆ u32   │\n",
       "╞═════╪════════════╪══════╪═══════╡\n",
       "│ 127 ┆ 127        ┆ 127  ┆ 127   │\n",
       "└─────┴────────────┴──────┴───────┘"
      ]
     },
     "execution_count": 8,
     "metadata": {},
     "output_type": "execute_result"
    }
   ],
   "source": [
    "train.filter(pl.col(\"tags\") == \"Geometry\").filter(pl.col(\"difficulty\") == \"EASY\").count()"
   ]
  },
  {
   "cell_type": "code",
   "execution_count": 9,
   "metadata": {},
   "outputs": [
    {
     "name": "stdout",
     "output_type": "stream",
     "text": [
      "shape: (1, 4)\n",
      "┌───────┬────────────┬──────────┬─────────────────────────────────┐\n",
      "│ id    ┆ difficulty ┆ tags     ┆ input                           │\n",
      "│ ---   ┆ ---        ┆ ---      ┆ ---                             │\n",
      "│ u32   ┆ str        ┆ str      ┆ str                             │\n",
      "╞═══════╪════════════╪══════════╪═════════════════════════════════╡\n",
      "│ 23834 ┆ EASY       ┆ Geometry ┆ Johnny needs to make a rectang… │\n",
      "└───────┴────────────┴──────────┴─────────────────────────────────┘\n"
     ]
    }
   ],
   "source": [
    "selected_problem = train.filter(pl.col(\"tags\") == \"Geometry\").filter(pl.col(\"difficulty\") == \"EASY\").sample(1)\n",
    "print(selected_problem)"
   ]
  },
  {
   "cell_type": "code",
   "execution_count": 16,
   "metadata": {},
   "outputs": [
    {
     "name": "stdout",
     "output_type": "stream",
     "text": [
      "shape: (1,)\n",
      "Series: '' [struct[1]]\n",
      "[\n",
      "\t{\"Johnny needs to make a rectangular box for his physics class project. He has bought P cm of wire and S cm^{2} of special paper. He would like to use all the wire (for the 12 edges) and paper (for the 6 sides) to make the box.\n",
      "What is the largest volume of the box that Johnny can make?\n",
      "\n",
      "------ Input ------ \n",
      "\n",
      "The first line contains t, the number of test cases (about 10). Then t test cases follow.\n",
      "\n",
      "Each test case contains two integers P and S in a line (1 ≤ P ≤ 40000, 1 ≤ S ≤ 20000). You may assume that there always exists an optimal solution for the given input cases.\n",
      "\n",
      "------ Output ------ \n",
      "\n",
      "For each test case, print a real number that is the largest volume of the box that Johnny can make, rounded to two decimal places.\n",
      "\n",
      "----- Sample Input 1 ------ \n",
      "2\n",
      "20 14\n",
      "20 16\n",
      "----- Sample Output 1 ------ \n",
      "3.00\n",
      "4.15\n",
      "----- explanation 1 ------ \n",
      "First case: the dimensions of the largest box may be 3, 1 and 1.\n",
      "Second case: the dimensions of the largest box may be 7/3, 4/3 and 4/3.\n",
      "\"}\n",
      "]\n"
     ]
    }
   ],
   "source": [
    "print(selected_problem.select(\"input\").to_struct())"
   ]
  },
  {
   "cell_type": "markdown",
   "metadata": {},
   "source": [
    "## Run Baseline - No Context"
   ]
  },
  {
   "cell_type": "code",
   "execution_count": null,
   "metadata": {},
   "outputs": [],
   "source": [
    "run_inference(selected_problem.select(\"input\").to_struct().to_pandas().iloc[0][\"input\"], \"no_context.json\")"
   ]
  },
  {
   "cell_type": "markdown",
   "metadata": {},
   "source": []
  }
 ],
 "metadata": {
  "kernelspec": {
   "display_name": "datamodels",
   "language": "python",
   "name": "python3"
  },
  "language_info": {
   "codemirror_mode": {
    "name": "ipython",
    "version": 3
   },
   "file_extension": ".py",
   "mimetype": "text/x-python",
   "name": "python",
   "nbconvert_exporter": "python",
   "pygments_lexer": "ipython3",
   "version": "3.11.10"
  }
 },
 "nbformat": 4,
 "nbformat_minor": 2
}
