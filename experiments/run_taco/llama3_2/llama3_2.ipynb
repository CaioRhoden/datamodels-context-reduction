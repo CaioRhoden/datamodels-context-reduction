{
 "cells": [
  {
   "cell_type": "markdown",
   "metadata": {},
   "source": [
    "# TACO Experiment: Cherry-picked context to one specific task\n",
    "\n",
    "The goal here is to evaluate how the model will behave when passing the Solutions from an analog problem that were manually analyzed and selected  \n",
    "In this specific scenario we want to test it with a very specific group of tasks from the TACO benchmark"
   ]
  },
  {
   "cell_type": "code",
   "execution_count": 1,
   "metadata": {},
   "outputs": [
    {
     "name": "stderr",
     "output_type": "stream",
     "text": [
      "/home/caio.rhoden/miniconda3/envs/datamodels/lib/python3.11/site-packages/tqdm/auto.py:21: TqdmWarning: IProgress not found. Please update jupyter and ipywidgets. See https://ipywidgets.readthedocs.io/en/stable/user_install.html\n",
      "  from .autonotebook import tqdm as notebook_tqdm\n"
     ]
    },
    {
     "name": "stdout",
     "output_type": "stream",
     "text": [
      "Number of GPUs available: 1\n",
      "GPU 0: NVIDIA L40S\n"
     ]
    }
   ],
   "source": [
    "import os\n",
    "os.environ[\"CUDA_VISIBLE_DEVICES\"] = \"0\"\n",
    "os.environ[\"TOKENIZERS_PARALLELISM\"] = \"false\"\n",
    "\n",
    "import polars as pl\n",
    "import torch\n",
    "import numpy as np\n",
    "import json\n",
    "import re\n",
    "## LLM\n",
    "from src.llms import GenericIntructModelHF\n",
    "from src.taco_evaluator import compute, compute_1_pass_by_test\n",
    "from datasets import load_from_disk\n",
    "import datetime\n",
    "\n",
    "seed = 42\n",
    "# NumPy\n",
    "np.random.seed(seed)\n",
    "\n",
    "# PyTorch\n",
    "torch.manual_seed(seed)\n",
    "if torch.cuda.is_available():\n",
    "    torch.cuda.manual_seed(seed)\n",
    "    torch.cuda.manual_seed_all(seed)\n",
    "    torch.backends.cudnn.deterministic = True\n",
    "    torch.backends.cudnn.benchmark = False\n",
    "\n",
    "\n",
    "if torch.cuda.is_available():\n",
    "    print(f\"Number of GPUs available: {torch.cuda.device_count()}\")\n",
    "    for i in range(torch.cuda.device_count()):\n",
    "        print(f\"GPU {i}: {torch.cuda.get_device_name(i)}\")\n",
    "\n",
    "device = torch.device(\"cuda:0\" if torch.cuda.is_available() else \"cpu\")"
   ]
  },
  {
   "cell_type": "markdown",
   "metadata": {},
   "source": [
    "## Load Datasets"
   ]
  },
  {
   "cell_type": "code",
   "execution_count": 2,
   "metadata": {},
   "outputs": [],
   "source": [
    "PATH  = \"../../../data/TACO/processed\"\n",
    "train = pl.read_ipc(f\"{PATH}/train.feather\")\n",
    "train_solutions = pl.read_ipc(f\"{PATH}/train_solutions.feather\")\n",
    "train_dict = load_from_disk(\"../../../data/TACO/train.hf\")"
   ]
  },
  {
   "cell_type": "markdown",
   "metadata": {},
   "source": []
  },
  {
   "cell_type": "code",
   "execution_count": 3,
   "metadata": {},
   "outputs": [],
   "source": [
    "def run_inference(prompt: str, path: str, num_returns = 10, max_length=2048):\n",
    "    outputs = []\n",
    "    llm = GenericIntructModelHF(\"../../../models/llms/Llama-3.2-3B-Instruct\")\n",
    "    for i in range(num_returns//10):\n",
    "        print(f\"Lopp {i}, {datetime.datetime.now()}\")\n",
    "        config = {\n",
    "                    \"temperature\": 0.7,\n",
    "                    \"max_length\": max_length,\n",
    "                    \"top_p\": 0.95,\n",
    "                    \"num_return_sequences\": 10\n",
    "        }\n",
    "        \n",
    "        instruction = \"You are a coding generation tool that will solve a problem using Python\"\n",
    "\n",
    "        output = llm.run(prompt=prompt, instruction=instruction, config_params=config)\n",
    "\n",
    "        for res in output:\n",
    "            outputs.append(res)\n",
    "    \n",
    "    llm.delete_model()\n",
    "    json.dump(outputs, open(path, \"w\"))"
   ]
  },
  {
   "cell_type": "code",
   "execution_count": 4,
   "metadata": {},
   "outputs": [],
   "source": [
    "def parse_generation(generations: list, id: int, path: str):\n",
    "    \n",
    "    gens = []\n",
    "    for i in range(len(generations)):\n",
    "\n",
    "        code_blocks = re.findall(r'```python(.*?)```', generations[i][\"generated_text\"], re.DOTALL)\n",
    "        extracted_code = \"\\n\".join([block.strip() for block in code_blocks])\n",
    "        gens.append(extracted_code)\n",
    "    \n",
    "    results = [{\n",
    "        \"task_id\": int(id),\n",
    "        \"output\": gens\n",
    "    }]\n",
    "\n",
    "    json.dump(results, open(path, \"w\"))\n",
    "        "
   ]
  },
  {
   "cell_type": "markdown",
   "metadata": {},
   "source": [
    "## Problem Selection\n",
    "\n",
    "The category choosen it was \"Geometry\" in EASY difficulty  \n",
    "The criteria behind the choice is because there isn't a lot of examples of geometry, which facilitates to find samples specific from that scope.  \n",
    "The EASY difficulty is for validation purposes"
   ]
  },
  {
   "cell_type": "code",
   "execution_count": 18,
   "metadata": {},
   "outputs": [],
   "source": [
    "# train.filter(pl.col(\"tags\") == \"Geometry\").filter(pl.col(\"difficulty\") == \"EASY\").count()"
   ]
  },
  {
   "cell_type": "code",
   "execution_count": 5,
   "metadata": {},
   "outputs": [],
   "source": [
    "# selected_problem = train.filter(pl.col(\"tags\") == \"Geometry\").filter(pl.col(\"difficulty\") == \"EASY\").sample(1)\n",
    "# print(selected_problem)\n",
    "## ID = 14186 \n",
    "\n",
    "selected_problem = train.filter(pl.col(\"tags\") == \"Geometry\").filter(pl.col(\"difficulty\") == \"EASY\").filter(pl.col(\"id\") == 10237)\n",
    "# print(selected_problem)"
   ]
  },
  {
   "cell_type": "code",
   "execution_count": 20,
   "metadata": {},
   "outputs": [],
   "source": [
    "# train_solutions.filter(pl.col(\"id\") == 10237).to_struct()"
   ]
  },
  {
   "cell_type": "code",
   "execution_count": 21,
   "metadata": {},
   "outputs": [],
   "source": [
    "# print(selected_problem.select(\"input\").to_dict()[\"input\"][0])"
   ]
  },
  {
   "cell_type": "markdown",
   "metadata": {},
   "source": [
    "## Run Baseline - No Context"
   ]
  },
  {
   "cell_type": "code",
   "execution_count": 22,
   "metadata": {},
   "outputs": [],
   "source": [
    "# prompt_input = selected_problem.select(\"input\").to_struct().to_pandas().iloc[0][\"input\"]\n",
    "# prompt = f\"Please write a Python program \\nQUESTION: \\n{prompt_input} \\n ANSWER: \\n.\"\n",
    "# run_inference(prompt_input, \"no_context.json\", num_returns=200)"
   ]
  },
  {
   "cell_type": "code",
   "execution_count": 6,
   "metadata": {},
   "outputs": [],
   "source": [
    "parse_generation(json.load(open(\"no_context.json\")), 10237 , \"no_context_parsed.json\")"
   ]
  },
  {
   "cell_type": "code",
   "execution_count": null,
   "metadata": {},
   "outputs": [],
   "source": [
    "compute(\"no_context_parsed.json\", [train_dict[10237]], [1, 10, 100])"
   ]
  },
  {
   "cell_type": "code",
   "execution_count": 8,
   "metadata": {},
   "outputs": [
    {
     "data": {
      "text/plain": [
       "{'pass@1': 0.0,\n",
       " 'pass@10': 0.0,\n",
       " 'pass@100': 0.0,\n",
       " 'detail': {'pass@1': {'10237': 0.0},\n",
       "  'pass@10': {'10237': 0.0},\n",
       "  'pass@100': {'10237': 0.0}}}"
      ]
     },
     "execution_count": 8,
     "metadata": {},
     "output_type": "execute_result"
    }
   ],
   "source": [
    "json.load(open(\"taco_metrics.json\"))"
   ]
  },
  {
   "cell_type": "code",
   "execution_count": 9,
   "metadata": {},
   "outputs": [
    {
     "name": "stdout",
     "output_type": "stream",
     "text": [
      "[(-1.0, 0.0), (0.0, 3.0), (1.0, 2.0), (2.0, 1.0)]\n"
     ]
    },
    {
     "name": "stderr",
     "output_type": "stream",
     "text": [
      "Traceback (most recent call last):\n",
      "  File \"/tmp/tmp5ywa8z5l\", line 39, in <module>\n",
      "    print(solution.findCornerPoints(2.8284, [{1,1}, {-1,-1}]))  # Output: [[-2, 0], [0, -2], [0, 2], [2, 0]]\n",
      "          ^^^^^^^^^^^^^^^^^^^^^^^^^^^^^^^^^^^^^^^^^^^^^^^^^^^\n",
      "  File \"/tmp/tmp5ywa8z5l\", line 22, in findCornerPoints\n",
      "    px, py = points[0]\n",
      "    ^^^^^^\n",
      "ValueError: not enough values to unpack (expected 2, got 1)\n"
     ]
    },
    {
     "name": "stdout",
     "output_type": "stream",
     "text": [
      "[(-1.0, 0.0), (0.0, 3.0), (1.0, 2.0), (2.0, 1.0)]\n"
     ]
    },
    {
     "name": "stderr",
     "output_type": "stream",
     "text": [
      "Traceback (most recent call last):\n",
      "  File \"/tmp/tmp5ywa8z5l\", line 39, in <module>\n",
      "    print(solution.findCornerPoints(2.8284, [{1,1}, {-1,-1}]))  # Output: [[-2, 0], [0, -2], [0, 2], [2, 0]]\n",
      "          ^^^^^^^^^^^^^^^^^^^^^^^^^^^^^^^^^^^^^^^^^^^^^^^^^^^\n",
      "  File \"/tmp/tmp5ywa8z5l\", line 22, in findCornerPoints\n",
      "    px, py = points[0]\n",
      "    ^^^^^^\n",
      "ValueError: not enough values to unpack (expected 2, got 1)\n"
     ]
    },
    {
     "name": "stdout",
     "output_type": "stream",
     "text": [
      "[(-1.0, 0.0), (0.0, 3.0), (1.0, 2.0), (2.0, 1.0)]\n"
     ]
    },
    {
     "name": "stderr",
     "output_type": "stream",
     "text": [
      "Traceback (most recent call last):\n",
      "  File \"/tmp/tmpq85v7ykr\", line 42, in <module>\n",
      "    code()\n",
      "  File \"/tmp/tmpq85v7ykr\", line 40, in code\n",
      "    print(solution.findCornerPoints(2.8284, [{1,1}, {-1,-1}]))  # Output: [[-2, 0], [0, -2], [0, 2], [2, 0]]\n",
      "          ^^^^^^^^^^^^^^^^^^^^^^^^^^^^^^^^^^^^^^^^^^^^^^^^^^^\n",
      "  File \"/tmp/tmpq85v7ykr\", line 23, in findCornerPoints\n",
      "    px, py = points[0]\n",
      "    ^^^^^^\n",
      "ValueError: not enough values to unpack (expected 2, got 1)\n"
     ]
    },
    {
     "name": "stdout",
     "output_type": "stream",
     "text": [
      "[(-1.0, 0.0), (0.0, 3.0), (1.0, 2.0), (2.0, 1.0)]\n"
     ]
    },
    {
     "name": "stderr",
     "output_type": "stream",
     "text": [
      "Traceback (most recent call last):\n",
      "  File \"/tmp/tmpq85v7ykr\", line 42, in <module>\n",
      "    code()\n",
      "  File \"/tmp/tmpq85v7ykr\", line 40, in code\n",
      "    print(solution.findCornerPoints(2.8284, [{1,1}, {-1,-1}]))  # Output: [[-2, 0], [0, -2], [0, 2], [2, 0]]\n",
      "          ^^^^^^^^^^^^^^^^^^^^^^^^^^^^^^^^^^^^^^^^^^^^^^^^^^^\n",
      "  File \"/tmp/tmpq85v7ykr\", line 23, in findCornerPoints\n",
      "    px, py = points[0]\n",
      "    ^^^^^^\n",
      "ValueError: not enough values to unpack (expected 2, got 1)\n",
      "Traceback (most recent call last):\n",
      "  File \"/tmp/tmp9zj9mrl_\", line 62, in <module>\n",
      "    print(solution.findCornerPoints(2, [[1, 0], [1, 2]]))\n",
      "          ^^^^^^^^^^^^^^^^^^^^^^^^^^^^^^^^^^^^^^^^^^^^^^\n",
      "  File \"/tmp/tmp9zj9mrl_\", line 58, in findCornerPoints\n",
      "    return sorted([[ax, ay], [bx, by], [cx, cy], [dx, dy]])\n",
      "                                  ^^\n",
      "NameError: name 'by' is not defined. Did you mean: 'py'?\n",
      "Traceback (most recent call last):\n",
      "  File \"/tmp/tmp9zj9mrl_\", line 62, in <module>\n",
      "    print(solution.findCornerPoints(2, [[1, 0], [1, 2]]))\n",
      "          ^^^^^^^^^^^^^^^^^^^^^^^^^^^^^^^^^^^^^^^^^^^^^^\n",
      "  File \"/tmp/tmp9zj9mrl_\", line 58, in findCornerPoints\n",
      "    return sorted([[ax, ay], [bx, by], [cx, cy], [dx, dy]])\n",
      "                                  ^^\n",
      "NameError: name 'by' is not defined. Did you mean: 'py'?\n",
      "Traceback (most recent call last):\n",
      "  File \"/tmp/tmpuo5v4yfu\", line 66, in <module>\n",
      "    code()\n",
      "  File \"/tmp/tmpuo5v4yfu\", line 63, in code\n",
      "    print(solution.findCornerPoints(2, [[1, 0], [1, 2]]))\n",
      "          ^^^^^^^^^^^^^^^^^^^^^^^^^^^^^^^^^^^^^^^^^^^^^^\n",
      "  File \"/tmp/tmpuo5v4yfu\", line 59, in findCornerPoints\n",
      "    return sorted([[ax, ay], [bx, by], [cx, cy], [dx, dy]])\n",
      "                                  ^^\n",
      "NameError: name 'by' is not defined. Did you mean: 'py'?\n",
      "Traceback (most recent call last):\n",
      "  File \"/tmp/tmpuo5v4yfu\", line 66, in <module>\n",
      "    code()\n",
      "  File \"/tmp/tmpuo5v4yfu\", line 63, in code\n",
      "    print(solution.findCornerPoints(2, [[1, 0], [1, 2]]))\n",
      "          ^^^^^^^^^^^^^^^^^^^^^^^^^^^^^^^^^^^^^^^^^^^^^^\n",
      "  File \"/tmp/tmpuo5v4yfu\", line 59, in findCornerPoints\n",
      "    return sorted([[ax, ay], [bx, by], [cx, cy], [dx, dy]])\n",
      "                                  ^^\n",
      "NameError: name 'by' is not defined. Did you mean: 'py'?\n",
      "Traceback (most recent call last):\n",
      "  File \"/tmp/tmpo7gdvmyd\", line 46, in <module>\n",
      "    print(solution.findCornerPoints(2, [1, 0]))  # Output: [(0, 0), (0, 2), (2, 0), (2, 2)]\n",
      "          ^^^^^^^^^^^^^^^^^^^^^^^^^^^^^^^^^^^^\n",
      "  File \"/tmp/tmpo7gdvmyd\", line 34, in findCornerPoints\n",
      "    px, py = points[0]\n",
      "    ^^^^^^\n",
      "TypeError: cannot unpack non-iterable int object\n",
      "Traceback (most recent call last):\n",
      "  File \"/tmp/tmpo7gdvmyd\", line 46, in <module>\n",
      "    print(solution.findCornerPoints(2, [1, 0]))  # Output: [(0, 0), (0, 2), (2, 0), (2, 2)]\n",
      "          ^^^^^^^^^^^^^^^^^^^^^^^^^^^^^^^^^^^^\n",
      "  File \"/tmp/tmpo7gdvmyd\", line 34, in findCornerPoints\n",
      "    px, py = points[0]\n",
      "    ^^^^^^\n",
      "TypeError: cannot unpack non-iterable int object\n",
      "Traceback (most recent call last):\n",
      "  File \"/tmp/tmpzosshmdn\", line 50, in <module>\n",
      "    code()\n",
      "  File \"/tmp/tmpzosshmdn\", line 47, in code\n",
      "    print(solution.findCornerPoints(2, [1, 0]))  # Output: [(0, 0), (0, 2), (2, 0), (2, 2)]\n",
      "          ^^^^^^^^^^^^^^^^^^^^^^^^^^^^^^^^^^^^\n",
      "  File \"/tmp/tmpzosshmdn\", line 35, in findCornerPoints\n",
      "    px, py = points[0]\n",
      "    ^^^^^^\n",
      "TypeError: cannot unpack non-iterable int object\n",
      "Traceback (most recent call last):\n",
      "  File \"/tmp/tmpzosshmdn\", line 50, in <module>\n",
      "    code()\n",
      "  File \"/tmp/tmpzosshmdn\", line 47, in code\n",
      "    print(solution.findCornerPoints(2, [1, 0]))  # Output: [(0, 0), (0, 2), (2, 0), (2, 2)]\n",
      "          ^^^^^^^^^^^^^^^^^^^^^^^^^^^^^^^^^^^^\n",
      "  File \"/tmp/tmpzosshmdn\", line 35, in findCornerPoints\n",
      "    px, py = points[0]\n",
      "    ^^^^^^\n",
      "TypeError: cannot unpack non-iterable int object\n",
      "Traceback (most recent call last):\n",
      "  File \"/tmp/tmpbh6mp28s\", line 53, in <module>\n",
      "    print(solution.findCornerPoints(2, [1, 0]))\n",
      "          ^^^^^^^^^^^^^^^^^^^^^^^^^^^^^^^^^^^^\n",
      "  File \"/tmp/tmpbh6mp28s\", line 35, in findCornerPoints\n",
      "    px, py = points[0]\n",
      "    ^^^^^^\n",
      "TypeError: cannot unpack non-iterable int object\n",
      "Traceback (most recent call last):\n",
      "  File \"/tmp/tmpbh6mp28s\", line 53, in <module>\n",
      "    print(solution.findCornerPoints(2, [1, 0]))\n",
      "          ^^^^^^^^^^^^^^^^^^^^^^^^^^^^^^^^^^^^\n",
      "  File \"/tmp/tmpbh6mp28s\", line 35, in findCornerPoints\n",
      "    px, py = points[0]\n",
      "    ^^^^^^\n",
      "TypeError: cannot unpack non-iterable int object\n",
      "Traceback (most recent call last):\n",
      "  File \"/tmp/tmpamy84q2t\", line 60, in <module>\n",
      "    code()\n",
      "  File \"/tmp/tmpamy84q2t\", line 54, in code\n",
      "    print(solution.findCornerPoints(2, [1, 0]))\n",
      "          ^^^^^^^^^^^^^^^^^^^^^^^^^^^^^^^^^^^^\n",
      "  File \"/tmp/tmpamy84q2t\", line 36, in findCornerPoints\n",
      "    px, py = points[0]\n",
      "    ^^^^^^\n",
      "TypeError: cannot unpack non-iterable int object\n",
      "Traceback (most recent call last):\n",
      "  File \"/tmp/tmpamy84q2t\", line 60, in <module>\n",
      "    code()\n",
      "  File \"/tmp/tmpamy84q2t\", line 54, in code\n",
      "    print(solution.findCornerPoints(2, [1, 0]))\n",
      "          ^^^^^^^^^^^^^^^^^^^^^^^^^^^^^^^^^^^^\n",
      "  File \"/tmp/tmpamy84q2t\", line 36, in findCornerPoints\n",
      "    px, py = points[0]\n",
      "    ^^^^^^\n",
      "TypeError: cannot unpack non-iterable int object\n",
      "Traceback (most recent call last):\n",
      "  File \"/tmp/tmp5yttwzay\", line 38, in <module>\n",
      "    print(solution.findCornerPoints(2, [[1, 0], [1, 2]]))  # Output: [[0, 0], [0, 2], [2, 0], [2, 2]]\n",
      "          ^^^^^^^^^^^^^^^^^^^^^^^^^^^^^^^^^^^^^^^^^^^^^^\n",
      "  File \"/tmp/tmp5yttwzay\", line 34, in findCornerPoints\n",
      "    return sorted([A, B, C, (p[0] + q[0], p[1] + q[1])])\n",
      "           ^^^^^^^^^^^^^^^^^^^^^^^^^^^^^^^^^^^^^^^^^^^^^\n",
      "TypeError: '<' not supported between instances of 'int' and 'tuple'\n",
      "Traceback (most recent call last):\n",
      "  File \"/tmp/tmp5yttwzay\", line 38, in <module>\n",
      "    print(solution.findCornerPoints(2, [[1, 0], [1, 2]]))  # Output: [[0, 0], [0, 2], [2, 0], [2, 2]]\n",
      "          ^^^^^^^^^^^^^^^^^^^^^^^^^^^^^^^^^^^^^^^^^^^^^^\n",
      "  File \"/tmp/tmp5yttwzay\", line 34, in findCornerPoints\n",
      "    return sorted([A, B, C, (p[0] + q[0], p[1] + q[1])])\n",
      "           ^^^^^^^^^^^^^^^^^^^^^^^^^^^^^^^^^^^^^^^^^^^^^\n",
      "TypeError: '<' not supported between instances of 'int' and 'tuple'\n",
      "Traceback (most recent call last):\n",
      "  File \"/tmp/tmp5bywo3he\", line 42, in <module>\n",
      "    code()\n",
      "  File \"/tmp/tmp5bywo3he\", line 39, in code\n",
      "    print(solution.findCornerPoints(2, [[1, 0], [1, 2]]))  # Output: [[0, 0], [0, 2], [2, 0], [2, 2]]\n",
      "          ^^^^^^^^^^^^^^^^^^^^^^^^^^^^^^^^^^^^^^^^^^^^^^\n",
      "  File \"/tmp/tmp5bywo3he\", line 35, in findCornerPoints\n",
      "    return sorted([A, B, C, (p[0] + q[0], p[1] + q[1])])\n",
      "           ^^^^^^^^^^^^^^^^^^^^^^^^^^^^^^^^^^^^^^^^^^^^^\n",
      "TypeError: '<' not supported between instances of 'int' and 'tuple'\n",
      "Traceback (most recent call last):\n",
      "  File \"/tmp/tmp5bywo3he\", line 42, in <module>\n",
      "    code()\n",
      "  File \"/tmp/tmp5bywo3he\", line 39, in code\n",
      "    print(solution.findCornerPoints(2, [[1, 0], [1, 2]]))  # Output: [[0, 0], [0, 2], [2, 0], [2, 2]]\n",
      "          ^^^^^^^^^^^^^^^^^^^^^^^^^^^^^^^^^^^^^^^^^^^^^^\n",
      "  File \"/tmp/tmp5bywo3he\", line 35, in findCornerPoints\n",
      "    return sorted([A, B, C, (p[0] + q[0], p[1] + q[1])])\n",
      "           ^^^^^^^^^^^^^^^^^^^^^^^^^^^^^^^^^^^^^^^^^^^^^\n",
      "TypeError: '<' not supported between instances of 'int' and 'tuple'\n",
      "Traceback (most recent call last):\n",
      "  File \"/tmp/tmpt_x8_uak\", line 41, in <module>\n",
      "    print(solution.findCornerPoints(2, [[1, 0], [1, 2]]))  # Output: [[0, 0], [0, 2], [2, 0], [2, 2]]\n",
      "          ^^^^^^^^^^^^^^^^^^^^^^^^^^^^^^^^^^^^^^^^^^^^^^\n",
      "  File \"/tmp/tmpt_x8_uak\", line 39, in findCornerPoints\n",
      "    return sorted([bottom_left_x, bottom_left_y, top_left_x, top_left_y, top_right_x, top_right_y, bottom_right_x, bottom_right_y], key=lambda x: (x[0], x[1]))\n",
      "           ^^^^^^^^^^^^^^^^^^^^^^^^^^^^^^^^^^^^^^^^^^^^^^^^^^^^^^^^^^^^^^^^^^^^^^^^^^^^^^^^^^^^^^^^^^^^^^^^^^^^^^^^^^^^^^^^^^^^^^^^^^^^^^^^^^^^^^^^^^^^^^^^^^^^\n",
      "  File \"/tmp/tmpt_x8_uak\", line 39, in <lambda>\n",
      "    return sorted([bottom_left_x, bottom_left_y, top_left_x, top_left_y, top_right_x, top_right_y, bottom_right_x, bottom_right_y], key=lambda x: (x[0], x[1]))\n",
      "                                                                                                                                                   ~^^^\n",
      "TypeError: 'float' object is not subscriptable\n",
      "Traceback (most recent call last):\n",
      "  File \"/tmp/tmpt_x8_uak\", line 41, in <module>\n",
      "    print(solution.findCornerPoints(2, [[1, 0], [1, 2]]))  # Output: [[0, 0], [0, 2], [2, 0], [2, 2]]\n",
      "          ^^^^^^^^^^^^^^^^^^^^^^^^^^^^^^^^^^^^^^^^^^^^^^\n",
      "  File \"/tmp/tmpt_x8_uak\", line 39, in findCornerPoints\n",
      "    return sorted([bottom_left_x, bottom_left_y, top_left_x, top_left_y, top_right_x, top_right_y, bottom_right_x, bottom_right_y], key=lambda x: (x[0], x[1]))\n",
      "           ^^^^^^^^^^^^^^^^^^^^^^^^^^^^^^^^^^^^^^^^^^^^^^^^^^^^^^^^^^^^^^^^^^^^^^^^^^^^^^^^^^^^^^^^^^^^^^^^^^^^^^^^^^^^^^^^^^^^^^^^^^^^^^^^^^^^^^^^^^^^^^^^^^^^\n",
      "  File \"/tmp/tmpt_x8_uak\", line 39, in <lambda>\n",
      "    return sorted([bottom_left_x, bottom_left_y, top_left_x, top_left_y, top_right_x, top_right_y, bottom_right_x, bottom_right_y], key=lambda x: (x[0], x[1]))\n",
      "                                                                                                                                                   ~^^^\n",
      "TypeError: 'float' object is not subscriptable\n",
      "Traceback (most recent call last):\n",
      "  File \"/tmp/tmpiuzo8mrm\", line 45, in <module>\n",
      "    code()\n",
      "  File \"/tmp/tmpiuzo8mrm\", line 42, in code\n",
      "    print(solution.findCornerPoints(2, [[1, 0], [1, 2]]))  # Output: [[0, 0], [0, 2], [2, 0], [2, 2]]\n",
      "          ^^^^^^^^^^^^^^^^^^^^^^^^^^^^^^^^^^^^^^^^^^^^^^\n",
      "  File \"/tmp/tmpiuzo8mrm\", line 40, in findCornerPoints\n",
      "    return sorted([bottom_left_x, bottom_left_y, top_left_x, top_left_y, top_right_x, top_right_y, bottom_right_x, bottom_right_y], key=lambda x: (x[0], x[1]))\n",
      "           ^^^^^^^^^^^^^^^^^^^^^^^^^^^^^^^^^^^^^^^^^^^^^^^^^^^^^^^^^^^^^^^^^^^^^^^^^^^^^^^^^^^^^^^^^^^^^^^^^^^^^^^^^^^^^^^^^^^^^^^^^^^^^^^^^^^^^^^^^^^^^^^^^^^^\n",
      "  File \"/tmp/tmpiuzo8mrm\", line 40, in <lambda>\n",
      "    return sorted([bottom_left_x, bottom_left_y, top_left_x, top_left_y, top_right_x, top_right_y, bottom_right_x, bottom_right_y], key=lambda x: (x[0], x[1]))\n",
      "                                                                                                                                                   ~^^^\n",
      "TypeError: 'float' object is not subscriptable\n",
      "Traceback (most recent call last):\n",
      "  File \"/tmp/tmpiuzo8mrm\", line 45, in <module>\n",
      "    code()\n",
      "  File \"/tmp/tmpiuzo8mrm\", line 42, in code\n",
      "    print(solution.findCornerPoints(2, [[1, 0], [1, 2]]))  # Output: [[0, 0], [0, 2], [2, 0], [2, 2]]\n",
      "          ^^^^^^^^^^^^^^^^^^^^^^^^^^^^^^^^^^^^^^^^^^^^^^\n",
      "  File \"/tmp/tmpiuzo8mrm\", line 40, in findCornerPoints\n",
      "    return sorted([bottom_left_x, bottom_left_y, top_left_x, top_left_y, top_right_x, top_right_y, bottom_right_x, bottom_right_y], key=lambda x: (x[0], x[1]))\n",
      "           ^^^^^^^^^^^^^^^^^^^^^^^^^^^^^^^^^^^^^^^^^^^^^^^^^^^^^^^^^^^^^^^^^^^^^^^^^^^^^^^^^^^^^^^^^^^^^^^^^^^^^^^^^^^^^^^^^^^^^^^^^^^^^^^^^^^^^^^^^^^^^^^^^^^^\n",
      "  File \"/tmp/tmpiuzo8mrm\", line 40, in <lambda>\n",
      "    return sorted([bottom_left_x, bottom_left_y, top_left_x, top_left_y, top_right_x, top_right_y, bottom_right_x, bottom_right_y], key=lambda x: (x[0], x[1]))\n",
      "                                                                                                                                                   ~^^^\n",
      "TypeError: 'float' object is not subscriptable\n"
     ]
    },
    {
     "name": "stdout",
     "output_type": "stream",
     "text": [
      "[(-1.0, 1), (1.0, 1), (1, 1.0), (1, 3.0)]\n"
     ]
    },
    {
     "name": "stderr",
     "output_type": "stream",
     "text": [
      "Traceback (most recent call last):\n",
      "  File \"/tmp/tmpdprdvhre\", line 36, in <module>\n",
      "    print(solution.findCornerPoints(2.8284, [{1,1}, {-1,-1}]))  # Output: [[-2, 0], [0, -2], [0, 2], [2, 0]]\n",
      "          ^^^^^^^^^^^^^^^^^^^^^^^^^^^^^^^^^^^^^^^^^^^^^^^^^^^\n",
      "  File \"/tmp/tmpdprdvhre\", line 23, in findCornerPoints\n",
      "    p_x, p_y = points[0]\n",
      "    ^^^^^^^^\n",
      "ValueError: not enough values to unpack (expected 2, got 1)\n"
     ]
    },
    {
     "name": "stdout",
     "output_type": "stream",
     "text": [
      "[(-1.0, 1), (1.0, 1), (1, 1.0), (1, 3.0)]\n"
     ]
    },
    {
     "name": "stderr",
     "output_type": "stream",
     "text": [
      "Traceback (most recent call last):\n",
      "  File \"/tmp/tmpdprdvhre\", line 36, in <module>\n",
      "    print(solution.findCornerPoints(2.8284, [{1,1}, {-1,-1}]))  # Output: [[-2, 0], [0, -2], [0, 2], [2, 0]]\n",
      "          ^^^^^^^^^^^^^^^^^^^^^^^^^^^^^^^^^^^^^^^^^^^^^^^^^^^\n",
      "  File \"/tmp/tmpdprdvhre\", line 23, in findCornerPoints\n",
      "    p_x, p_y = points[0]\n",
      "    ^^^^^^^^\n",
      "ValueError: not enough values to unpack (expected 2, got 1)\n"
     ]
    },
    {
     "name": "stdout",
     "output_type": "stream",
     "text": [
      "[(-1.0, 1), (1.0, 1), (1, 1.0), (1, 3.0)]\n"
     ]
    },
    {
     "name": "stderr",
     "output_type": "stream",
     "text": [
      "Traceback (most recent call last):\n",
      "  File \"/tmp/tmpltvlda61\", line 39, in <module>\n",
      "    code()\n",
      "  File \"/tmp/tmpltvlda61\", line 37, in code\n",
      "    print(solution.findCornerPoints(2.8284, [{1,1}, {-1,-1}]))  # Output: [[-2, 0], [0, -2], [0, 2], [2, 0]]\n",
      "          ^^^^^^^^^^^^^^^^^^^^^^^^^^^^^^^^^^^^^^^^^^^^^^^^^^^\n",
      "  File \"/tmp/tmpltvlda61\", line 24, in findCornerPoints\n",
      "    p_x, p_y = points[0]\n",
      "    ^^^^^^^^\n",
      "ValueError: not enough values to unpack (expected 2, got 1)\n"
     ]
    },
    {
     "name": "stdout",
     "output_type": "stream",
     "text": [
      "[(-1.0, 1), (1.0, 1), (1, 1.0), (1, 3.0)]\n"
     ]
    },
    {
     "name": "stderr",
     "output_type": "stream",
     "text": [
      "Traceback (most recent call last):\n",
      "  File \"/tmp/tmpltvlda61\", line 39, in <module>\n",
      "    code()\n",
      "  File \"/tmp/tmpltvlda61\", line 37, in code\n",
      "    print(solution.findCornerPoints(2.8284, [{1,1}, {-1,-1}]))  # Output: [[-2, 0], [0, -2], [0, 2], [2, 0]]\n",
      "          ^^^^^^^^^^^^^^^^^^^^^^^^^^^^^^^^^^^^^^^^^^^^^^^^^^^\n",
      "  File \"/tmp/tmpltvlda61\", line 24, in findCornerPoints\n",
      "    p_x, p_y = points[0]\n",
      "    ^^^^^^^^\n",
      "ValueError: not enough values to unpack (expected 2, got 1)\n"
     ]
    },
    {
     "name": "stdout",
     "output_type": "stream",
     "text": [
      "[(-1.0, 1), (0, 3.0), (1, 1.0), (2.0, 1)]\n"
     ]
    },
    {
     "name": "stderr",
     "output_type": "stream",
     "text": [
      "Traceback (most recent call last):\n",
      "  File \"/tmp/tmp6vtok2em\", line 34, in <module>\n",
      "    print(solution.findCornerPoints(2.8284, [{1,1}, {-1,-1}]))  # Output: [[-2, 0], [0, -2], [0, 2], [2, 0]]\n",
      "          ^^^^^^^^^^^^^^^^^^^^^^^^^^^^^^^^^^^^^^^^^^^^^^^^^^^\n",
      "  File \"/tmp/tmp6vtok2em\", line 21, in findCornerPoints\n",
      "    x1, y1 = points[0]\n",
      "    ^^^^^^\n",
      "ValueError: not enough values to unpack (expected 2, got 1)\n"
     ]
    },
    {
     "name": "stdout",
     "output_type": "stream",
     "text": [
      "[(-1.0, 1), (0, 3.0), (1, 1.0), (2.0, 1)]\n"
     ]
    },
    {
     "name": "stderr",
     "output_type": "stream",
     "text": [
      "Traceback (most recent call last):\n",
      "  File \"/tmp/tmp6vtok2em\", line 34, in <module>\n",
      "    print(solution.findCornerPoints(2.8284, [{1,1}, {-1,-1}]))  # Output: [[-2, 0], [0, -2], [0, 2], [2, 0]]\n",
      "          ^^^^^^^^^^^^^^^^^^^^^^^^^^^^^^^^^^^^^^^^^^^^^^^^^^^\n",
      "  File \"/tmp/tmp6vtok2em\", line 21, in findCornerPoints\n",
      "    x1, y1 = points[0]\n",
      "    ^^^^^^\n",
      "ValueError: not enough values to unpack (expected 2, got 1)\n"
     ]
    },
    {
     "name": "stdout",
     "output_type": "stream",
     "text": [
      "[(-1.0, 1), (0, 3.0), (1, 1.0), (2.0, 1)]\n"
     ]
    },
    {
     "name": "stderr",
     "output_type": "stream",
     "text": [
      "Traceback (most recent call last):\n",
      "  File \"/tmp/tmpcz5fopv6\", line 37, in <module>\n",
      "    code()\n",
      "  File \"/tmp/tmpcz5fopv6\", line 35, in code\n",
      "    print(solution.findCornerPoints(2.8284, [{1,1}, {-1,-1}]))  # Output: [[-2, 0], [0, -2], [0, 2], [2, 0]]\n",
      "          ^^^^^^^^^^^^^^^^^^^^^^^^^^^^^^^^^^^^^^^^^^^^^^^^^^^\n",
      "  File \"/tmp/tmpcz5fopv6\", line 22, in findCornerPoints\n",
      "    x1, y1 = points[0]\n",
      "    ^^^^^^\n",
      "ValueError: not enough values to unpack (expected 2, got 1)\n"
     ]
    },
    {
     "name": "stdout",
     "output_type": "stream",
     "text": [
      "[(-1.0, 1), (0, 3.0), (1, 1.0), (2.0, 1)]\n"
     ]
    },
    {
     "name": "stderr",
     "output_type": "stream",
     "text": [
      "Traceback (most recent call last):\n",
      "  File \"/tmp/tmpcz5fopv6\", line 37, in <module>\n",
      "    code()\n",
      "  File \"/tmp/tmpcz5fopv6\", line 35, in code\n",
      "    print(solution.findCornerPoints(2.8284, [{1,1}, {-1,-1}]))  # Output: [[-2, 0], [0, -2], [0, 2], [2, 0]]\n",
      "          ^^^^^^^^^^^^^^^^^^^^^^^^^^^^^^^^^^^^^^^^^^^^^^^^^^^\n",
      "  File \"/tmp/tmpcz5fopv6\", line 22, in findCornerPoints\n",
      "    x1, y1 = points[0]\n",
      "    ^^^^^^\n",
      "ValueError: not enough values to unpack (expected 2, got 1)\n",
      "Traceback (most recent call last):\n",
      "  File \"/tmp/tmp5_5dzx_c\", line 65, in <module>\n",
      "    print(solution.findCornerPoints(2, [[1,0],[1,2]]))  # Output: [[0, 0], [0, 2], [2, 0], [2, 2]]\n",
      "          ^^^^^^^^^^^^^^^^^^^^^^^^^^^^^^^^^^^^^^^^^^^\n",
      "  File \"/tmp/tmp5_5dzx_c\", line 58, in findCornerPoints\n",
      "    corners = sorted([ax, ay, bx, by, cx, cy, dx, dy], key=lambda x: (x[0], x[1]))\n",
      "              ^^^^^^^^^^^^^^^^^^^^^^^^^^^^^^^^^^^^^^^^^^^^^^^^^^^^^^^^^^^^^^^^^^^^\n",
      "  File \"/tmp/tmp5_5dzx_c\", line 58, in <lambda>\n",
      "    corners = sorted([ax, ay, bx, by, cx, cy, dx, dy], key=lambda x: (x[0], x[1]))\n",
      "                                                                      ~^^^\n",
      "TypeError: 'int' object is not subscriptable\n",
      "Traceback (most recent call last):\n",
      "  File \"/tmp/tmp5_5dzx_c\", line 65, in <module>\n",
      "    print(solution.findCornerPoints(2, [[1,0],[1,2]]))  # Output: [[0, 0], [0, 2], [2, 0], [2, 2]]\n",
      "          ^^^^^^^^^^^^^^^^^^^^^^^^^^^^^^^^^^^^^^^^^^^\n",
      "  File \"/tmp/tmp5_5dzx_c\", line 58, in findCornerPoints\n",
      "    corners = sorted([ax, ay, bx, by, cx, cy, dx, dy], key=lambda x: (x[0], x[1]))\n",
      "              ^^^^^^^^^^^^^^^^^^^^^^^^^^^^^^^^^^^^^^^^^^^^^^^^^^^^^^^^^^^^^^^^^^^^\n",
      "  File \"/tmp/tmp5_5dzx_c\", line 58, in <lambda>\n",
      "    corners = sorted([ax, ay, bx, by, cx, cy, dx, dy], key=lambda x: (x[0], x[1]))\n",
      "                                                                      ~^^^\n",
      "TypeError: 'int' object is not subscriptable\n",
      "Traceback (most recent call last):\n",
      "  File \"/tmp/tmpi6heusop\", line 69, in <module>\n",
      "    code()\n",
      "  File \"/tmp/tmpi6heusop\", line 66, in code\n",
      "    print(solution.findCornerPoints(2, [[1,0],[1,2]]))  # Output: [[0, 0], [0, 2], [2, 0], [2, 2]]\n",
      "          ^^^^^^^^^^^^^^^^^^^^^^^^^^^^^^^^^^^^^^^^^^^\n",
      "  File \"/tmp/tmpi6heusop\", line 59, in findCornerPoints\n",
      "    corners = sorted([ax, ay, bx, by, cx, cy, dx, dy], key=lambda x: (x[0], x[1]))\n",
      "              ^^^^^^^^^^^^^^^^^^^^^^^^^^^^^^^^^^^^^^^^^^^^^^^^^^^^^^^^^^^^^^^^^^^^\n",
      "  File \"/tmp/tmpi6heusop\", line 59, in <lambda>\n",
      "    corners = sorted([ax, ay, bx, by, cx, cy, dx, dy], key=lambda x: (x[0], x[1]))\n",
      "                                                                      ~^^^\n",
      "TypeError: 'int' object is not subscriptable\n",
      "Traceback (most recent call last):\n",
      "  File \"/tmp/tmpi6heusop\", line 69, in <module>\n",
      "    code()\n",
      "  File \"/tmp/tmpi6heusop\", line 66, in code\n",
      "    print(solution.findCornerPoints(2, [[1,0],[1,2]]))  # Output: [[0, 0], [0, 2], [2, 0], [2, 2]]\n",
      "          ^^^^^^^^^^^^^^^^^^^^^^^^^^^^^^^^^^^^^^^^^^^\n",
      "  File \"/tmp/tmpi6heusop\", line 59, in findCornerPoints\n",
      "    corners = sorted([ax, ay, bx, by, cx, cy, dx, dy], key=lambda x: (x[0], x[1]))\n",
      "              ^^^^^^^^^^^^^^^^^^^^^^^^^^^^^^^^^^^^^^^^^^^^^^^^^^^^^^^^^^^^^^^^^^^^\n",
      "  File \"/tmp/tmpi6heusop\", line 59, in <lambda>\n",
      "    corners = sorted([ax, ay, bx, by, cx, cy, dx, dy], key=lambda x: (x[0], x[1]))\n",
      "                                                                      ~^^^\n",
      "TypeError: 'int' object is not subscriptable\n"
     ]
    },
    {
     "data": {
      "text/plain": [
       "{10237: [32, 9]}"
      ]
     },
     "execution_count": 9,
     "metadata": {},
     "output_type": "execute_result"
    }
   ],
   "source": [
    "compute_1_pass_by_test(\"no_context_parsed.json\", [train_dict[10237]])"
   ]
  },
  {
   "cell_type": "markdown",
   "metadata": {},
   "source": [
    "## Select Context\n",
    "\n",
    "Here we will try to get 4 solutions that are related to the problem above\n"
   ]
  },
  {
   "cell_type": "code",
   "execution_count": null,
   "metadata": {},
   "outputs": [
    {
     "name": "stdout",
     "output_type": "stream",
     "text": [
      "shape: (1, 2)\n",
      "┌─────┬───────┐\n",
      "│ id  ┆ input │\n",
      "│ --- ┆ ---   │\n",
      "│ u32 ┆ u32   │\n",
      "╞═════╪═══════╡\n",
      "│ 14  ┆ 14    │\n",
      "└─────┴───────┘\n"
     ]
    }
   ],
   "source": [
    "# df = train.filter(pl.col(\"tags\") == \"Geometry\").filter(pl.col(\"difficulty\") == \"EASY\").filter(pl.col(\"input\").str.contains(\"class Solution\")).select([\"id\", \"input\"])\n",
    "# print(df.count())\n",
    "# df.write_csv(\"pool.csv\")"
   ]
  },
  {
   "cell_type": "code",
   "execution_count": 10,
   "metadata": {},
   "outputs": [],
   "source": [
    "selected_ids = [21825, 10745, 1643, 4661]\n",
    "# train.filter(pl.col(\"id\") == 1643)"
   ]
  },
  {
   "cell_type": "code",
   "execution_count": 11,
   "metadata": {},
   "outputs": [],
   "source": [
    "all_inputs  = train.filter(pl.col(\"id\").is_in(selected_ids)).select(\"input\").unique().to_dict()[\"input\"]\n",
    "all_solutions = train_solutions.filter(pl.col(\"id\").is_in(selected_ids)).group_by(pl.col(\"id\")).head(1).select(\"solution\").unique().to_dict()[\"solution\"]\n",
    "question_input = selected_problem.select(\"input\").to_dict()[\"input\"][0]\n",
    "\n",
    "# all_inputs"
   ]
  },
  {
   "cell_type": "markdown",
   "metadata": {},
   "source": [
    "## Full Prompt Run"
   ]
  },
  {
   "cell_type": "code",
   "execution_count": null,
   "metadata": {},
   "outputs": [],
   "source": [
    "context_prompt = \"You will have to answer a programming quesiton in geometry, we will pass before some examples of questions and solutions\\n\"\n",
    "for i in range(4):\n",
    "    context_prompt += f\"EXAMPLE QUESTION {i}:\\n {all_inputs[i]}\\n EXAMPLE SOLUTION {i}:\\n {all_solutions[i]}\\n\"\n",
    "\n",
    "full_prompt = f\"Please write a Python program {context_prompt} \\nQUESTION: \\n{question_input} \\n ANSWER: \\n.\""
   ]
  },
  {
   "cell_type": "code",
   "execution_count": null,
   "metadata": {},
   "outputs": [
    {
     "name": "stderr",
     "output_type": "stream",
     "text": [
      "The `load_in_4bit` and `load_in_8bit` arguments are deprecated and will be removed in the future versions. Please, pass a `BitsAndBytesConfig` object in `quantization_config` argument instead.\n",
      "Loading checkpoint shards: 100%|██████████| 4/4 [00:05<00:00,  1.49s/it]\n"
     ]
    },
    {
     "name": "stdout",
     "output_type": "stream",
     "text": [
      "Lopp 0, 2025-02-27 08:19:55.087679\n"
     ]
    },
    {
     "name": "stderr",
     "output_type": "stream",
     "text": [
      "/home/caio.rhoden/miniconda3/envs/datamodels/lib/python3.11/site-packages/bitsandbytes/autograd/_functions.py:316: UserWarning: MatMul8bitLt: inputs will be cast from torch.bfloat16 to float16 during quantization\n",
      "  warnings.warn(f\"MatMul8bitLt: inputs will be cast from {A.dtype} to float16 during quantization\")\n"
     ]
    },
    {
     "name": "stdout",
     "output_type": "stream",
     "text": [
      "Lopp 1, 2025-02-27 08:43:58.668251\n"
     ]
    }
   ],
   "source": [
    "# run_inference(\n",
    "#     prompt=full_prompt,\n",
    "#     path = \"full_prompt.json\",\n",
    "#     num_returns=200,\n",
    "#     max_length=4096\n",
    "# )"
   ]
  },
  {
   "cell_type": "code",
   "execution_count": 12,
   "metadata": {},
   "outputs": [],
   "source": [
    "parse_generation(json.load(open(\"full_prompt.json\")), 10237 , \"full_prompt_parsed.json\")"
   ]
  },
  {
   "cell_type": "code",
   "execution_count": 13,
   "metadata": {},
   "outputs": [
    {
     "name": "stdout",
     "output_type": "stream",
     "text": [
      "1\n",
      "8\n"
     ]
    },
    {
     "name": "stderr",
     "output_type": "stream",
     "text": [
      "Traceback (most recent call last):\n",
      "  File \"/tmp/tmplla2l2rz\", line 51, in <module>\n",
      "    print(solution.doOverlap([0, 0, 2, 2], [1, 1, 3, 3]))  # Output: 1\n",
      "          ^^^^^^^^^^^^^^^^^^^^^^^^^^^^^^^^^^^^^^^^^^^^^^\n",
      "TypeError: Solution.doOverlap() missing 2 required positional arguments: 'L2' and 'R2'\n"
     ]
    },
    {
     "name": "stdout",
     "output_type": "stream",
     "text": [
      "1\n",
      "8\n"
     ]
    },
    {
     "name": "stderr",
     "output_type": "stream",
     "text": [
      "Traceback (most recent call last):\n",
      "  File \"/tmp/tmplla2l2rz\", line 51, in <module>\n",
      "    print(solution.doOverlap([0, 0, 2, 2], [1, 1, 3, 3]))  # Output: 1\n",
      "          ^^^^^^^^^^^^^^^^^^^^^^^^^^^^^^^^^^^^^^^^^^^^^^\n",
      "TypeError: Solution.doOverlap() missing 2 required positional arguments: 'L2' and 'R2'\n"
     ]
    },
    {
     "name": "stdout",
     "output_type": "stream",
     "text": [
      "1\n",
      "8\n"
     ]
    },
    {
     "name": "stderr",
     "output_type": "stream",
     "text": [
      "Traceback (most recent call last):\n",
      "  File \"/tmp/tmpastdar20\", line 60, in <module>\n",
      "    code()\n",
      "  File \"/tmp/tmpastdar20\", line 52, in code\n",
      "    print(solution.doOverlap([0, 0, 2, 2], [1, 1, 3, 3]))  # Output: 1\n",
      "          ^^^^^^^^^^^^^^^^^^^^^^^^^^^^^^^^^^^^^^^^^^^^^^\n",
      "TypeError: code.<locals>.Solution.doOverlap() missing 2 required positional arguments: 'L2' and 'R2'\n"
     ]
    },
    {
     "name": "stdout",
     "output_type": "stream",
     "text": [
      "1\n",
      "8\n"
     ]
    },
    {
     "name": "stderr",
     "output_type": "stream",
     "text": [
      "Traceback (most recent call last):\n",
      "  File \"/tmp/tmpastdar20\", line 60, in <module>\n",
      "    code()\n",
      "  File \"/tmp/tmpastdar20\", line 52, in code\n",
      "    print(solution.doOverlap([0, 0, 2, 2], [1, 1, 3, 3]))  # Output: 1\n",
      "          ^^^^^^^^^^^^^^^^^^^^^^^^^^^^^^^^^^^^^^^^^^^^^^\n",
      "TypeError: code.<locals>.Solution.doOverlap() missing 2 required positional arguments: 'L2' and 'R2'\n"
     ]
    },
    {
     "name": "stdout",
     "output_type": "stream",
     "text": [
      "8\n",
      "0\n"
     ]
    },
    {
     "name": "stderr",
     "output_type": "stream",
     "text": [
      "Traceback (most recent call last):\n",
      "  File \"/tmp/tmpj0yswfov\", line 80, in <module>\n",
      "    print(solution.doOverlap([0, 0, 2, 2], [1, 1, 3, 3]))\n",
      "          ^^^^^^^^^^^^^^^^^^^^^^^^^^^^^^^^^^^^^^^^^^^^^^\n",
      "TypeError: Solution.doOverlap() missing 2 required positional arguments: 'L2' and 'R2'\n"
     ]
    },
    {
     "name": "stdout",
     "output_type": "stream",
     "text": [
      "8\n",
      "0\n"
     ]
    },
    {
     "name": "stderr",
     "output_type": "stream",
     "text": [
      "Traceback (most recent call last):\n",
      "  File \"/tmp/tmpj0yswfov\", line 80, in <module>\n",
      "    print(solution.doOverlap([0, 0, 2, 2], [1, 1, 3, 3]))\n",
      "          ^^^^^^^^^^^^^^^^^^^^^^^^^^^^^^^^^^^^^^^^^^^^^^\n",
      "TypeError: Solution.doOverlap() missing 2 required positional arguments: 'L2' and 'R2'\n"
     ]
    },
    {
     "name": "stdout",
     "output_type": "stream",
     "text": [
      "8\n",
      "0\n"
     ]
    },
    {
     "name": "stderr",
     "output_type": "stream",
     "text": [
      "Traceback (most recent call last):\n",
      "  File \"/tmp/tmpmftlvgb4\", line 84, in <module>\n",
      "    code()\n",
      "  File \"/tmp/tmpmftlvgb4\", line 81, in code\n",
      "    print(solution.doOverlap([0, 0, 2, 2], [1, 1, 3, 3]))\n",
      "          ^^^^^^^^^^^^^^^^^^^^^^^^^^^^^^^^^^^^^^^^^^^^^^\n",
      "TypeError: code.<locals>.Solution.doOverlap() missing 2 required positional arguments: 'L2' and 'R2'\n"
     ]
    },
    {
     "name": "stdout",
     "output_type": "stream",
     "text": [
      "1\n",
      "8\n",
      "0\n",
      "1\n",
      "True\n",
      "False\n",
      "False\n"
     ]
    },
    {
     "name": "stderr",
     "output_type": "stream",
     "text": [
      "Traceback (most recent call last):\n",
      "  File \"/tmp/tmp8l_shf50\", line 76, in <module>\n",
      "    print(solution.findCornerPoints(2, {{1, 0}, {1, 2}}))  # Output: [[0, 0], [0, 2], [2, 0], [2, 2]]\n",
      "                                       ^^^^^^^^^^^^^^^^\n",
      "TypeError: unhashable type: 'set'\n"
     ]
    },
    {
     "name": "stdout",
     "output_type": "stream",
     "text": [
      "1\n",
      "8\n",
      "0\n",
      "1\n",
      "True\n",
      "False\n",
      "False\n"
     ]
    },
    {
     "name": "stderr",
     "output_type": "stream",
     "text": [
      "Traceback (most recent call last):\n",
      "  File \"/tmp/tmp8l_shf50\", line 76, in <module>\n",
      "    print(solution.findCornerPoints(2, {{1, 0}, {1, 2}}))  # Output: [[0, 0], [0, 2], [2, 0], [2, 2]]\n",
      "                                       ^^^^^^^^^^^^^^^^\n",
      "TypeError: unhashable type: 'set'\n"
     ]
    },
    {
     "name": "stdout",
     "output_type": "stream",
     "text": [
      "1\n",
      "8\n",
      "0\n",
      "1\n",
      "True\n",
      "False\n",
      "False\n"
     ]
    },
    {
     "name": "stderr",
     "output_type": "stream",
     "text": [
      "Traceback (most recent call last):\n",
      "  File \"/tmp/tmpoxlvrjei\", line 80, in <module>\n",
      "    code()\n",
      "  File \"/tmp/tmpoxlvrjei\", line 77, in code\n",
      "    print(solution.findCornerPoints(2, {{1, 0}, {1, 2}}))  # Output: [[0, 0], [0, 2], [2, 0], [2, 2]]\n",
      "                                       ^^^^^^^^^^^^^^^^\n",
      "TypeError: unhashable type: 'set'\n"
     ]
    },
    {
     "name": "stdout",
     "output_type": "stream",
     "text": [
      "1\n",
      "8\n",
      "0\n",
      "1\n",
      "True\n",
      "False\n",
      "False\n"
     ]
    },
    {
     "name": "stderr",
     "output_type": "stream",
     "text": [
      "Traceback (most recent call last):\n",
      "  File \"/tmp/tmpoxlvrjei\", line 80, in <module>\n",
      "    code()\n",
      "  File \"/tmp/tmpoxlvrjei\", line 77, in code\n",
      "    print(solution.findCornerPoints(2, {{1, 0}, {1, 2}}))  # Output: [[0, 0], [0, 2], [2, 0], [2, 2]]\n",
      "                                       ^^^^^^^^^^^^^^^^\n",
      "TypeError: unhashable type: 'set'\n"
     ]
    },
    {
     "name": "stdout",
     "output_type": "stream",
     "text": [
      "8\n",
      "True\n"
     ]
    },
    {
     "name": "stderr",
     "output_type": "stream",
     "text": [
      "Traceback (most recent call last):\n",
      "  File \"/tmp/tmpbvt5hls5\", line 47, in <module>\n",
      "    print(solution.findCornerPoints(4, [1, 2]))  # Output: [[-1.0, -1.0], [-1.0, 3.0], [3.0, -1.0], [3.0, 3.0]]\n",
      "          ^^^^^^^^^^^^^^^^^^^^^^^^^^^^^^^^^^^^\n",
      "  File \"/tmp/tmpbvt5hls5\", line 37, in findCornerPoints\n",
      "    a = p[0] - L // 2\n",
      "        ~^^^\n",
      "TypeError: 'int' object is not subscriptable\n"
     ]
    },
    {
     "name": "stdout",
     "output_type": "stream",
     "text": [
      "8\n",
      "True\n"
     ]
    },
    {
     "name": "stderr",
     "output_type": "stream",
     "text": [
      "Traceback (most recent call last):\n",
      "  File \"/tmp/tmpbvt5hls5\", line 47, in <module>\n",
      "    print(solution.findCornerPoints(4, [1, 2]))  # Output: [[-1.0, -1.0], [-1.0, 3.0], [3.0, -1.0], [3.0, 3.0]]\n",
      "          ^^^^^^^^^^^^^^^^^^^^^^^^^^^^^^^^^^^^\n",
      "  File \"/tmp/tmpbvt5hls5\", line 37, in findCornerPoints\n",
      "    a = p[0] - L // 2\n",
      "        ~^^^\n",
      "TypeError: 'int' object is not subscriptable\n"
     ]
    },
    {
     "name": "stdout",
     "output_type": "stream",
     "text": [
      "8\n",
      "True\n"
     ]
    },
    {
     "name": "stderr",
     "output_type": "stream",
     "text": [
      "Traceback (most recent call last):\n",
      "  File \"/tmp/tmp0k05y65h\", line 50, in <module>\n",
      "    code()\n",
      "  File \"/tmp/tmp0k05y65h\", line 48, in code\n",
      "    print(solution.findCornerPoints(4, [1, 2]))  # Output: [[-1.0, -1.0], [-1.0, 3.0], [3.0, -1.0], [3.0, 3.0]]\n",
      "          ^^^^^^^^^^^^^^^^^^^^^^^^^^^^^^^^^^^^\n",
      "  File \"/tmp/tmp0k05y65h\", line 38, in findCornerPoints\n",
      "    a = p[0] - L // 2\n",
      "        ~^^^\n",
      "TypeError: 'int' object is not subscriptable\n"
     ]
    },
    {
     "name": "stdout",
     "output_type": "stream",
     "text": [
      "8\n",
      "True\n"
     ]
    },
    {
     "name": "stderr",
     "output_type": "stream",
     "text": [
      "Traceback (most recent call last):\n",
      "  File \"/tmp/tmp0k05y65h\", line 50, in <module>\n",
      "    code()\n",
      "  File \"/tmp/tmp0k05y65h\", line 48, in code\n",
      "    print(solution.findCornerPoints(4, [1, 2]))  # Output: [[-1.0, -1.0], [-1.0, 3.0], [3.0, -1.0], [3.0, 3.0]]\n",
      "          ^^^^^^^^^^^^^^^^^^^^^^^^^^^^^^^^^^^^\n",
      "  File \"/tmp/tmp0k05y65h\", line 38, in findCornerPoints\n",
      "    a = p[0] - L // 2\n",
      "        ~^^^\n",
      "TypeError: 'int' object is not subscriptable\n"
     ]
    },
    {
     "name": "stdout",
     "output_type": "stream",
     "text": [
      "22\n",
      "0\n",
      "True\n"
     ]
    },
    {
     "name": "stderr",
     "output_type": "stream",
     "text": [
      "Traceback (most recent call last):\n",
      "  File \"/tmp/tmp0072wes4\", line 96, in <module>\n",
      "    print(solution.doOverlap([0,10], [10,0], [1,1], [2,2]))  # Output: 0\n",
      "          ^^^^^^^^^^^^^^^^^^^^^^^^^^^^^^^^^^^^^^^^^^^^^^^^\n",
      "  File \"/tmp/tmp0072wes4\", line 64, in doOverlap\n",
      "    return not (L1[0] >= R2[2] or R1[2] <= L2[0] or L1[1] >= R2[3] or R1[3] <= L2[1])\n",
      "                         ~~^^^\n",
      "IndexError: list index out of range\n"
     ]
    },
    {
     "name": "stdout",
     "output_type": "stream",
     "text": [
      "22\n",
      "0\n",
      "True\n"
     ]
    },
    {
     "name": "stderr",
     "output_type": "stream",
     "text": [
      "Traceback (most recent call last):\n",
      "  File \"/tmp/tmp0072wes4\", line 96, in <module>\n",
      "    print(solution.doOverlap([0,10], [10,0], [1,1], [2,2]))  # Output: 0\n",
      "          ^^^^^^^^^^^^^^^^^^^^^^^^^^^^^^^^^^^^^^^^^^^^^^^^\n",
      "  File \"/tmp/tmp0072wes4\", line 64, in doOverlap\n",
      "    return not (L1[0] >= R2[2] or R1[2] <= L2[0] or L1[1] >= R2[3] or R1[3] <= L2[1])\n",
      "                         ~~^^^\n",
      "IndexError: list index out of range\n"
     ]
    },
    {
     "name": "stdout",
     "output_type": "stream",
     "text": [
      "22\n",
      "0\n",
      "True\n"
     ]
    },
    {
     "name": "stderr",
     "output_type": "stream",
     "text": [
      "Traceback (most recent call last):\n",
      "  File \"/tmp/tmpem4ret0o\", line 100, in <module>\n",
      "    code()\n",
      "  File \"/tmp/tmpem4ret0o\", line 97, in code\n",
      "    print(solution.doOverlap([0,10], [10,0], [1,1], [2,2]))  # Output: 0\n",
      "          ^^^^^^^^^^^^^^^^^^^^^^^^^^^^^^^^^^^^^^^^^^^^^^^^\n",
      "  File \"/tmp/tmpem4ret0o\", line 65, in doOverlap\n",
      "    return not (L1[0] >= R2[2] or R1[2] <= L2[0] or L1[1] >= R2[3] or R1[3] <= L2[1])\n",
      "                         ~~^^^\n",
      "IndexError: list index out of range\n",
      "Traceback (most recent call last):\n",
      "  File \"/tmp/tmpem4ret0o\", line 100, in <module>\n",
      "    code()\n",
      "  File \"/tmp/tmpem4ret0o\", line 97, in code\n",
      "    print(solution.doOverlap([0,10], [10,0], [1,1], [2,2]))  # Output: 0\n",
      "          ^^^^^^^^^^^^^^^^^^^^^^^^^^^^^^^^^^^^^^^^^^^^^^^^\n",
      "  File \"/tmp/tmpem4ret0o\", line 65, in doOverlap\n",
      "    return not (L1[0] >= R2[2] or R1[2] <= L2[0] or L1[1] >= R2[3] or R1[3] <= L2[1])\n",
      "                         ~~^^^\n",
      "IndexError: list index out of range\n"
     ]
    },
    {
     "name": "stdout",
     "output_type": "stream",
     "text": [
      "22\n",
      "0\n",
      "True\n"
     ]
    }
   ],
   "source": [
    "compute(\"full_prompt_parsed.json\", [train_dict[10237]], [1, 10, 100])"
   ]
  },
  {
   "cell_type": "code",
   "execution_count": 14,
   "metadata": {},
   "outputs": [
    {
     "data": {
      "text/plain": [
       "{'pass@1': 0.0,\n",
       " 'pass@10': 0.0,\n",
       " 'detail': {'pass@1': {'10237': 0.0}, 'pass@10': {'10237': 0.0}}}"
      ]
     },
     "execution_count": 14,
     "metadata": {},
     "output_type": "execute_result"
    }
   ],
   "source": [
    "json.load(open(\"full_prompt_metrics.json\"))"
   ]
  },
  {
   "cell_type": "code",
   "execution_count": 15,
   "metadata": {},
   "outputs": [
    {
     "name": "stdout",
     "output_type": "stream",
     "text": [
      "1\n",
      "8\n"
     ]
    },
    {
     "name": "stderr",
     "output_type": "stream",
     "text": [
      "Traceback (most recent call last):\n",
      "  File \"/tmp/tmpfsa78x_w\", line 51, in <module>\n",
      "    print(solution.doOverlap([0, 0, 2, 2], [1, 1, 3, 3]))  # Output: 1\n",
      "          ^^^^^^^^^^^^^^^^^^^^^^^^^^^^^^^^^^^^^^^^^^^^^^\n",
      "TypeError: Solution.doOverlap() missing 2 required positional arguments: 'L2' and 'R2'\n"
     ]
    },
    {
     "name": "stdout",
     "output_type": "stream",
     "text": [
      "1\n",
      "8\n"
     ]
    },
    {
     "name": "stderr",
     "output_type": "stream",
     "text": [
      "Traceback (most recent call last):\n",
      "  File \"/tmp/tmpfsa78x_w\", line 51, in <module>\n",
      "    print(solution.doOverlap([0, 0, 2, 2], [1, 1, 3, 3]))  # Output: 1\n",
      "          ^^^^^^^^^^^^^^^^^^^^^^^^^^^^^^^^^^^^^^^^^^^^^^\n",
      "TypeError: Solution.doOverlap() missing 2 required positional arguments: 'L2' and 'R2'\n"
     ]
    },
    {
     "name": "stdout",
     "output_type": "stream",
     "text": [
      "1\n",
      "8\n"
     ]
    },
    {
     "name": "stderr",
     "output_type": "stream",
     "text": [
      "Traceback (most recent call last):\n",
      "  File \"/tmp/tmpmcf_4ddf\", line 60, in <module>\n",
      "    code()\n",
      "  File \"/tmp/tmpmcf_4ddf\", line 52, in code\n",
      "    print(solution.doOverlap([0, 0, 2, 2], [1, 1, 3, 3]))  # Output: 1\n",
      "          ^^^^^^^^^^^^^^^^^^^^^^^^^^^^^^^^^^^^^^^^^^^^^^\n",
      "TypeError: code.<locals>.Solution.doOverlap() missing 2 required positional arguments: 'L2' and 'R2'\n"
     ]
    },
    {
     "name": "stdout",
     "output_type": "stream",
     "text": [
      "1\n",
      "8\n"
     ]
    },
    {
     "name": "stderr",
     "output_type": "stream",
     "text": [
      "Traceback (most recent call last):\n",
      "  File \"/tmp/tmpmcf_4ddf\", line 60, in <module>\n",
      "    code()\n",
      "  File \"/tmp/tmpmcf_4ddf\", line 52, in code\n",
      "    print(solution.doOverlap([0, 0, 2, 2], [1, 1, 3, 3]))  # Output: 1\n",
      "          ^^^^^^^^^^^^^^^^^^^^^^^^^^^^^^^^^^^^^^^^^^^^^^\n",
      "TypeError: code.<locals>.Solution.doOverlap() missing 2 required positional arguments: 'L2' and 'R2'\n"
     ]
    },
    {
     "name": "stdout",
     "output_type": "stream",
     "text": [
      "8\n",
      "0\n"
     ]
    },
    {
     "name": "stderr",
     "output_type": "stream",
     "text": [
      "Traceback (most recent call last):\n",
      "  File \"/tmp/tmp4rgv6p_1\", line 80, in <module>\n",
      "    print(solution.doOverlap([0, 0, 2, 2], [1, 1, 3, 3]))\n",
      "          ^^^^^^^^^^^^^^^^^^^^^^^^^^^^^^^^^^^^^^^^^^^^^^\n",
      "TypeError: Solution.doOverlap() missing 2 required positional arguments: 'L2' and 'R2'\n"
     ]
    },
    {
     "name": "stdout",
     "output_type": "stream",
     "text": [
      "8\n",
      "0\n"
     ]
    },
    {
     "name": "stderr",
     "output_type": "stream",
     "text": [
      "Traceback (most recent call last):\n",
      "  File \"/tmp/tmp4rgv6p_1\", line 80, in <module>\n",
      "    print(solution.doOverlap([0, 0, 2, 2], [1, 1, 3, 3]))\n",
      "          ^^^^^^^^^^^^^^^^^^^^^^^^^^^^^^^^^^^^^^^^^^^^^^\n",
      "TypeError: Solution.doOverlap() missing 2 required positional arguments: 'L2' and 'R2'\n"
     ]
    },
    {
     "name": "stdout",
     "output_type": "stream",
     "text": [
      "8\n",
      "0\n"
     ]
    },
    {
     "name": "stderr",
     "output_type": "stream",
     "text": [
      "Traceback (most recent call last):\n",
      "  File \"/tmp/tmp3tt5mvn5\", line 84, in <module>\n",
      "    code()\n",
      "  File \"/tmp/tmp3tt5mvn5\", line 81, in code\n",
      "    print(solution.doOverlap([0, 0, 2, 2], [1, 1, 3, 3]))\n",
      "          ^^^^^^^^^^^^^^^^^^^^^^^^^^^^^^^^^^^^^^^^^^^^^^\n",
      "TypeError: code.<locals>.Solution.doOverlap() missing 2 required positional arguments: 'L2' and 'R2'\n"
     ]
    },
    {
     "name": "stdout",
     "output_type": "stream",
     "text": [
      "8\n",
      "0\n"
     ]
    },
    {
     "name": "stderr",
     "output_type": "stream",
     "text": [
      "Traceback (most recent call last):\n",
      "  File \"/tmp/tmp3tt5mvn5\", line 84, in <module>\n",
      "    code()\n",
      "  File \"/tmp/tmp3tt5mvn5\", line 81, in code\n",
      "    print(solution.doOverlap([0, 0, 2, 2], [1, 1, 3, 3]))\n",
      "          ^^^^^^^^^^^^^^^^^^^^^^^^^^^^^^^^^^^^^^^^^^^^^^\n",
      "TypeError: code.<locals>.Solution.doOverlap() missing 2 required positional arguments: 'L2' and 'R2'\n"
     ]
    },
    {
     "name": "stdout",
     "output_type": "stream",
     "text": [
      "1\n",
      "8\n",
      "0\n",
      "1\n",
      "True\n",
      "False\n",
      "False\n"
     ]
    },
    {
     "name": "stderr",
     "output_type": "stream",
     "text": [
      "Traceback (most recent call last):\n",
      "  File \"/tmp/tmpn77ub0bk\", line 76, in <module>\n",
      "    print(solution.findCornerPoints(2, {{1, 0}, {1, 2}}))  # Output: [[0, 0], [0, 2], [2, 0], [2, 2]]\n",
      "                                       ^^^^^^^^^^^^^^^^\n",
      "TypeError: unhashable type: 'set'\n"
     ]
    },
    {
     "name": "stdout",
     "output_type": "stream",
     "text": [
      "1\n",
      "8\n",
      "0\n",
      "1\n",
      "True\n",
      "False\n",
      "False\n"
     ]
    },
    {
     "name": "stderr",
     "output_type": "stream",
     "text": [
      "Traceback (most recent call last):\n",
      "  File \"/tmp/tmpn77ub0bk\", line 76, in <module>\n",
      "    print(solution.findCornerPoints(2, {{1, 0}, {1, 2}}))  # Output: [[0, 0], [0, 2], [2, 0], [2, 2]]\n",
      "                                       ^^^^^^^^^^^^^^^^\n",
      "TypeError: unhashable type: 'set'\n"
     ]
    },
    {
     "name": "stdout",
     "output_type": "stream",
     "text": [
      "1\n",
      "8\n",
      "0\n",
      "1\n",
      "True\n",
      "False\n",
      "False\n"
     ]
    },
    {
     "name": "stderr",
     "output_type": "stream",
     "text": [
      "Traceback (most recent call last):\n",
      "  File \"/tmp/tmptuyj0zmc\", line 80, in <module>\n",
      "    code()\n",
      "  File \"/tmp/tmptuyj0zmc\", line 77, in code\n",
      "    print(solution.findCornerPoints(2, {{1, 0}, {1, 2}}))  # Output: [[0, 0], [0, 2], [2, 0], [2, 2]]\n",
      "                                       ^^^^^^^^^^^^^^^^\n",
      "TypeError: unhashable type: 'set'\n"
     ]
    },
    {
     "name": "stdout",
     "output_type": "stream",
     "text": [
      "1\n",
      "8\n",
      "0\n",
      "1\n",
      "True\n",
      "False\n",
      "False\n"
     ]
    },
    {
     "name": "stderr",
     "output_type": "stream",
     "text": [
      "Traceback (most recent call last):\n",
      "  File \"/tmp/tmptuyj0zmc\", line 80, in <module>\n",
      "    code()\n",
      "  File \"/tmp/tmptuyj0zmc\", line 77, in code\n",
      "    print(solution.findCornerPoints(2, {{1, 0}, {1, 2}}))  # Output: [[0, 0], [0, 2], [2, 0], [2, 2]]\n",
      "                                       ^^^^^^^^^^^^^^^^\n",
      "TypeError: unhashable type: 'set'\n"
     ]
    },
    {
     "name": "stdout",
     "output_type": "stream",
     "text": [
      "8\n",
      "True\n"
     ]
    },
    {
     "name": "stderr",
     "output_type": "stream",
     "text": [
      "Traceback (most recent call last):\n",
      "  File \"/tmp/tmpp3j0u2s4\", line 47, in <module>\n",
      "    print(solution.findCornerPoints(4, [1, 2]))  # Output: [[-1.0, -1.0], [-1.0, 3.0], [3.0, -1.0], [3.0, 3.0]]\n",
      "          ^^^^^^^^^^^^^^^^^^^^^^^^^^^^^^^^^^^^\n",
      "  File \"/tmp/tmpp3j0u2s4\", line 37, in findCornerPoints\n",
      "    a = p[0] - L // 2\n",
      "        ~^^^\n",
      "TypeError: 'int' object is not subscriptable\n"
     ]
    },
    {
     "name": "stdout",
     "output_type": "stream",
     "text": [
      "22\n",
      "0\n",
      "True\n"
     ]
    },
    {
     "name": "stderr",
     "output_type": "stream",
     "text": [
      "Traceback (most recent call last):\n",
      "  File \"/tmp/tmpz6m66fnb\", line 96, in <module>\n",
      "    print(solution.doOverlap([0,10], [10,0], [1,1], [2,2]))  # Output: 0\n",
      "          ^^^^^^^^^^^^^^^^^^^^^^^^^^^^^^^^^^^^^^^^^^^^^^^^\n",
      "  File \"/tmp/tmpz6m66fnb\", line 64, in doOverlap\n",
      "    return not (L1[0] >= R2[2] or R1[2] <= L2[0] or L1[1] >= R2[3] or R1[3] <= L2[1])\n",
      "                         ~~^^^\n",
      "IndexError: list index out of range\n"
     ]
    },
    {
     "name": "stdout",
     "output_type": "stream",
     "text": [
      "22\n",
      "0\n",
      "True\n"
     ]
    },
    {
     "name": "stderr",
     "output_type": "stream",
     "text": [
      "Traceback (most recent call last):\n",
      "  File \"/tmp/tmpz6m66fnb\", line 96, in <module>\n",
      "    print(solution.doOverlap([0,10], [10,0], [1,1], [2,2]))  # Output: 0\n",
      "          ^^^^^^^^^^^^^^^^^^^^^^^^^^^^^^^^^^^^^^^^^^^^^^^^\n",
      "  File \"/tmp/tmpz6m66fnb\", line 64, in doOverlap\n",
      "    return not (L1[0] >= R2[2] or R1[2] <= L2[0] or L1[1] >= R2[3] or R1[3] <= L2[1])\n",
      "                         ~~^^^\n",
      "IndexError: list index out of range\n"
     ]
    },
    {
     "name": "stdout",
     "output_type": "stream",
     "text": [
      "22\n",
      "0\n",
      "True\n"
     ]
    },
    {
     "name": "stderr",
     "output_type": "stream",
     "text": [
      "Traceback (most recent call last):\n",
      "  File \"/tmp/tmpkf5f90id\", line 100, in <module>\n",
      "    code()\n",
      "  File \"/tmp/tmpkf5f90id\", line 97, in code\n",
      "    print(solution.doOverlap([0,10], [10,0], [1,1], [2,2]))  # Output: 0\n",
      "          ^^^^^^^^^^^^^^^^^^^^^^^^^^^^^^^^^^^^^^^^^^^^^^^^\n",
      "  File \"/tmp/tmpkf5f90id\", line 65, in doOverlap\n",
      "    return not (L1[0] >= R2[2] or R1[2] <= L2[0] or L1[1] >= R2[3] or R1[3] <= L2[1])\n",
      "                         ~~^^^\n",
      "IndexError: list index out of range\n"
     ]
    },
    {
     "name": "stdout",
     "output_type": "stream",
     "text": [
      "22\n",
      "0\n",
      "True\n"
     ]
    },
    {
     "name": "stderr",
     "output_type": "stream",
     "text": [
      "Traceback (most recent call last):\n",
      "  File \"/tmp/tmpkf5f90id\", line 100, in <module>\n",
      "    code()\n",
      "  File \"/tmp/tmpkf5f90id\", line 97, in code\n",
      "    print(solution.doOverlap([0,10], [10,0], [1,1], [2,2]))  # Output: 0\n",
      "          ^^^^^^^^^^^^^^^^^^^^^^^^^^^^^^^^^^^^^^^^^^^^^^^^\n",
      "  File \"/tmp/tmpkf5f90id\", line 65, in doOverlap\n",
      "    return not (L1[0] >= R2[2] or R1[2] <= L2[0] or L1[1] >= R2[3] or R1[3] <= L2[1])\n",
      "                         ~~^^^\n",
      "IndexError: list index out of range\n"
     ]
    },
    {
     "data": {
      "text/plain": [
       "{10237: [5, 6]}"
      ]
     },
     "execution_count": 15,
     "metadata": {},
     "output_type": "execute_result"
    }
   ],
   "source": [
    "compute_1_pass_by_test(\"full_prompt_parsed.json\", [train_dict[10237]])"
   ]
  },
  {
   "cell_type": "markdown",
   "metadata": {},
   "source": [
    "## Only Solutions Run"
   ]
  },
  {
   "cell_type": "code",
   "execution_count": null,
   "metadata": {},
   "outputs": [],
   "source": [
    "context_prompt = \"You will have to answer a programming quesiton in geometry, we will pass before some examples of solutions for similar problems\\n\"\n",
    "for i in range(4):\n",
    "    context_prompt += f\" EXAMPLE SOLUTION {i}:\\n {all_solutions[i]}\\n\"\n",
    "\n",
    "solutions_prompt = f\"Please write a Python program {context_prompt} \\nQUESTION: \\n{question_input} \\n ANSWER: \\n.\""
   ]
  },
  {
   "cell_type": "code",
   "execution_count": null,
   "metadata": {},
   "outputs": [],
   "source": [
    "# run_inference(\n",
    "#     prompt=solutions_prompt,\n",
    "#     path = \"solutions_prompt.json\",\n",
    "#     num_returns=20,\n",
    "#     max_length=4096\n",
    "# )"
   ]
  },
  {
   "cell_type": "code",
   "execution_count": 16,
   "metadata": {},
   "outputs": [],
   "source": [
    "parse_generation(json.load(open(\"solutions_prompt.json\")), 10237 , \"solutions_parsed.json\")"
   ]
  },
  {
   "cell_type": "code",
   "execution_count": 17,
   "metadata": {},
   "outputs": [
    {
     "name": "stderr",
     "output_type": "stream",
     "text": [
      "Traceback (most recent call last):\n",
      "  File \"/tmp/tmpj5ejpyk_\", line 25, in <module>\n",
      "    print(solution.findCornerPoints(2, [1, 0]))\n",
      "          ^^^^^^^^^^^^^^^^^^^^^^^^^^^^^^^^^^^^\n",
      "  File \"/tmp/tmpj5ejpyk_\", line 21, in findCornerPoints\n",
      "    return sorted([[0, points[0][1]], [L, points[0][1]], [points[1][0], 0], [points[1][0], L]])\n",
      "                       ~~~~~~~~~^^^\n",
      "TypeError: 'int' object is not subscriptable\n",
      "Traceback (most recent call last):\n",
      "  File \"/tmp/tmpj5ejpyk_\", line 25, in <module>\n",
      "    print(solution.findCornerPoints(2, [1, 0]))\n",
      "          ^^^^^^^^^^^^^^^^^^^^^^^^^^^^^^^^^^^^\n",
      "  File \"/tmp/tmpj5ejpyk_\", line 21, in findCornerPoints\n",
      "    return sorted([[0, points[0][1]], [L, points[0][1]], [points[1][0], 0], [points[1][0], L]])\n",
      "                       ~~~~~~~~~^^^\n",
      "TypeError: 'int' object is not subscriptable\n",
      "Traceback (most recent call last):\n",
      "  File \"/tmp/tmp7k_jiclq\", line 32, in <module>\n",
      "    code()\n",
      "  File \"/tmp/tmp7k_jiclq\", line 26, in code\n",
      "    print(solution.findCornerPoints(2, [1, 0]))\n",
      "          ^^^^^^^^^^^^^^^^^^^^^^^^^^^^^^^^^^^^\n",
      "  File \"/tmp/tmp7k_jiclq\", line 22, in findCornerPoints\n",
      "    return sorted([[0, points[0][1]], [L, points[0][1]], [points[1][0], 0], [points[1][0], L]])\n",
      "                       ~~~~~~~~~^^^\n",
      "TypeError: 'int' object is not subscriptable\n",
      "Traceback (most recent call last):\n",
      "  File \"/tmp/tmp7k_jiclq\", line 32, in <module>\n",
      "    code()\n",
      "  File \"/tmp/tmp7k_jiclq\", line 26, in code\n",
      "    print(solution.findCornerPoints(2, [1, 0]))\n",
      "          ^^^^^^^^^^^^^^^^^^^^^^^^^^^^^^^^^^^^\n",
      "  File \"/tmp/tmp7k_jiclq\", line 22, in findCornerPoints\n",
      "    return sorted([[0, points[0][1]], [L, points[0][1]], [points[1][0], 0], [points[1][0], L]])\n",
      "                       ~~~~~~~~~^^^\n",
      "TypeError: 'int' object is not subscriptable\n",
      "Traceback (most recent call last):\n",
      "  File \"/tmp/tmpiq487ng0\", line 37, in <module>\n",
      "    print(solution.findCornerPoints(2, {{1, 0}, {1, 2}}))  # Output: [[0, 0], [0, 2], [2, 0], [2, 2]]\n",
      "                                       ^^^^^^^^^^^^^^^^\n",
      "TypeError: unhashable type: 'set'\n",
      "Traceback (most recent call last):\n",
      "  File \"/tmp/tmpiq487ng0\", line 37, in <module>\n",
      "    print(solution.findCornerPoints(2, {{1, 0}, {1, 2}}))  # Output: [[0, 0], [0, 2], [2, 0], [2, 2]]\n",
      "                                       ^^^^^^^^^^^^^^^^\n",
      "TypeError: unhashable type: 'set'\n",
      "Traceback (most recent call last):\n",
      "  File \"/tmp/tmpk5o7z7ro\", line 41, in <module>\n",
      "    code()\n",
      "  File \"/tmp/tmpk5o7z7ro\", line 38, in code\n",
      "    print(solution.findCornerPoints(2, {{1, 0}, {1, 2}}))  # Output: [[0, 0], [0, 2], [2, 0], [2, 2]]\n",
      "                                       ^^^^^^^^^^^^^^^^\n",
      "TypeError: unhashable type: 'set'\n",
      "Traceback (most recent call last):\n",
      "  File \"/tmp/tmpk5o7z7ro\", line 41, in <module>\n",
      "    code()\n",
      "  File \"/tmp/tmpk5o7z7ro\", line 38, in code\n",
      "    print(solution.findCornerPoints(2, {{1, 0}, {1, 2}}))  # Output: [[0, 0], [0, 2], [2, 0], [2, 2]]\n",
      "                                       ^^^^^^^^^^^^^^^^\n",
      "TypeError: unhashable type: 'set'\n",
      "  File \"/tmp/tmppn0csey4\", line 28\n",
      "    return sorted([p1, p2, q1, q2])\n",
      "    ^^^^^^^^^^^^^^^^^^^^^^^^^^^^^^^\n",
      "SyntaxError: 'return' outside function\n",
      "  File \"/tmp/tmppn0csey4\", line 28\n",
      "    return sorted([p1, p2, q1, q2])\n",
      "    ^^^^^^^^^^^^^^^^^^^^^^^^^^^^^^^\n",
      "SyntaxError: 'return' outside function\n",
      "Traceback (most recent call last):\n",
      "  File \"/tmp/tmpu0ltxk6l\", line 31, in <module>\n",
      "    code()\n",
      "  File \"/tmp/tmpu0ltxk6l\", line 27, in code\n",
      "    p1, p2 = p - L/2, p + L/2\n",
      "             ^\n",
      "NameError: name 'p' is not defined. Did you mean: 'p1'?\n",
      "Traceback (most recent call last):\n",
      "  File \"/tmp/tmpu0ltxk6l\", line 31, in <module>\n",
      "    code()\n",
      "  File \"/tmp/tmpu0ltxk6l\", line 27, in code\n",
      "    p1, p2 = p - L/2, p + L/2\n",
      "             ^\n",
      "NameError: name 'p' is not defined. Did you mean: 'p1'?\n"
     ]
    }
   ],
   "source": [
    "compute(\"solutions_parsed.json\", [train_dict[10237]], [1, 10])"
   ]
  },
  {
   "cell_type": "code",
   "execution_count": 18,
   "metadata": {},
   "outputs": [
    {
     "data": {
      "text/plain": [
       "{'pass@1': 0.0,\n",
       " 'pass@10': 0.0,\n",
       " 'detail': {'pass@1': {'10237': 0.0}, 'pass@10': {'10237': 0.0}}}"
      ]
     },
     "execution_count": 18,
     "metadata": {},
     "output_type": "execute_result"
    }
   ],
   "source": [
    "json.load(open(\"solutions_prompt_metrics.json\"))"
   ]
  },
  {
   "cell_type": "code",
   "execution_count": 19,
   "metadata": {},
   "outputs": [
    {
     "name": "stderr",
     "output_type": "stream",
     "text": [
      "Traceback (most recent call last):\n",
      "  File \"/tmp/tmp48s6tjfp\", line 25, in <module>\n",
      "    print(solution.findCornerPoints(2, [1, 0]))\n",
      "          ^^^^^^^^^^^^^^^^^^^^^^^^^^^^^^^^^^^^\n",
      "  File \"/tmp/tmp48s6tjfp\", line 21, in findCornerPoints\n",
      "    return sorted([[0, points[0][1]], [L, points[0][1]], [points[1][0], 0], [points[1][0], L]])\n",
      "                       ~~~~~~~~~^^^\n",
      "TypeError: 'int' object is not subscriptable\n",
      "Traceback (most recent call last):\n",
      "  File \"/tmp/tmp48s6tjfp\", line 25, in <module>\n",
      "    print(solution.findCornerPoints(2, [1, 0]))\n",
      "          ^^^^^^^^^^^^^^^^^^^^^^^^^^^^^^^^^^^^\n",
      "  File \"/tmp/tmp48s6tjfp\", line 21, in findCornerPoints\n",
      "    return sorted([[0, points[0][1]], [L, points[0][1]], [points[1][0], 0], [points[1][0], L]])\n",
      "                       ~~~~~~~~~^^^\n",
      "TypeError: 'int' object is not subscriptable\n",
      "Traceback (most recent call last):\n",
      "  File \"/tmp/tmpv35edyx8\", line 32, in <module>\n",
      "    code()\n",
      "  File \"/tmp/tmpv35edyx8\", line 26, in code\n",
      "    print(solution.findCornerPoints(2, [1, 0]))\n",
      "          ^^^^^^^^^^^^^^^^^^^^^^^^^^^^^^^^^^^^\n",
      "  File \"/tmp/tmpv35edyx8\", line 22, in findCornerPoints\n",
      "    return sorted([[0, points[0][1]], [L, points[0][1]], [points[1][0], 0], [points[1][0], L]])\n",
      "                       ~~~~~~~~~^^^\n",
      "TypeError: 'int' object is not subscriptable\n",
      "Traceback (most recent call last):\n",
      "  File \"/tmp/tmpv35edyx8\", line 32, in <module>\n",
      "    code()\n",
      "  File \"/tmp/tmpv35edyx8\", line 26, in code\n",
      "    print(solution.findCornerPoints(2, [1, 0]))\n",
      "          ^^^^^^^^^^^^^^^^^^^^^^^^^^^^^^^^^^^^\n",
      "  File \"/tmp/tmpv35edyx8\", line 22, in findCornerPoints\n",
      "    return sorted([[0, points[0][1]], [L, points[0][1]], [points[1][0], 0], [points[1][0], L]])\n",
      "                       ~~~~~~~~~^^^\n",
      "TypeError: 'int' object is not subscriptable\n",
      "Traceback (most recent call last):\n",
      "  File \"/tmp/tmphwpo8ktw\", line 37, in <module>\n",
      "    print(solution.findCornerPoints(2, {{1, 0}, {1, 2}}))  # Output: [[0, 0], [0, 2], [2, 0], [2, 2]]\n",
      "                                       ^^^^^^^^^^^^^^^^\n",
      "TypeError: unhashable type: 'set'\n",
      "Traceback (most recent call last):\n",
      "  File \"/tmp/tmphwpo8ktw\", line 37, in <module>\n",
      "    print(solution.findCornerPoints(2, {{1, 0}, {1, 2}}))  # Output: [[0, 0], [0, 2], [2, 0], [2, 2]]\n",
      "                                       ^^^^^^^^^^^^^^^^\n",
      "TypeError: unhashable type: 'set'\n",
      "Traceback (most recent call last):\n",
      "  File \"/tmp/tmp257859j3\", line 41, in <module>\n",
      "    code()\n",
      "  File \"/tmp/tmp257859j3\", line 38, in code\n",
      "    print(solution.findCornerPoints(2, {{1, 0}, {1, 2}}))  # Output: [[0, 0], [0, 2], [2, 0], [2, 2]]\n",
      "                                       ^^^^^^^^^^^^^^^^\n",
      "TypeError: unhashable type: 'set'\n",
      "Traceback (most recent call last):\n",
      "  File \"/tmp/tmp257859j3\", line 41, in <module>\n",
      "    code()\n",
      "  File \"/tmp/tmp257859j3\", line 38, in code\n",
      "    print(solution.findCornerPoints(2, {{1, 0}, {1, 2}}))  # Output: [[0, 0], [0, 2], [2, 0], [2, 2]]\n",
      "                                       ^^^^^^^^^^^^^^^^\n",
      "TypeError: unhashable type: 'set'\n",
      "  File \"/tmp/tmp17ntcy_a\", line 28\n",
      "    return sorted([p1, p2, q1, q2])\n",
      "    ^^^^^^^^^^^^^^^^^^^^^^^^^^^^^^^\n",
      "SyntaxError: 'return' outside function\n",
      "  File \"/tmp/tmp17ntcy_a\", line 28\n",
      "    return sorted([p1, p2, q1, q2])\n",
      "    ^^^^^^^^^^^^^^^^^^^^^^^^^^^^^^^\n",
      "SyntaxError: 'return' outside function\n",
      "Traceback (most recent call last):\n",
      "  File \"/tmp/tmpdkraigy3\", line 31, in <module>\n",
      "    code()\n",
      "  File \"/tmp/tmpdkraigy3\", line 27, in code\n",
      "    p1, p2 = p - L/2, p + L/2\n",
      "             ^\n",
      "NameError: name 'p' is not defined. Did you mean: 'p1'?\n",
      "Traceback (most recent call last):\n",
      "  File \"/tmp/tmpdkraigy3\", line 31, in <module>\n",
      "    code()\n",
      "  File \"/tmp/tmpdkraigy3\", line 27, in code\n",
      "    p1, p2 = p - L/2, p + L/2\n",
      "             ^\n",
      "NameError: name 'p' is not defined. Did you mean: 'p1'?\n"
     ]
    },
    {
     "data": {
      "text/plain": [
       "{10237: [5, 3]}"
      ]
     },
     "execution_count": 19,
     "metadata": {},
     "output_type": "execute_result"
    }
   ],
   "source": [
    "compute_1_pass_by_test(\"solutions_parsed.json\", [train_dict[10237]])"
   ]
  }
 ],
 "metadata": {
  "kernelspec": {
   "display_name": "datamodels",
   "language": "python",
   "name": "python3"
  },
  "language_info": {
   "codemirror_mode": {
    "name": "ipython",
    "version": 3
   },
   "file_extension": ".py",
   "mimetype": "text/x-python",
   "name": "python",
   "nbconvert_exporter": "python",
   "pygments_lexer": "ipython3",
   "version": "3.11.10"
  }
 },
 "nbformat": 4,
 "nbformat_minor": 2
}
