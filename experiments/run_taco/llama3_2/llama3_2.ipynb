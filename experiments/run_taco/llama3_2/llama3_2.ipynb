{
 "cells": [
  {
   "cell_type": "markdown",
   "metadata": {},
   "source": [
    "# TACO Experiment: Cherry-picked context to one specific task\n",
    "\n",
    "The goal here is to evaluate how the model will behave when passing the Solutions from an analog problem that were manually analyzed and selected  \n",
    "In this specific scenario we want to test it with a very specific group of tasks from the TACO benchmark"
   ]
  },
  {
   "cell_type": "code",
   "execution_count": 1,
   "metadata": {},
   "outputs": [
    {
     "name": "stderr",
     "output_type": "stream",
     "text": [
      "/home/caio.rhoden/miniconda3/envs/datamodels/lib/python3.11/site-packages/tqdm/auto.py:21: TqdmWarning: IProgress not found. Please update jupyter and ipywidgets. See https://ipywidgets.readthedocs.io/en/stable/user_install.html\n",
      "  from .autonotebook import tqdm as notebook_tqdm\n"
     ]
    },
    {
     "name": "stdout",
     "output_type": "stream",
     "text": [
      "Number of GPUs available: 1\n",
      "GPU 0: NVIDIA L40S\n"
     ]
    }
   ],
   "source": [
    "import os\n",
    "os.environ[\"CUDA_VISIBLE_DEVICES\"] = \"0\"\n",
    "os.environ[\"TOKENIZERS_PARALLELISM\"] = \"false\"\n",
    "\n",
    "import polars as pl\n",
    "import torch\n",
    "import numpy as np\n",
    "import json\n",
    "import re\n",
    "## LLM\n",
    "from src.llms import GenericIntructModelHF\n",
    "from src.taco_evaluator import compute, compute_1_pass_by_test\n",
    "from datasets import load_from_disk\n",
    "import datetime\n",
    "\n",
    "seed = 42\n",
    "# NumPy\n",
    "np.random.seed(seed)\n",
    "\n",
    "# PyTorch\n",
    "torch.manual_seed(seed)\n",
    "if torch.cuda.is_available():\n",
    "    torch.cuda.manual_seed(seed)\n",
    "    torch.cuda.manual_seed_all(seed)\n",
    "    torch.backends.cudnn.deterministic = True\n",
    "    torch.backends.cudnn.benchmark = False\n",
    "\n",
    "\n",
    "if torch.cuda.is_available():\n",
    "    print(f\"Number of GPUs available: {torch.cuda.device_count()}\")\n",
    "    for i in range(torch.cuda.device_count()):\n",
    "        print(f\"GPU {i}: {torch.cuda.get_device_name(i)}\")\n",
    "\n",
    "device = torch.device(\"cuda:0\" if torch.cuda.is_available() else \"cpu\")"
   ]
  },
  {
   "cell_type": "markdown",
   "metadata": {},
   "source": [
    "## Load Datasets"
   ]
  },
  {
   "cell_type": "code",
   "execution_count": 15,
   "metadata": {},
   "outputs": [],
   "source": [
    "PATH  = \"../../../data/TACO/processed\"\n",
    "train = pl.read_ipc(f\"{PATH}/train.feather\")\n",
    "train_solutions = pl.read_ipc(f\"{PATH}/train_solutions.feather\")\n",
    "train_dict = load_from_disk(\"../../../data/TACO/train.hf\")"
   ]
  },
  {
   "cell_type": "markdown",
   "metadata": {},
   "source": []
  },
  {
   "cell_type": "code",
   "execution_count": null,
   "metadata": {},
   "outputs": [],
   "source": [
    "def run_inference(prompt: str, path: str, num_returns = 10, max_length=2048):\n",
    "    outputs = []\n",
    "    llm = GenericIntructModelHF(\"../../../models/llms/Llama-3.2-3B-Instruct\")\n",
    "    for i in range(num_returns//10):\n",
    "        print(f\"Lopp {i}, {datetime.datetime.now()}\")\n",
    "        config = {\n",
    "                    \"temperature\": 0.7,\n",
    "                    \"max_length\": max_length,\n",
    "                    \"top_p\": 0.95,\n",
    "                    \"num_return_sequences\": 10\n",
    "        }\n",
    "        \n",
    "        instruction = \"You are a coding generation tool that will solve a problem using Python\"\n",
    "\n",
    "        output = llm.run(prompt=prompt, instruction=instruction, config_params=config)\n",
    "\n",
    "        for res in output:\n",
    "            outputs.append(res)\n",
    "    \n",
    "    llm.delete_model()\n",
    "    json.dump(outputs, open(path, \"w\"))"
   ]
  },
  {
   "cell_type": "code",
   "execution_count": 17,
   "metadata": {},
   "outputs": [],
   "source": [
    "def parse_generation(generations: list, id: int, path: str):\n",
    "    \n",
    "    gens = []\n",
    "    for i in range(len(generations)):\n",
    "\n",
    "        code_blocks = re.findall(r'```python(.*?)```', generations[i][\"generated_text\"], re.DOTALL)\n",
    "        extracted_code = \"\\n\".join([block.strip() for block in code_blocks])\n",
    "        gens.append(extracted_code)\n",
    "    \n",
    "    results = [{\n",
    "        \"task_id\": int(id),\n",
    "        \"output\": gens\n",
    "    }]\n",
    "\n",
    "    json.dump(results, open(path, \"w\"))\n",
    "        "
   ]
  },
  {
   "cell_type": "markdown",
   "metadata": {},
   "source": [
    "## Problem Selection\n",
    "\n",
    "The category choosen it was \"Geometry\" in EASY difficulty  \n",
    "The criteria behind the choice is because there isn't a lot of examples of geometry, which facilitates to find samples specific from that scope.  \n",
    "The EASY difficulty is for validation purposes"
   ]
  },
  {
   "cell_type": "code",
   "execution_count": 18,
   "metadata": {},
   "outputs": [],
   "source": [
    "# train.filter(pl.col(\"tags\") == \"Geometry\").filter(pl.col(\"difficulty\") == \"EASY\").count()"
   ]
  },
  {
   "cell_type": "code",
   "execution_count": 19,
   "metadata": {},
   "outputs": [],
   "source": [
    "# selected_problem = train.filter(pl.col(\"tags\") == \"Geometry\").filter(pl.col(\"difficulty\") == \"EASY\").sample(1)\n",
    "# print(selected_problem)\n",
    "## ID = 14186 \n",
    "\n",
    "selected_problem = train.filter(pl.col(\"tags\") == \"Geometry\").filter(pl.col(\"difficulty\") == \"EASY\").filter(pl.col(\"id\") == 10237)\n",
    "# print(selected_problem)"
   ]
  },
  {
   "cell_type": "code",
   "execution_count": 20,
   "metadata": {},
   "outputs": [],
   "source": [
    "# train_solutions.filter(pl.col(\"id\") == 10237).to_struct()"
   ]
  },
  {
   "cell_type": "code",
   "execution_count": 21,
   "metadata": {},
   "outputs": [],
   "source": [
    "# print(selected_problem.select(\"input\").to_dict()[\"input\"][0])"
   ]
  },
  {
   "cell_type": "markdown",
   "metadata": {},
   "source": [
    "## Run Baseline - No Context"
   ]
  },
  {
   "cell_type": "code",
   "execution_count": 22,
   "metadata": {},
   "outputs": [],
   "source": [
    "# prompt_input = selected_problem.select(\"input\").to_struct().to_pandas().iloc[0][\"input\"]\n",
    "# prompt = f\"Please write a Python program \\nQUESTION: \\n{prompt_input} \\n ANSWER: \\n.\"\n",
    "# run_inference(prompt_input, \"no_context.json\", num_returns=200)"
   ]
  },
  {
   "cell_type": "code",
   "execution_count": 23,
   "metadata": {},
   "outputs": [],
   "source": [
    "parse_generation(json.load(open(\"no_context.json\")), 10237 , \"no_context_parsed.json\")"
   ]
  },
  {
   "cell_type": "code",
   "execution_count": 24,
   "metadata": {},
   "outputs": [
    {
     "name": "stderr",
     "output_type": "stream",
     "text": [
      "Traceback (most recent call last):\n",
      "  File \"/tmp/tmpmkya6ewr\", line 19, in <module>\n",
      "    (x1 + x2) / 2, (y1 + y2) / 2\n",
      "     ^^\n",
      "NameError: name 'x1' is not defined\n",
      "Traceback (most recent call last):\n",
      "  File \"/tmp/tmpmkya6ewr\", line 19, in <module>\n",
      "    (x1 + x2) / 2, (y1 + y2) / 2\n",
      "     ^^\n",
      "NameError: name 'x1' is not defined\n",
      "Traceback (most recent call last):\n",
      "  File \"/tmp/tmp7mhpzgoc\", line 41, in <module>\n",
      "    code()\n",
      "  File \"/tmp/tmp7mhpzgoc\", line 20, in code\n",
      "    (x1 + x2) / 2, (y1 + y2) / 2\n",
      "     ^^\n",
      "NameError: name 'x1' is not defined\n",
      "Traceback (most recent call last):\n",
      "  File \"/tmp/tmp7mhpzgoc\", line 41, in <module>\n",
      "    code()\n",
      "  File \"/tmp/tmp7mhpzgoc\", line 20, in code\n",
      "    (x1 + x2) / 2, (y1 + y2) / 2\n",
      "     ^^\n",
      "NameError: name 'x1' is not defined\n",
      "Traceback (most recent call last):\n",
      "  File \"/tmp/tmp9eyc4hft\", line 33, in <module>\n",
      "    print(solution.findCornerPoints(2, [[1,0],[1,2]]))  # Output: [(0, 0), (0, 2), (2, 0), (2, 2)]\n",
      "          ^^^^^^^^^^^^^^^^^^^^^^^^^^^^^^^^^^^^^^^^^^^\n",
      "  File \"/tmp/tmp9eyc4hft\", line 31, in findCornerPoints\n",
      "    return [tuple(int(round(i))) for i in sorted([A, B, C, D])]\n",
      "           ^^^^^^^^^^^^^^^^^^^^^^^^^^^^^^^^^^^^^^^^^^^^^^^^^^^^\n",
      "  File \"/tmp/tmp9eyc4hft\", line 31, in <listcomp>\n",
      "    return [tuple(int(round(i))) for i in sorted([A, B, C, D])]\n",
      "                      ^^^^^^^^\n",
      "TypeError: type tuple doesn't define __round__ method\n",
      "Traceback (most recent call last):\n",
      "  File \"/tmp/tmp9eyc4hft\", line 33, in <module>\n",
      "    print(solution.findCornerPoints(2, [[1,0],[1,2]]))  # Output: [(0, 0), (0, 2), (2, 0), (2, 2)]\n",
      "          ^^^^^^^^^^^^^^^^^^^^^^^^^^^^^^^^^^^^^^^^^^^\n",
      "  File \"/tmp/tmp9eyc4hft\", line 31, in findCornerPoints\n",
      "    return [tuple(int(round(i))) for i in sorted([A, B, C, D])]\n",
      "           ^^^^^^^^^^^^^^^^^^^^^^^^^^^^^^^^^^^^^^^^^^^^^^^^^^^^\n",
      "  File \"/tmp/tmp9eyc4hft\", line 31, in <listcomp>\n",
      "    return [tuple(int(round(i))) for i in sorted([A, B, C, D])]\n",
      "                      ^^^^^^^^\n",
      "TypeError: type tuple doesn't define __round__ method\n",
      "Traceback (most recent call last):\n",
      "  File \"/tmp/tmpwvzqvwxj\", line 37, in <module>\n",
      "    code()\n",
      "  File \"/tmp/tmpwvzqvwxj\", line 34, in code\n",
      "    print(solution.findCornerPoints(2, [[1,0],[1,2]]))  # Output: [(0, 0), (0, 2), (2, 0), (2, 2)]\n",
      "          ^^^^^^^^^^^^^^^^^^^^^^^^^^^^^^^^^^^^^^^^^^^\n",
      "  File \"/tmp/tmpwvzqvwxj\", line 32, in findCornerPoints\n",
      "    return [tuple(int(round(i))) for i in sorted([A, B, C, D])]\n",
      "           ^^^^^^^^^^^^^^^^^^^^^^^^^^^^^^^^^^^^^^^^^^^^^^^^^^^^\n",
      "  File \"/tmp/tmpwvzqvwxj\", line 32, in <listcomp>\n",
      "    return [tuple(int(round(i))) for i in sorted([A, B, C, D])]\n",
      "                      ^^^^^^^^\n",
      "TypeError: type tuple doesn't define __round__ method\n",
      "Traceback (most recent call last):\n",
      "  File \"/tmp/tmpwvzqvwxj\", line 37, in <module>\n",
      "    code()\n",
      "  File \"/tmp/tmpwvzqvwxj\", line 34, in code\n",
      "    print(solution.findCornerPoints(2, [[1,0],[1,2]]))  # Output: [(0, 0), (0, 2), (2, 0), (2, 2)]\n",
      "          ^^^^^^^^^^^^^^^^^^^^^^^^^^^^^^^^^^^^^^^^^^^\n",
      "  File \"/tmp/tmpwvzqvwxj\", line 32, in findCornerPoints\n",
      "    return [tuple(int(round(i))) for i in sorted([A, B, C, D])]\n",
      "           ^^^^^^^^^^^^^^^^^^^^^^^^^^^^^^^^^^^^^^^^^^^^^^^^^^^^\n",
      "  File \"/tmp/tmpwvzqvwxj\", line 32, in <listcomp>\n",
      "    return [tuple(int(round(i))) for i in sorted([A, B, C, D])]\n",
      "                      ^^^^^^^^\n",
      "TypeError: type tuple doesn't define __round__ method\n",
      "Traceback (most recent call last):\n",
      "  File \"/tmp/tmpawdu_3d6\", line 19, in <module>\n",
      "    (x1 + x2) / 2, (y1 + y2) / 2\n",
      "     ^^\n",
      "NameError: name 'x1' is not defined\n",
      "Traceback (most recent call last):\n",
      "  File \"/tmp/tmpawdu_3d6\", line 19, in <module>\n",
      "    (x1 + x2) / 2, (y1 + y2) / 2\n",
      "     ^^\n",
      "NameError: name 'x1' is not defined\n",
      "Traceback (most recent call last):\n",
      "  File \"/tmp/tmp602f_3ii\", line 42, in <module>\n",
      "    code()\n",
      "  File \"/tmp/tmp602f_3ii\", line 20, in code\n",
      "    (x1 + x2) / 2, (y1 + y2) / 2\n",
      "     ^^\n",
      "NameError: name 'x1' is not defined\n",
      "Traceback (most recent call last):\n",
      "  File \"/tmp/tmp602f_3ii\", line 42, in <module>\n",
      "    code()\n",
      "  File \"/tmp/tmp602f_3ii\", line 20, in code\n",
      "    (x1 + x2) / 2, (y1 + y2) / 2\n",
      "     ^^\n",
      "NameError: name 'x1' is not defined\n"
     ]
    }
   ],
   "source": [
    "compute(\"no_context_parsed.json\", [train_dict[10237]], [1, 10, 100])"
   ]
  },
  {
   "cell_type": "code",
   "execution_count": 25,
   "metadata": {},
   "outputs": [
    {
     "data": {
      "text/plain": [
       "{'pass@1': 0.0,\n",
       " 'pass@10': 0.0,\n",
       " 'pass@100': 0.0,\n",
       " 'detail': {'pass@1': {'10237': 0.0},\n",
       "  'pass@10': {'10237': 0.0},\n",
       "  'pass@100': {'10237': 0.0}}}"
      ]
     },
     "execution_count": 25,
     "metadata": {},
     "output_type": "execute_result"
    }
   ],
   "source": [
    "json.load(open(\"taco_metrics.json\"))"
   ]
  },
  {
   "cell_type": "code",
   "execution_count": null,
   "metadata": {},
   "outputs": [],
   "source": [
    "compute_1_pass_by_test(\"no_context_parsed.json\", [train_dict[10237]])"
   ]
  },
  {
   "cell_type": "markdown",
   "metadata": {},
   "source": [
    "## Select Context\n",
    "\n",
    "Here we will try to get 4 solutions that are related to the problem above\n"
   ]
  },
  {
   "cell_type": "code",
   "execution_count": null,
   "metadata": {},
   "outputs": [
    {
     "name": "stdout",
     "output_type": "stream",
     "text": [
      "shape: (1, 2)\n",
      "┌─────┬───────┐\n",
      "│ id  ┆ input │\n",
      "│ --- ┆ ---   │\n",
      "│ u32 ┆ u32   │\n",
      "╞═════╪═══════╡\n",
      "│ 14  ┆ 14    │\n",
      "└─────┴───────┘\n"
     ]
    }
   ],
   "source": [
    "# df = train.filter(pl.col(\"tags\") == \"Geometry\").filter(pl.col(\"difficulty\") == \"EASY\").filter(pl.col(\"input\").str.contains(\"class Solution\")).select([\"id\", \"input\"])\n",
    "# print(df.count())\n",
    "# df.write_csv(\"pool.csv\")"
   ]
  },
  {
   "cell_type": "code",
   "execution_count": null,
   "metadata": {},
   "outputs": [
    {
     "data": {
      "text/html": [
       "<div><style>\n",
       ".dataframe > thead > tr,\n",
       ".dataframe > tbody > tr {\n",
       "  text-align: right;\n",
       "  white-space: pre-wrap;\n",
       "}\n",
       "</style>\n",
       "<small>shape: (2, 4)</small><table border=\"1\" class=\"dataframe\"><thead><tr><th>id</th><th>difficulty</th><th>tags</th><th>input</th></tr><tr><td>u32</td><td>str</td><td>str</td><td>str</td></tr></thead><tbody><tr><td>1643</td><td>&quot;EASY&quot;</td><td>&quot;Geometry&quot;</td><td>&quot;Given two rectangles, find if …</td></tr><tr><td>1643</td><td>&quot;EASY&quot;</td><td>&quot;Mathematics&quot;</td><td>&quot;Given two rectangles, find if …</td></tr></tbody></table></div>"
      ],
      "text/plain": [
       "shape: (2, 4)\n",
       "┌──────┬────────────┬─────────────┬─────────────────────────────────┐\n",
       "│ id   ┆ difficulty ┆ tags        ┆ input                           │\n",
       "│ ---  ┆ ---        ┆ ---         ┆ ---                             │\n",
       "│ u32  ┆ str        ┆ str         ┆ str                             │\n",
       "╞══════╪════════════╪═════════════╪═════════════════════════════════╡\n",
       "│ 1643 ┆ EASY       ┆ Geometry    ┆ Given two rectangles, find if … │\n",
       "│ 1643 ┆ EASY       ┆ Mathematics ┆ Given two rectangles, find if … │\n",
       "└──────┴────────────┴─────────────┴─────────────────────────────────┘"
      ]
     },
     "execution_count": 9,
     "metadata": {},
     "output_type": "execute_result"
    }
   ],
   "source": [
    "selected_ids = [21825, 10745, 1643, 4661]\n",
    "# train.filter(pl.col(\"id\") == 1643)"
   ]
  },
  {
   "cell_type": "code",
   "execution_count": null,
   "metadata": {},
   "outputs": [
    {
     "data": {
      "text/html": [
       "<div><style>\n",
       ".dataframe > thead > tr,\n",
       ".dataframe > tbody > tr {\n",
       "  text-align: right;\n",
       "  white-space: pre-wrap;\n",
       "}\n",
       "</style>\n",
       "<small>shape: (4,)</small><table border=\"1\" class=\"dataframe\"><thead><tr><th>input</th></tr><tr><td>str</td></tr></thead><tbody><tr><td>&quot;Given the coordinates of the e…</td></tr><tr><td>&quot;Given a circular sheet of radi…</td></tr><tr><td>&quot;Given two rectangles, find if …</td></tr><tr><td>&quot;An axis-aligned rectangle is r…</td></tr></tbody></table></div>"
      ],
      "text/plain": [
       "shape: (4,)\n",
       "Series: 'input' [str]\n",
       "[\n",
       "\t\"Given the coordinates of the e…\n",
       "\t\"Given a circular sheet of radi…\n",
       "\t\"Given two rectangles, find if …\n",
       "\t\"An axis-aligned rectangle is r…\n",
       "]"
      ]
     },
     "execution_count": 10,
     "metadata": {},
     "output_type": "execute_result"
    }
   ],
   "source": [
    "all_inputs  = train.filter(pl.col(\"id\").is_in(selected_ids)).select(\"input\").unique().to_dict()[\"input\"]\n",
    "all_solutions = train_solutions.filter(pl.col(\"id\").is_in(selected_ids)).group_by(pl.col(\"id\")).head(1).select(\"solution\").unique().to_dict()[\"solution\"]\n",
    "question_input = selected_problem.select(\"input\").to_dict()[\"input\"][0]\n",
    "\n",
    "# all_inputs"
   ]
  },
  {
   "cell_type": "markdown",
   "metadata": {},
   "source": [
    "## Full Prompt Run"
   ]
  },
  {
   "cell_type": "code",
   "execution_count": null,
   "metadata": {},
   "outputs": [],
   "source": [
    "context_prompt = \"You will have to answer a programming quesiton in geometry, we will pass before some examples of questions and solutions\\n\"\n",
    "for i in range(4):\n",
    "    context_prompt += f\"EXAMPLE QUESTION {i}:\\n {all_inputs[i]}\\n EXAMPLE SOLUTION {i}:\\n {all_solutions[i]}\\n\"\n",
    "\n",
    "full_prompt = f\"Please write a Python program {context_prompt} \\nQUESTION: \\n{question_input} \\n ANSWER: \\n.\""
   ]
  },
  {
   "cell_type": "code",
   "execution_count": null,
   "metadata": {},
   "outputs": [
    {
     "name": "stderr",
     "output_type": "stream",
     "text": [
      "The `load_in_4bit` and `load_in_8bit` arguments are deprecated and will be removed in the future versions. Please, pass a `BitsAndBytesConfig` object in `quantization_config` argument instead.\n",
      "Loading checkpoint shards: 100%|██████████| 4/4 [00:05<00:00,  1.49s/it]\n"
     ]
    },
    {
     "name": "stdout",
     "output_type": "stream",
     "text": [
      "Lopp 0, 2025-02-27 08:19:55.087679\n"
     ]
    },
    {
     "name": "stderr",
     "output_type": "stream",
     "text": [
      "/home/caio.rhoden/miniconda3/envs/datamodels/lib/python3.11/site-packages/bitsandbytes/autograd/_functions.py:316: UserWarning: MatMul8bitLt: inputs will be cast from torch.bfloat16 to float16 during quantization\n",
      "  warnings.warn(f\"MatMul8bitLt: inputs will be cast from {A.dtype} to float16 during quantization\")\n"
     ]
    },
    {
     "name": "stdout",
     "output_type": "stream",
     "text": [
      "Lopp 1, 2025-02-27 08:43:58.668251\n"
     ]
    }
   ],
   "source": [
    "# run_inference(\n",
    "#     prompt=full_prompt,\n",
    "#     path = \"full_prompt.json\",\n",
    "#     num_returns=200,\n",
    "#     max_length=4096\n",
    "# )"
   ]
  },
  {
   "cell_type": "code",
   "execution_count": null,
   "metadata": {},
   "outputs": [],
   "source": [
    "parse_generation(json.load(open(\"full_prompt.json\")), 10237 , \"full_prompt_parsed.json\")"
   ]
  },
  {
   "cell_type": "code",
   "execution_count": null,
   "metadata": {},
   "outputs": [
    {
     "ename": "NameError",
     "evalue": "name 'compute' is not defined",
     "output_type": "error",
     "traceback": [
      "\u001b[0;31m---------------------------------------------------------------------------\u001b[0m",
      "\u001b[0;31mNameError\u001b[0m                                 Traceback (most recent call last)",
      "Cell \u001b[0;32mIn[2], line 1\u001b[0m\n\u001b[0;32m----> 1\u001b[0m \u001b[43mcompute\u001b[49m(\u001b[38;5;124m\"\u001b[39m\u001b[38;5;124mfull_prompt_parsed.json\u001b[39m\u001b[38;5;124m\"\u001b[39m, [train_dict[\u001b[38;5;241m10237\u001b[39m]], [\u001b[38;5;241m1\u001b[39m, \u001b[38;5;241m10\u001b[39m, \u001b[38;5;241m100\u001b[39m])\n",
      "\u001b[0;31mNameError\u001b[0m: name 'compute' is not defined"
     ]
    }
   ],
   "source": [
    "compute(\"full_prompt_parsed.json\", [train_dict[10237]], [1, 10, 100])"
   ]
  },
  {
   "cell_type": "code",
   "execution_count": null,
   "metadata": {},
   "outputs": [
    {
     "data": {
      "text/plain": [
       "{10237: [0, 0]}"
      ]
     },
     "execution_count": 14,
     "metadata": {},
     "output_type": "execute_result"
    }
   ],
   "source": [
    "compute_1_pass_by_test(\"full_prompt_parsed.json\", [train_dict[10237]])"
   ]
  },
  {
   "cell_type": "code",
   "execution_count": null,
   "metadata": {},
   "outputs": [
    {
     "data": {
      "text/plain": [
       "{'pass@1': 0.0,\n",
       " 'pass@10': 0.0,\n",
       " 'detail': {'pass@1': {'10237': 0.0}, 'pass@10': {'10237': 0.0}}}"
      ]
     },
     "execution_count": 10,
     "metadata": {},
     "output_type": "execute_result"
    }
   ],
   "source": [
    "json.load(open(\"full_prompt_metrics.json\"))"
   ]
  },
  {
   "cell_type": "markdown",
   "metadata": {},
   "source": [
    "## Only Solutions Run"
   ]
  },
  {
   "cell_type": "code",
   "execution_count": null,
   "metadata": {},
   "outputs": [],
   "source": [
    "context_prompt = \"You will have to answer a programming quesiton in geometry, we will pass before some examples of solutions for similar problems\\n\"\n",
    "for i in range(4):\n",
    "    context_prompt += f\" EXAMPLE SOLUTION {i}:\\n {all_solutions[i]}\\n\"\n",
    "\n",
    "solutions_prompt = f\"Please write a Python program {context_prompt} \\nQUESTION: \\n{question_input} \\n ANSWER: \\n.\""
   ]
  },
  {
   "cell_type": "code",
   "execution_count": null,
   "metadata": {},
   "outputs": [],
   "source": [
    "# run_inference(\n",
    "#     prompt=solutions_prompt,\n",
    "#     path = \"solutions_prompt.json\",\n",
    "#     num_returns=20,\n",
    "#     max_length=4096\n",
    "# )"
   ]
  },
  {
   "cell_type": "code",
   "execution_count": null,
   "metadata": {},
   "outputs": [],
   "source": [
    "parse_generation(json.load(open(\"solutions_prompt.json\")), 10237 , \"solutions_parsed.json\")"
   ]
  },
  {
   "cell_type": "code",
   "execution_count": null,
   "metadata": {},
   "outputs": [],
   "source": [
    "compute(\"solutions_parsed.json\", [train_dict[10237]], [1, 10])"
   ]
  },
  {
   "cell_type": "code",
   "execution_count": null,
   "metadata": {},
   "outputs": [
    {
     "data": {
      "text/plain": [
       "{10237: [0, 0]}"
      ]
     },
     "execution_count": 15,
     "metadata": {},
     "output_type": "execute_result"
    }
   ],
   "source": [
    "compute_1_pass_by_test(\"solutions_parsed.json\", [train_dict[10237]])"
   ]
  },
  {
   "cell_type": "code",
   "execution_count": null,
   "metadata": {},
   "outputs": [
    {
     "data": {
      "text/plain": [
       "{'pass@1': 0.0,\n",
       " 'pass@10': 0.0,\n",
       " 'detail': {'pass@1': {'10237': 0.0}, 'pass@10': {'10237': 0.0}}}"
      ]
     },
     "execution_count": 13,
     "metadata": {},
     "output_type": "execute_result"
    }
   ],
   "source": [
    "json.load(open(\"solutions_prompt_metrics.json\"))"
   ]
  }
 ],
 "metadata": {
  "kernelspec": {
   "display_name": "datamodels",
   "language": "python",
   "name": "python3"
  },
  "language_info": {
   "codemirror_mode": {
    "name": "ipython",
    "version": 3
   },
   "file_extension": ".py",
   "mimetype": "text/x-python",
   "name": "python",
   "nbconvert_exporter": "python",
   "pygments_lexer": "ipython3",
   "version": "3.11.10"
  }
 },
 "nbformat": 4,
 "nbformat_minor": 2
}
