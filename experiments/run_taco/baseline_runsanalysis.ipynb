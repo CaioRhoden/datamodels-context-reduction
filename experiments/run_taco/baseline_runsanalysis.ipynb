{
 "cells": [
  {
   "cell_type": "markdown",
   "metadata": {},
   "source": [
    "## Baseline Runs - Analysis"
   ]
  },
  {
   "cell_type": "code",
   "execution_count": 3,
   "metadata": {},
   "outputs": [
    {
     "name": "stderr",
     "output_type": "stream",
     "text": [
      "/home/caio.rhoden/miniconda3/envs/datamodels/lib/python3.11/site-packages/tqdm/auto.py:21: TqdmWarning: IProgress not found. Please update jupyter and ipywidgets. See https://ipywidgets.readthedocs.io/en/stable/user_install.html\n",
      "  from .autonotebook import tqdm as notebook_tqdm\n"
     ]
    }
   ],
   "source": [
    "import polars as pl\n",
    "import torch\n",
    "import numpy as np\n",
    "import json\n",
    "import re\n",
    "## LLM\n",
    "from src.llms import Llama3_1_Instruct\n",
    "from src.taco_evaluator import compute\n",
    "from datasets import load_from_disk\n",
    "import datetime\n",
    "import os\n",
    "\n",
    "from typing import List, Dict, Any, Tuple\n"
   ]
  },
  {
   "cell_type": "code",
   "execution_count": 5,
   "metadata": {},
   "outputs": [],
   "source": [
    "PATH  = \"../../data/TACO/processed\"\n",
    "train = pl.read_ipc(f\"{PATH}/train.feather\")\n",
    "train_solutions = pl.read_ipc(f\"{PATH}/train_solutions.feather\")\n",
    "train_dict = load_from_disk(\"../../data/TACO/train.hf\")"
   ]
  },
  {
   "cell_type": "code",
   "execution_count": 6,
   "metadata": {},
   "outputs": [],
   "source": [
    "def parse_generation(generations: list, id: int, path: str):\n",
    "    \n",
    "    gens = []\n",
    "    for i in range(len(generations)):\n",
    "\n",
    "        code_blocks = re.findall(r'```python(.*?)```', generations[i][\"generated_text\"], re.DOTALL)\n",
    "        extracted_code = \"\\n\".join([block.strip() for block in code_blocks])\n",
    "        gens.append(extracted_code)\n",
    "    \n",
    "    results = {\n",
    "        \"task_id\": int(id),\n",
    "        \"output\": gens\n",
    "    }\n",
    "\n",
    "    return results"
   ]
  },
  {
   "cell_type": "code",
   "execution_count": 7,
   "metadata": {},
   "outputs": [],
   "source": [
    "def join_jsons(repo:str) -> List[Dict[str, Any]]:\n",
    "    jsons = []\n",
    "    for file in os.listdir(repo):\n",
    "        if file.endswith(\".json\"):\n",
    "            with open(f\"{repo}/{file}\", \"r\") as f:\n",
    "                jsons.append(json.load(f))\n",
    "    return jsons\n"
   ]
  },
  {
   "cell_type": "markdown",
   "metadata": {},
   "source": [
    "## EASY Examples Results"
   ]
  },
  {
   "cell_type": "code",
   "execution_count": 8,
   "metadata": {},
   "outputs": [],
   "source": [
    "easy_results = join_jsons(\"small_experiment\")"
   ]
  },
  {
   "cell_type": "code",
   "execution_count": 9,
   "metadata": {},
   "outputs": [],
   "source": [
    "parsed = []\n",
    "for r in easy_results:\n",
    "    parsed.append(parse_generation(r[\"generations\"], r[\"id\"], \"small_experiment\"))"
   ]
  },
  {
   "cell_type": "code",
   "execution_count": 10,
   "metadata": {},
   "outputs": [],
   "source": [
    "selected_ids = [r[\"id\"] for r in easy_results]\n",
    "partial_train = []\n",
    "for i in selected_ids:\n",
    "    partial_train.append(train_dict[i])"
   ]
  },
  {
   "cell_type": "code",
   "execution_count": 11,
   "metadata": {},
   "outputs": [],
   "source": [
    "json.dump(parsed, open(\"parsed_small_experiment.json\", \"w\"))"
   ]
  },
  {
   "cell_type": "code",
   "execution_count": null,
   "metadata": {},
   "outputs": [],
   "source": [
    "compute(\"parsed_small_experiment.json\", partial_train, [1,10,100])"
   ]
  }
 ],
 "metadata": {
  "kernelspec": {
   "display_name": "datamodels",
   "language": "python",
   "name": "python3"
  },
  "language_info": {
   "codemirror_mode": {
    "name": "ipython",
    "version": 3
   },
   "file_extension": ".py",
   "mimetype": "text/x-python",
   "name": "python",
   "nbconvert_exporter": "python",
   "pygments_lexer": "ipython3",
   "version": "3.11.10"
  }
 },
 "nbformat": 4,
 "nbformat_minor": 2
}
