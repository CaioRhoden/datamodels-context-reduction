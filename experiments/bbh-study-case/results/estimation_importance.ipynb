{
 "cells": [
  {
   "cell_type": "markdown",
   "metadata": {},
   "source": [
    "# Result Analysis: Estimation Analysis\n",
    "\n",
    "The goal here is to understand if the Datamodels were capable to capture the relation in the training data and how it's working"
   ]
  },
  {
   "cell_type": "code",
   "execution_count": 1,
   "metadata": {},
   "outputs": [
    {
     "name": "stderr",
     "output_type": "stream",
     "text": [
      "/home/caio.rhoden/miniconda3/envs/datamodels/lib/python3.11/site-packages/tqdm/auto.py:21: TqdmWarning: IProgress not found. Please update jupyter and ipywidgets. See https://ipywidgets.readthedocs.io/en/stable/user_install.html\n",
      "  from .autonotebook import tqdm as notebook_tqdm\n"
     ]
    }
   ],
   "source": [
    "\n",
    "import pandas as pd\n",
    "import numpy as np\n",
    "import torch\n",
    "import random\n",
    "import matplotlib.pyplot as plt\n",
    "import seaborn as sns\n",
    "import os\n",
    "from src.utils import plot_individual_weights_heatmap\n",
    "os.environ[\"CUDA_VISIBLE_DEVICES\"] = \"1\""
   ]
  },
  {
   "cell_type": "code",
   "execution_count": 2,
   "metadata": {},
   "outputs": [
    {
     "name": "stderr",
     "output_type": "stream",
     "text": [
      "/tmp/ipykernel_756954/1085244540.py:3: FutureWarning: You are using `torch.load` with `weights_only=False` (the current default value), which uses the default pickle module implicitly. It is possible to construct malicious pickle data which will execute arbitrary code during unpickling (See https://github.com/pytorch/pytorch/blob/main/SECURITY.md#untrusted-models for more details). In a future release, the default value for `weights_only` will be flipped to `True`. This limits the functions that could be executed during unpickling. Arbitrary objects will no longer be allowed to be loaded via this mode unless they are explicitly allowlisted by the user via `torch.serialization.add_safe_globals`. We recommend you start setting `weights_only=True` for any use case where you don't have full control of the loaded file. Please open an issue on GitHub for any issues related to this experimental feature.\n",
      "  weights = torch.load(\"../../../data/bbh/datamodels/reduced_sample/estimations/weights.pt\")\n",
      "/tmp/ipykernel_756954/1085244540.py:4: FutureWarning: You are using `torch.load` with `weights_only=False` (the current default value), which uses the default pickle module implicitly. It is possible to construct malicious pickle data which will execute arbitrary code during unpickling (See https://github.com/pytorch/pytorch/blob/main/SECURITY.md#untrusted-models for more details). In a future release, the default value for `weights_only` will be flipped to `True`. This limits the functions that could be executed during unpickling. Arbitrary objects will no longer be allowed to be loaded via this mode unless they are explicitly allowlisted by the user via `torch.serialization.add_safe_globals`. We recommend you start setting `weights_only=True` for any use case where you don't have full control of the loaded file. Please open an issue on GitHub for any issues related to this experimental feature.\n",
      "  bias = torch.load(\"../../../data/bbh/datamodels/reduced_sample/estimations/bias.pt\")\n"
     ]
    }
   ],
   "source": [
    "df_train = pd.read_csv(\"../../../data/bbh/datamodels/reduced_sample/train_set.csv\")\n",
    "df_test = pd.read_csv(\"../../../data/bbh/datamodels/reduced_sample/test_set.csv\")\n",
    "weights = torch.load(\"../../../data/bbh/datamodels/reduced_sample/estimations/weights.pt\")\n",
    "bias = torch.load(\"../../../data/bbh/datamodels/reduced_sample/estimations/bias.pt\")"
   ]
  },
  {
   "cell_type": "code",
   "execution_count": 11,
   "metadata": {},
   "outputs": [
    {
     "data": {
      "text/html": [
       "<div>\n",
       "<style scoped>\n",
       "    .dataframe tbody tr th:only-of-type {\n",
       "        vertical-align: middle;\n",
       "    }\n",
       "\n",
       "    .dataframe tbody tr th {\n",
       "        vertical-align: top;\n",
       "    }\n",
       "\n",
       "    .dataframe thead th {\n",
       "        text-align: right;\n",
       "    }\n",
       "</style>\n",
       "<table border=\"1\" class=\"dataframe\">\n",
       "  <thead>\n",
       "    <tr style=\"text-align: right;\">\n",
       "      <th></th>\n",
       "      <th>task</th>\n",
       "      <th>input</th>\n",
       "      <th>output</th>\n",
       "    </tr>\n",
       "  </thead>\n",
       "  <tbody>\n",
       "    <tr>\n",
       "      <th>0</th>\n",
       "      <td>disambiguation_qa</td>\n",
       "      <td>In the following sentences, explain the antece...</td>\n",
       "      <td>(A)</td>\n",
       "    </tr>\n",
       "    <tr>\n",
       "      <th>1</th>\n",
       "      <td>disambiguation_qa</td>\n",
       "      <td>In the following sentences, explain the antece...</td>\n",
       "      <td>(B)</td>\n",
       "    </tr>\n",
       "    <tr>\n",
       "      <th>2</th>\n",
       "      <td>disambiguation_qa</td>\n",
       "      <td>In the following sentences, explain the antece...</td>\n",
       "      <td>(C)</td>\n",
       "    </tr>\n",
       "    <tr>\n",
       "      <th>3</th>\n",
       "      <td>disambiguation_qa</td>\n",
       "      <td>In the following sentences, explain the antece...</td>\n",
       "      <td>(B)</td>\n",
       "    </tr>\n",
       "    <tr>\n",
       "      <th>4</th>\n",
       "      <td>disambiguation_qa</td>\n",
       "      <td>In the following sentences, explain the antece...</td>\n",
       "      <td>(B)</td>\n",
       "    </tr>\n",
       "    <tr>\n",
       "      <th>...</th>\n",
       "      <td>...</td>\n",
       "      <td>...</td>\n",
       "      <td>...</td>\n",
       "    </tr>\n",
       "    <tr>\n",
       "      <th>155</th>\n",
       "      <td>word_sorting</td>\n",
       "      <td>Sort the following words alphabetically: List:...</td>\n",
       "      <td>alkali breach buckle falsetto hyperboloid liqu...</td>\n",
       "    </tr>\n",
       "    <tr>\n",
       "      <th>156</th>\n",
       "      <td>word_sorting</td>\n",
       "      <td>Sort the following words alphabetically: List:...</td>\n",
       "      <td>amphibious assist baseplate benchmark ell hatc...</td>\n",
       "    </tr>\n",
       "    <tr>\n",
       "      <th>157</th>\n",
       "      <td>word_sorting</td>\n",
       "      <td>Sort the following words alphabetically: List:...</td>\n",
       "      <td>abbe adposition arragon cast danbury emplace f...</td>\n",
       "    </tr>\n",
       "    <tr>\n",
       "      <th>158</th>\n",
       "      <td>word_sorting</td>\n",
       "      <td>Sort the following words alphabetically: List:...</td>\n",
       "      <td>avalanche cameroon canal chaplin clonic coachm...</td>\n",
       "    </tr>\n",
       "    <tr>\n",
       "      <th>159</th>\n",
       "      <td>word_sorting</td>\n",
       "      <td>Sort the following words alphabetically: List:...</td>\n",
       "      <td>alterate aseptic cayenne chandigarh debauch de...</td>\n",
       "    </tr>\n",
       "  </tbody>\n",
       "</table>\n",
       "<p>160 rows × 3 columns</p>\n",
       "</div>"
      ],
      "text/plain": [
       "                  task                                              input  \\\n",
       "0    disambiguation_qa  In the following sentences, explain the antece...   \n",
       "1    disambiguation_qa  In the following sentences, explain the antece...   \n",
       "2    disambiguation_qa  In the following sentences, explain the antece...   \n",
       "3    disambiguation_qa  In the following sentences, explain the antece...   \n",
       "4    disambiguation_qa  In the following sentences, explain the antece...   \n",
       "..                 ...                                                ...   \n",
       "155       word_sorting  Sort the following words alphabetically: List:...   \n",
       "156       word_sorting  Sort the following words alphabetically: List:...   \n",
       "157       word_sorting  Sort the following words alphabetically: List:...   \n",
       "158       word_sorting  Sort the following words alphabetically: List:...   \n",
       "159       word_sorting  Sort the following words alphabetically: List:...   \n",
       "\n",
       "                                                output  \n",
       "0                                                  (A)  \n",
       "1                                                  (B)  \n",
       "2                                                  (C)  \n",
       "3                                                  (B)  \n",
       "4                                                  (B)  \n",
       "..                                                 ...  \n",
       "155  alkali breach buckle falsetto hyperboloid liqu...  \n",
       "156  amphibious assist baseplate benchmark ell hatc...  \n",
       "157  abbe adposition arragon cast danbury emplace f...  \n",
       "158  avalanche cameroon canal chaplin clonic coachm...  \n",
       "159  alterate aseptic cayenne chandigarh debauch de...  \n",
       "\n",
       "[160 rows x 3 columns]"
      ]
     },
     "execution_count": 11,
     "metadata": {},
     "output_type": "execute_result"
    }
   ],
   "source": [
    "df_train"
   ]
  },
  {
   "cell_type": "code",
   "execution_count": 4,
   "metadata": {},
   "outputs": [],
   "source": [
    "weights = weights.cpu().detach().numpy()\n",
    "bias = bias.cpu().detach().numpy()"
   ]
  },
  {
   "cell_type": "markdown",
   "metadata": {},
   "source": [
    "## Part 1: Is the Datamodel working?\n",
    "\n",
    "The goal here is to understand if the trained datamodels are achieving the retrieval and interpretability expectation\n",
    "</br>\n",
    "To do so, we will look for three different things:\n",
    "- Is it performing in the test collections?\n",
    "- Is it able to distinguish the tasks in the training pool and correlate them to the test set?\n",
    "- Is increasing the performance when comparing to the baseline?"
   ]
  },
  {
   "cell_type": "markdown",
   "metadata": {},
   "source": [
    "### 1.1 - Is it performing in the test collections? \n",
    "\n",
    "Here we will get the performance of the datamodel for the test collections"
   ]
  },
  {
   "cell_type": "code",
   "execution_count": null,
   "metadata": {},
   "outputs": [],
   "source": []
  },
  {
   "cell_type": "markdown",
   "metadata": {},
   "source": [
    "### 1.2 - Is it able to distinguish the tasks in the training pool and correlate them to the test set?\n",
    "\n",
    "Here we will work with a possibility to individual analysis over the results, to see where are the most impactful weights for a given test sample it's possible here to:\n",
    "- see a heatmap of estimations on the training pool across all tasks\n",
    "- see the i-th more influential samples\n",
    "\n",
    "Globalt, we can measure the ability to discern between tasks by analysing:\n",
    "- the median quantity of samples in the first quarter of most influential samples\n",
    "- the difference between the means of task weights and the others"
   ]
  },
  {
   "cell_type": "code",
   "execution_count": 20,
   "metadata": {},
   "outputs": [
    {
     "data": {
      "image/png": "[encoded data removed]",
      "text/plain": [
       "<Figure size 1000x500 with 2 Axes>"
      ]
     },
     "metadata": {},
     "output_type": "display_data"
    }
   ],
   "source": [
    "## Set idx\n",
    "idx = 8\n",
    "plot_individual_weights_heatmap(weights[idx], 4)"
   ]
  },
  {
   "cell_type": "code",
   "execution_count": null,
   "metadata": {},
   "outputs": [],
   "source": []
  },
  {
   "cell_type": "code",
   "execution_count": null,
   "metadata": {},
   "outputs": [],
   "source": []
  }
 ],
 "metadata": {
  "kernelspec": {
   "display_name": "datamodels",
   "language": "python",
   "name": "python3"
  },
  "language_info": {
   "codemirror_mode": {
    "name": "ipython",
    "version": 3
   },
   "file_extension": ".py",
   "mimetype": "text/x-python",
   "name": "python",
   "nbconvert_exporter": "python",
   "pygments_lexer": "ipython3",
   "version": "3.11.10"
  }
 },
 "nbformat": 4,
 "nbformat_minor": 2
}
