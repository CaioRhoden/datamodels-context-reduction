{
 "cells": [
  {
   "cell_type": "code",
   "execution_count": 1,
   "metadata": {},
   "outputs": [
    {
     "name": "stderr",
     "output_type": "stream",
     "text": [
      "/home/caio.rhoden/miniconda3/envs/datamodels/lib/python3.11/site-packages/tqdm/auto.py:21: TqdmWarning: IProgress not found. Please update jupyter and ipywidgets. See https://ipywidgets.readthedocs.io/en/stable/user_install.html\n",
      "  from .autonotebook import tqdm as notebook_tqdm\n",
      "Loading checkpoint shards: 100%|██████████| 4/4 [00:04<00:00,  1.03s/it]\n"
     ]
    }
   ],
   "source": [
    "import torch\n",
    "from src.datamodels.pipeline import DatamodelPipeline\n",
    "from src.datamodels.config import DatamodelConfig\n",
    "from src.llms import Llama3_1\n",
    "from src.evaluator import GleuEvaluator\n",
    "\n",
    "\n",
    "datamodels_path = \"../../data/instruction-induction-data/datamodels/proportion_study/210_5\"\n",
    "\n",
    "llama = Llama3_1()\n",
    "\n",
    "config = DatamodelConfig(\n",
    "    k = 8,\n",
    "    num_models= 105,\n",
    "    datamodels_path = \"../../data/instruction-induction-data/datamodels/proportion_study/210_5\",\n",
    "    train_collections_idx = None,\n",
    "    test_collections_idx = None,\n",
    "    test_set = None,\n",
    "    train_set = None,\n",
    "    instructions= None,\n",
    "    llm = llama,\n",
    "    evaluator=GleuEvaluator(),\n",
    ")\n",
    "\n",
    "\n",
    "datamodel = DatamodelPipeline(config)\n",
    "\n"
   ]
  },
  {
   "cell_type": "code",
   "execution_count": 2,
   "metadata": {},
   "outputs": [
    {
     "name": "stdout",
     "output_type": "stream",
     "text": [
      "Collections under processing\n"
     ]
    }
   ],
   "source": [
    "datamodel.load_collections_from_path(test_flag=False)"
   ]
  },
  {
   "cell_type": "code",
   "execution_count": 3,
   "metadata": {},
   "outputs": [
    {
     "name": "stderr",
     "output_type": "stream",
     "text": [
      "/tmp/ipykernel_1988286/1146515023.py:1: FutureWarning: You are using `torch.load` with `weights_only=False` (the current default value), which uses the default pickle module implicitly. It is possible to construct malicious pickle data which will execute arbitrary code during unpickling (See https://github.com/pytorch/pytorch/blob/main/SECURITY.md#untrusted-models for more details). In a future release, the default value for `weights_only` will be flipped to `True`. This limits the functions that could be executed during unpickling. Arbitrary objects will no longer be allowed to be loaded via this mode unless they are explicitly allowlisted by the user via `torch.serialization.add_safe_globals`. We recommend you start setting `weights_only=True` for any use case where you don't have full control of the loaded file. Please open an issue on GitHub for any issues related to this experimental feature.\n",
      "  dt = torch.load(f\"{datamodels_path}/datasets/train/dt_0.pt\")\n"
     ]
    }
   ],
   "source": [
    "dt = torch.load(f\"{datamodels_path}/datasets/train/dt_0.pt\")"
   ]
  },
  {
   "cell_type": "code",
   "execution_count": 36,
   "metadata": {},
   "outputs": [],
   "source": [
    "from torch.utils.data import DataLoader\n",
    "train = DataLoader(dt, batch_size=8, shuffle=True)"
   ]
  },
  {
   "cell_type": "code",
   "execution_count": 37,
   "metadata": {},
   "outputs": [
    {
     "name": "stdout",
     "output_type": "stream",
     "text": [
      "torch.Size([8, 41250, 420])\n",
      "torch.Size([8, 41250])\n"
     ]
    }
   ],
   "source": [
    "for x, y in train:\n",
    "    print(x.shape)\n",
    "    print(y.shape)\n",
    "    break"
   ]
  },
  {
   "cell_type": "code",
   "execution_count": null,
   "metadata": {},
   "outputs": [],
   "source": []
  }
 ],
 "metadata": {
  "kernelspec": {
   "display_name": "datamodels",
   "language": "python",
   "name": "python3"
  },
  "language_info": {
   "codemirror_mode": {
    "name": "ipython",
    "version": 3
   },
   "file_extension": ".py",
   "mimetype": "text/x-python",
   "name": "python",
   "nbconvert_exporter": "python",
   "pygments_lexer": "ipython3",
   "version": "3.11.10"
  }
 },
 "nbformat": 4,
 "nbformat_minor": 2
}
