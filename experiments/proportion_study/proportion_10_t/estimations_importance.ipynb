{
 "cells": [
  {
   "cell_type": "code",
   "execution_count": 2,
   "metadata": {},
   "outputs": [],
   "source": [
    "import pandas as pd\n",
    "import numpy as np\n",
    "import torch"
   ]
  },
  {
   "cell_type": "markdown",
   "metadata": {},
   "source": [
    "## Loading Data"
   ]
  },
  {
   "cell_type": "code",
   "execution_count": 3,
   "metadata": {},
   "outputs": [
    {
     "name": "stderr",
     "output_type": "stream",
     "text": [
      "/tmp/ipykernel_2584001/2019350334.py:5: FutureWarning: You are using `torch.load` with `weights_only=False` (the current default value), which uses the default pickle module implicitly. It is possible to construct malicious pickle data which will execute arbitrary code during unpickling (See https://github.com/pytorch/pytorch/blob/main/SECURITY.md#untrusted-models for more details). In a future release, the default value for `weights_only` will be flipped to `True`. This limits the functions that could be executed during unpickling. Arbitrary objects will no longer be allowed to be loaded via this mode unless they are explicitly allowlisted by the user via `torch.serialization.add_safe_globals`. We recommend you start setting `weights_only=True` for any use case where you don't have full control of the loaded file. Please open an issue on GitHub for any issues related to this experimental feature.\n",
      "  weights = torch.load(f\"{path}/estimations/weights.pt\")\n",
      "/tmp/ipykernel_2584001/2019350334.py:6: FutureWarning: You are using `torch.load` with `weights_only=False` (the current default value), which uses the default pickle module implicitly. It is possible to construct malicious pickle data which will execute arbitrary code during unpickling (See https://github.com/pytorch/pytorch/blob/main/SECURITY.md#untrusted-models for more details). In a future release, the default value for `weights_only` will be flipped to `True`. This limits the functions that could be executed during unpickling. Arbitrary objects will no longer be allowed to be loaded via this mode unless they are explicitly allowlisted by the user via `torch.serialization.add_safe_globals`. We recommend you start setting `weights_only=True` for any use case where you don't have full control of the loaded file. Please open an issue on GitHub for any issues related to this experimental feature.\n",
      "  bias = torch.load(f\"{path}/estimations/bias.pt\")\n"
     ]
    }
   ],
   "source": [
    "path = \"../../data/instruction-induction-data/datamodels/tiny_datamodels_07_11_2024\"\n",
    "\n",
    "df_train = pd.read_csv(f\"{path}/train_set.csv\")\n",
    "df_test = pd.read_csv(f\"{path}/test_set.csv\")\n",
    "weights = torch.load(f\"{path}/estimations/weights.pt\")\n",
    "bias = torch.load(f\"{path}/estimations/bias.pt\")"
   ]
  },
  {
   "cell_type": "code",
   "execution_count": 4,
   "metadata": {},
   "outputs": [
    {
     "data": {
      "text/plain": [
       "(105, 420)"
      ]
     },
     "execution_count": 4,
     "metadata": {},
     "output_type": "execute_result"
    }
   ],
   "source": [
    "weights.detach().numpy().shape"
   ]
  },
  {
   "cell_type": "code",
   "execution_count": 5,
   "metadata": {},
   "outputs": [
    {
     "data": {
      "text/plain": [
       "0      [-0.22689003, 0.107258335, -1.2513508, 0.36546...\n",
       "1      [1.2124583, 0.29754302, -0.45899191, 0.6239016...\n",
       "2      [0.47925347, 0.4045014, 0.107771866, -0.726511...\n",
       "3      [-0.4805047, -1.1610062, -0.41322324, -0.06089...\n",
       "4      [-0.96078557, -0.8879543, 0.74129945, 1.359821...\n",
       "                             ...                        \n",
       "100    [0.74309564, -2.17602, 1.7446399, -1.5777248, ...\n",
       "101    [1.1737587, -1.4358497, 0.45085606, -2.0746596...\n",
       "102    [0.74147475, 0.92140144, 1.1124736, 2.0468018,...\n",
       "103    [1.2813282, -0.1376149, -0.8139636, -0.0875276...\n",
       "104    [0.41979998, -2.104313, 0.48758322, -0.1165898...\n",
       "Name: weights, Length: 105, dtype: object"
      ]
     },
     "execution_count": 5,
     "metadata": {},
     "output_type": "execute_result"
    }
   ],
   "source": [
    "df_test[\"weights\"] = list(weights.detach().numpy())\n",
    "df_test[\"bias\"] = bias.detach().numpy()\n",
    "df_test[\"weights\"]\n"
   ]
  },
  {
   "cell_type": "markdown",
   "metadata": {
    "vscode": {
     "languageId": "bat"
    }
   },
   "source": [
    "## Visualize top estimations by task"
   ]
  },
  {
   "cell_type": "code",
   "execution_count": null,
   "metadata": {},
   "outputs": [
    {
     "data": {
      "text/plain": [
       "['active_to_passive',\n",
       " 'active_to_passive',\n",
       " 'active_to_passive',\n",
       " 'active_to_passive',\n",
       " 'active_to_passive',\n",
       " 'active_to_passive',\n",
       " 'active_to_passive',\n",
       " 'active_to_passive',\n",
       " 'active_to_passive',\n",
       " 'active_to_passive',\n",
       " 'active_to_passive',\n",
       " 'active_to_passive',\n",
       " 'active_to_passive',\n",
       " 'active_to_passive',\n",
       " 'active_to_passive',\n",
       " 'active_to_passive',\n",
       " 'active_to_passive',\n",
       " 'active_to_passive',\n",
       " 'active_to_passive',\n",
       " 'active_to_passive',\n",
       " 'antonyms',\n",
       " 'antonyms',\n",
       " 'antonyms',\n",
       " 'antonyms',\n",
       " 'antonyms',\n",
       " 'antonyms',\n",
       " 'antonyms',\n",
       " 'antonyms',\n",
       " 'antonyms',\n",
       " 'antonyms',\n",
       " 'antonyms',\n",
       " 'antonyms',\n",
       " 'antonyms',\n",
       " 'antonyms',\n",
       " 'antonyms',\n",
       " 'antonyms',\n",
       " 'antonyms',\n",
       " 'antonyms',\n",
       " 'antonyms',\n",
       " 'antonyms',\n",
       " 'diff',\n",
       " 'diff',\n",
       " 'diff',\n",
       " 'diff',\n",
       " 'diff',\n",
       " 'diff',\n",
       " 'diff',\n",
       " 'diff',\n",
       " 'diff',\n",
       " 'diff',\n",
       " 'diff',\n",
       " 'diff',\n",
       " 'diff',\n",
       " 'diff',\n",
       " 'diff',\n",
       " 'diff',\n",
       " 'diff',\n",
       " 'diff',\n",
       " 'diff',\n",
       " 'diff',\n",
       " 'first_word_letter',\n",
       " 'first_word_letter',\n",
       " 'first_word_letter',\n",
       " 'first_word_letter',\n",
       " 'first_word_letter',\n",
       " 'first_word_letter',\n",
       " 'first_word_letter',\n",
       " 'first_word_letter',\n",
       " 'first_word_letter',\n",
       " 'first_word_letter',\n",
       " 'first_word_letter',\n",
       " 'first_word_letter',\n",
       " 'first_word_letter',\n",
       " 'first_word_letter',\n",
       " 'first_word_letter',\n",
       " 'first_word_letter',\n",
       " 'first_word_letter',\n",
       " 'first_word_letter',\n",
       " 'first_word_letter',\n",
       " 'first_word_letter',\n",
       " 'larger_animal',\n",
       " 'larger_animal',\n",
       " 'larger_animal',\n",
       " 'larger_animal',\n",
       " 'larger_animal',\n",
       " 'larger_animal',\n",
       " 'larger_animal',\n",
       " 'larger_animal',\n",
       " 'larger_animal',\n",
       " 'larger_animal',\n",
       " 'larger_animal',\n",
       " 'larger_animal',\n",
       " 'larger_animal',\n",
       " 'larger_animal',\n",
       " 'larger_animal',\n",
       " 'larger_animal',\n",
       " 'larger_animal',\n",
       " 'larger_animal',\n",
       " 'larger_animal',\n",
       " 'larger_animal',\n",
       " 'letters_list',\n",
       " 'letters_list',\n",
       " 'letters_list',\n",
       " 'letters_list',\n",
       " 'letters_list',\n",
       " 'letters_list',\n",
       " 'letters_list',\n",
       " 'letters_list',\n",
       " 'letters_list',\n",
       " 'letters_list',\n",
       " 'letters_list',\n",
       " 'letters_list',\n",
       " 'letters_list',\n",
       " 'letters_list',\n",
       " 'letters_list',\n",
       " 'letters_list',\n",
       " 'letters_list',\n",
       " 'letters_list',\n",
       " 'letters_list',\n",
       " 'letters_list',\n",
       " 'negation',\n",
       " 'negation',\n",
       " 'negation',\n",
       " 'negation',\n",
       " 'negation',\n",
       " 'negation',\n",
       " 'negation',\n",
       " 'negation',\n",
       " 'negation',\n",
       " 'negation',\n",
       " 'negation',\n",
       " 'negation',\n",
       " 'negation',\n",
       " 'negation',\n",
       " 'negation',\n",
       " 'negation',\n",
       " 'negation',\n",
       " 'negation',\n",
       " 'negation',\n",
       " 'negation',\n",
       " 'num_to_verbal',\n",
       " 'num_to_verbal',\n",
       " 'num_to_verbal',\n",
       " 'num_to_verbal',\n",
       " 'num_to_verbal',\n",
       " 'num_to_verbal',\n",
       " 'num_to_verbal',\n",
       " 'num_to_verbal',\n",
       " 'num_to_verbal',\n",
       " 'num_to_verbal',\n",
       " 'num_to_verbal',\n",
       " 'num_to_verbal',\n",
       " 'num_to_verbal',\n",
       " 'num_to_verbal',\n",
       " 'num_to_verbal',\n",
       " 'num_to_verbal',\n",
       " 'num_to_verbal',\n",
       " 'num_to_verbal',\n",
       " 'num_to_verbal',\n",
       " 'num_to_verbal',\n",
       " 'orthography_starts_with',\n",
       " 'orthography_starts_with',\n",
       " 'orthography_starts_with',\n",
       " 'orthography_starts_with',\n",
       " 'orthography_starts_with',\n",
       " 'orthography_starts_with',\n",
       " 'orthography_starts_with',\n",
       " 'orthography_starts_with',\n",
       " 'orthography_starts_with',\n",
       " 'orthography_starts_with',\n",
       " 'orthography_starts_with',\n",
       " 'orthography_starts_with',\n",
       " 'orthography_starts_with',\n",
       " 'orthography_starts_with',\n",
       " 'orthography_starts_with',\n",
       " 'orthography_starts_with',\n",
       " 'orthography_starts_with',\n",
       " 'orthography_starts_with',\n",
       " 'orthography_starts_with',\n",
       " 'orthography_starts_with',\n",
       " 'rhymes',\n",
       " 'rhymes',\n",
       " 'rhymes',\n",
       " 'rhymes',\n",
       " 'rhymes',\n",
       " 'rhymes',\n",
       " 'rhymes',\n",
       " 'rhymes',\n",
       " 'rhymes',\n",
       " 'rhymes',\n",
       " 'rhymes',\n",
       " 'rhymes',\n",
       " 'rhymes',\n",
       " 'rhymes',\n",
       " 'rhymes',\n",
       " 'rhymes',\n",
       " 'rhymes',\n",
       " 'rhymes',\n",
       " 'rhymes',\n",
       " 'rhymes',\n",
       " 'second_word_letter',\n",
       " 'second_word_letter',\n",
       " 'second_word_letter',\n",
       " 'second_word_letter',\n",
       " 'second_word_letter',\n",
       " 'second_word_letter',\n",
       " 'second_word_letter',\n",
       " 'second_word_letter',\n",
       " 'second_word_letter',\n",
       " 'second_word_letter',\n",
       " 'second_word_letter',\n",
       " 'second_word_letter',\n",
       " 'second_word_letter',\n",
       " 'second_word_letter',\n",
       " 'second_word_letter',\n",
       " 'second_word_letter',\n",
       " 'second_word_letter',\n",
       " 'second_word_letter',\n",
       " 'second_word_letter',\n",
       " 'second_word_letter',\n",
       " 'sentence_similarity',\n",
       " 'sentence_similarity',\n",
       " 'sentence_similarity',\n",
       " 'sentence_similarity',\n",
       " 'sentence_similarity',\n",
       " 'sentence_similarity',\n",
       " 'sentence_similarity',\n",
       " 'sentence_similarity',\n",
       " 'sentence_similarity',\n",
       " 'sentence_similarity',\n",
       " 'sentence_similarity',\n",
       " 'sentence_similarity',\n",
       " 'sentence_similarity',\n",
       " 'sentence_similarity',\n",
       " 'sentence_similarity',\n",
       " 'sentence_similarity',\n",
       " 'sentence_similarity',\n",
       " 'sentence_similarity',\n",
       " 'sentence_similarity',\n",
       " 'sentence_similarity',\n",
       " 'sentiment',\n",
       " 'sentiment',\n",
       " 'sentiment',\n",
       " 'sentiment',\n",
       " 'sentiment',\n",
       " 'sentiment',\n",
       " 'sentiment',\n",
       " 'sentiment',\n",
       " 'sentiment',\n",
       " 'sentiment',\n",
       " 'sentiment',\n",
       " 'sentiment',\n",
       " 'sentiment',\n",
       " 'sentiment',\n",
       " 'sentiment',\n",
       " 'sentiment',\n",
       " 'sentiment',\n",
       " 'sentiment',\n",
       " 'sentiment',\n",
       " 'sentiment',\n",
       " 'singular_to_plural',\n",
       " 'singular_to_plural',\n",
       " 'singular_to_plural',\n",
       " 'singular_to_plural',\n",
       " 'singular_to_plural',\n",
       " 'singular_to_plural',\n",
       " 'singular_to_plural',\n",
       " 'singular_to_plural',\n",
       " 'singular_to_plural',\n",
       " 'singular_to_plural',\n",
       " 'singular_to_plural',\n",
       " 'singular_to_plural',\n",
       " 'singular_to_plural',\n",
       " 'singular_to_plural',\n",
       " 'singular_to_plural',\n",
       " 'singular_to_plural',\n",
       " 'singular_to_plural',\n",
       " 'singular_to_plural',\n",
       " 'singular_to_plural',\n",
       " 'singular_to_plural',\n",
       " 'sum',\n",
       " 'sum',\n",
       " 'sum',\n",
       " 'sum',\n",
       " 'sum',\n",
       " 'sum',\n",
       " 'sum',\n",
       " 'sum',\n",
       " 'sum',\n",
       " 'sum',\n",
       " 'sum',\n",
       " 'sum',\n",
       " 'sum',\n",
       " 'sum',\n",
       " 'sum',\n",
       " 'sum',\n",
       " 'sum',\n",
       " 'sum',\n",
       " 'sum',\n",
       " 'sum',\n",
       " 'synonyms',\n",
       " 'synonyms',\n",
       " 'synonyms',\n",
       " 'synonyms',\n",
       " 'synonyms',\n",
       " 'synonyms',\n",
       " 'synonyms',\n",
       " 'synonyms',\n",
       " 'synonyms',\n",
       " 'synonyms',\n",
       " 'synonyms',\n",
       " 'synonyms',\n",
       " 'synonyms',\n",
       " 'synonyms',\n",
       " 'synonyms',\n",
       " 'synonyms',\n",
       " 'synonyms',\n",
       " 'synonyms',\n",
       " 'synonyms',\n",
       " 'synonyms',\n",
       " 'taxonomy_animal',\n",
       " 'taxonomy_animal',\n",
       " 'taxonomy_animal',\n",
       " 'taxonomy_animal',\n",
       " 'taxonomy_animal',\n",
       " 'taxonomy_animal',\n",
       " 'taxonomy_animal',\n",
       " 'taxonomy_animal',\n",
       " 'taxonomy_animal',\n",
       " 'taxonomy_animal',\n",
       " 'taxonomy_animal',\n",
       " 'taxonomy_animal',\n",
       " 'taxonomy_animal',\n",
       " 'taxonomy_animal',\n",
       " 'taxonomy_animal',\n",
       " 'taxonomy_animal',\n",
       " 'taxonomy_animal',\n",
       " 'taxonomy_animal',\n",
       " 'taxonomy_animal',\n",
       " 'taxonomy_animal',\n",
       " 'translation_en-de',\n",
       " 'translation_en-de',\n",
       " 'translation_en-de',\n",
       " 'translation_en-de',\n",
       " 'translation_en-de',\n",
       " 'translation_en-de',\n",
       " 'translation_en-de',\n",
       " 'translation_en-de',\n",
       " 'translation_en-de',\n",
       " 'translation_en-de',\n",
       " 'translation_en-de',\n",
       " 'translation_en-de',\n",
       " 'translation_en-de',\n",
       " 'translation_en-de',\n",
       " 'translation_en-de',\n",
       " 'translation_en-de',\n",
       " 'translation_en-de',\n",
       " 'translation_en-de',\n",
       " 'translation_en-de',\n",
       " 'translation_en-de',\n",
       " 'translation_en-es',\n",
       " 'translation_en-es',\n",
       " 'translation_en-es',\n",
       " 'translation_en-es',\n",
       " 'translation_en-es',\n",
       " 'translation_en-es',\n",
       " 'translation_en-es',\n",
       " 'translation_en-es',\n",
       " 'translation_en-es',\n",
       " 'translation_en-es',\n",
       " 'translation_en-es',\n",
       " 'translation_en-es',\n",
       " 'translation_en-es',\n",
       " 'translation_en-es',\n",
       " 'translation_en-es',\n",
       " 'translation_en-es',\n",
       " 'translation_en-es',\n",
       " 'translation_en-es',\n",
       " 'translation_en-es',\n",
       " 'translation_en-es',\n",
       " 'translation_en-fr',\n",
       " 'translation_en-fr',\n",
       " 'translation_en-fr',\n",
       " 'translation_en-fr',\n",
       " 'translation_en-fr',\n",
       " 'translation_en-fr',\n",
       " 'translation_en-fr',\n",
       " 'translation_en-fr',\n",
       " 'translation_en-fr',\n",
       " 'translation_en-fr',\n",
       " 'translation_en-fr',\n",
       " 'translation_en-fr',\n",
       " 'translation_en-fr',\n",
       " 'translation_en-fr',\n",
       " 'translation_en-fr',\n",
       " 'translation_en-fr',\n",
       " 'translation_en-fr',\n",
       " 'translation_en-fr',\n",
       " 'translation_en-fr',\n",
       " 'translation_en-fr',\n",
       " 'word_in_context',\n",
       " 'word_in_context',\n",
       " 'word_in_context',\n",
       " 'word_in_context',\n",
       " 'word_in_context',\n",
       " 'word_in_context',\n",
       " 'word_in_context',\n",
       " 'word_in_context',\n",
       " 'word_in_context',\n",
       " 'word_in_context',\n",
       " 'word_in_context',\n",
       " 'word_in_context',\n",
       " 'word_in_context',\n",
       " 'word_in_context',\n",
       " 'word_in_context',\n",
       " 'word_in_context',\n",
       " 'word_in_context',\n",
       " 'word_in_context',\n",
       " 'word_in_context',\n",
       " 'word_in_context']"
      ]
     },
     "execution_count": 6,
     "metadata": {},
     "output_type": "execute_result"
    }
   ],
   "source": [
    "df_test[\"estimation_task\"] = df_test[\"weights\"].apply(lambda indices: [df_train.loc[i, \"task\"] for i in range(len(indices))])\n"
   ]
  },
  {
   "cell_type": "code",
   "execution_count": null,
   "metadata": {},
   "outputs": [
    {
     "data": {
      "text/plain": [
       "array([189, 113,  17, 203, 327, 228,  75, 311])"
      ]
     },
     "execution_count": 41,
     "metadata": {},
     "output_type": "execute_result"
    }
   ],
   "source": [
    "n = 8\n",
    "top_indices = df_test[\"weights\"].apply(lambda indices: np.argsort(-indices)[:n])\n",
    "top_indices[20]\n"
   ]
  },
  {
   "cell_type": "code",
   "execution_count": 34,
   "metadata": {},
   "outputs": [
    {
     "data": {
      "text/plain": [
       "'rhymes'"
      ]
     },
     "execution_count": 34,
     "metadata": {},
     "output_type": "execute_result"
    }
   ],
   "source": [
    "df_test[\"estimation_task\"][20][189]"
   ]
  },
  {
   "cell_type": "code",
   "execution_count": 35,
   "metadata": {},
   "outputs": [
    {
     "data": {
      "text/plain": [
       "'letters_list'"
      ]
     },
     "execution_count": 35,
     "metadata": {},
     "output_type": "execute_result"
    }
   ],
   "source": [
    "df_test[\"estimation_task\"][20][113]"
   ]
  },
  {
   "cell_type": "code",
   "execution_count": 37,
   "metadata": {},
   "outputs": [
    {
     "data": {
      "text/plain": [
       "'second_word_letter'"
      ]
     },
     "execution_count": 37,
     "metadata": {},
     "output_type": "execute_result"
    }
   ],
   "source": [
    "df_test[\"estimation_task\"][20][203]"
   ]
  },
  {
   "cell_type": "code",
   "execution_count": 17,
   "metadata": {},
   "outputs": [
    {
     "data": {
      "text/plain": [
       "[197, 405, 375, 169, 184, 160, 396, 78]"
      ]
     },
     "execution_count": 17,
     "metadata": {},
     "output_type": "execute_result"
    }
   ],
   "source": [
    "list(top_indices[0])"
   ]
  }
 ],
 "metadata": {
  "kernelspec": {
   "display_name": "datamodels",
   "language": "python",
   "name": "python3"
  },
  "language_info": {
   "codemirror_mode": {
    "name": "ipython",
    "version": 3
   },
   "file_extension": ".py",
   "mimetype": "text/x-python",
   "name": "python",
   "nbconvert_exporter": "python",
   "pygments_lexer": "ipython3",
   "version": "3.11.10"
  }
 },
 "nbformat": 4,
 "nbformat_minor": 2
}
