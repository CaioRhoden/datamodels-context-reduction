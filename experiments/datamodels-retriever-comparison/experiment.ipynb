{
 "cells": [
  {
   "cell_type": "markdown",
   "metadata": {},
   "source": [
    "# Datamodels Retriever Experiment\n",
    "\n",
    "This document has the goal to show the implementation of a context retriever using Datamodels and its comparison against classical approaches"
   ]
  },
  {
   "cell_type": "markdown",
   "metadata": {},
   "source": [
    "# 1. Run Classical Approaches\n",
    "\n",
    "First it's needed to run the comparison subject, to do so we will use the script present in this folder, it's just necessary to run\n",
    "\n",
    "```\n",
    "python run_classical_retriever.py\n",
    "```\n",
    "\n",
    "This will run the retriever for each sample from the test dataset, saving the data at every 50 samples as checkpoint"
   ]
  },
  {
   "cell_type": "markdown",
   "metadata": {},
   "source": [
    "# 2. Split Data for Datamodeling\n",
    "\n",
    "Here we will be spliting the data to achieve a dev dataset containing a representative numbe of samples to each subtask\n",
    "The \"k\" used here is 15"
   ]
  },
  {
   "cell_type": "code",
   "execution_count": 1,
   "metadata": {},
   "outputs": [
    {
     "name": "stderr",
     "output_type": "stream",
     "text": [
      "/home/caio.rhoden/miniconda3/envs/datamodels/lib/python3.11/site-packages/tqdm/auto.py:21: TqdmWarning: IProgress not found. Please update jupyter and ipywidgets. See https://ipywidgets.readthedocs.io/en/stable/user_install.html\n",
      "  from .autonotebook import tqdm as notebook_tqdm\n"
     ]
    },
    {
     "name": "stdout",
     "output_type": "stream",
     "text": [
      "                task                                     input  \\\n",
      "0  active_to_passive       The lawyer avoided the secretaries.   \n",
      "1  active_to_passive      The judges supported the scientists.   \n",
      "2  active_to_passive  The secretary recommended the professor.   \n",
      "3  active_to_passive    The artists recommended the secretary.   \n",
      "4  active_to_passive        The secretary avoided the senator.   \n",
      "\n",
      "                                            output  possible_outputs  \n",
      "0      The secretaries were avoided by the lawyer.               NaN  \n",
      "1     The scientists were supported by the judges.               NaN  \n",
      "2  The professor was recommended by the secretary.               NaN  \n",
      "3    The secretary was recommended by the artists.               NaN  \n",
      "4        The senator was avoided by the secretary.               NaN  \n",
      "Saving dev set\n",
      "Saving train set\n"
     ]
    }
   ],
   "source": [
    "from src.utils import split_dev_set, subset_df\n",
    "from src.retriever import DatamodelsRetriever\n",
    "import pandas as pd\n",
    "\n",
    "train = pd.read_csv(\"../../data/instruction-induction-data/processed/induce_tasks_examples.csv\")\n",
    "subset_df(train, 200, \"task\").to_csv(\"../../data/instruction-induction-data/processed/train.csv\")\n",
    "\n",
    "\n",
    "split_dev_set(\n",
    "    path=\"../../data/instruction-induction-data/processed/train.csv\",\n",
    "    saving_path=\"../../data/instruction-induction-data/datamodels\",    \n",
    "    k_samples=15,\n",
    "    task_column=\"task\",\n",
    ")"
   ]
  },
  {
   "cell_type": "markdown",
   "metadata": {},
   "source": [
    "## 3. Split the Collections to be trained"
   ]
  },
  {
   "cell_type": "code",
   "execution_count": 3,
   "metadata": {},
   "outputs": [
    {
     "data": {
      "text/html": [
       "<div>\n",
       "<style scoped>\n",
       "    .dataframe tbody tr th:only-of-type {\n",
       "        vertical-align: middle;\n",
       "    }\n",
       "\n",
       "    .dataframe tbody tr th {\n",
       "        vertical-align: top;\n",
       "    }\n",
       "\n",
       "    .dataframe thead th {\n",
       "        text-align: right;\n",
       "    }\n",
       "</style>\n",
       "<table border=\"1\" class=\"dataframe\">\n",
       "  <thead>\n",
       "    <tr style=\"text-align: right;\">\n",
       "      <th></th>\n",
       "      <th>task</th>\n",
       "      <th>input</th>\n",
       "      <th>output</th>\n",
       "      <th>possible_outputs</th>\n",
       "    </tr>\n",
       "  </thead>\n",
       "  <tbody>\n",
       "    <tr>\n",
       "      <th>0</th>\n",
       "      <td>antonyms</td>\n",
       "      <td>wholly</td>\n",
       "      <td>partly</td>\n",
       "      <td>NaN</td>\n",
       "    </tr>\n",
       "    <tr>\n",
       "      <th>1</th>\n",
       "      <td>antonyms</td>\n",
       "      <td>regular</td>\n",
       "      <td>irregular</td>\n",
       "      <td>NaN</td>\n",
       "    </tr>\n",
       "    <tr>\n",
       "      <th>2</th>\n",
       "      <td>antonyms</td>\n",
       "      <td>mother</td>\n",
       "      <td>father</td>\n",
       "      <td>NaN</td>\n",
       "    </tr>\n",
       "    <tr>\n",
       "      <th>3</th>\n",
       "      <td>antonyms</td>\n",
       "      <td>separate</td>\n",
       "      <td>joint</td>\n",
       "      <td>NaN</td>\n",
       "    </tr>\n",
       "    <tr>\n",
       "      <th>4</th>\n",
       "      <td>antonyms</td>\n",
       "      <td>decisive</td>\n",
       "      <td>indecisive</td>\n",
       "      <td>NaN</td>\n",
       "    </tr>\n",
       "    <tr>\n",
       "      <th>...</th>\n",
       "      <td>...</td>\n",
       "      <td>...</td>\n",
       "      <td>...</td>\n",
       "      <td>...</td>\n",
       "    </tr>\n",
       "    <tr>\n",
       "      <th>3880</th>\n",
       "      <td>word_in_context</td>\n",
       "      <td>Sentence 1: He was hospitalized for extreme fa...</td>\n",
       "      <td>not the same</td>\n",
       "      <td>NaN</td>\n",
       "    </tr>\n",
       "    <tr>\n",
       "      <th>3881</th>\n",
       "      <td>word_in_context</td>\n",
       "      <td>Sentence 1: A cartilaginous style. Sentence 2:...</td>\n",
       "      <td>same</td>\n",
       "      <td>NaN</td>\n",
       "    </tr>\n",
       "    <tr>\n",
       "      <th>3882</th>\n",
       "      <td>word_in_context</td>\n",
       "      <td>Sentence 1: Do you have a light? Sentence 2: T...</td>\n",
       "      <td>not the same</td>\n",
       "      <td>NaN</td>\n",
       "    </tr>\n",
       "    <tr>\n",
       "      <th>3883</th>\n",
       "      <td>word_in_context</td>\n",
       "      <td>Sentence 1: Blow on the soup to cool it down. ...</td>\n",
       "      <td>not the same</td>\n",
       "      <td>NaN</td>\n",
       "    </tr>\n",
       "    <tr>\n",
       "      <th>3884</th>\n",
       "      <td>word_in_context</td>\n",
       "      <td>Sentence 1: Many sunken ships rest on the ocea...</td>\n",
       "      <td>same</td>\n",
       "      <td>NaN</td>\n",
       "    </tr>\n",
       "  </tbody>\n",
       "</table>\n",
       "<p>3885 rows × 4 columns</p>\n",
       "</div>"
      ],
      "text/plain": [
       "                 task                                              input  \\\n",
       "0            antonyms                                             wholly   \n",
       "1            antonyms                                            regular   \n",
       "2            antonyms                                             mother   \n",
       "3            antonyms                                           separate   \n",
       "4            antonyms                                           decisive   \n",
       "...               ...                                                ...   \n",
       "3880  word_in_context  Sentence 1: He was hospitalized for extreme fa...   \n",
       "3881  word_in_context  Sentence 1: A cartilaginous style. Sentence 2:...   \n",
       "3882  word_in_context  Sentence 1: Do you have a light? Sentence 2: T...   \n",
       "3883  word_in_context  Sentence 1: Blow on the soup to cool it down. ...   \n",
       "3884  word_in_context  Sentence 1: Many sunken ships rest on the ocea...   \n",
       "\n",
       "            output  possible_outputs  \n",
       "0           partly               NaN  \n",
       "1        irregular               NaN  \n",
       "2           father               NaN  \n",
       "3            joint               NaN  \n",
       "4       indecisive               NaN  \n",
       "...            ...               ...  \n",
       "3880  not the same               NaN  \n",
       "3881          same               NaN  \n",
       "3882  not the same               NaN  \n",
       "3883  not the same               NaN  \n",
       "3884          same               NaN  \n",
       "\n",
       "[3885 rows x 4 columns]"
      ]
     },
     "execution_count": 3,
     "metadata": {},
     "output_type": "execute_result"
    }
   ],
   "source": [
    "import pandas as pd\n",
    "train_set = pd.read_csv(\"../../data/instruction-induction-data/datamodels/train_set.csv\")\n",
    "train_set"
   ]
  },
  {
   "cell_type": "code",
   "execution_count": null,
   "metadata": {},
   "outputs": [],
   "source": []
  }
 ],
 "metadata": {
  "kernelspec": {
   "display_name": "datamodels",
   "language": "python",
   "name": "python3"
  },
  "language_info": {
   "codemirror_mode": {
    "name": "ipython",
    "version": 3
   },
   "file_extension": ".py",
   "mimetype": "text/x-python",
   "name": "python",
   "nbconvert_exporter": "python",
   "pygments_lexer": "ipython3",
   "version": "3.11.9"
  }
 },
 "nbformat": 4,
 "nbformat_minor": 2
}
