{
 "cells": [
  {
   "cell_type": "markdown",
   "metadata": {},
   "source": [
    "# TACO: Generation Pipeline\n",
    "\n",
    "In this notebook we aim to test the TACO pipeline, using a single example to generate code and make the evaluation"
   ]
  },
  {
   "cell_type": "code",
   "execution_count": 1,
   "metadata": {},
   "outputs": [
    {
     "name": "stderr",
     "output_type": "stream",
     "text": [
      "/home/caio.rhoden/miniconda3/envs/datamodels/lib/python3.11/site-packages/tqdm/auto.py:21: TqdmWarning: IProgress not found. Please update jupyter and ipywidgets. See https://ipywidgets.readthedocs.io/en/stable/user_install.html\n",
      "  from .autonotebook import tqdm as notebook_tqdm\n"
     ]
    },
    {
     "name": "stdout",
     "output_type": "stream",
     "text": [
      "Number of GPUs available: 1\n",
      "GPU 0: NVIDIA RTX A5000\n"
     ]
    }
   ],
   "source": [
    "import os\n",
    "os.environ[\"CUDA_VISIBLE_DEVICES\"] = \"0\"\n",
    "\n",
    "import polars as pl\n",
    "import torch\n",
    "import numpy as np\n",
    "\n",
    "## LLM\n",
    "from src.llms import Llama3_1_Instruct\n",
    "\n",
    "seed = 42\n",
    "# NumPy\n",
    "np.random.seed(seed)\n",
    "\n",
    "# PyTorch\n",
    "torch.manual_seed(seed)\n",
    "if torch.cuda.is_available():\n",
    "    torch.cuda.manual_seed(seed)\n",
    "    torch.cuda.manual_seed_all(seed)\n",
    "    torch.backends.cudnn.deterministic = True\n",
    "    torch.backends.cudnn.benchmark = False\n",
    "\n",
    "\n",
    "if torch.cuda.is_available():\n",
    "    print(f\"Number of GPUs available: {torch.cuda.device_count()}\")\n",
    "    for i in range(torch.cuda.device_count()):\n",
    "        print(f\"GPU {i}: {torch.cuda.get_device_name(i)}\")\n",
    "\n",
    "device = torch.device(\"cuda:0\" if torch.cuda.is_available() else \"cpu\")"
   ]
  },
  {
   "cell_type": "markdown",
   "metadata": {},
   "source": [
    "## Load Data"
   ]
  },
  {
   "cell_type": "code",
   "execution_count": 2,
   "metadata": {},
   "outputs": [],
   "source": [
    "PATH = \"../../data/TACO/processed\"\n",
    "train_input = pl.read_ipc(f\"{PATH}/train.feather\")\n",
    "train_evaluation = pl.read_ipc(f\"{PATH}/train_evaluation_tests.feather\")\n",
    "train_solutions = pl.read_ipc(f\"{PATH}/train_solutions.feather\")\n"
   ]
  },
  {
   "cell_type": "code",
   "execution_count": 3,
   "metadata": {},
   "outputs": [],
   "source": [
    "## ID 4 is easy\n",
    "ID = 4\n",
    "## Get the input string\n",
    "input_example = train_input.filter(pl.col(\"id\") == ID).select(\"input\").unique().to_numpy().squeeze(1)[0]"
   ]
  },
  {
   "cell_type": "code",
   "execution_count": 4,
   "metadata": {},
   "outputs": [
    {
     "name": "stderr",
     "output_type": "stream",
     "text": [
      "The `load_in_4bit` and `load_in_8bit` arguments are deprecated and will be removed in the future versions. Please, pass a `BitsAndBytesConfig` object in `quantization_config` argument instead.\n",
      "Loading checkpoint shards: 100%|██████████| 4/4 [00:07<00:00,  1.81s/it]\n"
     ]
    }
   ],
   "source": [
    "llm = Llama3_1_Instruct()"
   ]
  },
  {
   "cell_type": "code",
   "execution_count": null,
   "metadata": {},
   "outputs": [],
   "source": [
    "NUM_SEQUENCES=20\n",
    "outputs = []\n",
    "for i in range(20//NUM_SEQUENCES):\n",
    "\n",
    "    config = {\n",
    "        \"temperature\": 0.7,\n",
    "        \"max_length\": 2048,\n",
    "        \"top_p\": 0.95,\n",
    "        \"num_return_sequences\": NUM_SEQUENCES\n",
    "    }\n",
    "\n",
    "    prompt = f\"\\nQUESTION: \\n{input_example} \\n Please write a Python program.\"\n",
    "    output = llm.run(prompt=prompt, input=input_example, config_params=config)\n",
    "\n",
    "    for res in output:\n",
    "        outputs.append(res)"
   ]
  },
  {
   "cell_type": "code",
   "execution_count": 15,
   "metadata": {},
   "outputs": [],
   "source": [
    "import json\n",
    "json.dump(outputs, open(f\"outputs.json\", \"w\"))"
   ]
  },
  {
   "cell_type": "markdown",
   "metadata": {},
   "source": [
    "## Parser"
   ]
  },
  {
   "cell_type": "code",
   "execution_count": 16,
   "metadata": {},
   "outputs": [],
   "source": [
    "generations = []\n",
    "for o in outputs:\n",
    "    generations.append(o[\"generated_text\"])"
   ]
  },
  {
   "cell_type": "code",
   "execution_count": 17,
   "metadata": {},
   "outputs": [
    {
     "data": {
      "text/plain": [
       "14"
      ]
     },
     "execution_count": 17,
     "metadata": {},
     "output_type": "execute_result"
    }
   ],
   "source": [
    "count = 0\n",
    "for g in generations:\n",
    "    if g.count(\"python\") >= 1:\n",
    "        count += 1\n",
    "count"
   ]
  },
  {
   "cell_type": "code",
   "execution_count": 24,
   "metadata": {},
   "outputs": [],
   "source": [
    "import ast\n",
    "import re\n",
    "gens = []\n",
    "\n",
    "for i in range(len(generations)):\n",
    "\n",
    "    code_blocks = re.findall(r'```python(.*?)```', generations[i], re.DOTALL)\n",
    "    extracted_code = \"\\n\".join([block.strip() for block in code_blocks])\n",
    "    gens.append(extracted_code)\n",
    "    \n",
    "\n"
   ]
  },
  {
   "cell_type": "code",
   "execution_count": 26,
   "metadata": {},
   "outputs": [],
   "source": [
    "def generate_results_json(outputs: list, prompt: str, id: id):\n",
    "\n",
    "    results = {}\n",
    "\n",
    "    results[\"task_id\"] = id\n",
    "    results[\"prompt\"] = prompt\n",
    "    results[\"output\"] = outputs\n",
    "\n",
    "\n",
    "    json.dump([results], open(f\"results.json\", \"w\"))"
   ]
  },
  {
   "cell_type": "code",
   "execution_count": 27,
   "metadata": {},
   "outputs": [],
   "source": [
    "generate_results_json(gens, prompt, ID)"
   ]
  },
  {
   "cell_type": "code",
   "execution_count": null,
   "metadata": {},
   "outputs": [],
   "source": []
  }
 ],
 "metadata": {
  "kernelspec": {
   "display_name": "datamodels",
   "language": "python",
   "name": "python3"
  },
  "language_info": {
   "codemirror_mode": {
    "name": "ipython",
    "version": 3
   },
   "file_extension": ".py",
   "mimetype": "text/x-python",
   "name": "python",
   "nbconvert_exporter": "python",
   "pygments_lexer": "ipython3",
   "version": "3.11.10"
  }
 },
 "nbformat": 4,
 "nbformat_minor": 2
}
