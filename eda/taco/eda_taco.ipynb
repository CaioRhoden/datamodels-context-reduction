{
 "cells": [
  {
   "cell_type": "markdown",
   "metadata": {},
   "source": [
    "# Exploratory Analysis - TACO Benchmark\n",
    "\n",
    "The [Taco Benchmark](https://huggingface.co/datasets/BAAI/TACO) is coding generation dataset based in comeptitve programming.  \n",
    "It's possible to see details about the columns and how the dataset work in the link above.  \n",
    "Here in this notebook we aim to answer the following questions:\n",
    "- Basic quantities and values\n",
    "- What is the distribution of questions by difficult in the train and test sets?\n",
    "- What is the distribution by annotated tag in the train and test sets?\n",
    "- What is the distribution by skill type in the train and test sets?\n",
    "- What is the length distribution of input and output?\n",
    "- Investigate metrics and how to test the dataset\n"
   ]
  },
  {
   "cell_type": "code",
   "execution_count": 9,
   "metadata": {},
   "outputs": [],
   "source": [
    "import polars as pl\n",
    "import seaborn as sns\n",
    "import matplotlib.pyplot as plt\n",
    "import numpy as np\n",
    "import pyarrow as pa\n",
    "import pyarrow.feather as feather\n",
    "from datasets import load_dataset, load_from_disk\n",
    "import os"
   ]
  },
  {
   "cell_type": "markdown",
   "metadata": {},
   "source": [
    "## Load Datasets"
   ]
  },
  {
   "cell_type": "code",
   "execution_count": null,
   "metadata": {},
   "outputs": [
    {
     "name": "stderr",
     "output_type": "stream",
     "text": [
      "Saving the dataset (9/9 shards): 100%|██████████| 25443/25443 [01:23<00:00, 305.72 examples/s]\n",
      "Saving the dataset (1/1 shards): 100%|██████████| 1000/1000 [00:09<00:00, 110.13 examples/s]\n"
     ]
    }
   ],
   "source": [
    "# HF_TOKEN = ENTER YOUR TOKEN HERE\n",
    "PATH = \"../../data/TACO\"\n",
    "# train = load_dataset('BAAI/TACO', token=HF_TOKEN, split=\"train\")\n",
    "# test = load_dataset('BAAI/TACO', token=HF_TOKEN, split=\"test\")\n",
    "# train.save_to_disk(f\"{PATH}/train.hf\")\n",
    "# test.save_to_disk(f\"{PATH}/test.hf\")"
   ]
  },
  {
   "cell_type": "code",
   "execution_count": null,
   "metadata": {},
   "outputs": [],
   "source": [
    "train = load_from_disk(f\"{PATH}/train.hf\")\n",
    "test = load_from_disk(f\"{PATH}/test.hf\")"
   ]
  },
  {
   "cell_type": "code",
   "execution_count": 20,
   "metadata": {},
   "outputs": [],
   "source": [
    "df_train = pl.DataFrame(train[0:-1])\n",
    "df_test = pl.DataFrame(test[0:-1])"
   ]
  },
  {
   "cell_type": "markdown",
   "metadata": {},
   "source": [
    "## Basic Exploration\n"
   ]
  },
  {
   "cell_type": "code",
   "execution_count": 22,
   "metadata": {},
   "outputs": [
    {
     "data": {
      "text/plain": [
       "['question',\n",
       " 'solutions',\n",
       " 'starter_code',\n",
       " 'input_output',\n",
       " 'difficulty',\n",
       " 'raw_tags',\n",
       " 'name',\n",
       " 'source',\n",
       " 'tags',\n",
       " 'skill_types',\n",
       " 'url',\n",
       " 'Expected Auxiliary Space',\n",
       " 'time_limit',\n",
       " 'date',\n",
       " 'picture_num',\n",
       " 'memory_limit',\n",
       " 'Expected Time Complexity']"
      ]
     },
     "execution_count": 22,
     "metadata": {},
     "output_type": "execute_result"
    }
   ],
   "source": [
    "df_train.columns"
   ]
  },
  {
   "cell_type": "code",
   "execution_count": 23,
   "metadata": {},
   "outputs": [
    {
     "data": {
      "text/html": [
       "<div><style>\n",
       ".dataframe > thead > tr,\n",
       ".dataframe > tbody > tr {\n",
       "  text-align: right;\n",
       "  white-space: pre-wrap;\n",
       "}\n",
       "</style>\n",
       "<small>shape: (1, 17)</small><table border=\"1\" class=\"dataframe\"><thead><tr><th>question</th><th>solutions</th><th>starter_code</th><th>input_output</th><th>difficulty</th><th>raw_tags</th><th>name</th><th>source</th><th>tags</th><th>skill_types</th><th>url</th><th>Expected Auxiliary Space</th><th>time_limit</th><th>date</th><th>picture_num</th><th>memory_limit</th><th>Expected Time Complexity</th></tr><tr><td>u32</td><td>u32</td><td>u32</td><td>u32</td><td>u32</td><td>u32</td><td>u32</td><td>u32</td><td>u32</td><td>u32</td><td>u32</td><td>u32</td><td>u32</td><td>u32</td><td>u32</td><td>u32</td><td>u32</td></tr></thead><tbody><tr><td>25442</td><td>25442</td><td>25442</td><td>25442</td><td>25442</td><td>25442</td><td>3713</td><td>25442</td><td>25442</td><td>25442</td><td>20218</td><td>2680</td><td>11105</td><td>6221</td><td>7018</td><td>11106</td><td>2910</td></tr></tbody></table></div>"
      ],
      "text/plain": [
       "shape: (1, 17)\n",
       "┌──────────┬───────────┬────────────┬────────────┬───┬──────┬────────────┬────────────┬────────────┐\n",
       "│ question ┆ solutions ┆ starter_co ┆ input_outp ┆ … ┆ date ┆ picture_nu ┆ memory_lim ┆ Expected   │\n",
       "│ ---      ┆ ---       ┆ de         ┆ ut         ┆   ┆ ---  ┆ m          ┆ it         ┆ Time       │\n",
       "│ u32      ┆ u32       ┆ ---        ┆ ---        ┆   ┆ u32  ┆ ---        ┆ ---        ┆ Complexity │\n",
       "│          ┆           ┆ u32        ┆ u32        ┆   ┆      ┆ u32        ┆ u32        ┆ ---        │\n",
       "│          ┆           ┆            ┆            ┆   ┆      ┆            ┆            ┆ u32        │\n",
       "╞══════════╪═══════════╪════════════╪════════════╪═══╪══════╪════════════╪════════════╪════════════╡\n",
       "│ 25442    ┆ 25442     ┆ 25442      ┆ 25442      ┆ … ┆ 6221 ┆ 7018       ┆ 11106      ┆ 2910       │\n",
       "└──────────┴───────────┴────────────┴────────────┴───┴──────┴────────────┴────────────┴────────────┘"
      ]
     },
     "execution_count": 23,
     "metadata": {},
     "output_type": "execute_result"
    }
   ],
   "source": [
    "df_train.count()"
   ]
  },
  {
   "cell_type": "code",
   "execution_count": 24,
   "metadata": {},
   "outputs": [
    {
     "data": {
      "text/html": [
       "<div><style>\n",
       ".dataframe > thead > tr,\n",
       ".dataframe > tbody > tr {\n",
       "  text-align: right;\n",
       "  white-space: pre-wrap;\n",
       "}\n",
       "</style>\n",
       "<small>shape: (1, 17)</small><table border=\"1\" class=\"dataframe\"><thead><tr><th>question</th><th>solutions</th><th>starter_code</th><th>input_output</th><th>difficulty</th><th>raw_tags</th><th>name</th><th>source</th><th>tags</th><th>skill_types</th><th>url</th><th>Expected Auxiliary Space</th><th>time_limit</th><th>date</th><th>picture_num</th><th>memory_limit</th><th>Expected Time Complexity</th></tr><tr><td>u32</td><td>u32</td><td>u32</td><td>u32</td><td>u32</td><td>u32</td><td>u32</td><td>u32</td><td>u32</td><td>u32</td><td>u32</td><td>u32</td><td>u32</td><td>u32</td><td>u32</td><td>u32</td><td>u32</td></tr></thead><tbody><tr><td>999</td><td>999</td><td>999</td><td>999</td><td>999</td><td>999</td><td>45</td><td>999</td><td>999</td><td>999</td><td>999</td><td>0</td><td>617</td><td>667</td><td>477</td><td>617</td><td>14</td></tr></tbody></table></div>"
      ],
      "text/plain": [
       "shape: (1, 17)\n",
       "┌──────────┬───────────┬────────────┬────────────┬───┬──────┬────────────┬────────────┬────────────┐\n",
       "│ question ┆ solutions ┆ starter_co ┆ input_outp ┆ … ┆ date ┆ picture_nu ┆ memory_lim ┆ Expected   │\n",
       "│ ---      ┆ ---       ┆ de         ┆ ut         ┆   ┆ ---  ┆ m          ┆ it         ┆ Time       │\n",
       "│ u32      ┆ u32       ┆ ---        ┆ ---        ┆   ┆ u32  ┆ ---        ┆ ---        ┆ Complexity │\n",
       "│          ┆           ┆ u32        ┆ u32        ┆   ┆      ┆ u32        ┆ u32        ┆ ---        │\n",
       "│          ┆           ┆            ┆            ┆   ┆      ┆            ┆            ┆ u32        │\n",
       "╞══════════╪═══════════╪════════════╪════════════╪═══╪══════╪════════════╪════════════╪════════════╡\n",
       "│ 999      ┆ 999       ┆ 999        ┆ 999        ┆ … ┆ 667  ┆ 477        ┆ 617        ┆ 14         │\n",
       "└──────────┴───────────┴────────────┴────────────┴───┴──────┴────────────┴────────────┴────────────┘"
      ]
     },
     "execution_count": 24,
     "metadata": {},
     "output_type": "execute_result"
    }
   ],
   "source": [
    "df_test.count()"
   ]
  },
  {
   "cell_type": "code",
   "execution_count": null,
   "metadata": {},
   "outputs": [],
   "source": []
  }
 ],
 "metadata": {
  "kernelspec": {
   "display_name": "datamodels",
   "language": "python",
   "name": "python3"
  },
  "language_info": {
   "codemirror_mode": {
    "name": "ipython",
    "version": 3
   },
   "file_extension": ".py",
   "mimetype": "text/x-python",
   "name": "python",
   "nbconvert_exporter": "python",
   "pygments_lexer": "ipython3",
   "version": "3.11.10"
  }
 },
 "nbformat": 4,
 "nbformat_minor": 2
}
