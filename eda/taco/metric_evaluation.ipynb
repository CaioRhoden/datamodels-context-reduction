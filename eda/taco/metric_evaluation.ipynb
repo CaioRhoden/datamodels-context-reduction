{
 "cells": [
  {
   "cell_type": "markdown",
   "metadata": {},
   "source": [
    "# TACO: Compute metrics"
   ]
  },
  {
   "cell_type": "code",
   "execution_count": null,
   "metadata": {},
   "outputs": [
    {
     "name": "stderr",
     "output_type": "stream",
     "text": [
      "/home/caio.rhoden/miniconda3/envs/datamodels/lib/python3.11/site-packages/tqdm/auto.py:21: TqdmWarning: IProgress not found. Please update jupyter and ipywidgets. See https://ipywidgets.readthedocs.io/en/stable/user_install.html\n",
      "  from .autonotebook import tqdm as notebook_tqdm\n"
     ]
    }
   ],
   "source": [
    "import polars as pl\n",
    "import torch\n",
    "import numpy as np\n",
    "import json\n",
    "from datasets import load_from_disk\n",
    "import ast\n",
    "import signal"
   ]
  },
  {
   "cell_type": "code",
   "execution_count": 2,
   "metadata": {},
   "outputs": [
    {
     "data": {
      "text/plain": [
       "[{'task_id': 4,\n",
       "  'prompt': \"\\nQUESTION: \\nYou have a deck of $n$ cards, and you'd like to reorder it to a new one.\\n\\nEach card has a value between $1$ and $n$ equal to $p_i$. All $p_i$ are pairwise distinct. Cards in a deck are numbered from bottom to top, i. e. $p_1$ stands for the bottom card, $p_n$ is the top card.\\n\\nIn each step you pick some integer $k > 0$, take the top $k$ cards from the original deck and place them, in the order they are now, on top of the new deck. You perform this operation until the original deck is empty. (Refer to the notes section for the better understanding.)\\n\\nLet's define an order of a deck as $\\\\sum\\\\limits_{i = 1}^{n}{n^{n - i} \\\\cdot p_i}$.\\n\\nGiven the original deck, output the deck with maximum possible order you can make using the operation above.\\n\\n\\n-----Input-----\\n\\nThe first line contains a single integer $t$ ($1 \\\\le t \\\\le 1000$) — the number of test cases.\\n\\nThe first line of each test case contains the single integer $n$ ($1 \\\\le n \\\\le 10^5$) — the size of deck you have.\\n\\nThe second line contains $n$ integers $p_1, p_2,\\\\dots, p_n$ ($1 \\\\le p_i \\\\le n$; $p_i \\\\neq p_j$ if $i \\\\neq j$) — values of card in the deck from bottom to top.\\n\\nIt's guaranteed that the sum of $n$ over all test cases doesn't exceed $10^5$.\\n\\n\\n-----Output-----\\n\\nFor each test case print the deck with maximum possible order. Print values of cards in the deck from bottom to top.\\n\\nIf there are multiple answers, print any of them.\\n\\n\\n-----Examples-----\\n\\nInput\\n4\\n4\\n1 2 3 4\\n5\\n1 5 2 4 3\\n6\\n4 2 5 3 6 1\\n1\\n1\\nOutput\\n4 3 2 1\\n5 2 4 3 1\\n6 1 5 3 4 2\\n1\\n\\n\\n-----Note-----\\n\\nIn the first test case, one of the optimal strategies is the next one:\\n\\ntake $1$ card from the top of $p$ and move it to $p'$: $p$ becomes $[1, 2, 3]$, $p'$ becomes $[4]$;\\n\\ntake $1$ card from the top of $p$: $p$ becomes $[1, 2]$, $p'$ becomes $[4, 3]$;\\n\\ntake $1$ card from the top of $p$: $p$ becomes $[1]$, $p'$ becomes $[4, 3, 2]$;\\n\\ntake $1$ card from the top of $p$: $p$ becomes empty, $p'$ becomes $[4, 3, 2, 1]$.\\n\\nIn result, $p'$ has order equal to $4^3 \\\\cdot 4 + 4^2 \\\\cdot 3 + 4^1 \\\\cdot 2 + 4^0 \\\\cdot 1$ $=$ $256 + 48 + 8 + 1 = 313$.\\n\\nIn the second test case, one of the optimal strategies is:\\n\\ntake $4$ cards from the top of $p$ and move it to $p'$: $p$ becomes $[1]$, $p'$ becomes $[5, 2, 4, 3]$;\\n\\ntake $1$ card from the top of $p$ and move it to $p'$: $p$ becomes empty, $p'$ becomes $[5, 2, 4, 3, 1]$;\\n\\nIn result, $p'$ has order equal to $5^4 \\\\cdot 5 + 5^3 \\\\cdot 2 + 5^2 \\\\cdot 4 + 5^1 \\\\cdot 3 + 5^0 \\\\cdot 1$ $=$ $3125 + 250 + 100 + 15 + 1 = 3491$.\\n\\nIn the third test case, one of the optimal strategies is:\\n\\ntake $2$ cards from the top of $p$ and move it to $p'$: $p$ becomes $[4, 2, 5, 3]$, $p'$ becomes $[6, 1]$;\\n\\ntake $2$ cards from the top of $p$ and move it to $p'$: $p$ becomes $[4, 2]$, $p'$ becomes $[6, 1, 5, 3]$;\\n\\ntake $2$ cards from the top of $p$ and move it to $p'$: $p$ becomes empty, $p'$ becomes $[6, 1, 5, 3, 4, 2]$.\\n\\nIn result, $p'$ has order equal to $6^5 \\\\cdot 6 + 6^4 \\\\cdot 1 + 6^3 \\\\cdot 5 + 6^2 \\\\cdot 3 + 6^1 \\\\cdot 4 + 6^0 \\\\cdot 2$ $=$ $46656 + 1296 + 1080 + 108 + 24 + 2 = 49166$.\\n \\n Please write a Python program.\",\n",
       "  'output': ['t = int(input())\\n\\nfor _ in range(t):\\n    n = int(input())\\n    cards = list(map(int, input().split()))\\n    max_card = max(cards)\\n    indices = [i for i, x in enumerate(cards) if x == max_card]\\n    print(*cards[indices[-1]:] + cards[:indices[-1]])',\n",
       "   'import sys\\ninput = sys.stdin.readline\\n\\ndef read_int():\\n    return int(input())\\n\\ndef read_ints():\\n    return map(int, input().split())\\n\\nt = read_int()\\nfor _ in range(t):\\n    n = read_int()\\n    p = list(read_ints())\\n    p = [-x for x in p]\\n    stack = []\\n    for i in range(n):\\n        while stack and stack[-1] > p[i]:\\n            stack.pop()\\n        stack.append(p[i])\\n    print(*[abs(x) for x in stack])',\n",
       "   \"import sys\\n\\ndef max_order(n, a):\\n    a = [-1] + a\\n    b = [0] * (n + 1)\\n    for i in range(1, n + 1):\\n        b[i] = b[i - 1] + (n - i + 1) * a[i]\\n    c = [0] * (n + 1)\\n    c[0] = 0\\n    for i in range(1, n + 1):\\n        if a[i] > a[i - 1]:\\n            c[i] = c[i - 1] + 1\\n        else:\\n            c[i] = c[i - 1]\\n    d = [0] * (n + 1)\\n    d[0] = 0\\n    for i in range(1, n + 1):\\n        if a[i] > a[i - 1]:\\n            d[i] = d[i - 1] + 1\\n        else:\\n            d[i] = d[i - 1]\\n    for i in range(n, 0, -1):\\n        if c[i] == i:\\n            for j in range(1, n + 1 - i):\\n                if d[n + 1 - i + j] == n - i + j:\\n                    for k in range(i, n + 1, j):\\n                        sys.stdout.write(str(a[k]) +'')\\n                    for k in range(n + 1 - j, n + 1):\\n                        sys.stdout.write(str(a[k]) +'')\\n                    sys.stdout.write('\\\\n')\\n                    return\\n        else:\\n            continue\\n\\nt = int(input())\\nfor _ in range(t):\\n    n = int(input())\\n    a = list(map(int, input().split()))\\n    max_order(n, a)\",\n",
       "   \"t = int(input())\\nfor _ in range(t):\\n    n = int(input())\\n    p = list(map(int, input().split()))\\n    i = 0\\n    while i < n:\\n        max_index = p.index(max(p[i:]))\\n        print(p[max_index], end=' ')\\n        p.pop(max_index)\\n        i += max_index + 1\\n    print()\\nt = int(input())\\nfor _ in range(t):\\n    n = int(input())\\n    p = list(map(int, input().split()))\\n    i = 0\\n    while i < n:\\n        max_index = p.index(max(p[i:]))\\n        print(p[max_index], end=' ')\\n        p.pop(max_index)\\n        i += max_index + 1\\n    print()\\nimport heapq\\n\\nt = int(input())\\nfor _ in range(t):\\n    n = int(input())\\n    p = list(map(int, input().split()))\\n    pq = []\\n    for x in p:\\n        heapq.heappush(pq, x)\\n    while pq:\\n        print(heapq.heappop(pq), end=' ')\\n    print()\",\n",
       "   \"import sys\\n\\ndef solve():\\n    n = int(input())\\n    p = list(map(int, input().split()))\\n    p = [x - 1 for x in p]\\n    last = [0] * n\\n    for i in range(n):\\n        last[p[i]] = i\\n    order = [0] * n\\n    for i in range(n):\\n        j = i\\n        while j < n and last[j] < last[i]:\\n            j += 1\\n        order[i] = j - i\\n    res = []\\n    i = n - 1\\n    while i >= 0:\\n        while i >= 0 and order[i] == 0:\\n            i -= 1\\n        if i < 0:\\n            break\\n        for j in range(order[i]):\\n            res.append(str(p[i - j]))\\n        i -= order[i]\\n    print(' '.join(res))\\n\\nt = int(input())\\nfor _ in range(t):\\n    solve()\\nimport sys\\n\\ndef solve():\\n    n = int(input())\\n    p = list(map(int, input().split()))\\n    p = [x - 1 for x in p]\\n    last = [0] * n\\n    for i in range(n):\\n        last[p[i]] = i\\n    order = [0] * n\\n    for i in range(n):\\n        j = i\\n        while j < n and last[j] < last[i]:\\n            j += 1\\n        order[i] = j - i\\n    res = []\\n    i = n - 1\\n    while i >= 0:\\n        while i >= 0 and order[i] == 0:\\n            i -= 1\\n        if i < 0:\\n            break\\n        for j in range(order[i]):\\n            res.append(str(p[i - j]))\\n        i -= order[i]\\n    print(' '.join(res))\\n\\nt = int(input())\\nfor _ in range(t):\\n    solve()\",\n",
       "   '',\n",
       "   '',\n",
       "   'for _ in range(int(input())):\\n    n = int(input())\\n    l = list(map(int, input().split()))\\n    for i in range(n):\\n        for j in range(n-i-1):\\n            if l[j] > l[j+1]:\\n                l[j], l[j+1] = l[j+1], l[j]\\n    print(*l)',\n",
       "   '',\n",
       "   '',\n",
       "   'import sys\\ninput = sys.stdin.readline\\n\\nt = int(input())\\nfor _ in range(t):\\n    n = int(input())\\n    a = list(map(int, input().split()))\\n    b = [0] * n\\n    for i in range(n):\\n        b[i] = a[n - i - 1]\\n    c = [0] * n\\n    ind = 0\\n    while a:\\n        for i in range(n):\\n            if a:\\n                c[ind] = a.pop()\\n                ind += 1\\n    print(*b)',\n",
       "   '',\n",
       "   \"for _ in range(int(input())):\\n    n = int(input())\\n    p = list(map(int, input().split()))\\n    p1 = sorted(p)\\n    p1.reverse()\\n    for i in range(n):\\n        for j in range(i, n):\\n            if p[j]!= p1[i]:\\n                break\\n            else:\\n                print(p[j], end=' ')\\n                n -= 1\\n                break\\n    print()\",\n",
       "   'import sys\\ninput = sys.stdin.readline\\n\\nfor _ in range(int(input())):\\n    n = int(input())\\n    a = list(map(int, input().split()))\\n    a = [0] + a\\n    b = []\\n    for i in range(n, 0, -1):\\n        b.append(a[i])\\n        while a[i] in b:\\n            a[i] = a[a[i]]\\n    print(*b)',\n",
       "   \"import sys\\n\\ndef main():\\n    t = int(input())\\n    for _ in range(t):\\n        n = int(input())\\n        p = list(map(int, input().split()))\\n        index = {}\\n        for i in range(n):\\n            index[p[i]] = i\\n        ans = [0] * n\\n        for i in range(n):\\n            pos = index[n - i]\\n            for j in range(i, n):\\n                ans[pos + j - i] = p[j]\\n        print(' '.join(str(x) for x in ans))\\n\\nif __name__ == '__main__':\\n    main()\",\n",
       "   'import sys\\n\\ndef read_data():\\n    return [int(x) for x in sys.stdin.readline().split()]\\n\\ndef read_int():\\n    return int(sys.stdin.readline())\\n\\ndef read_str():\\n    return sys.stdin.readline().strip()\\n\\ndef solve():\\n    n = read_int()\\n    p = read_data()\\n    index = [0] * n\\n    for i in range(n):\\n        index[p[i] - 1] = i\\n\\n    new_deck = [0] * n\\n    left = 0\\n    right = n - 1\\n    while left <= right:\\n        if index[right] < index[left]:\\n            new_deck[right] = p[right]\\n            right -= 1\\n        else:\\n            new_deck[left] = p[left]\\n            left += 1\\n\\n    print(*new_deck)\\n\\nt = read_int()\\nfor _ in range(t):\\n    solve()',\n",
       "   '',\n",
       "   \"for _ in range(int(input())):\\n    n = int(input())\\n    p = list(map(int, input().split()))\\n\\n    i = n - 1\\n    k = 0\\n    while i >= 0:\\n        for _ in range(k + 1):\\n            if i >= 0:\\n                print(p[i], end=' ')\\n                i -= 1\\n        k += 1\\n    print()\",\n",
       "   \"t = int(input())\\nfor _ in range(t):\\n    n = int(input())\\n    cards = list(map(int, input().split()))\\n    cards = [[card, i] for i, card in enumerate(cards)]\\n    cards.sort(key=lambda x: x[0], reverse=True)\\n    ans = [str(card[0]) for card in cards]\\n    print(' '.join(ans))\",\n",
       "   'import sys\\ninput = sys.stdin.readline\\n\\nt = int(input())\\nfor _ in range(t):\\n    n = int(input())\\n    p = list(map(int, input().split()))\\n    ans = []\\n    i = 0\\n    while i < n:\\n        maxp = max(p[i:])\\n        ans.extend([maxp] * (p[i:].index(maxp) + 1))\\n        i += p[i:].index(maxp) + 1\\n    print(*ans)']}]"
      ]
     },
     "execution_count": 2,
     "metadata": {},
     "output_type": "execute_result"
    }
   ],
   "source": [
    "results = json.loads(open(\"results.json\").read())\n",
    "results"
   ]
  },
  {
   "cell_type": "code",
   "execution_count": 3,
   "metadata": {},
   "outputs": [],
   "source": [
    "train_tests = pl.read_ipc(f\"../../data/TACO/processed/train_evaluation_tests.feather\")\n"
   ]
  },
  {
   "cell_type": "markdown",
   "metadata": {},
   "source": [
    "## Build ast "
   ]
  },
  {
   "cell_type": "code",
   "execution_count": 4,
   "metadata": {},
   "outputs": [],
   "source": [
    "from unittest.mock import patch"
   ]
  },
  {
   "cell_type": "code",
   "execution_count": 5,
   "metadata": {},
   "outputs": [],
   "source": [
    "list_input = train_tests.filter(pl.col(\"id\") == 4).select(pl.col(\"input\")).to_numpy().squeeze(1)[0].split(\"\\n\")[0:-2]\n"
   ]
  },
  {
   "cell_type": "code",
   "execution_count": 6,
   "metadata": {},
   "outputs": [
    {
     "data": {
      "text/plain": [
       "['4', '4', '1 2 3 4', '5', '1 5 2 4 3', '6', '4 2 5 3 6 1', '1', '1']"
      ]
     },
     "execution_count": 6,
     "metadata": {},
     "output_type": "execute_result"
    }
   ],
   "source": [
    "train_tests.filter(pl.col(\"id\") == 4).select(pl.col(\"input\")).to_numpy().squeeze(1)[0].split(\"\\n\")[0:-1]"
   ]
  },
  {
   "cell_type": "code",
   "execution_count": 14,
   "metadata": {},
   "outputs": [
    {
     "name": "stdout",
     "output_type": "stream",
     "text": [
      "import sys\n",
      "\n",
      "def max_order(n, a):\n",
      "    a = [-1] + a\n",
      "    b = [0] * (n + 1)\n",
      "    for i in range(1, n + 1):\n",
      "        b[i] = b[i - 1] + (n - i + 1) * a[i]\n",
      "    c = [0] * (n + 1)\n",
      "    c[0] = 0\n",
      "    for i in range(1, n + 1):\n",
      "        if a[i] > a[i - 1]:\n",
      "            c[i] = c[i - 1] + 1\n",
      "        else:\n",
      "            c[i] = c[i - 1]\n",
      "    d = [0] * (n + 1)\n",
      "    d[0] = 0\n",
      "    for i in range(1, n + 1):\n",
      "        if a[i] > a[i - 1]:\n",
      "            d[i] = d[i - 1] + 1\n",
      "        else:\n",
      "            d[i] = d[i - 1]\n",
      "    for i in range(n, 0, -1):\n",
      "        if c[i] == i:\n",
      "            for j in range(1, n + 1 - i):\n",
      "                if d[n + 1 - i + j] == n - i + j:\n",
      "                    for k in range(i, n + 1, j):\n",
      "                        sys.stdout.write(str(a[k]) +'')\n",
      "                    for k in range(n + 1 - j, n + 1):\n",
      "                        sys.stdout.write(str(a[k]) +'')\n",
      "                    sys.stdout.write('\\n')\n",
      "                    return\n",
      "        else:\n",
      "            continue\n",
      "\n",
      "t = int(input())\n",
      "for _ in range(t):\n",
      "    n = int(input())\n",
      "    a = list(map(int, input().split()))\n",
      "    max_order(n, a)\n"
     ]
    }
   ],
   "source": [
    "print(results[0][\"output\"][2])"
   ]
  },
  {
   "cell_type": "code",
   "execution_count": null,
   "metadata": {},
   "outputs": [
    {
     "name": "stdout",
     "output_type": "stream",
     "text": [
      "{'body': [<ast.Import object at 0x7f2e5410bf70>, <ast.Assign object at 0x7f2e5410bf10>, <ast.FunctionDef object at 0x7f2e5410bb50>, <ast.FunctionDef object at 0x7f2e5410ba00>, <ast.Assign object at 0x7f2e5410b820>, <ast.For object at 0x7f2e5410b760>], 'type_ignores': []}\n"
     ]
    }
   ],
   "source": []
  },
  {
   "cell_type": "code",
   "execution_count": 9,
   "metadata": {},
   "outputs": [
    {
     "data": {
      "text/plain": [
       "['t = int(input())\\n\\nfor _ in range(t):\\n    n = int(input())\\n    cards = list(map(int, input().split()))\\n    max_card = max(cards)\\n    indices = [i for i, x in enumerate(cards) if x == max_card]\\n    print(*cards[indices[-1]:] + cards[:indices[-1]])',\n",
       " 'import sys\\ninput = sys.stdin.readline\\n\\ndef read_int():\\n    return int(input())\\n\\ndef read_ints():\\n    return map(int, input().split())\\n\\nt = read_int()\\nfor _ in range(t):\\n    n = read_int()\\n    p = list(read_ints())\\n    p = [-x for x in p]\\n    stack = []\\n    for i in range(n):\\n        while stack and stack[-1] > p[i]:\\n            stack.pop()\\n        stack.append(p[i])\\n    print(*[abs(x) for x in stack])',\n",
       " \"import sys\\n\\ndef max_order(n, a):\\n    a = [-1] + a\\n    b = [0] * (n + 1)\\n    for i in range(1, n + 1):\\n        b[i] = b[i - 1] + (n - i + 1) * a[i]\\n    c = [0] * (n + 1)\\n    c[0] = 0\\n    for i in range(1, n + 1):\\n        if a[i] > a[i - 1]:\\n            c[i] = c[i - 1] + 1\\n        else:\\n            c[i] = c[i - 1]\\n    d = [0] * (n + 1)\\n    d[0] = 0\\n    for i in range(1, n + 1):\\n        if a[i] > a[i - 1]:\\n            d[i] = d[i - 1] + 1\\n        else:\\n            d[i] = d[i - 1]\\n    for i in range(n, 0, -1):\\n        if c[i] == i:\\n            for j in range(1, n + 1 - i):\\n                if d[n + 1 - i + j] == n - i + j:\\n                    for k in range(i, n + 1, j):\\n                        sys.stdout.write(str(a[k]) +'')\\n                    for k in range(n + 1 - j, n + 1):\\n                        sys.stdout.write(str(a[k]) +'')\\n                    sys.stdout.write('\\\\n')\\n                    return\\n        else:\\n            continue\\n\\nt = int(input())\\nfor _ in range(t):\\n    n = int(input())\\n    a = list(map(int, input().split()))\\n    max_order(n, a)\",\n",
       " \"t = int(input())\\nfor _ in range(t):\\n    n = int(input())\\n    p = list(map(int, input().split()))\\n    i = 0\\n    while i < n:\\n        max_index = p.index(max(p[i:]))\\n        print(p[max_index], end=' ')\\n        p.pop(max_index)\\n        i += max_index + 1\\n    print()\\nt = int(input())\\nfor _ in range(t):\\n    n = int(input())\\n    p = list(map(int, input().split()))\\n    i = 0\\n    while i < n:\\n        max_index = p.index(max(p[i:]))\\n        print(p[max_index], end=' ')\\n        p.pop(max_index)\\n        i += max_index + 1\\n    print()\\nimport heapq\\n\\nt = int(input())\\nfor _ in range(t):\\n    n = int(input())\\n    p = list(map(int, input().split()))\\n    pq = []\\n    for x in p:\\n        heapq.heappush(pq, x)\\n    while pq:\\n        print(heapq.heappop(pq), end=' ')\\n    print()\",\n",
       " \"import sys\\n\\ndef solve():\\n    n = int(input())\\n    p = list(map(int, input().split()))\\n    p = [x - 1 for x in p]\\n    last = [0] * n\\n    for i in range(n):\\n        last[p[i]] = i\\n    order = [0] * n\\n    for i in range(n):\\n        j = i\\n        while j < n and last[j] < last[i]:\\n            j += 1\\n        order[i] = j - i\\n    res = []\\n    i = n - 1\\n    while i >= 0:\\n        while i >= 0 and order[i] == 0:\\n            i -= 1\\n        if i < 0:\\n            break\\n        for j in range(order[i]):\\n            res.append(str(p[i - j]))\\n        i -= order[i]\\n    print(' '.join(res))\\n\\nt = int(input())\\nfor _ in range(t):\\n    solve()\\nimport sys\\n\\ndef solve():\\n    n = int(input())\\n    p = list(map(int, input().split()))\\n    p = [x - 1 for x in p]\\n    last = [0] * n\\n    for i in range(n):\\n        last[p[i]] = i\\n    order = [0] * n\\n    for i in range(n):\\n        j = i\\n        while j < n and last[j] < last[i]:\\n            j += 1\\n        order[i] = j - i\\n    res = []\\n    i = n - 1\\n    while i >= 0:\\n        while i >= 0 and order[i] == 0:\\n            i -= 1\\n        if i < 0:\\n            break\\n        for j in range(order[i]):\\n            res.append(str(p[i - j]))\\n        i -= order[i]\\n    print(' '.join(res))\\n\\nt = int(input())\\nfor _ in range(t):\\n    solve()\",\n",
       " '',\n",
       " '',\n",
       " 'for _ in range(int(input())):\\n    n = int(input())\\n    l = list(map(int, input().split()))\\n    for i in range(n):\\n        for j in range(n-i-1):\\n            if l[j] > l[j+1]:\\n                l[j], l[j+1] = l[j+1], l[j]\\n    print(*l)',\n",
       " '',\n",
       " '',\n",
       " 'import sys\\ninput = sys.stdin.readline\\n\\nt = int(input())\\nfor _ in range(t):\\n    n = int(input())\\n    a = list(map(int, input().split()))\\n    b = [0] * n\\n    for i in range(n):\\n        b[i] = a[n - i - 1]\\n    c = [0] * n\\n    ind = 0\\n    while a:\\n        for i in range(n):\\n            if a:\\n                c[ind] = a.pop()\\n                ind += 1\\n    print(*b)',\n",
       " '',\n",
       " \"for _ in range(int(input())):\\n    n = int(input())\\n    p = list(map(int, input().split()))\\n    p1 = sorted(p)\\n    p1.reverse()\\n    for i in range(n):\\n        for j in range(i, n):\\n            if p[j]!= p1[i]:\\n                break\\n            else:\\n                print(p[j], end=' ')\\n                n -= 1\\n                break\\n    print()\",\n",
       " 'import sys\\ninput = sys.stdin.readline\\n\\nfor _ in range(int(input())):\\n    n = int(input())\\n    a = list(map(int, input().split()))\\n    a = [0] + a\\n    b = []\\n    for i in range(n, 0, -1):\\n        b.append(a[i])\\n        while a[i] in b:\\n            a[i] = a[a[i]]\\n    print(*b)',\n",
       " \"import sys\\n\\ndef main():\\n    t = int(input())\\n    for _ in range(t):\\n        n = int(input())\\n        p = list(map(int, input().split()))\\n        index = {}\\n        for i in range(n):\\n            index[p[i]] = i\\n        ans = [0] * n\\n        for i in range(n):\\n            pos = index[n - i]\\n            for j in range(i, n):\\n                ans[pos + j - i] = p[j]\\n        print(' '.join(str(x) for x in ans))\\n\\nif __name__ == '__main__':\\n    main()\",\n",
       " 'import sys\\n\\ndef read_data():\\n    return [int(x) for x in sys.stdin.readline().split()]\\n\\ndef read_int():\\n    return int(sys.stdin.readline())\\n\\ndef read_str():\\n    return sys.stdin.readline().strip()\\n\\ndef solve():\\n    n = read_int()\\n    p = read_data()\\n    index = [0] * n\\n    for i in range(n):\\n        index[p[i] - 1] = i\\n\\n    new_deck = [0] * n\\n    left = 0\\n    right = n - 1\\n    while left <= right:\\n        if index[right] < index[left]:\\n            new_deck[right] = p[right]\\n            right -= 1\\n        else:\\n            new_deck[left] = p[left]\\n            left += 1\\n\\n    print(*new_deck)\\n\\nt = read_int()\\nfor _ in range(t):\\n    solve()',\n",
       " '',\n",
       " \"for _ in range(int(input())):\\n    n = int(input())\\n    p = list(map(int, input().split()))\\n\\n    i = n - 1\\n    k = 0\\n    while i >= 0:\\n        for _ in range(k + 1):\\n            if i >= 0:\\n                print(p[i], end=' ')\\n                i -= 1\\n        k += 1\\n    print()\",\n",
       " \"t = int(input())\\nfor _ in range(t):\\n    n = int(input())\\n    cards = list(map(int, input().split()))\\n    cards = [[card, i] for i, card in enumerate(cards)]\\n    cards.sort(key=lambda x: x[0], reverse=True)\\n    ans = [str(card[0]) for card in cards]\\n    print(' '.join(ans))\",\n",
       " 'import sys\\ninput = sys.stdin.readline\\n\\nt = int(input())\\nfor _ in range(t):\\n    n = int(input())\\n    p = list(map(int, input().split()))\\n    ans = []\\n    i = 0\\n    while i < n:\\n        maxp = max(p[i:])\\n        ans.extend([maxp] * (p[i:].index(maxp) + 1))\\n        i += p[i:].index(maxp) + 1\\n    print(*ans)']"
      ]
     },
     "execution_count": 9,
     "metadata": {},
     "output_type": "execute_result"
    }
   ],
   "source": [
    "results[0][\"output\"]"
   ]
  },
  {
   "cell_type": "code",
   "execution_count": 16,
   "metadata": {},
   "outputs": [
    {
     "ename": "KeyboardInterrupt",
     "evalue": "",
     "output_type": "error",
     "traceback": [
      "\u001b[0;31m---------------------------------------------------------------------------\u001b[0m",
      "\u001b[0;31mKeyboardInterrupt\u001b[0m                         Traceback (most recent call last)",
      "Cell \u001b[0;32mIn[16], line 1\u001b[0m\n\u001b[0;32m----> 1\u001b[0m \u001b[43mexec\u001b[49m\u001b[43m(\u001b[49m\u001b[43mcompiled_code\u001b[49m\u001b[43m)\u001b[49m\n",
      "File \u001b[0;32m<string>:35\u001b[0m\n",
      "\u001b[0;31mKeyboardInterrupt\u001b[0m: "
     ]
    }
   ],
   "source": [
    "exec(compiled_code)"
   ]
  },
  {
   "cell_type": "code",
   "execution_count": 15,
   "metadata": {},
   "outputs": [
    {
     "ename": "KeyboardInterrupt",
     "evalue": "",
     "output_type": "error",
     "traceback": [
      "\u001b[0;31m---------------------------------------------------------------------------\u001b[0m",
      "\u001b[0;31mKeyboardInterrupt\u001b[0m                         Traceback (most recent call last)",
      "Cell \u001b[0;32mIn[15], line 6\u001b[0m\n\u001b[1;32m      4\u001b[0m compiled_code \u001b[38;5;241m=\u001b[39m \u001b[38;5;28mcompile\u001b[39m(parsed_code, filename\u001b[38;5;241m=\u001b[39m\u001b[38;5;124m\"\u001b[39m\u001b[38;5;124m<string>\u001b[39m\u001b[38;5;124m\"\u001b[39m, mode\u001b[38;5;241m=\u001b[39m\u001b[38;5;124m\"\u001b[39m\u001b[38;5;124mexec\u001b[39m\u001b[38;5;124m\"\u001b[39m)\n\u001b[1;32m      5\u001b[0m \u001b[38;5;28;01mwith\u001b[39;00m patch(\u001b[38;5;124m\"\u001b[39m\u001b[38;5;124mbuiltins.input\u001b[39m\u001b[38;5;124m\"\u001b[39m, side_effect\u001b[38;5;241m=\u001b[39minput_values):\n\u001b[0;32m----> 6\u001b[0m     \u001b[43mexec\u001b[49m\u001b[43m(\u001b[49m\u001b[43mcompiled_code\u001b[49m\u001b[43m)\u001b[49m\n",
      "File \u001b[0;32m<string>:35\u001b[0m\n",
      "\u001b[0;31mKeyboardInterrupt\u001b[0m: "
     ]
    }
   ],
   "source": [
    "code_str = results[0][\"output\"][2]\n",
    "parsed_code = ast.parse(code_str)\n",
    "input_values = train_tests.filter(pl.col(\"id\") == 4).select(pl.col(\"input\")).to_numpy().squeeze(1)[0].split(\"\\n\")[0:-1]\n",
    "compiled_code = compile(parsed_code, filename=\"<string>\", mode=\"exec\")\n",
    "with patch(\"builtins.input\", side_effect=input_values):\n",
    "    exec(compiled_code)\n"
   ]
  },
  {
   "cell_type": "code",
   "execution_count": null,
   "metadata": {},
   "outputs": [
    {
     "data": {
      "text/plain": [
       "'4 3 2 1\\n5 2 4 3 1\\n6 1 5 3 4 2\\n1\\n'"
      ]
     },
     "execution_count": 16,
     "metadata": {},
     "output_type": "execute_result"
    }
   ],
   "source": [
    "train_tests.filter(pl.col(\"id\") == 4).select(pl.col(\"output\")).to_numpy().squeeze(1)[0]"
   ]
  },
  {
   "cell_type": "code",
   "execution_count": null,
   "metadata": {},
   "outputs": [
    {
     "data": {
      "text/plain": [
       "['4', '4', '1 2 3 4', '5', '1 5 2 4 3', '6', '4 2 5 3 6 1', '1']"
      ]
     },
     "execution_count": 10,
     "metadata": {},
     "output_type": "execute_result"
    }
   ],
   "source": [
    "train_tests.filter(pl.col(\"id\") == 4).select(pl.col(\"input\")).to_numpy().squeeze(1)[0].split(\"\\n\")[0:-2]"
   ]
  },
  {
   "cell_type": "code",
   "execution_count": null,
   "metadata": {},
   "outputs": [
    {
     "data": {
      "text/plain": [
       "array(['4\\n4\\n1 2 3 4\\n5\\n1 5 2 4 3\\n6\\n4 2 5 3 6 1\\n1\\n1\\n'],\n",
       "      dtype=object)"
      ]
     },
     "execution_count": 13,
     "metadata": {},
     "output_type": "execute_result"
    }
   ],
   "source": [
    "train_tests.filter(pl.col(\"id\") == 4).select(pl.col(\"input\"))[0].to_numpy().squeeze(1)"
   ]
  },
  {
   "cell_type": "code",
   "execution_count": null,
   "metadata": {},
   "outputs": [
    {
     "data": {
      "text/plain": [
       "array(['4 3 2 1\\n5 2 4 3 1\\n6 1 5 3 4 2\\n1\\n'], dtype=object)"
      ]
     },
     "execution_count": 15,
     "metadata": {},
     "output_type": "execute_result"
    }
   ],
   "source": [
    "train_tests.filter(pl.col(\"id\") == 4).select(pl.col(\"output\"))[0].to_numpy().squeeze(1)"
   ]
  }
 ],
 "metadata": {
  "kernelspec": {
   "display_name": "datamodels",
   "language": "python",
   "name": "python3"
  },
  "language_info": {
   "codemirror_mode": {
    "name": "ipython",
    "version": 3
   },
   "file_extension": ".py",
   "mimetype": "text/x-python",
   "name": "python",
   "nbconvert_exporter": "python",
   "pygments_lexer": "ipython3",
   "version": "3.11.10"
  }
 },
 "nbformat": 4,
 "nbformat_minor": 2
}
