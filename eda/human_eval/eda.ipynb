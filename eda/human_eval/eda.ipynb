{
 "cells": [
  {
   "cell_type": "markdown",
   "metadata": {},
   "source": [
    "# EDA- Human Eval\n",
    "\n",
    "This notebook has the goal to explore the following questions:\n",
    "\n",
    "- What are the differnt tasks presents in the benchmark?\n",
    "- Length distribution for input, output and number of tests?\n",
    "- What is the presence of null values?\n",
    "\n",
    "## Conclusions\n",
    "\n",
    "- The dataset has 164 examples of programming problems which six of them referes to the same problem but with different prompts\n",
    "- The prompts and canonical results are long, so it's not suitable to use models with a low token-window size, like GPT2\n",
    "\n",
    "## Next Steps:\n",
    "- Generate the dataset through the human_eval lib\n",
    "- Donwload Code-BERT as baseline model"
   ]
  },
  {
   "cell_type": "code",
   "execution_count": null,
   "metadata": {},
   "outputs": [],
   "source": [
    "import polars as pl\n",
    "import numpy as np\n",
    "import seaborn as sns\n",
    "import plotly.express as px\n",
    "from datasets import load_dataset\n",
    "\n",
    "## PCA\n",
    "\n",
    "from sklearn.decomposition import PCA\n",
    "import matplotlib.pyplot as plt\n"
   ]
  },
  {
   "cell_type": "markdown",
   "metadata": {},
   "source": [
    "## Load Dataset"
   ]
  },
  {
   "cell_type": "code",
   "execution_count": 14,
   "metadata": {},
   "outputs": [
    {
     "name": "stderr",
     "output_type": "stream",
     "text": [
      "Generating test split: 100%|██████████| 164/164 [00:00<00:00, 2136.27 examples/s]\n"
     ]
    },
    {
     "data": {
      "text/plain": [
       "DatasetDict({\n",
       "    test: Dataset({\n",
       "        features: ['task_id', 'prompt', 'canonical_solution', 'test', 'entry_point'],\n",
       "        num_rows: 164\n",
       "    })\n",
       "})"
      ]
     },
     "execution_count": 14,
     "metadata": {},
     "output_type": "execute_result"
    }
   ],
   "source": [
    "dataset = load_dataset(\"openai_humaneval\")\n",
    "dataset"
   ]
  },
  {
   "cell_type": "code",
   "execution_count": 22,
   "metadata": {},
   "outputs": [
    {
     "data": {
      "text/html": [
       "<div><style>\n",
       ".dataframe > thead > tr,\n",
       ".dataframe > tbody > tr {\n",
       "  text-align: right;\n",
       "  white-space: pre-wrap;\n",
       "}\n",
       "</style>\n",
       "<small>shape: (5, 5)</small><table border=\"1\" class=\"dataframe\"><thead><tr><th>task_id</th><th>prompt</th><th>canonical_solution</th><th>test</th><th>entry_point</th></tr><tr><td>str</td><td>str</td><td>str</td><td>str</td><td>str</td></tr></thead><tbody><tr><td>&quot;HumanEval/0&quot;</td><td>&quot;from typing import List\n",
       "\n",
       "\n",
       "def …</td><td>&quot;&nbsp;&nbsp;&nbsp;&nbsp;for idx, elem in enumerate…</td><td>&quot;\n",
       "\n",
       "METADATA = {\n",
       "&nbsp;&nbsp;&nbsp;&nbsp;&#x27;author&#x27;: &#x27;…</td><td>&quot;has_close_elements&quot;</td></tr><tr><td>&quot;HumanEval/1&quot;</td><td>&quot;from typing import List\n",
       "\n",
       "\n",
       "def …</td><td>&quot;&nbsp;&nbsp;&nbsp;&nbsp;result = []\n",
       "&nbsp;&nbsp;&nbsp;&nbsp;current_st…</td><td>&quot;\n",
       "\n",
       "METADATA = {\n",
       "&nbsp;&nbsp;&nbsp;&nbsp;&#x27;author&#x27;: &#x27;…</td><td>&quot;separate_paren_groups&quot;</td></tr><tr><td>&quot;HumanEval/2&quot;</td><td>&quot;\n",
       "\n",
       "def truncate_number(number: …</td><td>&quot;&nbsp;&nbsp;&nbsp;&nbsp;return number % 1.0\n",
       "&quot;</td><td>&quot;\n",
       "\n",
       "METADATA = {\n",
       "&nbsp;&nbsp;&nbsp;&nbsp;&#x27;author&#x27;: &#x27;…</td><td>&quot;truncate_number&quot;</td></tr><tr><td>&quot;HumanEval/3&quot;</td><td>&quot;from typing import List\n",
       "\n",
       "\n",
       "def …</td><td>&quot;&nbsp;&nbsp;&nbsp;&nbsp;balance = 0\n",
       "\n",
       "&nbsp;&nbsp;&nbsp;&nbsp;for op in…</td><td>&quot;\n",
       "\n",
       "METADATA = {\n",
       "&nbsp;&nbsp;&nbsp;&nbsp;&#x27;author&#x27;: &#x27;…</td><td>&quot;below_zero&quot;</td></tr><tr><td>&quot;HumanEval/4&quot;</td><td>&quot;from typing import List\n",
       "\n",
       "\n",
       "def …</td><td>&quot;&nbsp;&nbsp;&nbsp;&nbsp;mean = sum(numbers) / len(…</td><td>&quot;\n",
       "\n",
       "METADATA = {\n",
       "&nbsp;&nbsp;&nbsp;&nbsp;&#x27;author&#x27;: &#x27;…</td><td>&quot;mean_absolute_deviation&quot;</td></tr></tbody></table></div>"
      ],
      "text/plain": [
       "shape: (5, 5)\n",
       "┌─────────────┬─────────────────────┬─────────────────────┬──────────────────┬─────────────────────┐\n",
       "│ task_id     ┆ prompt              ┆ canonical_solution  ┆ test             ┆ entry_point         │\n",
       "│ ---         ┆ ---                 ┆ ---                 ┆ ---              ┆ ---                 │\n",
       "│ str         ┆ str                 ┆ str                 ┆ str              ┆ str                 │\n",
       "╞═════════════╪═════════════════════╪═════════════════════╪══════════════════╪═════════════════════╡\n",
       "│ HumanEval/0 ┆ from typing import  ┆ for idx, elem in    ┆                  ┆ has_close_elements  │\n",
       "│             ┆ List                ┆ enumerate…          ┆                  ┆                     │\n",
       "│             ┆                     ┆                     ┆ METADATA = {     ┆                     │\n",
       "│             ┆                     ┆                     ┆     'author': '… ┆                     │\n",
       "│             ┆ def …               ┆                     ┆                  ┆                     │\n",
       "│ HumanEval/1 ┆ from typing import  ┆     result = []     ┆                  ┆ separate_paren_grou │\n",
       "│             ┆ List                ┆     current_st…     ┆                  ┆ ps                  │\n",
       "│             ┆                     ┆                     ┆ METADATA = {     ┆                     │\n",
       "│             ┆                     ┆                     ┆     'author': '… ┆                     │\n",
       "│             ┆ def …               ┆                     ┆                  ┆                     │\n",
       "│ HumanEval/2 ┆                     ┆ return number % 1.0 ┆                  ┆ truncate_number     │\n",
       "│             ┆                     ┆                     ┆                  ┆                     │\n",
       "│             ┆ def truncate_number ┆                     ┆ METADATA = {     ┆                     │\n",
       "│             ┆ (number: …          ┆                     ┆     'author': '… ┆                     │\n",
       "│ HumanEval/3 ┆ from typing import  ┆     balance = 0     ┆                  ┆ below_zero          │\n",
       "│             ┆ List                ┆                     ┆                  ┆                     │\n",
       "│             ┆                     ┆     for op in…      ┆ METADATA = {     ┆                     │\n",
       "│             ┆                     ┆                     ┆     'author': '… ┆                     │\n",
       "│             ┆ def …               ┆                     ┆                  ┆                     │\n",
       "│ HumanEval/4 ┆ from typing import  ┆ mean = sum(numbers) ┆                  ┆ mean_absolute_devia │\n",
       "│             ┆ List                ┆ / len(…             ┆                  ┆ tion                │\n",
       "│             ┆                     ┆                     ┆ METADATA = {     ┆                     │\n",
       "│             ┆                     ┆                     ┆     'author': '… ┆                     │\n",
       "│             ┆ def …               ┆                     ┆                  ┆                     │\n",
       "└─────────────┴─────────────────────┴─────────────────────┴──────────────────┴─────────────────────┘"
      ]
     },
     "execution_count": 22,
     "metadata": {},
     "output_type": "execute_result"
    }
   ],
   "source": [
    "df = pl.DataFrame(dataset[\"test\"][0:164])\n",
    "df.head()"
   ]
  },
  {
   "cell_type": "markdown",
   "metadata": {},
   "source": [
    "## Number of Samples"
   ]
  },
  {
   "cell_type": "code",
   "execution_count": 25,
   "metadata": {},
   "outputs": [
    {
     "data": {
      "text/html": [
       "<div><style>\n",
       ".dataframe > thead > tr,\n",
       ".dataframe > tbody > tr {\n",
       "  text-align: right;\n",
       "  white-space: pre-wrap;\n",
       "}\n",
       "</style>\n",
       "<small>shape: (1, 1)</small><table border=\"1\" class=\"dataframe\"><thead><tr><th>entry_point</th></tr><tr><td>u32</td></tr></thead><tbody><tr><td>164</td></tr></tbody></table></div>"
      ],
      "text/plain": [
       "shape: (1, 1)\n",
       "┌─────────────┐\n",
       "│ entry_point │\n",
       "│ ---         │\n",
       "│ u32         │\n",
       "╞═════════════╡\n",
       "│ 164         │\n",
       "└─────────────┘"
      ]
     },
     "execution_count": 25,
     "metadata": {},
     "output_type": "execute_result"
    }
   ],
   "source": [
    "df.select(pl.col(\"entry_point\")).count()"
   ]
  },
  {
   "cell_type": "markdown",
   "metadata": {},
   "source": [
    "## Number of Tasks"
   ]
  },
  {
   "cell_type": "code",
   "execution_count": 24,
   "metadata": {},
   "outputs": [
    {
     "data": {
      "text/html": [
       "<div><style>\n",
       ".dataframe > thead > tr,\n",
       ".dataframe > tbody > tr {\n",
       "  text-align: right;\n",
       "  white-space: pre-wrap;\n",
       "}\n",
       "</style>\n",
       "<small>shape: (1, 1)</small><table border=\"1\" class=\"dataframe\"><thead><tr><th>entry_point</th></tr><tr><td>u32</td></tr></thead><tbody><tr><td>158</td></tr></tbody></table></div>"
      ],
      "text/plain": [
       "shape: (1, 1)\n",
       "┌─────────────┐\n",
       "│ entry_point │\n",
       "│ ---         │\n",
       "│ u32         │\n",
       "╞═════════════╡\n",
       "│ 158         │\n",
       "└─────────────┘"
      ]
     },
     "execution_count": 24,
     "metadata": {},
     "output_type": "execute_result"
    }
   ],
   "source": [
    "df.select(pl.col(\"entry_point\")).unique().count()"
   ]
  },
  {
   "cell_type": "code",
   "execution_count": 30,
   "metadata": {},
   "outputs": [
    {
     "name": "stderr",
     "output_type": "stream",
     "text": [
      "/tmp/ipykernel_602379/630002040.py:1: DeprecationWarning: `GroupBy.count` is deprecated. It has been renamed to `len`.\n",
      "  df.group_by(pl.col(\"entry_point\")).count().filter(pl.col(\"count\") > 1)\n"
     ]
    },
    {
     "data": {
      "text/html": [
       "<div><style>\n",
       ".dataframe > thead > tr,\n",
       ".dataframe > tbody > tr {\n",
       "  text-align: right;\n",
       "  white-space: pre-wrap;\n",
       "}\n",
       "</style>\n",
       "<small>shape: (6, 2)</small><table border=\"1\" class=\"dataframe\"><thead><tr><th>entry_point</th><th>count</th></tr><tr><td>str</td><td>u32</td></tr></thead><tbody><tr><td>&quot;sum_squares&quot;</td><td>2</td></tr><tr><td>&quot;add&quot;</td><td>2</td></tr><tr><td>&quot;correct_bracketing&quot;</td><td>2</td></tr><tr><td>&quot;triangle_area&quot;</td><td>2</td></tr><tr><td>&quot;solve&quot;</td><td>2</td></tr><tr><td>&quot;sort_array&quot;</td><td>2</td></tr></tbody></table></div>"
      ],
      "text/plain": [
       "shape: (6, 2)\n",
       "┌────────────────────┬───────┐\n",
       "│ entry_point        ┆ count │\n",
       "│ ---                ┆ ---   │\n",
       "│ str                ┆ u32   │\n",
       "╞════════════════════╪═══════╡\n",
       "│ sum_squares        ┆ 2     │\n",
       "│ add                ┆ 2     │\n",
       "│ correct_bracketing ┆ 2     │\n",
       "│ triangle_area      ┆ 2     │\n",
       "│ solve              ┆ 2     │\n",
       "│ sort_array         ┆ 2     │\n",
       "└────────────────────┴───────┘"
      ]
     },
     "execution_count": 30,
     "metadata": {},
     "output_type": "execute_result"
    }
   ],
   "source": [
    "df.group_by(pl.col(\"entry_point\")).count().filter(pl.col(\"count\") > 1)"
   ]
  },
  {
   "cell_type": "code",
   "execution_count": 77,
   "metadata": {},
   "outputs": [
    {
     "data": {
      "text/plain": [
       "array([['\\n\\ndef sum_squares(lst):\\n    \"\"\"You are given a list of numbers.\\n    You need to return the sum of squared numbers in the given list,\\n    round each element in the list to the upper int(Ceiling) first.\\n    Examples:\\n    For lst = [1,2,3] the output should be 14\\n    For lst = [1,4,9] the output should be 98\\n    For lst = [1,3,5,7] the output should be 84\\n    For lst = [1.4,4.2,0] the output should be 29\\n    For lst = [-2.4,1,1] the output should be 6\\n    \\n\\n    \"\"\"\\n'],\n",
       "       ['\\n\\n\\ndef sum_squares(lst):\\n    \"\"\"\"\\n    This function will take a list of integers. For all entries in the list, the function shall square the integer entry if its index is a \\n    multiple of 3 and will cube the integer entry if its index is a multiple of 4 and not a multiple of 3. The function will not \\n    change the entries in the list whose indexes are not a multiple of 3 or 4. The function shall then return the sum of all entries. \\n    \\n    Examples:\\n    For lst = [1,2,3] the output should be 6\\n    For lst = []  the output should be 0\\n    For lst = [-1,-5,2,-1,-5]  the output should be -126\\n    \"\"\"\\n']],\n",
       "      dtype=object)"
      ]
     },
     "execution_count": 77,
     "metadata": {},
     "output_type": "execute_result"
    }
   ],
   "source": [
    "df.filter(pl.col(\"entry_point\")==\"sum_squares\").select(\"prompt\").to_numpy()"
   ]
  },
  {
   "cell_type": "markdown",
   "metadata": {},
   "source": [
    "## Size Distribution - Input"
   ]
  },
  {
   "cell_type": "code",
   "execution_count": null,
   "metadata": {},
   "outputs": [
    {
     "data": {
      "text/plain": [
       "<Axes: xlabel='prompt_len', ylabel='Count'>"
      ]
     },
     "execution_count": 57,
     "metadata": {},
     "output_type": "execute_result"
    },
    {
     "data": {
      "image/png": "[encoded data removed]",
      "text/plain": [
       "<Figure size 640x480 with 1 Axes>"
      ]
     },
     "metadata": {},
     "output_type": "display_data"
    }
   ],
   "source": [
    "\n",
    "\n",
    "_v1 = (df\n",
    "    .with_columns([pl.col(\"prompt\").str.len_chars().alias(\"prompt_len\")])\n",
    "    .select([\"prompt_len\"])\n",
    ")\n",
    "\n",
    "sns.histplot(\n",
    "    data=_v1,\n",
    "    x=\"prompt_len\",\n",
    "    kde=True,\n",
    "    color=\"lightblue\"\n",
    ")"
   ]
  },
  {
   "cell_type": "markdown",
   "metadata": {},
   "source": [
    "## Size Distribution - Canonical Output"
   ]
  },
  {
   "cell_type": "code",
   "execution_count": 62,
   "metadata": {},
   "outputs": [
    {
     "data": {
      "text/plain": [
       "<Axes: xlabel='canonical_len', ylabel='Count'>"
      ]
     },
     "execution_count": 62,
     "metadata": {},
     "output_type": "execute_result"
    },
    {
     "data": {
      "image/png": "[encoded data removed]",
      "text/plain": [
       "<Figure size 640x480 with 1 Axes>"
      ]
     },
     "metadata": {},
     "output_type": "display_data"
    }
   ],
   "source": [
    "_v2 = (df\n",
    "    .with_columns([pl.col(\"canonical_solution\").str.len_chars().alias(\"canonical_len\")])\n",
    "    .select([\"canonical_len\"])\n",
    ")\n",
    "\n",
    "sns.histplot(\n",
    "    data=_v2,\n",
    "    x=\"canonical_len\",\n",
    "    kde=True,\n",
    "    color=\"indigo\"\n",
    ")"
   ]
  },
  {
   "cell_type": "markdown",
   "metadata": {},
   "source": [
    "## Size Distribution - Number of Tests"
   ]
  },
  {
   "cell_type": "code",
   "execution_count": 74,
   "metadata": {},
   "outputs": [
    {
     "data": {
      "text/plain": [
       "<Axes: xlabel='number_test', ylabel='Count'>"
      ]
     },
     "execution_count": 74,
     "metadata": {},
     "output_type": "execute_result"
    },
    {
     "data": {
      "image/png": "[encoded data removed]",
      "text/plain": [
       "<Figure size 640x480 with 1 Axes>"
      ]
     },
     "metadata": {},
     "output_type": "display_data"
    }
   ],
   "source": [
    "_v3 = df.select([\"test\"]).with_columns(pl.col(\"test\").str.count_matches(\"assert\").alias(\"number_test\"))\n",
    "sns.histplot(\n",
    "    data=_v3,\n",
    "    x=\"number_test\",\n",
    "    kde=True,\n",
    "    color=\"tan\"\n",
    ")"
   ]
  }
 ],
 "metadata": {
  "kernelspec": {
   "display_name": "datamodels",
   "language": "python",
   "name": "python3"
  },
  "language_info": {
   "codemirror_mode": {
    "name": "ipython",
    "version": 3
   },
   "file_extension": ".py",
   "mimetype": "text/x-python",
   "name": "python",
   "nbconvert_exporter": "python",
   "pygments_lexer": "ipython3",
   "version": "3.11.10"
  }
 },
 "nbformat": 4,
 "nbformat_minor": 2
}
